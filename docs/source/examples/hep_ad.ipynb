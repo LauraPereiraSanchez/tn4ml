{
 "cells": [
  {
   "cell_type": "markdown",
   "metadata": {},
   "source": [
    "# HEP Anomaly Detection\n",
    "Inspired by MNIST example\n",
    "\n",
    "Baseline from: https://arxiv.org/pdf/2006.02516.pdf\n",
    "\n",
    "- 14x14, [$0-1$] range, pixels flattened (dont exploit inherent locality)\n",
    "- Embedding: TrigonometricEmbedding (p=2)\n",
    "- Combined loss: $\\mathcal{L} = \\frac{1}{N}\\sum_{i=1}^{N} \\left( \\log \\left\\| P \\Phi({X_i}) \\right\\|_2^2 - 1 \\right)^2 + \\alpha \\cdot \\mathrm{ReLU}\\left(\\log(\\|P\\|_F^2)\\right)$"
   ]
  },
  {
   "cell_type": "code",
   "execution_count": 1,
   "metadata": {},
   "outputs": [
    {
     "name": "stdout",
     "output_type": "stream",
     "text": [
      "\n",
      "# conda environments:\n",
      "#\n",
      "base                   /fs/ddn/sdf/group/atlas/d/lapereir/miniconda3\n",
      "LLMs                   /fs/ddn/sdf/group/atlas/d/lapereir/miniconda3/envs/LLMs\n",
      "MultiVertex            /fs/ddn/sdf/group/atlas/d/lapereir/miniconda3/envs/MultiVertex\n",
      "UPP                    /fs/ddn/sdf/group/atlas/d/lapereir/miniconda3/envs/UPP\n",
      "diffvert               /fs/ddn/sdf/group/atlas/d/lapereir/miniconda3/envs/diffvert\n",
      "flows                  /fs/ddn/sdf/group/atlas/d/lapereir/miniconda3/envs/flows\n",
      "fun                    /fs/ddn/sdf/group/atlas/d/lapereir/miniconda3/envs/fun\n",
      "lettuce                /fs/ddn/sdf/group/atlas/d/lapereir/miniconda3/envs/lettuce\n",
      "ndive                  /fs/ddn/sdf/group/atlas/d/lapereir/miniconda3/envs/ndive\n",
      "puma                   /fs/ddn/sdf/group/atlas/d/lapereir/miniconda3/envs/puma\n",
      "salt                   /fs/ddn/sdf/group/atlas/d/lapereir/miniconda3/envs/salt\n",
      "tdd                    /fs/ddn/sdf/group/atlas/d/lapereir/miniconda3/envs/tdd\n",
      "tnm4l                * /fs/ddn/sdf/group/atlas/d/lapereir/miniconda3/envs/tnm4l\n",
      "umami                  /fs/ddn/sdf/group/atlas/d/lapereir/miniconda3/envs/umami\n",
      "upp                    /fs/ddn/sdf/group/atlas/d/lapereir/miniconda3/envs/upp\n",
      "\n"
     ]
    },
    {
     "data": {
      "text/plain": [
       "0"
      ]
     },
     "execution_count": 1,
     "metadata": {},
     "output_type": "execute_result"
    }
   ],
   "source": [
    "import os\n",
    "os.system(\"conda env list\")"
   ]
  },
  {
   "cell_type": "code",
   "execution_count": 7,
   "metadata": {},
   "outputs": [
    {
     "name": "stdout",
     "output_type": "stream",
     "text": [
      "All data: # batches =  62500  with shape =  (64, 19, 4)\n"
     ]
    }
   ],
   "source": [
    "# TENSORFLOW\n",
    "from hep_data import *\n",
    "\n",
    "path = \"/fs/ddn/sdf/group/atlas/d/lapereir/AD/\"\n",
    "\n",
    "train_dl, nb_total = load_data(path+\"background_for_training.h5\", batch_size=64, shuffle=True) # load all data\n",
    "\n",
    "print(\"All data: # batches = \",  nb_total, \" with shape = \", iter(dl).next().shape)\n",
    "\n"
   ]
  },
  {
   "cell_type": "code",
   "execution_count": 8,
   "metadata": {},
   "outputs": [
    {
     "name": "stdout",
     "output_type": "stream",
     "text": [
      "# of batches  62500  with shape  torch.Size([64, 19, 4])\n"
     ]
    }
   ],
   "source": [
    "# PYTORCH \n",
    "\n",
    "import hep_data_torch as t\n",
    "\n",
    "path = \"/fs/ddn/sdf/group/atlas/d/lapereir/AD/\"\n",
    "\n",
    "d = t.load_data(path+\"background_for_training.h5\", batch_size=64, shuffle=True)\n",
    "\n",
    "it = iter(d)\n",
    "batch = next(it)\n",
    "\n",
    "print(\"# of batches \", len(d), \" with shape \", batch.shape)"
   ]
  },
  {
   "cell_type": "code",
   "execution_count": 2,
   "metadata": {
    "nbsphinx": {
     "title": "# Anomaly detection MNIST - SMPO"
    }
   },
   "outputs": [],
   "source": [
    "import os\n",
    "os.environ[\"KMP_WARNINGS\"] = \"0\"\n",
    "import jax\n",
    "import jax.numpy as jnp\n",
    "import numpy as np\n",
    "import optax\n",
    "from sklearn.metrics import auc\n",
    "import tensorflow as tf\n",
    "from tensorflow.keras.datasets import mnist\n",
    "from jax.nn.initializers import *\n",
    "import matplotlib.pyplot as plt\n",
    "\n",
    "from tn4ml.initializers import *\n",
    "from tn4ml.models.smpo import *\n",
    "from tn4ml.models.model import *\n",
    "from tn4ml.embeddings import *\n",
    "from tn4ml.metrics import *\n",
    "from tn4ml.util import *\n",
    "from tn4ml.eval import *"
   ]
  },
  {
   "cell_type": "code",
   "execution_count": 6,
   "metadata": {},
   "outputs": [],
   "source": [
    "jax.config.update(\"jax_enable_x64\", True)"
   ]
  },
  {
   "cell_type": "markdown",
   "metadata": {},
   "source": [
    "**Load dataset**"
   ]
  },
  {
   "cell_type": "code",
   "execution_count": 7,
   "metadata": {},
   "outputs": [],
   "source": [
    "train, test = mnist.load_data()\n",
    "data = {\"X\": dict(train=train[0], test=test[0]), \"y\": dict(train=train[1], test=test[1])}"
   ]
  },
  {
   "cell_type": "code",
   "execution_count": 5,
   "metadata": {},
   "outputs": [],
   "source": [
    "normal_class = 0"
   ]
  },
  {
   "cell_type": "code",
   "execution_count": 6,
   "metadata": {},
   "outputs": [],
   "source": [
    "X = {\n",
    "\"normal\": data[\"X\"][\"train\"][data[\"y\"][\"train\"] == normal_class]/255.0,\n",
    "\"anomaly\": data[\"X\"][\"train\"][data[\"y\"][\"train\"] != normal_class]/255.0,\n",
    "}"
   ]
  },
  {
   "cell_type": "code",
   "execution_count": 7,
   "metadata": {},
   "outputs": [],
   "source": [
    "X_test = {\n",
    "\"normal\": data[\"X\"][\"test\"][data[\"y\"][\"test\"] == normal_class]/255.0,\n",
    "\"anomaly\": data[\"X\"][\"test\"][data[\"y\"][\"test\"] != normal_class]/255.0,\n",
    "}"
   ]
  },
  {
   "cell_type": "code",
   "execution_count": 8,
   "metadata": {},
   "outputs": [],
   "source": [
    "# Function to resize images to 14x14\n",
    "def resize_images(images):\n",
    "    resized_images = tf.image.resize(images, [14, 14], method=tf.image.ResizeMethod.AREA)\n",
    "    return resized_images.numpy()"
   ]
  },
  {
   "cell_type": "code",
   "execution_count": 9,
   "metadata": {},
   "outputs": [
    {
     "name": "stderr",
     "output_type": "stream",
     "text": [
      "I0000 00:00:1745435579.242419 2496235 gpu_device.cc:2019] Created device /job:localhost/replica:0/task:0/device:GPU:0 with 38379 MB memory:  -> device: 0, name: NVIDIA A100-SXM4-40GB, pci bus id: 0000:81:00.0, compute capability: 8.0\n"
     ]
    }
   ],
   "source": [
    "X_resized = {\n",
    "    \"normal\": resize_images(np.expand_dims(X[\"normal\"], axis=-1)),\n",
    "    \"anomaly\": resize_images(np.expand_dims(X[\"anomaly\"], axis=-1)),\n",
    "}\n",
    "\n",
    "X_test_resized = {\n",
    "    \"normal\": resize_images(np.expand_dims(X_test[\"normal\"], axis=-1)),\n",
    "    \"anomaly\": resize_images(np.expand_dims(X_test[\"anomaly\"], axis=-1)),\n",
    "}"
   ]
  },
  {
   "cell_type": "markdown",
   "metadata": {},
   "source": [
    "### Rearrange pixels in zig-zag order\n",
    "- (from https://arxiv.org/pdf/1605.05775.pdf)\n",
    "\n",
    "<img src=\"images/zig-zag.png\" alt=\"MPS Params\" width=\"150\" height=\"150\">"
   ]
  },
  {
   "cell_type": "code",
   "execution_count": 10,
   "metadata": {},
   "outputs": [],
   "source": [
    "def zigzag_order(data):\n",
    "    data = np.squeeze(data)\n",
    "    data_zigzag = []\n",
    "    for x in data:\n",
    "        image = []\n",
    "        for i in x:\n",
    "            image.extend(i)\n",
    "        data_zigzag.append(image)\n",
    "    return np.asarray(data_zigzag)"
   ]
  },
  {
   "cell_type": "code",
   "execution_count": 11,
   "metadata": {},
   "outputs": [],
   "source": [
    "zigzag = True"
   ]
  },
  {
   "cell_type": "code",
   "execution_count": 3,
   "metadata": {},
   "outputs": [
    {
     "ename": "NameError",
     "evalue": "name 'zigzag' is not defined",
     "output_type": "error",
     "traceback": [
      "\u001b[31m---------------------------------------------------------------------------\u001b[39m",
      "\u001b[31mNameError\u001b[39m                                 Traceback (most recent call last)",
      "\u001b[36mCell\u001b[39m\u001b[36m \u001b[39m\u001b[32mIn[3]\u001b[39m\u001b[32m, line 1\u001b[39m\n\u001b[32m----> \u001b[39m\u001b[32m1\u001b[39m \u001b[38;5;28;01mif\u001b[39;00m \u001b[43mzigzag\u001b[49m:\n\u001b[32m      2\u001b[39m     train_normal = zigzag_order(X_resized[\u001b[33m\"\u001b[39m\u001b[33mnormal\u001b[39m\u001b[33m\"\u001b[39m])\n\u001b[32m      3\u001b[39m     test_normal = zigzag_order(X_test_resized[\u001b[33m\"\u001b[39m\u001b[33mnormal\u001b[39m\u001b[33m\"\u001b[39m])\n",
      "\u001b[31mNameError\u001b[39m: name 'zigzag' is not defined"
     ]
    }
   ],
   "source": [
    "if zigzag:\n",
    "    train_normal = zigzag_order(X_resized[\"normal\"])\n",
    "    test_normal = zigzag_order(X_test_resized[\"normal\"])\n",
    "\n",
    "    train_anomaly = zigzag_order(X_resized[\"anomaly\"])\n",
    "    test_anomaly = zigzag_order(X_test_resized[\"anomaly\"])\n",
    "else:\n",
    "    train_normal = X_resized['normal'].reshape(-1, X_resized['normal'].shape[1]*X_resized['normal'].shape[2])\n",
    "    test_normal = X_test_resized['normal'].reshape(-1, X_test_resized['normal'].shape[1]*X_test_resized['normal'].shape[2])\n",
    "\n",
    "    train_anomaly = X_resized['anomaly'].reshape(-1, X_resized['anomaly'].shape[1]*X_resized['anomaly'].shape[2])\n",
    "    test_anomaly = X_test_resized['anomaly'].reshape(-1, X_test_resized['anomaly'].shape[1]*X_test_resized['anomaly'].shape[2])"
   ]
  },
  {
   "cell_type": "code",
   "execution_count": 2,
   "metadata": {},
   "outputs": [
    {
     "ename": "NameError",
     "evalue": "name 'train_normal' is not defined",
     "output_type": "error",
     "traceback": [
      "\u001b[31m---------------------------------------------------------------------------\u001b[39m",
      "\u001b[31mNameError\u001b[39m                                 Traceback (most recent call last)",
      "\u001b[36mCell\u001b[39m\u001b[36m \u001b[39m\u001b[32mIn[2]\u001b[39m\u001b[32m, line 1\u001b[39m\n\u001b[32m----> \u001b[39m\u001b[32m1\u001b[39m \u001b[38;5;28mprint\u001b[39m(\u001b[43mtrain_normal\u001b[49m)\n",
      "\u001b[31mNameError\u001b[39m: name 'train_normal' is not defined"
     ]
    }
   ],
   "source": [
    "print(train_normal)"
   ]
  },
  {
   "cell_type": "markdown",
   "metadata": {},
   "source": [
    "**Training setup** &nbsp;\n",
    "- Stochastic Gradient Descent"
   ]
  },
  {
   "cell_type": "code",
   "execution_count": 13,
   "metadata": {},
   "outputs": [],
   "source": [
    "# define model parameters\n",
    "L = 196\n",
    "initializer = gramschmidt('normal', 1e-1)\n",
    "key = jax.random.key(42)\n",
    "shape_method = 'noteven'\n",
    "bond_dim = 10\n",
    "phys_dim = (2,2)\n",
    "spacing = 8\n",
    "add_identity = True\n",
    "boundary='obc'"
   ]
  },
  {
   "cell_type": "code",
   "execution_count": 14,
   "metadata": {},
   "outputs": [],
   "source": [
    "model = SMPO_initialize(L=L,\n",
    "                        initializer=initializer,\n",
    "                        key=key,\n",
    "                        shape_method=shape_method,\n",
    "                        spacing=spacing,\n",
    "                        bond_dim=bond_dim,\n",
    "                        phys_dim=phys_dim,\n",
    "                        cyclic=False,\n",
    "                        compress=True,\n",
    "                        add_identity=add_identity,\n",
    "                        boundary=boundary)"
   ]
  },
  {
   "cell_type": "code",
   "execution_count": 15,
   "metadata": {},
   "outputs": [],
   "source": [
    "alpha = 0.4\n",
    "def loss_combined(*args, **kwargs):\n",
    "    error = LogQuadNorm\n",
    "    reg = LogReLUFrobNorm\n",
    "    return CombinedLoss(*args, **kwargs, error=error, reg=lambda P: alpha*reg(P))"
   ]
  },
  {
   "cell_type": "code",
   "execution_count": 16,
   "metadata": {},
   "outputs": [],
   "source": [
    "# define training parameters\n",
    "epochs = 100\n",
    "batch_size = 128\n",
    "optimizer = optax.adam\n",
    "strategy = 'global'\n",
    "loss = loss_combined\n",
    "train_type = TrainingType.UNSUPERVISED\n",
    "embedding = TrigonometricEmbedding()\n",
    "learning_rate = 1e-4\n",
    "earlystop = EarlyStopping(min_delta=0, patience=5, monitor='loss', mode='min')\n",
    "\n",
    "model.configure(optimizer=optimizer, strategy=strategy, loss=loss, train_type=train_type, learning_rate=learning_rate)"
   ]
  },
  {
   "cell_type": "code",
   "execution_count": 17,
   "metadata": {},
   "outputs": [
    {
     "name": "stderr",
     "output_type": "stream",
     "text": [
      "epoch:  19%|█▉         19/100 , loss=6243.6038"
     ]
    },
    {
     "name": "stdout",
     "output_type": "stream",
     "text": [
      "Waiting for 1 epochs.\n"
     ]
    },
    {
     "name": "stderr",
     "output_type": "stream",
     "text": [
      "epoch:  20%|██         20/100 , loss=6253.4216"
     ]
    },
    {
     "name": "stdout",
     "output_type": "stream",
     "text": [
      "Waiting for 2 epochs.\n"
     ]
    },
    {
     "name": "stderr",
     "output_type": "stream",
     "text": [
      "epoch:  21%|██         21/100 , loss=6295.4250"
     ]
    },
    {
     "name": "stdout",
     "output_type": "stream",
     "text": [
      "Waiting for 3 epochs.\n"
     ]
    },
    {
     "name": "stderr",
     "output_type": "stream",
     "text": [
      "epoch:  22%|██▏        22/100 , loss=6364.9677"
     ]
    },
    {
     "name": "stdout",
     "output_type": "stream",
     "text": [
      "Waiting for 4 epochs.\n"
     ]
    },
    {
     "name": "stderr",
     "output_type": "stream",
     "text": [
      "epoch:  23%|██▎        23/100 , loss=6459.5439"
     ]
    },
    {
     "name": "stdout",
     "output_type": "stream",
     "text": [
      "Training stopped by EarlyStopping on epoch: 18\n"
     ]
    },
    {
     "name": "stderr",
     "output_type": "stream",
     "text": [
      "epoch:  24%|██▍        24/100 , loss=6566.5366\n"
     ]
    }
   ],
   "source": [
    "history = model.train(train_normal,\n",
    "            epochs=epochs,\n",
    "            batch_size=batch_size,\n",
    "            embedding = embedding,\n",
    "            normalize=True,\n",
    "            earlystop=earlystop,\n",
    "            cache=True, # compiling loss function to use it multiple times\n",
    "            dtype=jnp.float64)"
   ]
  },
  {
   "cell_type": "code",
   "execution_count": 18,
   "metadata": {},
   "outputs": [
    {
     "data": {
      "image/png": "[encoded data removed]",
      "text/plain": [
       "<Figure size 800x600 with 1 Axes>"
      ]
     },
     "metadata": {},
     "output_type": "display_data"
    }
   ],
   "source": [
    "plot_loss(history, validation=False, figsize=(8, 6))"
   ]
  },
  {
   "cell_type": "markdown",
   "metadata": {},
   "source": [
    "**Evaluate**"
   ]
  },
  {
   "cell_type": "code",
   "execution_count": 19,
   "metadata": {},
   "outputs": [],
   "source": [
    "indices = list(range(len(test_anomaly)))\n",
    "np.random.shuffle(indices)\n",
    "\n",
    "indices = indices[:len(test_normal)]\n",
    "test_anomaly = np.take(test_anomaly, indices, axis=0)"
   ]
  },
  {
   "cell_type": "code",
   "execution_count": 20,
   "metadata": {},
   "outputs": [],
   "source": [
    "loss = LogQuadNorm\n",
    "\n",
    "anomaly_score = model.evaluate(test_anomaly, evaluate_type=train_type, return_list=True, dtype=jnp.float64, batch_size=128, embedding=embedding, metric = loss)\n",
    "normal_score = model.evaluate(test_normal, evaluate_type=train_type, return_list=True, dtype=jnp.float64, batch_size=128, embedding=embedding, metric = loss)"
   ]
  },
  {
   "cell_type": "markdown",
   "metadata": {},
   "source": [
    "**Plot anomaly scores and ROC curve**"
   ]
  },
  {
   "cell_type": "code",
   "execution_count": 21,
   "metadata": {},
   "outputs": [],
   "source": [
    "fpr, tpr = get_roc_curve_data(normal_score, anomaly_score, anomaly_det=True)\n",
    "auc_value = auc(fpr, tpr)"
   ]
  },
  {
   "cell_type": "code",
   "execution_count": 22,
   "metadata": {},
   "outputs": [
    {
     "data": {
      "image/png": "[encoded data removed]",
      "text/plain": [
       "<Figure size 640x480 with 1 Axes>"
      ]
     },
     "metadata": {},
     "output_type": "display_data"
    }
   ],
   "source": [
    "plt.figure()\n",
    "plt.hist(anomaly_score, bins=100, histtype='step', label='anomaly')\n",
    "plt.hist(normal_score, bins=100, histtype='step', label='normal')\n",
    "plt.title('Anomaly score distribution')\n",
    "plt.legend()\n",
    "plt.text(0.5, -0.1, f'AUC Value: {auc_value}', ha='center', transform=plt.gca().transAxes)\n",
    "plt.legend()\n",
    "plt.show()"
   ]
  },
  {
   "cell_type": "code",
   "execution_count": 23,
   "metadata": {},
   "outputs": [
    {
     "data": {
      "image/png": "[encoded data removed]",
      "text/plain": [
       "<Figure size 800x600 with 1 Axes>"
      ]
     },
     "metadata": {},
     "output_type": "display_data"
    }
   ],
   "source": [
    "# Plot ROC curve\n",
    "plot_ROC_curve_from_data(fpr, tpr)"
   ]
  },
  {
   "cell_type": "code",
   "execution_count": null,
   "metadata": {},
   "outputs": [],
   "source": []
  }
 ],
 "metadata": {
  "kernelspec": {
   "display_name": "Python 3 (ipykernel)",
   "language": "python",
   "name": "python3"
  },
  "language_info": {
   "codemirror_mode": {
    "name": "ipython",
    "version": 3
   },
   "file_extension": ".py",
   "mimetype": "text/x-python",
   "name": "python",
   "nbconvert_exporter": "python",
   "pygments_lexer": "ipython3",
   "version": "3.12.10"
  }
 },
 "nbformat": 4,
 "nbformat_minor": 4
}
