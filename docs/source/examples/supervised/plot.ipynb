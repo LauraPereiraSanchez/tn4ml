{
 "cells": [
  {
   "cell_type": "code",
   "execution_count": null,
   "metadata": {},
   "outputs": [],
   "source": [
    "import matplotlib.pyplot as plt\n",
    "import os\n",
    "import json\n",
    "import numpy as np\n",
    "import matplotlib.pyplot as plt\n",
    "import pandas as pd"
   ]
  },
  {
   "cell_type": "code",
   "execution_count": null,
   "metadata": {},
   "outputs": [],
   "source": [
    "plt.rcParams['yaxis.labellocation'] = 'center'\n",
    "plt.rcParams['xaxis.labellocation'] = 'center'\n",
    "plt.rcParams['lines.markersize'] = 10\n",
    "plt.rcParams['lines.markeredgewidth'] = 2.0\n",
    "plt.rcParams['xtick.minor.top'] = False    # draw x axis top minor ticks\n",
    "plt.rcParams['xtick.minor.bottom'] = False    # draw x axis bottom minor ticks\n",
    "plt.rcParams['ytick.minor.left'] = True    # draw x axis top minor ticks\n",
    "plt.rcParams['ytick.minor.right'] = True    # draw x axis bottom minor ticks\n",
    "plt.rcParams['xtick.labelsize'] = 16\n",
    "plt.rcParams['ytick.labelsize'] = 16\n",
    "plt.rcParams['legend.fontsize'] = 16\n",
    "plt.rcParams['font.size'] = 16"
   ]
  },
  {
   "cell_type": "code",
   "execution_count": null,
   "metadata": {},
   "outputs": [],
   "source": [
    "total_num_samples = 455 # Replace with total number of training+evaluation samples"
   ]
  },
  {
   "cell_type": "markdown",
   "metadata": {},
   "source": [
    "## Collect results"
   ]
  },
  {
   "cell_type": "code",
   "execution_count": null,
   "metadata": {},
   "outputs": [],
   "source": [
    "base_dir = \"results\"  # Replace with your actual directory path\n",
    "devices = [\"cpu\", \"gpu\"] # Replace with name of directories where results for each device are stored\n",
    "\n",
    "# Initialize data storage\n",
    "data = {device: {} for device in devices}\n",
    "\n",
    "# Parse the directory structure\n",
    "for device in devices:\n",
    "    device_dir = os.path.join(base_dir, device)\n",
    "    for bond_dir in os.listdir(device_dir):\n",
    "        bond_path = os.path.join(device_dir, bond_dir)\n",
    "        if not os.path.isdir(bond_path):\n",
    "            continue\n",
    "        \n",
    "        bond_dim = int(bond_dir.split('_')[-1])\n",
    "        train_times = []\n",
    "        accuracies = []\n",
    "        sensitivities = []\n",
    "        specificities = []\n",
    "        precisions = []\n",
    "        F_measures = []\n",
    "        throughputs = []\n",
    "\n",
    "        # Read parameters.txt\n",
    "        params_file = os.path.join(bond_path, \"parameters.txt\")\n",
    "        loss_file = os.path.join(bond_path, \"loss.npy\")\n",
    "        if os.path.exists(params_file) and os.path.exists(loss_file):\n",
    "            with open(params_file, \"r\") as f:\n",
    "                params = json.loads(f.read().split(\"Parameters: \")[-1])\n",
    "                train_time_total = float(params[\"train_time\"])\n",
    "                accuracy = float(params[\"acc\"])\n",
    "                sensitivity = float(params[\"sensitivity\"])\n",
    "                specificity = float(params[\"specificity\"])\n",
    "                precision = float(params[\"precision\"])\n",
    "                F_measure = float(params[\"F_measure\"])\n",
    "                \n",
    "            # Load the loss file to determine the number of epochs\n",
    "            loss = np.load(loss_file)\n",
    "            num_epochs = len(loss)\n",
    "            train_time_per_epoch = train_time_total / num_epochs\n",
    "            throughput = total_num_samples / train_time_per_epoch\n",
    "            \n",
    "            train_times.append(train_time_per_epoch)\n",
    "            throughputs.append(throughput)\n",
    "            accuracies.append(accuracy)\n",
    "            sensitivities.append(sensitivity)\n",
    "            specificities.append(specificity)\n",
    "            precisions.append(precision)\n",
    "            F_measures.append(F_measure)\n",
    "\n",
    "        # Initialization of dictionary\n",
    "        if bond_dim not in data[device]:\n",
    "            data[device][bond_dim] = {\"train_time\": [], \"acc\": [], \"throughput\": [], \"sensitivity\": [], \"specificity\": [], \"precision\": [], \"F_measure\": []}\n",
    "        \n",
    "        data[device][bond_dim][\"train_time\"] = train_times\n",
    "        data[device][bond_dim][\"throughput\"] = throughputs\n",
    "        data[device][bond_dim][\"acc\"] = accuracies\n",
    "        data[device][bond_dim][\"sensitivity\"] = sensitivities\n",
    "        data[device][bond_dim][\"specificity\"] = specificities\n",
    "        data[device][bond_dim][\"precision\"] = precisions\n",
    "        data[device][bond_dim][\"F_measure\"] = F_measures\n",
    "        "
   ]
  },
  {
   "cell_type": "markdown",
   "metadata": {},
   "source": [
    "## Plot Throughput and Accuracy"
   ]
  },
  {
   "cell_type": "code",
   "execution_count": null,
   "metadata": {},
   "outputs": [],
   "source": [
    "fig, axes = plt.subplots(2, 1, figsize=(8, 10))\n",
    "\n",
    "colors = {'cpu': '#67a9cf', 'gpu': '#016c59'}\n",
    "\n",
    "# First subplot: Throughput\n",
    "for metric, ylabel in [(\"throughput\", \"Throughput (samples/s)\")]:\n",
    "    for device in devices:\n",
    "        bond_dims = sorted(data[device].keys())\n",
    "        metrics = [data[device][bond_dim][metric] for bond_dim in bond_dims]\n",
    "        data[device][bond_dim][metric]\n",
    "        axes[0].plot(bond_dims, metrics, label=f\"{device.upper()}\", marker=\"o\", color=colors[device])\n",
    "axes[0].set_xscale(\"log\")\n",
    "axes[0].set_ylabel(\"Throughput (samples/s)\", fontsize=14, labelpad=15)\n",
    "axes[0].grid(True, which=\"major\", linestyle=\"--\", linewidth=0.5)\n",
    "axes[0].tick_params(axis='y', labelsize=15)\n",
    "axes[0].tick_params(axis='x', labelsize=15)\n",
    "axes[0].set_xticks(bond_dims)\n",
    "axes[0].set_xticklabels(bond_dims)\n",
    "axes[0].legend()\n",
    "\n",
    "# Third subplot: Accuracy\n",
    "for device in devices:\n",
    "    bond_dims = sorted(data[device].keys())\n",
    "    accuracies = [data[device][bond_dim][\"acc\"] for bond_dim in bond_dims]\n",
    "    axes[1].plot(bond_dims, accuracies, label=device.upper(), marker=\"o\", color=colors[device])\n",
    "axes[1].set_xscale(\"log\")\n",
    "axes[1].set_xlabel(\"Bond Dimension\", fontsize=14, labelpad=15)\n",
    "axes[1].set_ylabel(\"Accuracy\", fontsize=14, labelpad=15)\n",
    "axes[1].grid(True, which=\"major\", linestyle=\"--\", linewidth=0.5)\n",
    "axes[1].set_xticks(bond_dims)\n",
    "axes[1].set_xticklabels(bond_dims)\n",
    "\n",
    "# Set font size for x-ticks and y-ticks of the last subplot\n",
    "axes[1].tick_params(axis='x', labelsize=15)\n",
    "axes[1].tick_params(axis='y', labelsize=15)\n",
    "\n",
    "labels = ['(a)', '(b)']\n",
    "for ax, label in zip(axes, labels):\n",
    "    ax.text(-0.1, 1.05, label, transform=ax.transAxes, fontsize=12, va='top', ha='right')\n",
    "\n",
    "plt.tight_layout()\n",
    "plt.savefig(\"results/plot.pdf\")\n"
   ]
  },
  {
   "cell_type": "markdown",
   "metadata": {},
   "source": [
    "## Plot sensitivity, specificity, precision, and F-measure"
   ]
  },
  {
   "cell_type": "code",
   "execution_count": null,
   "metadata": {},
   "outputs": [],
   "source": [
    "for metric, ylabel in [(\"sensitivity\", \"Sensitivity\"), (\"specificity\", \"Specificity\"), (\"precision\", \"Precision\"), (\"F_measure\", \"F-measure\")]:\n",
    "    plt.figure(figsize=(10, 6))\n",
    "    colors = {'cpu': 'cornflowerblue', 'gpu': 'forestgreen'}\n",
    "    for device in devices:\n",
    "        bond_dims = sorted(data[device].keys())\n",
    "        metrics = [data[device][bond_dim][metric] for bond_dim in bond_dims]\n",
    "        plt.plot(bond_dims, metrics, label=device.upper(), marker=\"o\", color=colors[device])\n",
    "    \n",
    "    plt.xlabel(\"Bond Dimension\")\n",
    "    plt.ylabel(ylabel)\n",
    "    plt.title(f\"{ylabel} vs. Bond Dimension\")\n",
    "    plt.legend()\n",
    "    plt.grid(True, which=\"both\", linestyle=\"--\", linewidth=0.5)\n",
    "    plt.tight_layout()\n",
    "    plt.show()"
   ]
  }
 ],
 "metadata": {
  "kernelspec": {
   "display_name": "workspace",
   "language": "python",
   "name": "python3"
  },
  "language_info": {
   "codemirror_mode": {
    "name": "ipython",
    "version": 3
   },
   "file_extension": ".py",
   "mimetype": "text/x-python",
   "name": "python",
   "nbconvert_exporter": "python",
   "pygments_lexer": "ipython3",
   "version": "3.10.13"
  }
 },
 "nbformat": 4,
 "nbformat_minor": 2
}
