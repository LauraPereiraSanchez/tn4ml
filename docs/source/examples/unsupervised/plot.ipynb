{
 "cells": [
  {
   "cell_type": "code",
   "execution_count": null,
   "metadata": {},
   "outputs": [],
   "source": [
    "import matplotlib.pyplot as plt\n",
    "from tn4ml.eval import compare_AUC, compare_FPR_per_TPR, compare_TPR_per_FPR"
   ]
  },
  {
   "cell_type": "code",
   "execution_count": null,
   "metadata": {},
   "outputs": [],
   "source": [
    "plt.rcParams['yaxis.labellocation'] = 'center'\n",
    "plt.rcParams['xaxis.labellocation'] = 'center'\n",
    "plt.rcParams['lines.markersize'] = 10\n",
    "plt.rcParams['lines.markeredgewidth'] = 2.0\n",
    "plt.rcParams['xtick.minor.top'] = False    # draw x axis top minor ticks\n",
    "plt.rcParams['xtick.minor.bottom'] = False    # draw x axis bottom minor ticks\n",
    "plt.rcParams['ytick.minor.left'] = True    # draw x axis top minor ticks\n",
    "plt.rcParams['ytick.minor.right'] = True    # draw x axis bottom minor ticks\n",
    "plt.rcParams['xtick.labelsize'] = 16\n",
    "plt.rcParams['ytick.labelsize'] = 16\n",
    "plt.rcParams['legend.fontsize'] = 16\n",
    "plt.rcParams['font.size'] = 16"
   ]
  },
  {
   "cell_type": "code",
   "execution_count": null,
   "metadata": {},
   "outputs": [],
   "source": [
    "initializers_strings = [\"glor\", \"he\", \"ortho\", \"gram\", \"randn\"]\n",
    "initializers = [\n",
    "                \"glorot_n\",\n",
    "                \"he_n\",\n",
    "                \"orthogonal\",\n",
    "                \"gramschmidt_n_1e-1\", \n",
    "                \"randn_1e-1\"\n",
    "                ]\n",
    "embedding_string = 'trigonometric'"
   ]
  },
  {
   "cell_type": "code",
   "execution_count": null,
   "metadata": {},
   "outputs": [],
   "source": [
    "BONDS = [5, 10, 30, 50]\n",
    "SPACINGS = [4, 8, 16, 32, 64]\n",
    "NORMAL_CLASSES = [0, 3, 4]"
   ]
  },
  {
   "cell_type": "code",
   "execution_count": null,
   "metadata": {},
   "outputs": [],
   "source": [
    "LABELS = {'5': (r'bond = 5', 'o', '#016c59'),\n",
    "          '10': (r'bond = 10','X', '#7a5195'),\n",
    "          '30': (r'bond = 30', 'v', '#67a9cf'),\n",
    "          '50': (r'bond = 50', 'd', '#ffa600')}"
   ]
  },
  {
   "cell_type": "code",
   "execution_count": null,
   "metadata": {},
   "outputs": [],
   "source": [
    "save_dir = 'results'"
   ]
  },
  {
   "cell_type": "code",
   "execution_count": null,
   "metadata": {},
   "outputs": [],
   "source": [
    "for normal_class in NORMAL_CLASSES:\n",
    "    compare_AUC(save_dir=save_dir+f'/normal_class_{normal_class}',\n",
    "                bond_dims=BONDS,\n",
    "                spacings=SPACINGS,\n",
    "                initializers=initializers,\n",
    "                embedding=embedding_string,\n",
    "                nruns=1,\n",
    "                labels=LABELS,\n",
    "                anomaly_det=True)\n",
    "    compare_TPR_per_FPR(save_dir=save_dir+f'/normal_class_{normal_class}',\n",
    "                        FPR_fixed=0.1,\n",
    "                        bond_dims=BONDS,\n",
    "                        spacings=SPACINGS,\n",
    "                        initializers=initializers,\n",
    "                        embedding=embedding_string,\n",
    "                        nruns=1,\n",
    "                        labels=LABELS,\n",
    "                        anomaly_det=True)\n",
    "    compare_FPR_per_TPR(save_dir=save_dir+f'/normal_class_{normal_class}',\n",
    "                        TPR_fixed=0.95,\n",
    "                        bond_dims=BONDS,\n",
    "                        spacings=SPACINGS,\n",
    "                        initializers=initializers,\n",
    "                        embedding=embedding_string,\n",
    "                        nruns=1,\n",
    "                        labels=LABELS,\n",
    "                        anomaly_det=True)"
   ]
  }
 ],
 "metadata": {
  "kernelspec": {
   "display_name": "workspace",
   "language": "python",
   "name": "python3"
  },
  "language_info": {
   "codemirror_mode": {
    "name": "ipython",
    "version": 3
   },
   "file_extension": ".py",
   "mimetype": "text/x-python",
   "name": "python",
   "nbconvert_exporter": "python",
   "pygments_lexer": "ipython3",
   "version": "3.10.13"
  }
 },
 "nbformat": 4,
 "nbformat_minor": 2
}
