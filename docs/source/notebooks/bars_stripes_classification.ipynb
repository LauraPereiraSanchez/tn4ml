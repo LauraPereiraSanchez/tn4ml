{
 "cells": [
  {
   "cell_type": "markdown",
   "metadata": {
    "nbsphinx": {
     "title": "# Classification for Bars-Stripes dataset"
    }
   },
   "source": [
    "# Classification for Bars-Stripes dataset"
   ]
  },
  {
   "cell_type": "markdown",
   "metadata": {},
   "source": [
    "Follow tutorial from $\\rightarrow$ https://pennylane.ai/qml/demos/tutorial_tn_circuits/\n",
    "- check on images 4x4, 8x8, 16x16\n",
    "- on MPS - acc = 50%\n",
    "- check on TTNs - **TODO**"
   ]
  },
  {
   "cell_type": "code",
   "execution_count": 1,
   "metadata": {},
   "outputs": [
    {
     "name": "stderr",
     "output_type": "stream",
     "text": [
      "OMP: Info #276: omp_set_nested routine deprecated, please use omp_set_max_active_levels instead.\n",
      "/Users/emapuljak/miniforge3/envs/workspace/lib/python3.10/site-packages/cotengra/hyperoptimizers/hyper.py:34: UserWarning: Couldn't import `kahypar` - skipping from default hyper optimizer and using basic `labels` method instead.\n",
      "  warnings.warn(\n"
     ]
    }
   ],
   "source": [
    "import pennylane as qml\n",
    "import matplotlib.pyplot as plt\n",
    "import numpy as np\n",
    "import jax\n",
    "import jax.numpy as jnp\n",
    "from jax.nn.initializers import *\n",
    "import optax\n",
    "\n",
    "from tn4ml.embeddings import *\n",
    "from tn4ml.util import *\n",
    "from tn4ml.models.model import *\n",
    "from tn4ml.models.smpo import *\n",
    "from tn4ml.initializers import *\n",
    "from tn4ml.loss import *"
   ]
  },
  {
   "cell_type": "code",
   "execution_count": 2,
   "metadata": {},
   "outputs": [],
   "source": [
    "def generate_bars_and_stripes(n_samples, height, width, noise_std):\n",
    "    \"\"\"Data generation procedure for 'bars and stripes'.\n",
    "\n",
    "    Args:\n",
    "        n_samples (int): number of data samples to produce\n",
    "        height (int): number of pixels for image height\n",
    "        width (int): number of pixels for image width\n",
    "        noise_std (float): standard deviation of Gaussian noise added to the pixels\n",
    "    \"\"\"\n",
    "    X = np.ones([n_samples, 1, height, width]) * -1\n",
    "    y = []\n",
    "\n",
    "    for i in range(len(X)):\n",
    "        if np.random.rand() > 0.5:\n",
    "            rows = np.where(np.random.rand(width) > 0.5)[0]\n",
    "            X[i, 0, rows, :] = 1.0\n",
    "            y.append([1, 0])\n",
    "        else:\n",
    "            columns = np.where(np.random.rand(height) > 0.5)[0]\n",
    "            X[i, 0, :, columns] = 1.0\n",
    "            y.append([0, 1])\n",
    "        X[i, 0] = X[i, 0] + np.random.normal(0, noise_std, size=X[i, 0].shape)\n",
    "\n",
    "    return X, np.array(y)"
   ]
  },
  {
   "cell_type": "code",
   "execution_count": 3,
   "metadata": {},
   "outputs": [],
   "source": [
    "height = 4\n",
    "width = 4\n",
    "noise_std = 0.5"
   ]
  },
  {
   "cell_type": "code",
   "execution_count": 4,
   "metadata": {},
   "outputs": [],
   "source": [
    "train_images, train_labels = generate_bars_and_stripes(1000, height, width, 0.5)\n",
    "test_images, test_labels = generate_bars_and_stripes(200, height, width, 0.5)"
   ]
  },
  {
   "cell_type": "code",
   "execution_count": 5,
   "metadata": {},
   "outputs": [],
   "source": [
    "train_labels = train_labels.astype(int)\n",
    "test_labels = test_labels.astype(int)"
   ]
  },
  {
   "cell_type": "code",
   "execution_count": 6,
   "metadata": {},
   "outputs": [],
   "source": [
    "n_classes=2"
   ]
  },
  {
   "cell_type": "code",
   "execution_count": 7,
   "metadata": {},
   "outputs": [],
   "source": [
    "train_images = np.squeeze(train_images)\n",
    "test_images = np.squeeze(test_images)"
   ]
  },
  {
   "cell_type": "code",
   "execution_count": 8,
   "metadata": {},
   "outputs": [
    {
     "data": {
      "text/plain": [
       "<matplotlib.image.AxesImage at 0x167eeb880>"
      ]
     },
     "execution_count": 8,
     "metadata": {},
     "output_type": "execute_result"
    },
    {
     "data": {
      "image/png": "[encoded data removed]",
      "text/plain": [
       "<Figure size 800x800 with 4 Axes>"
      ]
     },
     "metadata": {},
     "output_type": "display_data"
    }
   ],
   "source": [
    "fig, axes = plt.subplots(ncols=4, figsize=(8,8))\n",
    "\n",
    "axes[0].imshow(np.reshape(-train_images[0], (4,4)), cmap='gray')\n",
    "axes[1].imshow(np.reshape(-train_images[4], (4,4)), cmap='gray')\n",
    "axes[2].imshow(np.reshape(-train_images[6], (4,4)), cmap='gray')\n",
    "axes[3].imshow(np.reshape(-train_images[3], (4,4)), cmap='gray')"
   ]
  },
  {
   "cell_type": "code",
   "execution_count": 9,
   "metadata": {},
   "outputs": [
    {
     "data": {
      "image/png": "[encoded data removed]",
      "text/plain": [
       "<Figure size 3200x200 with 16 Axes>"
      ]
     },
     "metadata": {},
     "output_type": "display_data"
    }
   ],
   "source": [
    "def visualize_patterns(dataset, num_patterns=10):\n",
    "    fig, axes = plt.subplots(1, num_patterns, figsize=(num_patterns * 2, 2))\n",
    "    for i, ax in enumerate(axes):\n",
    "        pattern = dataset[i]\n",
    "        ax.imshow(pattern, cmap='binary')\n",
    "    plt.tight_layout()\n",
    "    plt.show()\n",
    "visualize_patterns(train_images, 16)\n"
   ]
  },
  {
   "cell_type": "code",
   "execution_count": 10,
   "metadata": {},
   "outputs": [],
   "source": [
    "train_size = train_images.shape[0]\n",
    "val_perc = 0.2"
   ]
  },
  {
   "cell_type": "code",
   "execution_count": 11,
   "metadata": {},
   "outputs": [],
   "source": [
    "# take val_size samples from normal class for validation (X% of training data)\n",
    "val_size = int(val_perc*train_size)\n",
    "train_size = int(train_size - val_size)"
   ]
  },
  {
   "cell_type": "code",
   "execution_count": 12,
   "metadata": {},
   "outputs": [],
   "source": [
    "indices = list(range(len(train_images)))\n",
    "np.random.shuffle(indices)\n",
    "\n",
    "train_indices = indices[:train_size]\n",
    "val_indices = indices[train_size : train_size+val_size]\n",
    "\n",
    "# train data and validation inputs\n",
    "train_inputs = np.take(train_images, train_indices, axis=0)\n",
    "val_inputs = np.take(train_images, val_indices, axis=0)\n",
    "\n",
    "\n",
    "# train data and validation labels\n",
    "train_targets = np.take(train_labels, train_indices, axis=0)\n",
    "val_targets = np.take(train_labels, val_indices, axis=0)"
   ]
  },
  {
   "cell_type": "markdown",
   "metadata": {},
   "source": [
    "**Define TN model**"
   ]
  },
  {
   "cell_type": "code",
   "execution_count": 13,
   "metadata": {},
   "outputs": [],
   "source": [
    "# model parameters\n",
    "L = 16\n",
    "initializer = jax.nn.initializers.normal(0.5, dtype=jnp.float64)\n",
    "key = jax.random.key(42)\n",
    "shape_method = 'noteven'\n",
    "bond_dim = 4\n",
    "phys_dim = (2, n_classes)\n",
    "spacing = L"
   ]
  },
  {
   "cell_type": "code",
   "execution_count": 14,
   "metadata": {},
   "outputs": [],
   "source": [
    "model = SMPO_initialize(L=L,\n",
    "                        initializer=initializer,\n",
    "                        key=key,\n",
    "                        shape_method=shape_method,\n",
    "                        spacing=spacing,\n",
    "                        bond_dim=bond_dim,\n",
    "                        phys_dim=phys_dim,\n",
    "                        cyclic=False)"
   ]
  },
  {
   "cell_type": "code",
   "execution_count": 15,
   "metadata": {},
   "outputs": [
    {
     "data": {
      "text/html": [
       "<samp style='font-size: 12px;'><details><summary><b style=\"color: #d4d138;\">SpacedMatrixProductOperator</b>(tensors=16, indices=32, L=16, max_bond=4)</summary><samp style='font-size: 12px;'><details><summary><b style=\"color: #e55471;\">Tensor</b>(shape=(<b style=\"color: #828fdd;\">2</b>, <b style=\"color: #828fdd;\">2</b>, <b style=\"color: #828fdd;\">2</b>), inds=[<b style=\"color: #42cec1;\">bond_0</b>, <b style=\"color: #b1dc61;\">k0</b>, <b style=\"color: #e06fe0;\">b0</b>], tags={<b style=\"color: #d2b137;\">I0</b>}),</summary>backend=<b style=\"color: #5198e5;\">jax</b>, dtype=<b style=\"color: #75d2c6;\">float64</b>, data=Array([[[-0.24015714, -0.06989823],\n",
       "        [-0.86140038,  0.34628692]],\n",
       "\n",
       "       [[-0.47019105,  0.46476252],\n",
       "        [-0.28127873, -0.58856389]]], dtype=float64)</details></samp><samp style='font-size: 12px;'><details><summary><b style=\"color: #e55471;\">Tensor</b>(shape=(<b style=\"color: #828fdd;\">2</b>, <b style=\"color: #80d749;\">4</b>, <b style=\"color: #828fdd;\">2</b>), inds=[<b style=\"color: #42cec1;\">bond_0</b>, <b style=\"color: #e382e3;\">bond_1</b>, <b style=\"color: #8aa5db;\">k1</b>], tags={<b style=\"color: #d19b78;\">I1</b>}),</summary>backend=<b style=\"color: #5198e5;\">jax</b>, dtype=<b style=\"color: #75d2c6;\">float64</b>, data=Array([[[-6.76725704e-01,  2.89273582e-03],\n",
       "        [-6.97752727e-01,  3.17205602e-01],\n",
       "        [-2.50233023e-02,  7.33642495e-02],\n",
       "        [ 5.82913626e-01,  4.83601050e-01]],\n",
       "\n",
       "       [[ 5.68363198e-01, -3.29861013e-04],\n",
       "        [ 6.65742408e-01, -4.56600224e-01],\n",
       "        [-1.05085510e-01, -1.55181947e-01],\n",
       "        [ 5.84003400e-01, -3.24470409e-01]]], dtype=float64)</details></samp><samp style='font-size: 12px;'><details><summary><b style=\"color: #e55471;\">Tensor</b>(shape=(<b style=\"color: #80d749;\">4</b>, <b style=\"color: #80d749;\">4</b>, <b style=\"color: #828fdd;\">2</b>), inds=[<b style=\"color: #e382e3;\">bond_1</b>, <b style=\"color: #aa6ccd;\">bond_2</b>, <b style=\"color: #df546d;\">k2</b>], tags={<b style=\"color: #dd5dd7;\">I2</b>}),</summary>backend=<b style=\"color: #5198e5;\">jax</b>, dtype=<b style=\"color: #75d2c6;\">float64</b>, data=Array([[[-0.18504929,  0.32574161],\n",
       "        [ 0.29722679,  0.25767279],\n",
       "        [-0.16776135, -0.16461698],\n",
       "        [-0.12103966,  0.92904774]],\n",
       "\n",
       "       [[-0.12317083, -0.089963  ],\n",
       "        [ 0.28333906, -0.30091927],\n",
       "        [ 0.39660247, -0.13791068],\n",
       "        [ 0.34110461, -0.30616322]],\n",
       "\n",
       "       [[ 0.20112454, -0.01708262],\n",
       "        [-0.02049286,  0.22183089],\n",
       "        [-0.00356892,  0.4450394 ],\n",
       "        [ 0.11600763, -0.1783104 ]],\n",
       "\n",
       "       [[ 0.52974872,  0.59757905],\n",
       "        [ 0.40113966, -0.61650857],\n",
       "        [ 0.40160936,  0.28836062],\n",
       "        [-0.38233217,  0.44749375]]], dtype=float64)</details></samp><samp style='font-size: 12px;'><details><summary><b style=\"color: #e55471;\">Tensor</b>(shape=(<b style=\"color: #80d749;\">4</b>, <b style=\"color: #80d749;\">4</b>, <b style=\"color: #828fdd;\">2</b>), inds=[<b style=\"color: #aa6ccd;\">bond_2</b>, <b style=\"color: #4fd685;\">bond_3</b>, <b style=\"color: #4c7be1;\">k3</b>], tags={<b style=\"color: #dd65d9;\">I3</b>}),</summary>backend=<b style=\"color: #5198e5;\">jax</b>, dtype=<b style=\"color: #75d2c6;\">float64</b>, data=Array([[[-0.18504929,  0.32574161],\n",
       "        [ 0.29722679,  0.25767279],\n",
       "        [-0.16776135, -0.16461698],\n",
       "        [-0.12103966,  0.92904774]],\n",
       "\n",
       "       [[-0.12317083, -0.089963  ],\n",
       "        [ 0.28333906, -0.30091927],\n",
       "        [ 0.39660247, -0.13791068],\n",
       "        [ 0.34110461, -0.30616322]],\n",
       "\n",
       "       [[ 0.20112454, -0.01708262],\n",
       "        [-0.02049286,  0.22183089],\n",
       "        [-0.00356892,  0.4450394 ],\n",
       "        [ 0.11600763, -0.1783104 ]],\n",
       "\n",
       "       [[ 0.52974872,  0.59757905],\n",
       "        [ 0.40113966, -0.61650857],\n",
       "        [ 0.40160936,  0.28836062],\n",
       "        [-0.38233217,  0.44749375]]], dtype=float64)</details></samp><samp style='font-size: 12px;'><details><summary><b style=\"color: #e55471;\">Tensor</b>(shape=(<b style=\"color: #80d749;\">4</b>, <b style=\"color: #80d749;\">4</b>, <b style=\"color: #828fdd;\">2</b>), inds=[<b style=\"color: #4fd685;\">bond_3</b>, <b style=\"color: #8dd9c9;\">bond_4</b>, <b style=\"color: #462edc;\">k4</b>], tags={<b style=\"color: #998ad1;\">I4</b>}),</summary>backend=<b style=\"color: #5198e5;\">jax</b>, dtype=<b style=\"color: #75d2c6;\">float64</b>, data=Array([[[-0.18504929,  0.32574161],\n",
       "        [ 0.29722679,  0.25767279],\n",
       "        [-0.16776135, -0.16461698],\n",
       "        [-0.12103966,  0.92904774]],\n",
       "\n",
       "       [[-0.12317083, -0.089963  ],\n",
       "        [ 0.28333906, -0.30091927],\n",
       "        [ 0.39660247, -0.13791068],\n",
       "        [ 0.34110461, -0.30616322]],\n",
       "\n",
       "       [[ 0.20112454, -0.01708262],\n",
       "        [-0.02049286,  0.22183089],\n",
       "        [-0.00356892,  0.4450394 ],\n",
       "        [ 0.11600763, -0.1783104 ]],\n",
       "\n",
       "       [[ 0.52974872,  0.59757905],\n",
       "        [ 0.40113966, -0.61650857],\n",
       "        [ 0.40160936,  0.28836062],\n",
       "        [-0.38233217,  0.44749375]]], dtype=float64)</details></samp><samp style='font-size: 12px;'><details><summary><b style=\"color: #e55471;\">Tensor</b>(shape=(<b style=\"color: #80d749;\">4</b>, <b style=\"color: #80d749;\">4</b>, <b style=\"color: #828fdd;\">2</b>), inds=[<b style=\"color: #8dd9c9;\">bond_4</b>, <b style=\"color: #43dcca;\">bond_5</b>, <b style=\"color: #85dfdf;\">k5</b>], tags={<b style=\"color: #97dddc;\">I5</b>}),</summary>backend=<b style=\"color: #5198e5;\">jax</b>, dtype=<b style=\"color: #75d2c6;\">float64</b>, data=Array([[[-0.18504929,  0.32574161],\n",
       "        [ 0.29722679,  0.25767279],\n",
       "        [-0.16776135, -0.16461698],\n",
       "        [-0.12103966,  0.92904774]],\n",
       "\n",
       "       [[-0.12317083, -0.089963  ],\n",
       "        [ 0.28333906, -0.30091927],\n",
       "        [ 0.39660247, -0.13791068],\n",
       "        [ 0.34110461, -0.30616322]],\n",
       "\n",
       "       [[ 0.20112454, -0.01708262],\n",
       "        [-0.02049286,  0.22183089],\n",
       "        [-0.00356892,  0.4450394 ],\n",
       "        [ 0.11600763, -0.1783104 ]],\n",
       "\n",
       "       [[ 0.52974872,  0.59757905],\n",
       "        [ 0.40113966, -0.61650857],\n",
       "        [ 0.40160936,  0.28836062],\n",
       "        [-0.38233217,  0.44749375]]], dtype=float64)</details></samp><samp style='font-size: 12px;'><details><summary><b style=\"color: #e55471;\">Tensor</b>(shape=(<b style=\"color: #80d749;\">4</b>, <b style=\"color: #80d749;\">4</b>, <b style=\"color: #828fdd;\">2</b>), inds=[<b style=\"color: #43dcca;\">bond_5</b>, <b style=\"color: #a5d145;\">bond_6</b>, <b style=\"color: #2cb7d3;\">k6</b>], tags={<b style=\"color: #b2de5f;\">I6</b>}),</summary>backend=<b style=\"color: #5198e5;\">jax</b>, dtype=<b style=\"color: #75d2c6;\">float64</b>, data=Array([[[-0.18504929,  0.32574161],\n",
       "        [ 0.29722679,  0.25767279],\n",
       "        [-0.16776135, -0.16461698],\n",
       "        [-0.12103966,  0.92904774]],\n",
       "\n",
       "       [[-0.12317083, -0.089963  ],\n",
       "        [ 0.28333906, -0.30091927],\n",
       "        [ 0.39660247, -0.13791068],\n",
       "        [ 0.34110461, -0.30616322]],\n",
       "\n",
       "       [[ 0.20112454, -0.01708262],\n",
       "        [-0.02049286,  0.22183089],\n",
       "        [-0.00356892,  0.4450394 ],\n",
       "        [ 0.11600763, -0.1783104 ]],\n",
       "\n",
       "       [[ 0.52974872,  0.59757905],\n",
       "        [ 0.40113966, -0.61650857],\n",
       "        [ 0.40160936,  0.28836062],\n",
       "        [-0.38233217,  0.44749375]]], dtype=float64)</details></samp><samp style='font-size: 12px;'><details><summary><b style=\"color: #e55471;\">Tensor</b>(shape=(<b style=\"color: #80d749;\">4</b>, <b style=\"color: #80d749;\">4</b>, <b style=\"color: #828fdd;\">2</b>), inds=[<b style=\"color: #a5d145;\">bond_6</b>, <b style=\"color: #6bd97a;\">bond_7</b>, <b style=\"color: #53e08f;\">k7</b>], tags={<b style=\"color: #5582d6;\">I7</b>}),</summary>backend=<b style=\"color: #5198e5;\">jax</b>, dtype=<b style=\"color: #75d2c6;\">float64</b>, data=Array([[[-0.18504929,  0.32574161],\n",
       "        [ 0.29722679,  0.25767279],\n",
       "        [-0.16776135, -0.16461698],\n",
       "        [-0.12103966,  0.92904774]],\n",
       "\n",
       "       [[-0.12317083, -0.089963  ],\n",
       "        [ 0.28333906, -0.30091927],\n",
       "        [ 0.39660247, -0.13791068],\n",
       "        [ 0.34110461, -0.30616322]],\n",
       "\n",
       "       [[ 0.20112454, -0.01708262],\n",
       "        [-0.02049286,  0.22183089],\n",
       "        [-0.00356892,  0.4450394 ],\n",
       "        [ 0.11600763, -0.1783104 ]],\n",
       "\n",
       "       [[ 0.52974872,  0.59757905],\n",
       "        [ 0.40113966, -0.61650857],\n",
       "        [ 0.40160936,  0.28836062],\n",
       "        [-0.38233217,  0.44749375]]], dtype=float64)</details></samp><samp style='font-size: 12px;'><details><summary><b style=\"color: #e55471;\">Tensor</b>(shape=(<b style=\"color: #80d749;\">4</b>, <b style=\"color: #80d749;\">4</b>, <b style=\"color: #828fdd;\">2</b>), inds=[<b style=\"color: #6bd97a;\">bond_7</b>, <b style=\"color: #d853b9;\">bond_8</b>, <b style=\"color: #7bcd9f;\">k8</b>], tags={<b style=\"color: #8a3dd8;\">I8</b>}),</summary>backend=<b style=\"color: #5198e5;\">jax</b>, dtype=<b style=\"color: #75d2c6;\">float64</b>, data=Array([[[-0.18504929,  0.32574161],\n",
       "        [ 0.29722679,  0.25767279],\n",
       "        [-0.16776135, -0.16461698],\n",
       "        [-0.12103966,  0.92904774]],\n",
       "\n",
       "       [[-0.12317083, -0.089963  ],\n",
       "        [ 0.28333906, -0.30091927],\n",
       "        [ 0.39660247, -0.13791068],\n",
       "        [ 0.34110461, -0.30616322]],\n",
       "\n",
       "       [[ 0.20112454, -0.01708262],\n",
       "        [-0.02049286,  0.22183089],\n",
       "        [-0.00356892,  0.4450394 ],\n",
       "        [ 0.11600763, -0.1783104 ]],\n",
       "\n",
       "       [[ 0.52974872,  0.59757905],\n",
       "        [ 0.40113966, -0.61650857],\n",
       "        [ 0.40160936,  0.28836062],\n",
       "        [-0.38233217,  0.44749375]]], dtype=float64)</details></samp><samp style='font-size: 12px;'><details><summary><b style=\"color: #e55471;\">Tensor</b>(shape=(<b style=\"color: #80d749;\">4</b>, <b style=\"color: #80d749;\">4</b>, <b style=\"color: #828fdd;\">2</b>), inds=[<b style=\"color: #d853b9;\">bond_8</b>, <b style=\"color: #dd3c86;\">bond_9</b>, <b style=\"color: #cc70c1;\">k9</b>], tags={<b style=\"color: #d74979;\">I9</b>}),</summary>backend=<b style=\"color: #5198e5;\">jax</b>, dtype=<b style=\"color: #75d2c6;\">float64</b>, data=Array([[[-0.18504929,  0.32574161],\n",
       "        [ 0.29722679,  0.25767279],\n",
       "        [-0.16776135, -0.16461698],\n",
       "        [-0.12103966,  0.92904774]],\n",
       "\n",
       "       [[-0.12317083, -0.089963  ],\n",
       "        [ 0.28333906, -0.30091927],\n",
       "        [ 0.39660247, -0.13791068],\n",
       "        [ 0.34110461, -0.30616322]],\n",
       "\n",
       "       [[ 0.20112454, -0.01708262],\n",
       "        [-0.02049286,  0.22183089],\n",
       "        [-0.00356892,  0.4450394 ],\n",
       "        [ 0.11600763, -0.1783104 ]],\n",
       "\n",
       "       [[ 0.52974872,  0.59757905],\n",
       "        [ 0.40113966, -0.61650857],\n",
       "        [ 0.40160936,  0.28836062],\n",
       "        [-0.38233217,  0.44749375]]], dtype=float64)</details></samp><samp style='font-size: 12px;'><details><summary><b style=\"color: #e55471;\">Tensor</b>(shape=(<b style=\"color: #80d749;\">4</b>, <b style=\"color: #80d749;\">4</b>, <b style=\"color: #828fdd;\">2</b>), inds=[<b style=\"color: #dd3c86;\">bond_9</b>, <b style=\"color: #e589e5;\">bond_10</b>, <b style=\"color: #3fcf58;\">k10</b>], tags={<b style=\"color: #4e2bd3;\">I10</b>}),</summary>backend=<b style=\"color: #5198e5;\">jax</b>, dtype=<b style=\"color: #75d2c6;\">float64</b>, data=Array([[[-0.18504929,  0.32574161],\n",
       "        [ 0.29722679,  0.25767279],\n",
       "        [-0.16776135, -0.16461698],\n",
       "        [-0.12103966,  0.92904774]],\n",
       "\n",
       "       [[-0.12317083, -0.089963  ],\n",
       "        [ 0.28333906, -0.30091927],\n",
       "        [ 0.39660247, -0.13791068],\n",
       "        [ 0.34110461, -0.30616322]],\n",
       "\n",
       "       [[ 0.20112454, -0.01708262],\n",
       "        [-0.02049286,  0.22183089],\n",
       "        [-0.00356892,  0.4450394 ],\n",
       "        [ 0.11600763, -0.1783104 ]],\n",
       "\n",
       "       [[ 0.52974872,  0.59757905],\n",
       "        [ 0.40113966, -0.61650857],\n",
       "        [ 0.40160936,  0.28836062],\n",
       "        [-0.38233217,  0.44749375]]], dtype=float64)</details></samp><samp style='font-size: 12px;'><details><summary><b style=\"color: #e55471;\">Tensor</b>(shape=(<b style=\"color: #80d749;\">4</b>, <b style=\"color: #80d749;\">4</b>, <b style=\"color: #828fdd;\">2</b>), inds=[<b style=\"color: #e589e5;\">bond_10</b>, <b style=\"color: #dc8eb1;\">bond_11</b>, <b style=\"color: #6d6fcf;\">k11</b>], tags={<b style=\"color: #cc3988;\">I11</b>}),</summary>backend=<b style=\"color: #5198e5;\">jax</b>, dtype=<b style=\"color: #75d2c6;\">float64</b>, data=Array([[[-0.18504929,  0.32574161],\n",
       "        [ 0.29722679,  0.25767279],\n",
       "        [-0.16776135, -0.16461698],\n",
       "        [-0.12103966,  0.92904774]],\n",
       "\n",
       "       [[-0.12317083, -0.089963  ],\n",
       "        [ 0.28333906, -0.30091927],\n",
       "        [ 0.39660247, -0.13791068],\n",
       "        [ 0.34110461, -0.30616322]],\n",
       "\n",
       "       [[ 0.20112454, -0.01708262],\n",
       "        [-0.02049286,  0.22183089],\n",
       "        [-0.00356892,  0.4450394 ],\n",
       "        [ 0.11600763, -0.1783104 ]],\n",
       "\n",
       "       [[ 0.52974872,  0.59757905],\n",
       "        [ 0.40113966, -0.61650857],\n",
       "        [ 0.40160936,  0.28836062],\n",
       "        [-0.38233217,  0.44749375]]], dtype=float64)</details></samp><samp style='font-size: 12px;'><details><summary><b style=\"color: #e55471;\">Tensor</b>(shape=(<b style=\"color: #80d749;\">4</b>, <b style=\"color: #80d749;\">4</b>, <b style=\"color: #828fdd;\">2</b>), inds=[<b style=\"color: #dc8eb1;\">bond_11</b>, <b style=\"color: #98cf7e;\">bond_12</b>, <b style=\"color: #70c0d6;\">k12</b>], tags={<b style=\"color: #30a0d2;\">I12</b>}),</summary>backend=<b style=\"color: #5198e5;\">jax</b>, dtype=<b style=\"color: #75d2c6;\">float64</b>, data=Array([[[-0.18504929,  0.32574161],\n",
       "        [ 0.29722679,  0.25767279],\n",
       "        [-0.16776135, -0.16461698],\n",
       "        [-0.12103966,  0.92904774]],\n",
       "\n",
       "       [[-0.12317083, -0.089963  ],\n",
       "        [ 0.28333906, -0.30091927],\n",
       "        [ 0.39660247, -0.13791068],\n",
       "        [ 0.34110461, -0.30616322]],\n",
       "\n",
       "       [[ 0.20112454, -0.01708262],\n",
       "        [-0.02049286,  0.22183089],\n",
       "        [-0.00356892,  0.4450394 ],\n",
       "        [ 0.11600763, -0.1783104 ]],\n",
       "\n",
       "       [[ 0.52974872,  0.59757905],\n",
       "        [ 0.40113966, -0.61650857],\n",
       "        [ 0.40160936,  0.28836062],\n",
       "        [-0.38233217,  0.44749375]]], dtype=float64)</details></samp><samp style='font-size: 12px;'><details><summary><b style=\"color: #e55471;\">Tensor</b>(shape=(<b style=\"color: #80d749;\">4</b>, <b style=\"color: #80d749;\">4</b>, <b style=\"color: #828fdd;\">2</b>), inds=[<b style=\"color: #98cf7e;\">bond_12</b>, <b style=\"color: #52d07e;\">bond_13</b>, <b style=\"color: #67b9df;\">k13</b>], tags={<b style=\"color: #59aad4;\">I13</b>}),</summary>backend=<b style=\"color: #5198e5;\">jax</b>, dtype=<b style=\"color: #75d2c6;\">float64</b>, data=Array([[[-0.18504929,  0.32574161],\n",
       "        [ 0.29722679,  0.25767279],\n",
       "        [-0.16776135, -0.16461698],\n",
       "        [-0.12103966,  0.92904774]],\n",
       "\n",
       "       [[-0.12317083, -0.089963  ],\n",
       "        [ 0.28333906, -0.30091927],\n",
       "        [ 0.39660247, -0.13791068],\n",
       "        [ 0.34110461, -0.30616322]],\n",
       "\n",
       "       [[ 0.20112454, -0.01708262],\n",
       "        [-0.02049286,  0.22183089],\n",
       "        [-0.00356892,  0.4450394 ],\n",
       "        [ 0.11600763, -0.1783104 ]],\n",
       "\n",
       "       [[ 0.52974872,  0.59757905],\n",
       "        [ 0.40113966, -0.61650857],\n",
       "        [ 0.40160936,  0.28836062],\n",
       "        [-0.38233217,  0.44749375]]], dtype=float64)</details></samp><samp style='font-size: 12px;'><details><summary><b style=\"color: #e55471;\">Tensor</b>(shape=(<b style=\"color: #80d749;\">4</b>, <b style=\"color: #828fdd;\">2</b>, <b style=\"color: #828fdd;\">2</b>), inds=[<b style=\"color: #52d07e;\">bond_13</b>, <b style=\"color: #72d362;\">bond_14</b>, <b style=\"color: #d58d74;\">k14</b>], tags={<b style=\"color: #e4d13e;\">I14</b>}),</summary>backend=<b style=\"color: #5198e5;\">jax</b>, dtype=<b style=\"color: #75d2c6;\">float64</b>, data=Array([[[-6.76725704e-01,  2.89273582e-03],\n",
       "        [-6.97752727e-01,  3.17205602e-01]],\n",
       "\n",
       "       [[-2.50233023e-02,  7.33642495e-02],\n",
       "        [ 5.82913626e-01,  4.83601050e-01]],\n",
       "\n",
       "       [[ 5.68363198e-01, -3.29861013e-04],\n",
       "        [ 6.65742408e-01, -4.56600224e-01]],\n",
       "\n",
       "       [[-1.05085510e-01, -1.55181947e-01],\n",
       "        [ 5.84003400e-01, -3.24470409e-01]]], dtype=float64)</details></samp><samp style='font-size: 12px;'><details><summary><b style=\"color: #e55471;\">Tensor</b>(shape=(<b style=\"color: #828fdd;\">2</b>, <b style=\"color: #828fdd;\">2</b>), inds=[<b style=\"color: #72d362;\">bond_14</b>, <b style=\"color: #ce6937;\">k15</b>], tags={<b style=\"color: #d54955;\">I15</b>}),</summary>backend=<b style=\"color: #5198e5;\">jax</b>, dtype=<b style=\"color: #75d2c6;\">float64</b>, data=Array([[ 0.16402165,  0.08450488],\n",
       "       [-0.21017221, -0.235368  ]], dtype=float64)</details></samp></details></samp>"
      ],
      "text/plain": [
       "SpacedMatrixProductOperator(tensors=16, indices=32, L=16, max_bond=4)"
      ]
     },
     "execution_count": 15,
     "metadata": {},
     "output_type": "execute_result"
    }
   ],
   "source": [
    "model"
   ]
  },
  {
   "cell_type": "code",
   "execution_count": 16,
   "metadata": {},
   "outputs": [],
   "source": [
    "def cross_entropy(*args, **kwargs):\n",
    "    return loss_wrapper_optax(optax.softmax_cross_entropy)(*args, **kwargs)[0]"
   ]
  },
  {
   "cell_type": "code",
   "execution_count": 17,
   "metadata": {},
   "outputs": [],
   "source": [
    "# training parameters\n",
    "optimizer = optax.adam\n",
    "strategy = 'global'\n",
    "loss = cross_entropy\n",
    "train_type = 1\n",
    "#embedding = basis_quantum_encoding(basis={0: np.array([1, 0]), 1: np.array([0, 1])})\n",
    "embedding = trigonometric()\n",
    "learning_rate = 1e-3\n",
    "\n",
    "# Exponential decay of the learning rate.\n",
    "scheduler = optax.exponential_decay(\n",
    "    init_value=0.0001,\n",
    "    transition_steps=1000,\n",
    "    decay_rate=0.99)\n",
    "\n",
    "# Combining gradient transforms using `optax.chain`.\n",
    "gradient_transforms = [\n",
    "    optax.clip_by_global_norm(1.0),  # Clip by the gradient by the global norm.\n",
    "    optax.scale_by_adam(),  # Use the updates from adam.\n",
    "    optax.scale_by_schedule(scheduler),  # Use the learning rate from the scheduler.\n",
    "    # Scale updates by -1 since optax.apply_updates is additive and we want to descend on the loss.\n",
    "    optax.scale(-1.0)\n",
    "]"
   ]
  },
  {
   "cell_type": "code",
   "execution_count": 18,
   "metadata": {},
   "outputs": [],
   "source": [
    "model.configure(optimizer=optimizer, strategy=strategy, loss=loss, train_type=train_type, learning_rate=learning_rate)"
   ]
  },
  {
   "cell_type": "code",
   "execution_count": 19,
   "metadata": {},
   "outputs": [],
   "source": [
    "epochs = 300\n",
    "batch_size = 32"
   ]
  },
  {
   "cell_type": "code",
   "execution_count": 20,
   "metadata": {},
   "outputs": [],
   "source": [
    "# early stopping from flax\n",
    "from flax.training.early_stopping import EarlyStopping\n",
    "\n",
    "earlystop = EarlyStopping(min_delta=0, patience=5)"
   ]
  },
  {
   "cell_type": "code",
   "execution_count": 21,
   "metadata": {},
   "outputs": [
    {
     "name": "stderr",
     "output_type": "stream",
     "text": [
      "epoch: 100%|██████████| 300/300 [02:32<00:00,  1.97it/s, loss=0.6344693026188025, val_loss=0.7747172157966723]\n"
     ]
    }
   ],
   "source": [
    "history = model.train(train_inputs.reshape(train_inputs.shape[0], height*width),\n",
    "                    targets = train_targets,\n",
    "                    val_inputs=val_inputs.reshape(val_inputs.shape[0], height*width),\n",
    "                    val_targets=val_targets,\n",
    "                    epochs = epochs,\n",
    "                    batch_size = batch_size,\n",
    "                    embedding = embedding,\n",
    "                    normalize = True,\n",
    "                    cache=True,\n",
    "                    dtype = jnp.float64)"
   ]
  },
  {
   "cell_type": "code",
   "execution_count": 22,
   "metadata": {},
   "outputs": [
    {
     "data": {
      "image/png": "[encoded data removed]",
      "text/plain": [
       "<Figure size 640x480 with 1 Axes>"
      ]
     },
     "metadata": {},
     "output_type": "display_data"
    }
   ],
   "source": [
    "plt.figure()\n",
    "plt.plot(range(len(history['loss'])), history['loss'], label='train')\n",
    "plt.plot(range(len(history['val_loss'])), history['val_loss'], label='val')\n",
    "plt.legend()\n",
    "plt.show()\n"
   ]
  },
  {
   "cell_type": "markdown",
   "metadata": {},
   "source": [
    "**Evaluate**"
   ]
  },
  {
   "cell_type": "code",
   "execution_count": 23,
   "metadata": {},
   "outputs": [],
   "source": [
    "from tn4ml.models.model import _batch_iterator"
   ]
  },
  {
   "cell_type": "code",
   "execution_count": 25,
   "metadata": {},
   "outputs": [
    {
     "name": "stdout",
     "output_type": "stream",
     "text": [
      "[[ 1.16009805e-03  7.91098255e-04]\n",
      " [-2.57028956e-03 -2.70683206e-03]\n",
      " [ 1.00054256e-04  4.78574601e-05]\n",
      " [-1.50681319e-04 -8.40423952e-05]\n",
      " [-1.26200183e-03 -5.84477422e-04]\n",
      " [-6.51928356e-03 -8.53623838e-03]\n",
      " [-1.28240092e-02 -1.15055430e-02]\n",
      " [-1.88100383e-04 -3.39844154e-04]\n",
      " [-6.00185323e-06  5.07520779e-05]\n",
      " [-5.75047386e-03 -1.08485571e-02]]\n",
      "[[-2.66700924e-03 -3.65199412e-03]\n",
      " [ 4.97761262e-04 -4.91942181e-06]\n",
      " [-6.75016080e-03 -5.02690365e-03]\n",
      " [ 4.08968092e-04  1.84176448e-03]\n",
      " [-1.72908966e-03 -1.76426168e-03]\n",
      " [-6.41010730e-04 -1.26187844e-04]\n",
      " [-7.04497188e-04 -1.53250988e-04]\n",
      " [-2.47333248e-02 -2.70750072e-02]\n",
      " [-3.98530931e-03 -8.65745736e-03]\n",
      " [ 1.55932296e-03  7.45546151e-03]]\n",
      "[[ 7.66135619e-03  1.21668651e-02]\n",
      " [-1.75029783e-05  5.10317129e-06]\n",
      " [ 9.62582630e-04  1.34637245e-03]\n",
      " [-1.70638798e-03 -2.04201954e-03]\n",
      " [-2.65793223e-05  3.97285156e-06]\n",
      " [-3.68568292e-04 -3.93541928e-04]\n",
      " [ 2.81379224e-04  2.57386543e-04]\n",
      " [-2.16385683e-03 -2.70915779e-03]\n",
      " [-6.83685949e-03 -8.99678997e-03]\n",
      " [-1.64686888e-03 -9.23520997e-04]]\n",
      "[[-0.00095427 -0.00198085]\n",
      " [ 0.00325128  0.00398306]\n",
      " [ 0.00068905 -0.00065787]\n",
      " [-0.00066422  0.0001759 ]\n",
      " [ 0.00526794  0.0059623 ]\n",
      " [-0.00108268 -0.00266143]\n",
      " [-0.00155511 -0.00083856]\n",
      " [ 0.00392325  0.00344068]\n",
      " [ 0.00034248  0.00065175]\n",
      " [-0.00022359 -0.00023434]]\n",
      "[[ 3.23994927e-06  4.89403090e-07]\n",
      " [ 3.69423960e-04  4.16670294e-04]\n",
      " [ 6.73250354e-04  5.02212772e-04]\n",
      " [ 1.75374459e-04  4.86155099e-05]\n",
      " [ 3.03002292e-03  4.43965658e-03]\n",
      " [ 2.99551818e-03 -9.68076683e-04]\n",
      " [ 1.49637447e-04  2.54081734e-04]\n",
      " [ 1.75132101e-04  1.23481678e-05]\n",
      " [ 1.61372653e-05  3.40710171e-05]\n",
      " [ 6.45890056e-04  1.01132155e-03]]\n",
      "[[-2.51496756e-03 -2.71302252e-03]\n",
      " [-6.27233380e-03 -5.50592512e-03]\n",
      " [ 1.20527112e-04 -9.64654516e-05]\n",
      " [ 1.88073316e-03  1.20308565e-03]\n",
      " [ 2.69867250e-04 -1.23871976e-05]\n",
      " [-6.44316848e-06  2.59664388e-05]\n",
      " [-6.86578938e-06 -7.76472469e-05]\n",
      " [ 2.43960560e-03  1.58339855e-03]\n",
      " [ 9.48189863e-05  3.38230744e-05]\n",
      " [ 3.18936452e-04  3.00883086e-04]]\n",
      "[[-3.25617612e-03  1.83973457e-04]\n",
      " [-3.05335229e-06 -1.00374014e-05]\n",
      " [ 1.96866816e-04  2.97612696e-04]\n",
      " [ 8.95207667e-06  1.51501591e-04]\n",
      " [-2.58218274e-04 -7.75132409e-03]\n",
      " [-1.70115338e-03 -1.74133286e-03]\n",
      " [ 1.13311115e-04 -3.39678102e-04]\n",
      " [-9.46304757e-03 -1.14254837e-02]\n",
      " [ 3.66886310e-06 -3.33100791e-05]\n",
      " [-1.53065185e-03 -1.69239991e-03]]\n",
      "[[ 8.28015122e-04  2.16356639e-04]\n",
      " [ 1.74705396e-03  1.53452056e-03]\n",
      " [ 2.70757401e-03  3.99263168e-04]\n",
      " [ 4.46557407e-06  2.18302227e-06]\n",
      " [-2.38383787e-06 -6.93271271e-06]\n",
      " [ 6.69345437e-05  3.49504969e-05]\n",
      " [ 7.61168658e-06  8.95899490e-06]\n",
      " [-2.17469133e-03 -3.10719200e-03]\n",
      " [ 7.32704326e-03  9.58101824e-03]\n",
      " [ 3.71907048e-04  5.19740355e-04]]\n",
      "[[ 2.77869820e-04  5.93980323e-04]\n",
      " [ 7.49914182e-03  6.28620606e-03]\n",
      " [-1.02982709e-03  2.14060655e-04]\n",
      " [-1.57563782e-05  7.64928034e-06]\n",
      " [-5.93290067e-04 -6.15062018e-04]\n",
      " [-8.97125835e-06  3.09488047e-04]\n",
      " [-6.29967775e-04 -1.34564537e-03]\n",
      " [ 1.67914727e-03  3.77265467e-03]\n",
      " [ 3.54461298e-04  4.13960943e-04]\n",
      " [-5.81558331e-03 -3.91999140e-03]]\n",
      "[[ 7.59316261e-05  1.86763421e-04]\n",
      " [ 3.62797774e-03  1.76716989e-03]\n",
      " [ 5.54574071e-05  8.16609247e-05]\n",
      " [-1.20148015e-03 -9.32169936e-04]\n",
      " [ 2.00727609e-05  1.63107898e-05]\n",
      " [ 1.14093525e-02  7.05815077e-03]\n",
      " [ 1.45523095e-03  1.62092405e-03]\n",
      " [ 1.26909703e-02  1.86055238e-02]\n",
      " [-3.87813856e-04 -2.03549649e-05]\n",
      " [-2.35331559e-02 -2.08989787e-02]]\n",
      "[[-2.07794959e-04 -1.80596316e-04]\n",
      " [ 6.86065714e-06 -9.54773720e-05]\n",
      " [ 6.99131815e-05  1.36908595e-03]\n",
      " [ 5.45555805e-04  5.97665707e-04]\n",
      " [ 7.10733673e-03  8.64484417e-03]\n",
      " [-5.02663130e-04 -3.87878913e-04]\n",
      " [-3.50449415e-03 -1.95519259e-03]\n",
      " [ 1.06249886e-03  9.98875823e-04]\n",
      " [-3.01444436e-04 -2.17860845e-04]\n",
      " [ 1.20089879e-02  1.02591335e-02]]\n",
      "[[ 2.44951385e-04  2.05975295e-04]\n",
      " [ 1.26528937e-03  5.87496495e-04]\n",
      " [-3.08983155e-04  9.32969546e-04]\n",
      " [-4.31267857e-03 -4.93942237e-03]\n",
      " [ 5.58933967e-04  5.25637778e-04]\n",
      " [-6.34563300e-04 -1.76564085e-03]\n",
      " [-5.66561241e-05 -2.49811589e-05]\n",
      " [ 5.75250431e-05  5.59845941e-05]\n",
      " [ 1.87670520e-04  2.85685871e-04]\n",
      " [-1.97110459e-04  9.68574502e-04]]\n",
      "[[-4.72873084e-03 -5.92036568e-03]\n",
      " [-9.03300840e-04 -7.78449074e-04]\n",
      " [-3.57636474e-03 -3.14675995e-03]\n",
      " [-6.06894458e-03 -9.08381911e-03]\n",
      " [-1.19844306e-04 -3.56109523e-04]\n",
      " [ 3.77392663e-04  1.33623502e-04]\n",
      " [-5.76043024e-03 -7.38290922e-03]\n",
      " [-5.70527497e-05  6.71963867e-05]\n",
      " [-2.08592791e-05 -3.17210756e-04]\n",
      " [-1.63309224e-03 -4.26237467e-03]]\n",
      "[[ 2.61157516e-04  9.41758028e-04]\n",
      " [-2.15341212e-02 -2.12146180e-02]\n",
      " [ 2.02514280e-05  4.42157918e-05]\n",
      " [-1.85233011e-03 -4.37339480e-03]\n",
      " [ 4.59267490e-04  3.25128224e-04]\n",
      " [-9.15705545e-06 -7.59134419e-06]\n",
      " [-2.67402306e-02 -1.76984346e-02]\n",
      " [-2.00916970e-04 -1.24259616e-04]\n",
      " [ 4.33340132e-06 -2.67258503e-04]\n",
      " [-3.65699302e-04 -7.10843016e-04]]\n",
      "[[ 7.07310700e-04  6.34165624e-04]\n",
      " [ 1.21311672e-02  8.46406801e-03]\n",
      " [ 9.65982061e-04  5.27062773e-04]\n",
      " [ 2.35623070e-03  2.96913120e-03]\n",
      " [-1.58985287e-03 -1.53972288e-03]\n",
      " [ 4.87156566e-04  3.94238497e-04]\n",
      " [-3.24551927e-04 -2.93873154e-04]\n",
      " [-2.13702568e-02 -2.59946438e-02]\n",
      " [ 2.93056841e-03  1.75975141e-04]\n",
      " [-1.42882664e-04  4.47054112e-05]]\n",
      "[[-2.11403215e-05 -3.05435302e-06]\n",
      " [ 2.16664448e-04  3.66172776e-04]\n",
      " [-3.18124461e-03 -4.30568299e-03]\n",
      " [-3.13202526e-03 -3.47137296e-03]\n",
      " [-1.02525362e-03 -1.27513414e-03]\n",
      " [-3.57983047e-03 -3.90607331e-04]\n",
      " [-1.16478806e-03 -9.86272943e-04]\n",
      " [-2.15939847e-03 -2.31634014e-03]\n",
      " [-7.85337795e-04 -1.23719918e-03]\n",
      " [ 6.84912721e-04 -1.45853113e-03]]\n",
      "[[ 3.55803498e-03 -2.14431058e-03]\n",
      " [-2.24939740e-04  3.05999611e-04]\n",
      " [-1.65028539e-05 -1.49930500e-05]\n",
      " [-2.86458728e-04  1.49924475e-03]\n",
      " [-1.03377664e-06  5.61445997e-06]\n",
      " [-3.18508555e-05 -4.50243302e-05]\n",
      " [ 1.38604879e-03  1.14673446e-03]\n",
      " [-3.14893611e-03 -2.81218523e-03]\n",
      " [ 4.36665794e-03  5.18325463e-03]\n",
      " [ 2.48883969e-03  2.19804832e-03]]\n",
      "[[-6.15549325e-02 -6.54820679e-02]\n",
      " [ 3.45540372e-04  3.66361417e-04]\n",
      " [ 6.70249624e-06  1.02894677e-06]\n",
      " [-1.32936766e-04 -1.60407462e-04]\n",
      " [-2.22037035e-03 -3.33453241e-03]\n",
      " [-8.54881056e-05  6.23509835e-04]\n",
      " [ 3.40076187e-02  3.57731756e-02]\n",
      " [ 2.11775213e-03  2.58228841e-03]\n",
      " [ 3.89149823e-04  2.59998286e-04]\n",
      " [ 6.46331946e-03  6.16738391e-03]]\n",
      "[[-2.95616204e-04 -3.70420088e-04]\n",
      " [ 5.25408174e-04  3.80002070e-04]\n",
      " [-1.07717235e-03 -1.32400780e-03]\n",
      " [ 7.35467256e-05  1.70068927e-06]\n",
      " [-9.86613543e-04  2.95732160e-03]\n",
      " [ 2.26728248e-04  2.72738345e-04]\n",
      " [ 8.02402582e-04 -4.85647399e-04]\n",
      " [-6.22426105e-05  1.59491240e-03]\n",
      " [ 2.18962357e-03  6.04903426e-03]\n",
      " [ 1.72338072e-04  3.06603946e-04]]\n",
      "[[ 3.51386931e-03  3.41421085e-03]\n",
      " [-4.11186906e-06 -7.21602197e-04]\n",
      " [-2.43740699e-04 -1.39929463e-04]\n",
      " [ 2.47987493e-04  2.84775634e-04]\n",
      " [-1.89207935e-04 -2.19487159e-03]\n",
      " [ 2.83857585e-04  2.85014170e-04]\n",
      " [ 5.45393202e-04  5.42643331e-04]\n",
      " [ 2.03301117e-03  1.74526097e-04]\n",
      " [ 1.27886086e-03  2.17079740e-03]\n",
      " [ 4.20695755e-06 -9.86080465e-07]]\n",
      "Accuracy: 0.52\n"
     ]
    }
   ],
   "source": [
    "batch_size = 10\n",
    "correct_predictions = 0; total_loss = 0\n",
    "\n",
    "for batch_data in _batch_iterator(test_images.reshape(test_images.shape[0], 16), test_labels, batch_size=batch_size):\n",
    "    x, y = batch_data\n",
    "    x = jnp.array(x, dtype=jnp.float64)\n",
    "    y = jnp.array(y)\n",
    "\n",
    "    y_pred = jnp.squeeze(jnp.array(jax.vmap(model.predict, in_axes=(0, None, None))(x, embedding, False)[0]))\n",
    "    print(y_pred)\n",
    "    predicted = jnp.argmax(y_pred, axis=-1)\n",
    "    true = jnp.argmax(y, axis=-1)\n",
    "\n",
    "    correct_predictions += jnp.sum(predicted == true).item() / batch_size\n",
    "\n",
    "accuracy = correct_predictions / (len(test_images)//batch_size)\n",
    "print(f\"Accuracy: {accuracy}\")"
   ]
  },
  {
   "cell_type": "code",
   "execution_count": null,
   "metadata": {},
   "outputs": [],
   "source": []
  }
 ],
 "metadata": {
  "kernelspec": {
   "display_name": "workspace",
   "language": "python",
   "name": "python3"
  },
  "language_info": {
   "codemirror_mode": {
    "name": "ipython",
    "version": 3
   },
   "file_extension": ".py",
   "mimetype": "text/x-python",
   "name": "python",
   "nbconvert_exporter": "python",
   "pygments_lexer": "ipython3",
   "version": "3.10.13"
  }
 },
 "nbformat": 4,
 "nbformat_minor": 2
}
