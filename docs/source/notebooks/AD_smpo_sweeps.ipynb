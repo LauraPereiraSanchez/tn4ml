{
 "cells": [
  {
   "cell_type": "markdown",
   "metadata": {},
   "source": [
    "# DMRG Sweeping method for training TN\n",
    "***Anomaly detection with SMPO trained using DMRG Sweeping method***"
   ]
  },
  {
   "cell_type": "code",
   "execution_count": 1,
   "metadata": {
    "nbsphinx": {
     "title": "Anomaly detection with Spaced MPO"
    }
   },
   "outputs": [
    {
     "name": "stderr",
     "output_type": "stream",
     "text": [
      "OMP: Info #276: omp_set_nested routine deprecated, please use omp_set_max_active_levels instead.\n",
      "/Users/emapuljak/miniforge3/envs/workspace/lib/python3.10/site-packages/cotengra/hyperoptimizers/hyper.py:34: UserWarning: Couldn't import `kahypar` - skipping from default hyper optimizer and using basic `labels` method instead.\n",
      "  warnings.warn(\n"
     ]
    }
   ],
   "source": [
    "import jax.numpy as jnp\n",
    "import quimb.tensor as qtn\n",
    "import tensorflow as tf\n",
    "from tensorflow.keras.datasets import mnist\n",
    "from jax.nn.initializers import *\n",
    "import matplotlib.pyplot as plt\n",
    "\n",
    "from tn4ml.initializers import *\n",
    "from tn4ml.models.smpo import *\n",
    "from tn4ml.models.model import *\n",
    "from tn4ml.embeddings import *\n",
    "from tn4ml.loss import *"
   ]
  },
  {
   "cell_type": "markdown",
   "metadata": {},
   "source": [
    "### Load dataset"
   ]
  },
  {
   "cell_type": "code",
   "execution_count": 2,
   "metadata": {},
   "outputs": [],
   "source": [
    "train, test = mnist.load_data()\n",
    "data = {\"X\": dict(train=train[0], test=test[0]), \"y\": dict(train=train[1], test=test[1])}"
   ]
  },
  {
   "cell_type": "code",
   "execution_count": 3,
   "metadata": {},
   "outputs": [],
   "source": [
    "normal_class = 0"
   ]
  },
  {
   "cell_type": "code",
   "execution_count": 4,
   "metadata": {},
   "outputs": [],
   "source": [
    "# training data\n",
    "X = {\n",
    "\"normal\": data[\"X\"][\"train\"][data[\"y\"][\"train\"] == normal_class],\n",
    "\"anomaly\": data[\"X\"][\"train\"][data[\"y\"][\"train\"] != normal_class],\n",
    "}\n",
    "# y = {\"normal\": [0]*len(X[\"normal\"]), \"anomaly\": [1]*len(X[\"anomaly\"])}"
   ]
  },
  {
   "cell_type": "code",
   "execution_count": 5,
   "metadata": {},
   "outputs": [],
   "source": [
    "# test data\n",
    "X_test = {\n",
    "\"normal\": data[\"X\"][\"test\"][data[\"y\"][\"test\"] == normal_class],\n",
    "\"anomaly\": data[\"X\"][\"test\"][data[\"y\"][\"test\"] != normal_class],\n",
    "}\n",
    "# y_test = {\"normal\": [0]*len(X_test[\"normal\"]), \"anomaly\": [1]*len(X_test[\"anomaly\"])}"
   ]
  },
  {
   "cell_type": "code",
   "execution_count": 6,
   "metadata": {},
   "outputs": [],
   "source": [
    "# reduce size of images for faster training and reduce to 0-1 range\n",
    "strides = (4,4) # (2,2) for 14x14 images; (4,4) for 7x7 images\n",
    "pool_size = (2,2)\n",
    "pool = tf.keras.layers.MaxPooling2D(pool_size=pool_size, strides=strides, padding=\"same\")\n",
    "\n",
    "# normal\n",
    "X_pool_normal = pool(tf.constant(X[\"normal\"].reshape(-1,28,28,1))).numpy().reshape(-1,7,7)/255.0\n",
    "X_pool_normal_test = pool(tf.constant(X_test[\"normal\"].reshape(-1,28,28,1))).numpy().reshape(-1,7,7)/255.0\n",
    "\n",
    "# anomaly\n",
    "X_pool_anomaly = pool(tf.constant(X[\"anomaly\"].reshape(-1,28,28,1))).numpy().reshape(-1,7,7)/255.0\n",
    "X_pool_anomaly_test = pool(tf.constant(X_test[\"anomaly\"].reshape(-1,28,28,1))).numpy().reshape(-1,7,7)/255.0"
   ]
  },
  {
   "cell_type": "code",
   "execution_count": 7,
   "metadata": {},
   "outputs": [],
   "source": [
    "# rearagne pixels in zig-zag order (from https://arxiv.org/pdf/1605.05775.pdf)\n",
    "\n",
    "def zigzag_order(data):\n",
    "    data_zigzag = []\n",
    "    for x in data:\n",
    "        image = []\n",
    "        for i in x:\n",
    "            image.extend(i)\n",
    "        data_zigzag.append(image)\n",
    "    return np.asarray(data_zigzag)"
   ]
  },
  {
   "cell_type": "code",
   "execution_count": 8,
   "metadata": {},
   "outputs": [],
   "source": [
    "train_normal = zigzag_order(X_pool_normal)\n",
    "test_normal = zigzag_order(X_pool_normal_test)\n",
    "\n",
    "train_anomaly = zigzag_order(X_pool_anomaly)\n",
    "test_anomaly = zigzag_order(X_pool_anomaly_test)"
   ]
  },
  {
   "cell_type": "code",
   "execution_count": 9,
   "metadata": {},
   "outputs": [],
   "source": [
    "# take train_size samples from normal class for training\n",
    "train_size = 1024\n",
    "\n",
    "indices = list(range(len(train_normal)))\n",
    "np.random.shuffle(indices)\n",
    "\n",
    "indices = indices[:train_size]\n",
    "train_normal = np.take(train_normal, indices, axis=0)"
   ]
  },
  {
   "cell_type": "markdown",
   "metadata": {},
   "source": [
    "### Training setup\n",
    "- direct gradient descent\n",
    "- optax optimizer\n",
    "- shape_method = 'even'"
   ]
  },
  {
   "cell_type": "code",
   "execution_count": 10,
   "metadata": {},
   "outputs": [],
   "source": [
    "# define model parameters\n",
    "L = 49\n",
    "#initializer = gramschmidt_init('normal', scale=1e-1)\n",
    "initializer = identity_init('bond', 1e-1)\n",
    "key = jax.random.key(42)\n",
    "shape_method = 'noteven'\n",
    "bond_dim = 10\n",
    "phys_dim = (2, 2)\n",
    "spacing = 10"
   ]
  },
  {
   "cell_type": "code",
   "execution_count": 11,
   "metadata": {},
   "outputs": [],
   "source": [
    "model = SMPO_initialize(L=L,\n",
    "                        initializer=initializer,\n",
    "                        key=key,\n",
    "                        shape_method=shape_method,\n",
    "                        spacing=spacing,\n",
    "                        bond_dim=bond_dim,\n",
    "                        phys_dim=phys_dim,\n",
    "                        cyclic=False)"
   ]
  },
  {
   "cell_type": "code",
   "execution_count": 12,
   "metadata": {},
   "outputs": [],
   "source": [
    "# new = model.copy_model()"
   ]
  },
  {
   "cell_type": "code",
   "execution_count": 13,
   "metadata": {},
   "outputs": [],
   "source": [
    "# model.strategy.prehook(model, (0,1))"
   ]
  },
  {
   "cell_type": "code",
   "execution_count": 14,
   "metadata": {},
   "outputs": [
    {
     "data": {
      "text/html": [
       "<samp style='font-size: 12px;'><details><summary><b style=\"color: #d4d138;\">SpacedMatrixProductOperator</b>(tensors=49, indices=102, L=49, max_bond=10)</summary><samp style='font-size: 12px;'><details><summary><b style=\"color: #e55471;\">Tensor</b>(shape=(<b style=\"color: #828fdd;\">2</b>, <b style=\"color: #828fdd;\">2</b>, <b style=\"color: #828fdd;\">2</b>), inds=[<b style=\"color: #42cec1;\">bond_0</b>, <b style=\"color: #b1dc61;\">k0</b>, <b style=\"color: #e06fe0;\">b0</b>], tags={<b style=\"color: #d2b137;\">I0</b>}),</summary>backend=<b style=\"color: #5198e5;\">jax</b>, dtype=<b style=\"color: #75d2c6;\">float64</b>, data=Array([[[ 0.57327907,  0.60466574],\n",
       "        [-0.15879632,  0.06383685]],\n",
       "\n",
       "       [[-0.08667817,  0.08567744],\n",
       "        [ 0.56569844,  0.50905144]]], dtype=float64)</details></samp><samp style='font-size: 12px;'><details><summary><b style=\"color: #e55471;\">Tensor</b>(shape=(<b style=\"color: #828fdd;\">2</b>, <b style=\"color: #80d749;\">4</b>, <b style=\"color: #828fdd;\">2</b>), inds=[<b style=\"color: #42cec1;\">bond_0</b>, <b style=\"color: #e382e3;\">bond_1</b>, <b style=\"color: #8aa5db;\">k1</b>], tags={<b style=\"color: #d19b78;\">I1</b>}),</summary>backend=<b style=\"color: #5198e5;\">jax</b>, dtype=<b style=\"color: #75d2c6;\">float64</b>, data=Array([[[ 4.92799097e-01,  6.18084518e-01],\n",
       "        [-1.28628417e-01,  5.84758078e-02],\n",
       "        [-4.61296335e-03,  1.35244577e-02],\n",
       "        [ 1.07458207e-01,  8.91502605e-02]],\n",
       "\n",
       "       [[ 1.04775883e-01, -6.08087912e-05],\n",
       "        [ 7.40278671e-01,  5.33378504e-01],\n",
       "        [-1.93721675e-02, -2.86072807e-02],\n",
       "        [ 1.07659103e-01, -5.98150511e-02]]], dtype=float64)</details></samp><samp style='font-size: 12px;'><details><summary><b style=\"color: #e55471;\">Tensor</b>(shape=(<b style=\"color: #80d749;\">4</b>, <b style=\"color: #39acd6;\">8</b>, <b style=\"color: #828fdd;\">2</b>), inds=[<b style=\"color: #e382e3;\">bond_1</b>, <b style=\"color: #aa6ccd;\">bond_2</b>, <b style=\"color: #df546d;\">k2</b>], tags={<b style=\"color: #dd5dd7;\">I2</b>}),</summary>backend=<b style=\"color: #5198e5;\">jax</b>, dtype=<b style=\"color: #75d2c6;\">float64</b>, data=Array([[[ 0.77826713,  0.57359004],\n",
       "        [ 0.18760505,  0.02566552],\n",
       "        [-0.05595953, -0.0153207 ],\n",
       "        [-0.01618775, -0.05416431],\n",
       "        [ 0.06340043,  0.10910462],\n",
       "        [ 0.00373797,  0.01848532],\n",
       "        [ 0.09751962, -0.01029882],\n",
       "        [ 0.0275162 ,  0.01481586]],\n",
       "\n",
       "       [[ 0.11914594, -0.07465483],\n",
       "        [ 0.57265945,  0.64018988],\n",
       "        [ 0.05567547,  0.03045789],\n",
       "        [-0.0978812 , -0.02801454],\n",
       "        [-0.03915297,  0.03412129],\n",
       "        [-0.03574878,  0.04810636],\n",
       "        [-0.06313396,  0.01551371],\n",
       "        [ 0.04300341, -0.07432693]],\n",
       "\n",
       "       [[-0.00723564, -0.0352147 ],\n",
       "        [-0.00082295, -0.18564411],\n",
       "        [ 0.63011806,  0.48566422],\n",
       "        [ 0.01992959, -0.10339897],\n",
       "        [-0.00207526,  0.06473511],\n",
       "        [-0.07481714, -0.05762648],\n",
       "        [-0.00968885, -0.03038644],\n",
       "        [-0.08327663, -0.00646723]],\n",
       "\n",
       "       [[-0.06580359, -0.04862925],\n",
       "        [ 0.05407393,  0.0037924 ],\n",
       "        [ 0.02666012, -0.09833305],\n",
       "        [ 0.48871972,  0.62477933],\n",
       "        [-0.05645453,  0.04462391],\n",
       "        [-0.07557255,  0.0035443 ],\n",
       "        [-0.02228122,  0.04204   ],\n",
       "        [ 0.03586793, -0.0135602 ]]], dtype=float64)</details></samp><samp style='font-size: 12px;'><details><summary><b style=\"color: #e55471;\">Tensor</b>(shape=(<b style=\"color: #39acd6;\">8</b>, <b style=\"color: #31d651;\">10</b>, <b style=\"color: #828fdd;\">2</b>), inds=[<b style=\"color: #aa6ccd;\">bond_2</b>, <b style=\"color: #4fd685;\">bond_3</b>, <b style=\"color: #4c7be1;\">k3</b>], tags={<b style=\"color: #dd65d9;\">I3</b>}),</summary>backend=<b style=\"color: #5198e5;\">jax</b>, dtype=<b style=\"color: #75d2c6;\">float64</b>, data=...</details></samp><samp style='font-size: 12px;'><details><summary><b style=\"color: #e55471;\">Tensor</b>(shape=(<b style=\"color: #31d651;\">10</b>, <b style=\"color: #31d651;\">10</b>, <b style=\"color: #828fdd;\">2</b>), inds=[<b style=\"color: #4fd685;\">bond_3</b>, <b style=\"color: #8dd9c9;\">bond_4</b>, <b style=\"color: #462edc;\">k4</b>], tags={<b style=\"color: #998ad1;\">I4</b>}),</summary>backend=<b style=\"color: #5198e5;\">jax</b>, dtype=<b style=\"color: #75d2c6;\">float64</b>, data=...</details></samp><samp style='font-size: 12px;'><details><summary><b style=\"color: #e55471;\">Tensor</b>(shape=(<b style=\"color: #31d651;\">10</b>, <b style=\"color: #31d651;\">10</b>, <b style=\"color: #828fdd;\">2</b>), inds=[<b style=\"color: #8dd9c9;\">bond_4</b>, <b style=\"color: #43dcca;\">bond_5</b>, <b style=\"color: #85dfdf;\">k5</b>], tags={<b style=\"color: #97dddc;\">I5</b>}),</summary>backend=<b style=\"color: #5198e5;\">jax</b>, dtype=<b style=\"color: #75d2c6;\">float64</b>, data=...</details></samp><samp style='font-size: 12px;'><details><summary><b style=\"color: #e55471;\">Tensor</b>(shape=(<b style=\"color: #31d651;\">10</b>, <b style=\"color: #31d651;\">10</b>, <b style=\"color: #828fdd;\">2</b>), inds=[<b style=\"color: #43dcca;\">bond_5</b>, <b style=\"color: #a5d145;\">bond_6</b>, <b style=\"color: #2cb7d3;\">k6</b>], tags={<b style=\"color: #b2de5f;\">I6</b>}),</summary>backend=<b style=\"color: #5198e5;\">jax</b>, dtype=<b style=\"color: #75d2c6;\">float64</b>, data=...</details></samp><samp style='font-size: 12px;'><details><summary><b style=\"color: #e55471;\">Tensor</b>(shape=(<b style=\"color: #31d651;\">10</b>, <b style=\"color: #31d651;\">10</b>, <b style=\"color: #828fdd;\">2</b>), inds=[<b style=\"color: #a5d145;\">bond_6</b>, <b style=\"color: #6bd97a;\">bond_7</b>, <b style=\"color: #53e08f;\">k7</b>], tags={<b style=\"color: #5582d6;\">I7</b>}),</summary>backend=<b style=\"color: #5198e5;\">jax</b>, dtype=<b style=\"color: #75d2c6;\">float64</b>, data=...</details></samp><samp style='font-size: 12px;'><details><summary><b style=\"color: #e55471;\">Tensor</b>(shape=(<b style=\"color: #31d651;\">10</b>, <b style=\"color: #31d651;\">10</b>, <b style=\"color: #828fdd;\">2</b>), inds=[<b style=\"color: #6bd97a;\">bond_7</b>, <b style=\"color: #d853b9;\">bond_8</b>, <b style=\"color: #7bcd9f;\">k8</b>], tags={<b style=\"color: #8a3dd8;\">I8</b>}),</summary>backend=<b style=\"color: #5198e5;\">jax</b>, dtype=<b style=\"color: #75d2c6;\">float64</b>, data=...</details></samp><samp style='font-size: 12px;'><details><summary><b style=\"color: #e55471;\">Tensor</b>(shape=(<b style=\"color: #31d651;\">10</b>, <b style=\"color: #31d651;\">10</b>, <b style=\"color: #828fdd;\">2</b>), inds=[<b style=\"color: #d853b9;\">bond_8</b>, <b style=\"color: #dd3c86;\">bond_9</b>, <b style=\"color: #cc70c1;\">k9</b>], tags={<b style=\"color: #d74979;\">I9</b>}),</summary>backend=<b style=\"color: #5198e5;\">jax</b>, dtype=<b style=\"color: #75d2c6;\">float64</b>, data=...</details></samp><samp style='font-size: 12px;'><details><summary><b style=\"color: #e55471;\">Tensor</b>(shape=(<b style=\"color: #31d651;\">10</b>, <b style=\"color: #31d651;\">10</b>, <b style=\"color: #828fdd;\">2</b>, <b style=\"color: #828fdd;\">2</b>), inds=[<b style=\"color: #dd3c86;\">bond_9</b>, <b style=\"color: #e589e5;\">bond_10</b>, <b style=\"color: #3fcf58;\">k10</b>, <b style=\"color: #8ee491;\">b10</b>], tags={<b style=\"color: #4e2bd3;\">I10</b>}),</summary>backend=<b style=\"color: #5198e5;\">jax</b>, dtype=<b style=\"color: #75d2c6;\">float64</b>, data=...</details></samp><samp style='font-size: 12px;'><details><summary><b style=\"color: #e55471;\">Tensor</b>(shape=(<b style=\"color: #31d651;\">10</b>, <b style=\"color: #31d651;\">10</b>, <b style=\"color: #828fdd;\">2</b>), inds=[<b style=\"color: #e589e5;\">bond_10</b>, <b style=\"color: #dc8eb1;\">bond_11</b>, <b style=\"color: #6d6fcf;\">k11</b>], tags={<b style=\"color: #cc3988;\">I11</b>}),</summary>backend=<b style=\"color: #5198e5;\">jax</b>, dtype=<b style=\"color: #75d2c6;\">float64</b>, data=...</details></samp><samp style='font-size: 12px;'><details><summary><b style=\"color: #e55471;\">Tensor</b>(shape=(<b style=\"color: #31d651;\">10</b>, <b style=\"color: #31d651;\">10</b>, <b style=\"color: #828fdd;\">2</b>), inds=[<b style=\"color: #dc8eb1;\">bond_11</b>, <b style=\"color: #98cf7e;\">bond_12</b>, <b style=\"color: #70c0d6;\">k12</b>], tags={<b style=\"color: #30a0d2;\">I12</b>}),</summary>backend=<b style=\"color: #5198e5;\">jax</b>, dtype=<b style=\"color: #75d2c6;\">float64</b>, data=...</details></samp><samp style='font-size: 12px;'><details><summary><b style=\"color: #e55471;\">Tensor</b>(shape=(<b style=\"color: #31d651;\">10</b>, <b style=\"color: #31d651;\">10</b>, <b style=\"color: #828fdd;\">2</b>), inds=[<b style=\"color: #98cf7e;\">bond_12</b>, <b style=\"color: #52d07e;\">bond_13</b>, <b style=\"color: #67b9df;\">k13</b>], tags={<b style=\"color: #59aad4;\">I13</b>}),</summary>backend=<b style=\"color: #5198e5;\">jax</b>, dtype=<b style=\"color: #75d2c6;\">float64</b>, data=...</details></samp><samp style='font-size: 12px;'><details><summary><b style=\"color: #e55471;\">Tensor</b>(shape=(<b style=\"color: #31d651;\">10</b>, <b style=\"color: #31d651;\">10</b>, <b style=\"color: #828fdd;\">2</b>), inds=[<b style=\"color: #52d07e;\">bond_13</b>, <b style=\"color: #72d362;\">bond_14</b>, <b style=\"color: #d58d74;\">k14</b>], tags={<b style=\"color: #e4d13e;\">I14</b>}),</summary>backend=<b style=\"color: #5198e5;\">jax</b>, dtype=<b style=\"color: #75d2c6;\">float64</b>, data=...</details></samp><samp style='font-size: 12px;'><details><summary><b style=\"color: #e55471;\">Tensor</b>(shape=(<b style=\"color: #31d651;\">10</b>, <b style=\"color: #31d651;\">10</b>, <b style=\"color: #828fdd;\">2</b>), inds=[<b style=\"color: #72d362;\">bond_14</b>, <b style=\"color: #3fd749;\">bond_15</b>, <b style=\"color: #ce6937;\">k15</b>], tags={<b style=\"color: #d54955;\">I15</b>}),</summary>backend=<b style=\"color: #5198e5;\">jax</b>, dtype=<b style=\"color: #75d2c6;\">float64</b>, data=...</details></samp><samp style='font-size: 12px;'><details><summary><b style=\"color: #e55471;\">Tensor</b>(shape=(<b style=\"color: #31d651;\">10</b>, <b style=\"color: #31d651;\">10</b>, <b style=\"color: #828fdd;\">2</b>), inds=[<b style=\"color: #3fd749;\">bond_15</b>, <b style=\"color: #84ce82;\">bond_16</b>, <b style=\"color: #dc53a2;\">k16</b>], tags={<b style=\"color: #d8af59;\">I16</b>}),</summary>backend=<b style=\"color: #5198e5;\">jax</b>, dtype=<b style=\"color: #75d2c6;\">float64</b>, data=...</details></samp><samp style='font-size: 12px;'><details><summary><b style=\"color: #e55471;\">Tensor</b>(shape=(<b style=\"color: #31d651;\">10</b>, <b style=\"color: #31d651;\">10</b>, <b style=\"color: #828fdd;\">2</b>), inds=[<b style=\"color: #84ce82;\">bond_16</b>, <b style=\"color: #8d5ecd;\">bond_17</b>, <b style=\"color: #d0b441;\">k17</b>], tags={<b style=\"color: #84a0d7;\">I17</b>}),</summary>backend=<b style=\"color: #5198e5;\">jax</b>, dtype=<b style=\"color: #75d2c6;\">float64</b>, data=...</details></samp><samp style='font-size: 12px;'><details><summary><b style=\"color: #e55471;\">Tensor</b>(shape=(<b style=\"color: #31d651;\">10</b>, <b style=\"color: #31d651;\">10</b>, <b style=\"color: #828fdd;\">2</b>), inds=[<b style=\"color: #8d5ecd;\">bond_17</b>, <b style=\"color: #d560c1;\">bond_18</b>, <b style=\"color: #da44a5;\">k18</b>], tags={<b style=\"color: #d360b6;\">I18</b>}),</summary>backend=<b style=\"color: #5198e5;\">jax</b>, dtype=<b style=\"color: #75d2c6;\">float64</b>, data=...</details></samp><samp style='font-size: 12px;'><details><summary><b style=\"color: #e55471;\">Tensor</b>(shape=(<b style=\"color: #31d651;\">10</b>, <b style=\"color: #31d651;\">10</b>, <b style=\"color: #828fdd;\">2</b>), inds=[<b style=\"color: #d560c1;\">bond_18</b>, <b style=\"color: #ce82d1;\">bond_19</b>, <b style=\"color: #48d040;\">k19</b>], tags={<b style=\"color: #90e14b;\">I19</b>}),</summary>backend=<b style=\"color: #5198e5;\">jax</b>, dtype=<b style=\"color: #75d2c6;\">float64</b>, data=...</details></samp><samp style='font-size: 12px;'><details><summary><b style=\"color: #e55471;\">Tensor</b>(shape=(<b style=\"color: #31d651;\">10</b>, <b style=\"color: #31d651;\">10</b>, <b style=\"color: #828fdd;\">2</b>, <b style=\"color: #828fdd;\">2</b>), inds=[<b style=\"color: #ce82d1;\">bond_19</b>, <b style=\"color: #dd8ee1;\">bond_20</b>, <b style=\"color: #62ccba;\">k20</b>, <b style=\"color: #93ccd3;\">b20</b>], tags={<b style=\"color: #86cd64;\">I20</b>}),</summary>backend=<b style=\"color: #5198e5;\">jax</b>, dtype=<b style=\"color: #75d2c6;\">float64</b>, data=...</details></samp><samp style='font-size: 12px;'><details><summary><b style=\"color: #e55471;\">Tensor</b>(shape=(<b style=\"color: #31d651;\">10</b>, <b style=\"color: #31d651;\">10</b>, <b style=\"color: #828fdd;\">2</b>), inds=[<b style=\"color: #dd8ee1;\">bond_20</b>, <b style=\"color: #a8cf77;\">bond_21</b>, <b style=\"color: #65d8a6;\">k21</b>], tags={<b style=\"color: #d769c1;\">I21</b>}),</summary>backend=<b style=\"color: #5198e5;\">jax</b>, dtype=<b style=\"color: #75d2c6;\">float64</b>, data=...</details></samp><samp style='font-size: 12px;'><details><summary><b style=\"color: #e55471;\">Tensor</b>(shape=(<b style=\"color: #31d651;\">10</b>, <b style=\"color: #31d651;\">10</b>, <b style=\"color: #828fdd;\">2</b>), inds=[<b style=\"color: #a8cf77;\">bond_21</b>, <b style=\"color: #ce36c0;\">bond_22</b>, <b style=\"color: #d73fb7;\">k22</b>], tags={<b style=\"color: #58cd8e;\">I22</b>}),</summary>backend=<b style=\"color: #5198e5;\">jax</b>, dtype=<b style=\"color: #75d2c6;\">float64</b>, data=...</details></samp><samp style='font-size: 12px;'><details><summary><b style=\"color: #e55471;\">Tensor</b>(shape=(<b style=\"color: #31d651;\">10</b>, <b style=\"color: #31d651;\">10</b>, <b style=\"color: #828fdd;\">2</b>), inds=[<b style=\"color: #ce36c0;\">bond_22</b>, <b style=\"color: #38e0b4;\">bond_23</b>, <b style=\"color: #d3513f;\">k23</b>], tags={<b style=\"color: #3ed5df;\">I23</b>}),</summary>backend=<b style=\"color: #5198e5;\">jax</b>, dtype=<b style=\"color: #75d2c6;\">float64</b>, data=...</details></samp><samp style='font-size: 12px;'><details><summary><b style=\"color: #e55471;\">Tensor</b>(shape=(<b style=\"color: #31d651;\">10</b>, <b style=\"color: #31d651;\">10</b>, <b style=\"color: #828fdd;\">2</b>), inds=[<b style=\"color: #38e0b4;\">bond_23</b>, <b style=\"color: #5be593;\">bond_24</b>, <b style=\"color: #d48f61;\">k24</b>], tags={<b style=\"color: #84a6d5;\">I24</b>}),</summary>backend=<b style=\"color: #5198e5;\">jax</b>, dtype=<b style=\"color: #75d2c6;\">float64</b>, data=...</details></samp><samp style='font-size: 12px;'><details><summary><b style=\"color: #e55471;\">Tensor</b>(shape=(<b style=\"color: #31d651;\">10</b>, <b style=\"color: #31d651;\">10</b>, <b style=\"color: #828fdd;\">2</b>), inds=[<b style=\"color: #5be593;\">bond_24</b>, <b style=\"color: #868cd2;\">bond_25</b>, <b style=\"color: #2e48da;\">k25</b>], tags={<b style=\"color: #e270b0;\">I25</b>}),</summary>backend=<b style=\"color: #5198e5;\">jax</b>, dtype=<b style=\"color: #75d2c6;\">float64</b>, data=...</details></samp><samp style='font-size: 12px;'><details><summary><b style=\"color: #e55471;\">Tensor</b>(shape=(<b style=\"color: #31d651;\">10</b>, <b style=\"color: #31d651;\">10</b>, <b style=\"color: #828fdd;\">2</b>), inds=[<b style=\"color: #868cd2;\">bond_25</b>, <b style=\"color: #dfb14f;\">bond_26</b>, <b style=\"color: #d177ac;\">k26</b>], tags={<b style=\"color: #e4ce85;\">I26</b>}),</summary>backend=<b style=\"color: #5198e5;\">jax</b>, dtype=<b style=\"color: #75d2c6;\">float64</b>, data=...</details></samp><samp style='font-size: 12px;'><details><summary><b style=\"color: #e55471;\">Tensor</b>(shape=(<b style=\"color: #31d651;\">10</b>, <b style=\"color: #31d651;\">10</b>, <b style=\"color: #828fdd;\">2</b>), inds=[<b style=\"color: #dfb14f;\">bond_26</b>, <b style=\"color: #d24483;\">bond_27</b>, <b style=\"color: #9771d5;\">k27</b>], tags={<b style=\"color: #2fe42e;\">I27</b>}),</summary>backend=<b style=\"color: #5198e5;\">jax</b>, dtype=<b style=\"color: #75d2c6;\">float64</b>, data=...</details></samp><samp style='font-size: 12px;'><details><summary><b style=\"color: #e55471;\">Tensor</b>(shape=(<b style=\"color: #31d651;\">10</b>, <b style=\"color: #31d651;\">10</b>, <b style=\"color: #828fdd;\">2</b>), inds=[<b style=\"color: #d24483;\">bond_27</b>, <b style=\"color: #4f83db;\">bond_28</b>, <b style=\"color: #4fcbce;\">k28</b>], tags={<b style=\"color: #77ce63;\">I28</b>}),</summary>backend=<b style=\"color: #5198e5;\">jax</b>, dtype=<b style=\"color: #75d2c6;\">float64</b>, data=...</details></samp><samp style='font-size: 12px;'><details><summary><b style=\"color: #e55471;\">Tensor</b>(shape=(<b style=\"color: #31d651;\">10</b>, <b style=\"color: #31d651;\">10</b>, <b style=\"color: #828fdd;\">2</b>), inds=[<b style=\"color: #4f83db;\">bond_28</b>, <b style=\"color: #d18ad2;\">bond_29</b>, <b style=\"color: #6e59d4;\">k29</b>], tags={<b style=\"color: #d29e8c;\">I29</b>}),</summary>backend=<b style=\"color: #5198e5;\">jax</b>, dtype=<b style=\"color: #75d2c6;\">float64</b>, data=...</details></samp><samp style='font-size: 12px;'><details><summary><b style=\"color: #e55471;\">Tensor</b>(shape=(<b style=\"color: #31d651;\">10</b>, <b style=\"color: #31d651;\">10</b>, <b style=\"color: #828fdd;\">2</b>, <b style=\"color: #828fdd;\">2</b>), inds=[<b style=\"color: #d18ad2;\">bond_29</b>, <b style=\"color: #c5e06e;\">bond_30</b>, <b style=\"color: #2fce30;\">k30</b>, <b style=\"color: #dc70b3;\">b30</b>], tags={<b style=\"color: #cecf73;\">I30</b>}),</summary>backend=<b style=\"color: #5198e5;\">jax</b>, dtype=<b style=\"color: #75d2c6;\">float64</b>, data=...</details></samp><samp style='font-size: 12px;'><details><summary><b style=\"color: #e55471;\">Tensor</b>(shape=(<b style=\"color: #31d651;\">10</b>, <b style=\"color: #31d651;\">10</b>, <b style=\"color: #828fdd;\">2</b>), inds=[<b style=\"color: #c5e06e;\">bond_30</b>, <b style=\"color: #d68c77;\">bond_31</b>, <b style=\"color: #92ce66;\">k31</b>], tags={<b style=\"color: #4ae341;\">I31</b>}),</summary>backend=<b style=\"color: #5198e5;\">jax</b>, dtype=<b style=\"color: #75d2c6;\">float64</b>, data=...</details></samp><samp style='font-size: 12px;'><details><summary><b style=\"color: #e55471;\">Tensor</b>(shape=(<b style=\"color: #31d651;\">10</b>, <b style=\"color: #31d651;\">10</b>, <b style=\"color: #828fdd;\">2</b>), inds=[<b style=\"color: #d68c77;\">bond_31</b>, <b style=\"color: #9ad286;\">bond_32</b>, <b style=\"color: #63df5a;\">k32</b>], tags={<b style=\"color: #73d949;\">I32</b>}),</summary>backend=<b style=\"color: #5198e5;\">jax</b>, dtype=<b style=\"color: #75d2c6;\">float64</b>, data=...</details></samp><samp style='font-size: 12px;'><details><summary><b style=\"color: #e55471;\">Tensor</b>(shape=(<b style=\"color: #31d651;\">10</b>, <b style=\"color: #31d651;\">10</b>, <b style=\"color: #828fdd;\">2</b>), inds=[<b style=\"color: #9ad286;\">bond_32</b>, <b style=\"color: #e0ab5d;\">bond_33</b>, <b style=\"color: #3861d4;\">k33</b>], tags={<b style=\"color: #54cf6a;\">I33</b>}),</summary>backend=<b style=\"color: #5198e5;\">jax</b>, dtype=<b style=\"color: #75d2c6;\">float64</b>, data=...</details></samp><samp style='font-size: 12px;'><details><summary><b style=\"color: #e55471;\">Tensor</b>(shape=(<b style=\"color: #31d651;\">10</b>, <b style=\"color: #31d651;\">10</b>, <b style=\"color: #828fdd;\">2</b>), inds=[<b style=\"color: #e0ab5d;\">bond_33</b>, <b style=\"color: #a8df96;\">bond_34</b>, <b style=\"color: #9bafe4;\">k34</b>], tags={<b style=\"color: #d6c363;\">I34</b>}),</summary>backend=<b style=\"color: #5198e5;\">jax</b>, dtype=<b style=\"color: #75d2c6;\">float64</b>, data=...</details></samp><samp style='font-size: 12px;'><details><summary><b style=\"color: #e55471;\">Tensor</b>(shape=(<b style=\"color: #31d651;\">10</b>, <b style=\"color: #31d651;\">10</b>, <b style=\"color: #828fdd;\">2</b>), inds=[<b style=\"color: #a8df96;\">bond_34</b>, <b style=\"color: #76e465;\">bond_35</b>, <b style=\"color: #dc42bd;\">k35</b>], tags={<b style=\"color: #73ddd4;\">I35</b>}),</summary>backend=<b style=\"color: #5198e5;\">jax</b>, dtype=<b style=\"color: #75d2c6;\">float64</b>, data=...</details></samp><samp style='font-size: 12px;'><details><summary><b style=\"color: #e55471;\">Tensor</b>(shape=(<b style=\"color: #31d651;\">10</b>, <b style=\"color: #31d651;\">10</b>, <b style=\"color: #828fdd;\">2</b>), inds=[<b style=\"color: #76e465;\">bond_35</b>, <b style=\"color: #8bd3c7;\">bond_36</b>, <b style=\"color: #d6dc56;\">k36</b>], tags={<b style=\"color: #73de36;\">I36</b>}),</summary>backend=<b style=\"color: #5198e5;\">jax</b>, dtype=<b style=\"color: #75d2c6;\">float64</b>, data=...</details></samp><samp style='font-size: 12px;'><details><summary><b style=\"color: #e55471;\">Tensor</b>(shape=(<b style=\"color: #31d651;\">10</b>, <b style=\"color: #31d651;\">10</b>, <b style=\"color: #828fdd;\">2</b>), inds=[<b style=\"color: #8bd3c7;\">bond_36</b>, <b style=\"color: #36de48;\">bond_37</b>, <b style=\"color: #7fd946;\">k37</b>], tags={<b style=\"color: #98ce58;\">I37</b>}),</summary>backend=<b style=\"color: #5198e5;\">jax</b>, dtype=<b style=\"color: #75d2c6;\">float64</b>, data=...</details></samp><samp style='font-size: 12px;'><details><summary><b style=\"color: #e55471;\">Tensor</b>(shape=(<b style=\"color: #31d651;\">10</b>, <b style=\"color: #31d651;\">10</b>, <b style=\"color: #828fdd;\">2</b>), inds=[<b style=\"color: #36de48;\">bond_37</b>, <b style=\"color: #34cecc;\">bond_38</b>, <b style=\"color: #a4d96c;\">k38</b>], tags={<b style=\"color: #86b8d8;\">I38</b>}),</summary>backend=<b style=\"color: #5198e5;\">jax</b>, dtype=<b style=\"color: #75d2c6;\">float64</b>, data=...</details></samp><samp style='font-size: 12px;'><details><summary><b style=\"color: #e55471;\">Tensor</b>(shape=(<b style=\"color: #31d651;\">10</b>, <b style=\"color: #31d651;\">10</b>, <b style=\"color: #828fdd;\">2</b>), inds=[<b style=\"color: #34cecc;\">bond_38</b>, <b style=\"color: #c647d9;\">bond_39</b>, <b style=\"color: #da8d91;\">k39</b>], tags={<b style=\"color: #5dde82;\">I39</b>}),</summary>backend=<b style=\"color: #5198e5;\">jax</b>, dtype=<b style=\"color: #75d2c6;\">float64</b>, data=...</details></samp><samp style='font-size: 12px;'><details><summary><b style=\"color: #e55471;\">Tensor</b>(shape=(<b style=\"color: #31d651;\">10</b>, <b style=\"color: #31d651;\">10</b>, <b style=\"color: #828fdd;\">2</b>, <b style=\"color: #828fdd;\">2</b>), inds=[<b style=\"color: #c647d9;\">bond_39</b>, <b style=\"color: #d4ce33;\">bond_40</b>, <b style=\"color: #3acf3d;\">k40</b>, <b style=\"color: #d49569;\">b40</b>], tags={<b style=\"color: #d79954;\">I40</b>}),</summary>backend=<b style=\"color: #5198e5;\">jax</b>, dtype=<b style=\"color: #75d2c6;\">float64</b>, data=...</details></samp><samp style='font-size: 12px;'><details><summary><b style=\"color: #e55471;\">Tensor</b>(shape=(<b style=\"color: #31d651;\">10</b>, <b style=\"color: #31d651;\">10</b>, <b style=\"color: #828fdd;\">2</b>), inds=[<b style=\"color: #d4ce33;\">bond_40</b>, <b style=\"color: #cdc87f;\">bond_41</b>, <b style=\"color: #9b45e0;\">k41</b>], tags={<b style=\"color: #db7fb4;\">I41</b>}),</summary>backend=<b style=\"color: #5198e5;\">jax</b>, dtype=<b style=\"color: #75d2c6;\">float64</b>, data=...</details></samp><samp style='font-size: 12px;'><details><summary><b style=\"color: #e55471;\">Tensor</b>(shape=(<b style=\"color: #31d651;\">10</b>, <b style=\"color: #31d651;\">10</b>, <b style=\"color: #828fdd;\">2</b>), inds=[<b style=\"color: #cdc87f;\">bond_41</b>, <b style=\"color: #e4cd76;\">bond_42</b>, <b style=\"color: #91d0ae;\">k42</b>], tags={<b style=\"color: #3ad9cb;\">I42</b>}),</summary>backend=<b style=\"color: #5198e5;\">jax</b>, dtype=<b style=\"color: #75d2c6;\">float64</b>, data=...</details></samp><samp style='font-size: 12px;'><details><summary><b style=\"color: #e55471;\">Tensor</b>(shape=(<b style=\"color: #31d651;\">10</b>, <b style=\"color: #31d651;\">10</b>, <b style=\"color: #828fdd;\">2</b>), inds=[<b style=\"color: #e4cd76;\">bond_42</b>, <b style=\"color: #d1cf6b;\">bond_43</b>, <b style=\"color: #7dcd72;\">k43</b>], tags={<b style=\"color: #82d291;\">I43</b>}),</summary>backend=<b style=\"color: #5198e5;\">jax</b>, dtype=<b style=\"color: #75d2c6;\">float64</b>, data=...</details></samp><samp style='font-size: 12px;'><details><summary><b style=\"color: #e55471;\">Tensor</b>(shape=(<b style=\"color: #31d651;\">10</b>, <b style=\"color: #31d651;\">10</b>, <b style=\"color: #828fdd;\">2</b>), inds=[<b style=\"color: #d1cf6b;\">bond_43</b>, <b style=\"color: #48d8cf;\">bond_44</b>, <b style=\"color: #bed37e;\">k44</b>], tags={<b style=\"color: #5adfc6;\">I44</b>}),</summary>backend=<b style=\"color: #5198e5;\">jax</b>, dtype=<b style=\"color: #75d2c6;\">float64</b>, data=...</details></samp><samp style='font-size: 12px;'><details><summary><b style=\"color: #e55471;\">Tensor</b>(shape=(<b style=\"color: #31d651;\">10</b>, <b style=\"color: #39acd6;\">8</b>, <b style=\"color: #828fdd;\">2</b>), inds=[<b style=\"color: #48d8cf;\">bond_44</b>, <b style=\"color: #74df7d;\">bond_45</b>, <b style=\"color: #cebb8f;\">k45</b>], tags={<b style=\"color: #5cdf8f;\">I45</b>}),</summary>backend=<b style=\"color: #5198e5;\">jax</b>, dtype=<b style=\"color: #75d2c6;\">float64</b>, data=...</details></samp><samp style='font-size: 12px;'><details><summary><b style=\"color: #e55471;\">Tensor</b>(shape=(<b style=\"color: #39acd6;\">8</b>, <b style=\"color: #80d749;\">4</b>, <b style=\"color: #828fdd;\">2</b>), inds=[<b style=\"color: #74df7d;\">bond_45</b>, <b style=\"color: #9baee5;\">bond_46</b>, <b style=\"color: #e1d385;\">k46</b>], tags={<b style=\"color: #c5e396;\">I46</b>}),</summary>backend=<b style=\"color: #5198e5;\">jax</b>, dtype=<b style=\"color: #75d2c6;\">float64</b>, data=Array([[[ 0.77826713,  0.57359004],\n",
       "        [ 0.18760505,  0.02566552],\n",
       "        [-0.05595953, -0.0153207 ],\n",
       "        [-0.01618775, -0.05416431]],\n",
       "\n",
       "       [[ 0.06340043,  0.10910462],\n",
       "        [ 0.62128922,  0.63603658],\n",
       "        [ 0.09751962, -0.01029882],\n",
       "        [ 0.0275162 ,  0.01481586]],\n",
       "\n",
       "       [[ 0.11914594, -0.07465483],\n",
       "        [-0.0448918 ,  0.02263863],\n",
       "        [ 0.67322672,  0.64800914],\n",
       "        [-0.0978812 , -0.02801454]],\n",
       "\n",
       "       [[-0.03915297,  0.03412129],\n",
       "        [-0.03574878,  0.04810636],\n",
       "        [-0.06313396,  0.01551371],\n",
       "        [ 0.66055466,  0.54322432]],\n",
       "\n",
       "       [[-0.00723564, -0.0352147 ],\n",
       "        [-0.00082295, -0.18564411],\n",
       "        [ 0.01256681, -0.13188703],\n",
       "        [ 0.01992959, -0.10339897]],\n",
       "\n",
       "       [[-0.00207526,  0.06473511],\n",
       "        [-0.07481714, -0.05762648],\n",
       "        [-0.00968885, -0.03038644],\n",
       "        [-0.08327663, -0.00646723]],\n",
       "\n",
       "       [[-0.06580359, -0.04862925],\n",
       "        [ 0.05407393,  0.0037924 ],\n",
       "        [ 0.02666012, -0.09833305],\n",
       "        [-0.12883153,  0.00722808]],\n",
       "\n",
       "       [[-0.05645453,  0.04462391],\n",
       "        [-0.07557255,  0.0035443 ],\n",
       "        [-0.02228122,  0.04204   ],\n",
       "        [ 0.03586793, -0.0135602 ]]], dtype=float64)</details></samp><samp style='font-size: 12px;'><details><summary><b style=\"color: #e55471;\">Tensor</b>(shape=(<b style=\"color: #80d749;\">4</b>, <b style=\"color: #828fdd;\">2</b>, <b style=\"color: #828fdd;\">2</b>), inds=[<b style=\"color: #9baee5;\">bond_46</b>, <b style=\"color: #d8c780;\">bond_47</b>, <b style=\"color: #8c63e5;\">k47</b>], tags={<b style=\"color: #4152d9;\">I47</b>}),</summary>backend=<b style=\"color: #5198e5;\">jax</b>, dtype=<b style=\"color: #75d2c6;\">float64</b>, data=Array([[[ 4.92799097e-01,  6.18084518e-01],\n",
       "        [-1.28628417e-01,  5.84758078e-02]],\n",
       "\n",
       "       [[-4.61296335e-03,  1.35244577e-02],\n",
       "        [ 7.25009458e-01,  7.06701512e-01]],\n",
       "\n",
       "       [[ 1.04775883e-01, -6.08087912e-05],\n",
       "        [ 1.22727420e-01, -8.41727472e-02]],\n",
       "\n",
       "       [[-1.93721675e-02, -2.86072807e-02],\n",
       "        [ 1.07659103e-01, -5.98150511e-02]]], dtype=float64)</details></samp><samp style='font-size: 12px;'><details><summary><b style=\"color: #e55471;\">Tensor</b>(shape=(<b style=\"color: #828fdd;\">2</b>, <b style=\"color: #828fdd;\">2</b>), inds=[<b style=\"color: #d8c780;\">bond_47</b>, <b style=\"color: #cd6e86;\">k48</b>], tags={<b style=\"color: #a95fdc;\">I48</b>}),</summary>backend=<b style=\"color: #5198e5;\">jax</b>, dtype=<b style=\"color: #75d2c6;\">float64</b>, data=Array([[ 0.6477881 ,  0.63312945],\n",
       "       [-0.03874455, -0.04338932]], dtype=float64)</details></samp></details></samp>"
      ],
      "text/plain": [
       "SpacedMatrixProductOperator(tensors=49, indices=102, L=49, max_bond=10)"
      ]
     },
     "execution_count": 14,
     "metadata": {},
     "output_type": "execute_result"
    }
   ],
   "source": [
    "model"
   ]
  },
  {
   "cell_type": "code",
   "execution_count": 15,
   "metadata": {},
   "outputs": [],
   "source": [
    "# define training parameters\n",
    "optimizer = optax.adam\n",
    "strategy = 'sweeps'\n",
    "loss = error_logquad\n",
    "train_type = 'unsupervised'\n",
    "embedding = original_inverse(p=2)\n",
    "#embedding = trigonometric()\n",
    "learning_rate = 1e-3\n",
    "\n",
    "model.configure(optimizer=optimizer, strategy=strategy, loss=loss, train_type=train_type, learning_rate=learning_rate)"
   ]
  },
  {
   "cell_type": "code",
   "execution_count": 16,
   "metadata": {},
   "outputs": [],
   "source": [
    "epochs = 5\n",
    "batch_size = 64"
   ]
  },
  {
   "cell_type": "code",
   "execution_count": 17,
   "metadata": {},
   "outputs": [
    {
     "name": "stderr",
     "output_type": "stream",
     "text": [
      "epoch: 100%|██████████| 5/5 [07:02<00:00, 84.55s/it, loss=3753.552997016227, val_loss=None] \n"
     ]
    }
   ],
   "source": [
    "history = model.train(train_normal,\n",
    "            epochs=epochs,\n",
    "            batch_size=batch_size,\n",
    "            embedding = embedding,\n",
    "            normalize=True,\n",
    "            dtype=jnp.float64,\n",
    "            cache=False)\n"
   ]
  },
  {
   "cell_type": "code",
   "execution_count": 18,
   "metadata": {},
   "outputs": [
    {
     "data": {
      "image/png": "[encoded data removed]",
      "text/plain": [
       "<Figure size 640x480 with 1 Axes>"
      ]
     },
     "metadata": {},
     "output_type": "display_data"
    }
   ],
   "source": [
    "# plot loss\n",
    "plt.plot(range(len(history['loss'])), history['loss'], label='train')\n",
    "plt.legend()\n",
    "plt.show()"
   ]
  },
  {
   "cell_type": "markdown",
   "metadata": {},
   "source": [
    "### Evaluate"
   ]
  },
  {
   "cell_type": "code",
   "execution_count": 19,
   "metadata": {},
   "outputs": [],
   "source": [
    "from sklearn.metrics import roc_curve, auc"
   ]
  },
  {
   "cell_type": "code",
   "execution_count": 20,
   "metadata": {},
   "outputs": [
    {
     "name": "stdout",
     "output_type": "stream",
     "text": [
      "(64,)\n",
      "(64,)\n",
      "(64,)\n",
      "(64,)\n",
      "(64,)\n",
      "(64,)\n",
      "(64,)\n",
      "(64,)\n",
      "(64,)\n",
      "(64,)\n",
      "(64,)\n",
      "(64,)\n",
      "(64,)\n",
      "(64,)\n",
      "(64,)\n",
      "(64,)\n",
      "(64,)\n",
      "(64,)\n",
      "(64,)\n",
      "(64,)\n",
      "(64,)\n",
      "(64,)\n",
      "(64,)\n",
      "(64,)\n",
      "(64,)\n",
      "(64,)\n",
      "(64,)\n",
      "(64,)\n",
      "(64,)\n",
      "(64,)\n",
      "(64,)\n",
      "(64,)\n",
      "(64,)\n",
      "(64,)\n",
      "(64,)\n",
      "(64,)\n",
      "(64,)\n",
      "(64,)\n",
      "(64,)\n",
      "(64,)\n",
      "(64,)\n",
      "(64,)\n",
      "(64,)\n",
      "(64,)\n",
      "(64,)\n",
      "(64,)\n",
      "(64,)\n",
      "(64,)\n",
      "(64,)\n",
      "(64,)\n",
      "(64,)\n",
      "(64,)\n",
      "(64,)\n",
      "(64,)\n",
      "(64,)\n",
      "(64,)\n",
      "(64,)\n",
      "(64,)\n",
      "(64,)\n",
      "(64,)\n",
      "(64,)\n",
      "(64,)\n",
      "(64,)\n",
      "(64,)\n",
      "(64,)\n",
      "(64,)\n",
      "(64,)\n",
      "(64,)\n",
      "(64,)\n",
      "(64,)\n",
      "(64,)\n",
      "(64,)\n",
      "(64,)\n",
      "(64,)\n",
      "(64,)\n",
      "(64,)\n",
      "(64,)\n",
      "(64,)\n",
      "(64,)\n",
      "(64,)\n",
      "(64,)\n",
      "(64,)\n",
      "(64,)\n",
      "(64,)\n",
      "(64,)\n",
      "(64,)\n",
      "(64,)\n",
      "(64,)\n",
      "(64,)\n",
      "(64,)\n",
      "(64,)\n",
      "(64,)\n",
      "(64,)\n",
      "(64,)\n",
      "(64,)\n",
      "(64,)\n"
     ]
    },
    {
     "ename": "TypeError",
     "evalue": "iteration over a 0-d array",
     "output_type": "error",
     "traceback": [
      "\u001b[0;31m---------------------------------------------------------------------------\u001b[0m",
      "\u001b[0;31mTypeError\u001b[0m                                 Traceback (most recent call last)",
      "Cell \u001b[0;32mIn[20], line 4\u001b[0m\n\u001b[1;32m      1\u001b[0m normal_score \u001b[38;5;241m=\u001b[39m []\n\u001b[1;32m      2\u001b[0m anomaly_score \u001b[38;5;241m=\u001b[39m []\n\u001b[0;32m----> 4\u001b[0m anomaly_score \u001b[38;5;241m=\u001b[39m \u001b[43mmodel\u001b[49m\u001b[38;5;241;43m.\u001b[39;49m\u001b[43mevaluate\u001b[49m\u001b[43m(\u001b[49m\u001b[43mtest_anomaly\u001b[49m\u001b[43m,\u001b[49m\u001b[43m \u001b[49m\u001b[43mevaluate_type\u001b[49m\u001b[38;5;241;43m=\u001b[39;49m\u001b[38;5;124;43m'\u001b[39;49m\u001b[38;5;124;43munsupervised\u001b[39;49m\u001b[38;5;124;43m'\u001b[39;49m\u001b[43m,\u001b[49m\u001b[43m \u001b[49m\u001b[43mreturn_list\u001b[49m\u001b[38;5;241;43m=\u001b[39;49m\u001b[38;5;28;43;01mTrue\u001b[39;49;00m\u001b[43m,\u001b[49m\u001b[43m \u001b[49m\u001b[43mdtype\u001b[49m\u001b[38;5;241;43m=\u001b[39;49m\u001b[43mjnp\u001b[49m\u001b[38;5;241;43m.\u001b[39;49m\u001b[43mfloat64\u001b[49m\u001b[43m)\u001b[49m\n\u001b[1;32m      5\u001b[0m normal_score \u001b[38;5;241m=\u001b[39m model\u001b[38;5;241m.\u001b[39mevaluate(test_normal, evaluate_type\u001b[38;5;241m=\u001b[39m\u001b[38;5;124m'\u001b[39m\u001b[38;5;124munsupervised\u001b[39m\u001b[38;5;124m'\u001b[39m, return_list\u001b[38;5;241m=\u001b[39m\u001b[38;5;28;01mTrue\u001b[39;00m, dtype\u001b[38;5;241m=\u001b[39mjnp\u001b[38;5;241m.\u001b[39mfloat64)\n",
      "File \u001b[0;32m~/WorkDirs/tn4ml/tn4ml/models/model.py:691\u001b[0m, in \u001b[0;36mModel.evaluate\u001b[0;34m(self, inputs, targets, embedding, evaluate_type, return_list, dtype)\u001b[0m\n\u001b[1;32m    689\u001b[0m     loss_value \u001b[38;5;241m+\u001b[39m\u001b[38;5;241m=\u001b[39m np\u001b[38;5;241m.\u001b[39mmean(loss_curr)\n\u001b[1;32m    690\u001b[0m     \u001b[38;5;28;01mif\u001b[39;00m return_list:\n\u001b[0;32m--> 691\u001b[0m         \u001b[43mloss\u001b[49m\u001b[38;5;241;43m.\u001b[39;49m\u001b[43mextend\u001b[49m\u001b[43m(\u001b[49m\u001b[43mloss_curr\u001b[49m\u001b[43m)\u001b[49m\n\u001b[1;32m    693\u001b[0m \u001b[38;5;28;01mif\u001b[39;00m return_list:\n\u001b[1;32m    694\u001b[0m     \u001b[38;5;28;01mreturn\u001b[39;00m np\u001b[38;5;241m.\u001b[39masarray(loss)\n",
      "File \u001b[0;32m~/miniforge3/envs/workspace/lib/python3.10/site-packages/jax/_src/array.py:340\u001b[0m, in \u001b[0;36mArrayImpl.__iter__\u001b[0;34m(self)\u001b[0m\n\u001b[1;32m    338\u001b[0m \u001b[38;5;28;01mdef\u001b[39;00m \u001b[38;5;21m__iter__\u001b[39m(\u001b[38;5;28mself\u001b[39m):\n\u001b[1;32m    339\u001b[0m   \u001b[38;5;28;01mif\u001b[39;00m \u001b[38;5;28mself\u001b[39m\u001b[38;5;241m.\u001b[39mndim \u001b[38;5;241m==\u001b[39m \u001b[38;5;241m0\u001b[39m:\n\u001b[0;32m--> 340\u001b[0m     \u001b[38;5;28;01mraise\u001b[39;00m \u001b[38;5;167;01mTypeError\u001b[39;00m(\u001b[38;5;124m\"\u001b[39m\u001b[38;5;124miteration over a 0-d array\u001b[39m\u001b[38;5;124m\"\u001b[39m)  \u001b[38;5;66;03m# same as numpy error\u001b[39;00m\n\u001b[1;32m    341\u001b[0m   \u001b[38;5;28;01melse\u001b[39;00m:\n\u001b[1;32m    342\u001b[0m     \u001b[38;5;28;01massert\u001b[39;00m \u001b[38;5;28mself\u001b[39m\u001b[38;5;241m.\u001b[39mis_fully_replicated \u001b[38;5;129;01mor\u001b[39;00m \u001b[38;5;28mself\u001b[39m\u001b[38;5;241m.\u001b[39mis_fully_addressable\n",
      "\u001b[0;31mTypeError\u001b[0m: iteration over a 0-d array"
     ]
    }
   ],
   "source": [
    "normal_score = []\n",
    "anomaly_score = []\n",
    "\n",
    "anomaly_score = model.evaluate(test_anomaly, evaluate_type='unsupervised', return_list=True, dtype=jnp.float64)\n",
    "normal_score = model.evaluate(test_normal, evaluate_type='unsupervised', return_list=True, dtype=jnp.float64)"
   ]
  },
  {
   "cell_type": "code",
   "execution_count": null,
   "metadata": {},
   "outputs": [],
   "source": [
    "def get_roc_data(normal, anomaly):\n",
    "    true_val = np.concatenate((np.ones(anomaly.shape[0]), np.zeros(normal.shape[0])))\n",
    "    pred_val = np.concatenate((anomaly, normal))\n",
    "    fpr_loss, tpr_loss, threshold_loss = roc_curve(true_val, pred_val)\n",
    "    return fpr_loss, tpr_loss"
   ]
  },
  {
   "cell_type": "code",
   "execution_count": null,
   "metadata": {},
   "outputs": [],
   "source": [
    "fpr, tpr = get_roc_data(normal_score, anomaly_score)\n",
    "auc_value = auc(fpr, tpr)"
   ]
  },
  {
   "cell_type": "markdown",
   "metadata": {},
   "source": [
    "### Plot anomaly scores and ROC curve"
   ]
  },
  {
   "cell_type": "code",
   "execution_count": null,
   "metadata": {},
   "outputs": [],
   "source": [
    "import matplotlib.pyplot as plt"
   ]
  },
  {
   "cell_type": "code",
   "execution_count": null,
   "metadata": {},
   "outputs": [],
   "source": [
    "plt.figure()\n",
    "plt.hist(anomaly_score, bins=100, histtype='step', label='anomaly')\n",
    "plt.hist(normal_score, bins=100, histtype='step', label='normal')\n",
    "plt.title('Anomaly score distribution')\n",
    "plt.legend()\n",
    "plt.text(0.5, -0.1, f'AUC Value: {auc_value}', ha='center', transform=plt.gca().transAxes)\n",
    "plt.legend()\n",
    "plt.show()"
   ]
  },
  {
   "cell_type": "code",
   "execution_count": null,
   "metadata": {},
   "outputs": [],
   "source": [
    "# Plot ROC curve\n",
    "plt.figure()\n",
    "plt.plot(fpr, tpr, label='ROC curve (area = %0.2f)' % auc_value)\n",
    "plt.plot([0, 1], [0, 1], 'k--')  # Random guess line\n",
    "plt.xlim([0.0, 1.0])\n",
    "plt.ylim([0.0, 1.05])\n",
    "plt.xlabel('False Positive Rate')\n",
    "plt.ylabel('True Positive Rate')\n",
    "plt.title('ROC curve')\n",
    "plt.legend(loc=\"lower right\")\n",
    "plt.show()\n"
   ]
  }
 ],
 "metadata": {
  "kernelspec": {
   "display_name": "workspace",
   "language": "python",
   "name": "python3"
  },
  "language_info": {
   "codemirror_mode": {
    "name": "ipython",
    "version": 3
   },
   "file_extension": ".py",
   "mimetype": "text/x-python",
   "name": "python",
   "nbconvert_exporter": "python",
   "pygments_lexer": "ipython3",
   "version": "3.10.13"
  }
 },
 "nbformat": 4,
 "nbformat_minor": 2
}
