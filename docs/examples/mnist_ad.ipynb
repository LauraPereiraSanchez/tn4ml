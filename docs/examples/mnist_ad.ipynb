{
 "cells": [
  {
   "cell_type": "markdown",
   "metadata": {},
   "source": [
    "# MNIST Anomaly Detection\n",
    "\n",
    "Baseline from: https://arxiv.org/pdf/2006.02516.pdf\n",
    "\n",
    "- 14x14, [$0-1$] range, pixels flattened (dont exploit inherent locality)\n",
    "- embedding = trigonometric (p=2)\n",
    "- combined loss: error_logquad + reg_log_norm_relu(alpha=0.4)"
   ]
  },
  {
   "cell_type": "markdown",
   "metadata": {},
   "source": [
    "**Imports**"
   ]
  },
  {
   "cell_type": "code",
   "execution_count": 1,
   "metadata": {
    "nbsphinx": {
     "title": "# Anomaly detection MNIST - SMPO"
    }
   },
   "outputs": [
    {
     "name": "stderr",
     "output_type": "stream",
     "text": [
      "OMP: Info #276: omp_set_nested routine deprecated, please use omp_set_max_active_levels instead.\n",
      "/Users/emapuljak/miniforge3/envs/workspace/lib/python3.10/site-packages/cotengra/hyperoptimizers/hyper.py:34: UserWarning: Couldn't import `kahypar` - skipping from default hyper optimizer and using basic `labels` method instead.\n",
      "  warnings.warn(\n"
     ]
    }
   ],
   "source": [
    "import jax.numpy as jnp\n",
    "import quimb.tensor as qtn\n",
    "import tensorflow as tf\n",
    "from tensorflow.keras.datasets import mnist\n",
    "from jax.nn.initializers import *\n",
    "from flax.training.early_stopping import EarlyStopping\n",
    "import matplotlib.pyplot as plt\n",
    "\n",
    "from tn4ml.initializers import *\n",
    "from tn4ml.models.smpo import *\n",
    "from tn4ml.models.model import *\n",
    "from tn4ml.embeddings import *\n",
    "from tn4ml.metrics import *"
   ]
  },
  {
   "cell_type": "code",
   "execution_count": 2,
   "metadata": {},
   "outputs": [],
   "source": [
    "jax.config.update(\"jax_enable_x64\", True)"
   ]
  },
  {
   "cell_type": "markdown",
   "metadata": {},
   "source": [
    "**Load dataset**"
   ]
  },
  {
   "cell_type": "code",
   "execution_count": 3,
   "metadata": {},
   "outputs": [],
   "source": [
    "train, test = mnist.load_data()\n",
    "data = {\"X\": dict(train=train[0], test=test[0]), \"y\": dict(train=train[1], test=test[1])}"
   ]
  },
  {
   "cell_type": "code",
   "execution_count": 4,
   "metadata": {},
   "outputs": [],
   "source": [
    "normal_class = 0"
   ]
  },
  {
   "cell_type": "code",
   "execution_count": 5,
   "metadata": {},
   "outputs": [],
   "source": [
    "# training data\n",
    "X = {\n",
    "\"normal\": data[\"X\"][\"train\"][data[\"y\"][\"train\"] == normal_class]/255.0,\n",
    "\"anomaly\": data[\"X\"][\"train\"][data[\"y\"][\"train\"] != normal_class]/255.0,\n",
    "}\n",
    "# y = {\"normal\": [0]*len(X[\"normal\"]), \"anomaly\": [1]*len(X[\"anomaly\"])}"
   ]
  },
  {
   "cell_type": "code",
   "execution_count": 6,
   "metadata": {},
   "outputs": [],
   "source": [
    "# test data\n",
    "X_test = {\n",
    "\"normal\": data[\"X\"][\"test\"][data[\"y\"][\"test\"] == normal_class]/255.0,\n",
    "\"anomaly\": data[\"X\"][\"test\"][data[\"y\"][\"test\"] != normal_class]/255.0,\n",
    "}\n",
    "# y_test = {\"normal\": [0]*len(X_test[\"normal\"]), \"anomaly\": [1]*len(X_test[\"anomaly\"])}"
   ]
  },
  {
   "cell_type": "code",
   "execution_count": 7,
   "metadata": {},
   "outputs": [],
   "source": [
    "# Function to resize images to 14x14\n",
    "def resize_images(images):\n",
    "    resized_images = tf.image.resize(images, [14, 14], method=tf.image.ResizeMethod.AREA)\n",
    "    return resized_images.numpy()"
   ]
  },
  {
   "cell_type": "code",
   "execution_count": 8,
   "metadata": {},
   "outputs": [],
   "source": [
    "X_resized = {\n",
    "    \"normal\": resize_images(np.expand_dims(X[\"normal\"], axis=-1)),\n",
    "    \"anomaly\": resize_images(np.expand_dims(X[\"anomaly\"], axis=-1)),\n",
    "}\n",
    "\n",
    "X_test_resized = {\n",
    "    \"normal\": resize_images(np.expand_dims(X_test[\"normal\"], axis=-1)),\n",
    "    \"anomaly\": resize_images(np.expand_dims(X_test[\"anomaly\"], axis=-1)),\n",
    "}"
   ]
  },
  {
   "cell_type": "code",
   "execution_count": 9,
   "metadata": {},
   "outputs": [
    {
     "data": {
      "text/plain": [
       "(5923, 14, 14, 1)"
      ]
     },
     "execution_count": 9,
     "metadata": {},
     "output_type": "execute_result"
    }
   ],
   "source": [
    "X_resized['normal'].shape"
   ]
  },
  {
   "cell_type": "code",
   "execution_count": 10,
   "metadata": {},
   "outputs": [],
   "source": [
    "# reduce size of images for faster training and reduce to 0-1 range\n",
    "# strides = (4, 4) # (2,2) for 14x14 images; (4,4) for 7x7 images\n",
    "# pool_size = (2, 2)\n",
    "# pool = tf.keras.layers.MaxPooling2D(pool_size=pool_size, strides=strides, padding=\"same\")\n",
    "\n",
    "# # normal\n",
    "# X_pool_normal = pool(tf.constant(X[\"normal\"].reshape(-1,28,28,1))).numpy().reshape(-1, 7, 7)/255.0\n",
    "# X_pool_normal_test = pool(tf.constant(X_test[\"normal\"].reshape(-1,28,28,1))).numpy().reshape(-1, 7, 7)/255.0\n",
    "\n",
    "# # anomaly\n",
    "# X_pool_anomaly = pool(tf.constant(X[\"anomaly\"].reshape(-1,28,28,1))).numpy().reshape(-1, 7, 7)/255.0\n",
    "# X_pool_anomaly_test = pool(tf.constant(X_test[\"anomaly\"].reshape(-1,28,28,1))).numpy().reshape(-1, 7, 7)/255.0"
   ]
  },
  {
   "cell_type": "markdown",
   "metadata": {},
   "source": [
    "### Rearrange pixels in zig-zag order\n",
    "- (from https://arxiv.org/pdf/1605.05775.pdf)\n",
    "\n",
    "<img src=\"images/zig-zag.png\" alt=\"MPS Params\" width=\"150\" height=\"150\">"
   ]
  },
  {
   "cell_type": "code",
   "execution_count": 11,
   "metadata": {},
   "outputs": [],
   "source": [
    "def zigzag_order(data):\n",
    "    data = np.squeeze(data)\n",
    "    data_zigzag = []\n",
    "    for x in data:\n",
    "        image = []\n",
    "        for i in x:\n",
    "            image.extend(i)\n",
    "        data_zigzag.append(image)\n",
    "    return np.asarray(data_zigzag)"
   ]
  },
  {
   "cell_type": "code",
   "execution_count": 12,
   "metadata": {},
   "outputs": [],
   "source": [
    "zigzag = True"
   ]
  },
  {
   "cell_type": "code",
   "execution_count": 13,
   "metadata": {},
   "outputs": [],
   "source": [
    "if zigzag:\n",
    "    train_normal = zigzag_order(X_resized[\"normal\"])\n",
    "    test_normal = zigzag_order(X_test_resized[\"normal\"])\n",
    "\n",
    "    train_anomaly = zigzag_order(X_resized[\"anomaly\"])\n",
    "    test_anomaly = zigzag_order(X_test_resized[\"anomaly\"])\n",
    "else:\n",
    "    train_normal = X_resized['normal'].reshape(-1, X_resized['normal'].shape[1]*X_resized['normal'].shape[2])\n",
    "    test_normal = X_test_resized['normal'].reshape(-1, X_test_resized['normal'].shape[1]*X_test_resized['normal'].shape[2])\n",
    "\n",
    "    train_anomaly = X_resized['anomaly'].reshape(-1, X_resized['anomaly'].shape[1]*X_resized['anomaly'].shape[2])\n",
    "    test_anomaly = X_test_resized['anomaly'].reshape(-1, X_test_resized['anomaly'].shape[1]*X_test_resized['anomaly'].shape[2])"
   ]
  },
  {
   "cell_type": "code",
   "execution_count": 14,
   "metadata": {},
   "outputs": [],
   "source": [
    "# take train_size samples from normal class for training\n",
    "train_size = 2048\n",
    "\n",
    "indices = list(range(len(train_normal)))\n",
    "np.random.shuffle(indices)\n",
    "\n",
    "indices = indices[:train_size]\n",
    "train_normal = np.take(train_normal, indices, axis=0)"
   ]
  },
  {
   "cell_type": "code",
   "execution_count": 15,
   "metadata": {},
   "outputs": [
    {
     "data": {
      "text/plain": [
       "(2048, 196)"
      ]
     },
     "execution_count": 15,
     "metadata": {},
     "output_type": "execute_result"
    }
   ],
   "source": [
    "train_normal.shape"
   ]
  },
  {
   "cell_type": "markdown",
   "metadata": {},
   "source": [
    "**Training setup** &nbsp;\n",
    "- direct gradient descent"
   ]
  },
  {
   "cell_type": "code",
   "execution_count": 16,
   "metadata": {},
   "outputs": [],
   "source": [
    "# define model parameters\n",
    "L = 14*14\n",
    "initializer = gramschmidt('normal', 1e-2)\n",
    "key = jax.random.key(42)\n",
    "shape_method = 'noteven'\n",
    "bond_dim = 10\n",
    "phys_dim = (2,2)\n",
    "spacing = 8\n",
    "add_identity = False\n",
    "boundary='obc'"
   ]
  },
  {
   "cell_type": "code",
   "execution_count": 17,
   "metadata": {},
   "outputs": [],
   "source": [
    "model = SMPO_initialize(L=L,\n",
    "                        initializer=initializer,\n",
    "                        key=key,\n",
    "                        shape_method=shape_method,\n",
    "                        spacing=spacing,\n",
    "                        bond_dim=bond_dim,\n",
    "                        phys_dim=phys_dim,\n",
    "                        cyclic=False,\n",
    "                        compress=True,\n",
    "                        add_identity=add_identity,\n",
    "                        boundary=boundary)"
   ]
  },
  {
   "cell_type": "code",
   "execution_count": 18,
   "metadata": {},
   "outputs": [],
   "source": [
    "# # Exponential decay of the learning rate.\n",
    "# scheduler = optax.exponential_decay(\n",
    "#     init_value=1e-5,\n",
    "#     transition_steps=1000,\n",
    "#     decay_rate=0.01)\n",
    "\n",
    "# # Combining gradient transforms using `optax.chain`.\n",
    "# gradient_transforms = [\n",
    "#     optax.clip_by_global_norm(1.0),  # Clip by the gradient by the global norm.\n",
    "#     optax.scale_by_adam(),  # Use the updates from adam.\n",
    "#     optax.scale_by_schedule(scheduler),  # Use the learning rate from the scheduler.\n",
    "#     # Scale updates by -1 since optax.apply_updates is additive and we want to descend on the loss.\n",
    "#     optax.scale(-1.0)\n",
    "# ]"
   ]
  },
  {
   "cell_type": "code",
   "execution_count": 19,
   "metadata": {},
   "outputs": [],
   "source": [
    "alpha = 0.4\n",
    "def loss_combined(*args, **kwargs):\n",
    "    error = error_logquad\n",
    "    reg = reg_log_norm_relu\n",
    "    return combined_loss(*args, **kwargs, error=error, reg=lambda P: alpha*reg(P))"
   ]
  },
  {
   "cell_type": "code",
   "execution_count": 20,
   "metadata": {},
   "outputs": [],
   "source": [
    "# define training parameters\n",
    "epochs = 100\n",
    "batch_size = 128\n",
    "optimizer = optax.adam\n",
    "strategy = 'global'\n",
    "loss = loss_combined\n",
    "train_type = 0\n",
    "embedding = trigonometric()\n",
    "learning_rate = 1e-4\n",
    "earlystop = EarlyStopping(min_delta=0, patience=5)\n",
    "\n",
    "model.configure(optimizer=optimizer, strategy=strategy, loss=loss, train_type=train_type, learning_rate=learning_rate)"
   ]
  },
  {
   "cell_type": "code",
   "execution_count": 21,
   "metadata": {},
   "outputs": [
    {
     "name": "stderr",
     "output_type": "stream",
     "text": [
      "epoch:  63%|██████▎   | 63/100 [03:37<02:07,  3.46s/it, loss=3803.1461212524455]"
     ]
    },
    {
     "name": "stdout",
     "output_type": "stream",
     "text": [
      "Met early stopping criteria on training data, breaking at epoch 63\n"
     ]
    },
    {
     "name": "stderr",
     "output_type": "stream",
     "text": [
      "\n"
     ]
    }
   ],
   "source": [
    "history = model.train(train_normal,\n",
    "            epochs=epochs,\n",
    "            batch_size=batch_size,\n",
    "            embedding = embedding,\n",
    "            normalize=True,\n",
    "            earlystop=earlystop,\n",
    "            cache=True, # compiling loss function to use it multiple times\n",
    "            dtype=jnp.float64)"
   ]
  },
  {
   "cell_type": "code",
   "execution_count": 22,
   "metadata": {},
   "outputs": [],
   "source": [
    "# # # Exponential decay of the learning rate.\n",
    "# scheduler = optax.exponential_decay(\n",
    "#     init_value=2e-4,\n",
    "#     transition_steps=1000,\n",
    "#     decay_rate=0.01)\n",
    "\n",
    "# # Combining gradient transforms using `optax.chain`.\n",
    "# gradient_transforms = [\n",
    "#     optax.clip_by_global_norm(1.0),  # Clip by the gradient by the global norm.\n",
    "#     optax.scale_by_adam(),  # Use the updates from adam.\n",
    "#     optax.scale_by_schedule(scheduler),  # Use the learning rate from the scheduler.\n",
    "#     # Scale updates by -1 since optax.apply_updates is additive and we want to descend on the loss.\n",
    "#     optax.scale(-1.0)\n",
    "# ]\n",
    "\n",
    "# model.configure(gradient_transforms=gradient_transforms)"
   ]
  },
  {
   "cell_type": "code",
   "execution_count": 23,
   "metadata": {},
   "outputs": [],
   "source": [
    "# epochs = 280\n",
    "\n",
    "# earlystop = EarlyStopping(min_delta=0, patience=10)"
   ]
  },
  {
   "cell_type": "code",
   "execution_count": 24,
   "metadata": {},
   "outputs": [],
   "source": [
    "# history = model.train(train_normal,\n",
    "#             epochs=epochs,\n",
    "#             batch_size=batch_size,\n",
    "#             embedding = embedding,\n",
    "#             normalize=True,\n",
    "#             cache=True,\n",
    "#             earlystop=earlystop,\n",
    "#             dtype=jnp.float64)"
   ]
  },
  {
   "cell_type": "code",
   "execution_count": 25,
   "metadata": {},
   "outputs": [
    {
     "data": {
      "image/png": "[encoded data removed]",
      "text/plain": [
       "<Figure size 640x480 with 1 Axes>"
      ]
     },
     "metadata": {},
     "output_type": "display_data"
    }
   ],
   "source": [
    "# plot loss\n",
    "plt.plot(range(len(model.history['loss'])), model.history['loss'], label='train')\n",
    "plt.legend()\n",
    "plt.show()"
   ]
  },
  {
   "cell_type": "code",
   "execution_count": 26,
   "metadata": {},
   "outputs": [
    {
     "data": {
      "image/png": "[encoded data removed]",
      "text/plain": [
       "<Figure size 640x480 with 1 Axes>"
      ]
     },
     "metadata": {},
     "output_type": "display_data"
    }
   ],
   "source": [
    "plt.loglog(range(len(model.history['loss'])), model.history['loss'], label='train')\n",
    "plt.legend()\n",
    "plt.show()"
   ]
  },
  {
   "cell_type": "markdown",
   "metadata": {},
   "source": [
    "**Evaluate**"
   ]
  },
  {
   "cell_type": "code",
   "execution_count": 27,
   "metadata": {},
   "outputs": [],
   "source": [
    "from sklearn.metrics import roc_curve, auc"
   ]
  },
  {
   "cell_type": "code",
   "execution_count": 28,
   "metadata": {},
   "outputs": [],
   "source": [
    "indices = list(range(len(test_anomaly)))\n",
    "np.random.shuffle(indices)\n",
    "\n",
    "indices = indices[:len(test_normal)]\n",
    "test_anomaly = np.take(test_anomaly, indices, axis=0)"
   ]
  },
  {
   "cell_type": "code",
   "execution_count": 29,
   "metadata": {},
   "outputs": [],
   "source": [
    "loss = error_logquad\n",
    "\n",
    "anomaly_score = model.evaluate(test_anomaly, evaluate_type=0, return_list=True, dtype=jnp.float64, batch_size=128, embedding=embedding, loss_function = loss)\n",
    "normal_score = model.evaluate(test_normal, evaluate_type=0, return_list=True, dtype=jnp.float64, batch_size=128, embedding=embedding, loss_function = loss)"
   ]
  },
  {
   "cell_type": "markdown",
   "metadata": {},
   "source": [
    "**Plot anomaly scores and ROC curve**"
   ]
  },
  {
   "cell_type": "code",
   "execution_count": 30,
   "metadata": {},
   "outputs": [],
   "source": [
    "def get_roc_data(normal, anomaly):\n",
    "    true_val = np.concatenate((np.ones(anomaly.shape[0]), np.zeros(normal.shape[0])))\n",
    "    pred_val = np.concatenate((anomaly, normal))\n",
    "    fpr_loss, tpr_loss, threshold_loss = roc_curve(true_val, pred_val)\n",
    "    return fpr_loss, tpr_loss"
   ]
  },
  {
   "cell_type": "code",
   "execution_count": 31,
   "metadata": {},
   "outputs": [],
   "source": [
    "fpr, tpr = get_roc_data(normal_score, anomaly_score)\n",
    "auc_value = auc(fpr, tpr)"
   ]
  },
  {
   "cell_type": "code",
   "execution_count": 32,
   "metadata": {},
   "outputs": [
    {
     "data": {
      "image/png": "[encoded data removed]",
      "text/plain": [
       "<Figure size 640x480 with 1 Axes>"
      ]
     },
     "metadata": {},
     "output_type": "display_data"
    }
   ],
   "source": [
    "plt.figure()\n",
    "plt.hist(anomaly_score, bins=100, histtype='step', label='anomaly')\n",
    "plt.hist(normal_score, bins=100, histtype='step', label='normal')\n",
    "plt.title('Anomaly score distribution')\n",
    "plt.legend()\n",
    "plt.text(0.5, -0.1, f'AUC Value: {auc_value}', ha='center', transform=plt.gca().transAxes)\n",
    "plt.legend()\n",
    "plt.show()"
   ]
  },
  {
   "cell_type": "code",
   "execution_count": 33,
   "metadata": {},
   "outputs": [
    {
     "data": {
      "image/png": "[encoded data removed]",
      "text/plain": [
       "<Figure size 640x480 with 1 Axes>"
      ]
     },
     "metadata": {},
     "output_type": "display_data"
    }
   ],
   "source": [
    "# Plot ROC curve\n",
    "plt.figure()\n",
    "plt.plot(fpr, tpr, label='ROC curve (area = %0.4f)' % auc_value)\n",
    "plt.plot([0, 1], [0, 1], 'k--')  # Random guess line\n",
    "plt.xlim([0.0, 1.0])\n",
    "plt.ylim([0.0, 1.05])\n",
    "plt.xlabel('False Positive Rate')\n",
    "plt.ylabel('True Positive Rate')\n",
    "plt.title('ROC curve')\n",
    "plt.legend(loc=\"lower right\")\n",
    "plt.show()\n"
   ]
  }
 ],
 "metadata": {
  "kernelspec": {
   "display_name": "Python 3",
   "language": "python",
   "name": "python3"
  },
  "language_info": {
   "codemirror_mode": {
    "name": "ipython",
    "version": 3
   },
   "file_extension": ".py",
   "mimetype": "text/x-python",
   "name": "python",
   "nbconvert_exporter": "python",
   "pygments_lexer": "ipython3",
   "version": "3.10.13"
  }
 },
 "nbformat": 4,
 "nbformat_minor": 2
}
