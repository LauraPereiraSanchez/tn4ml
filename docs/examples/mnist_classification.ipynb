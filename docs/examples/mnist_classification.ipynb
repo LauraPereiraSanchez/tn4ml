{
 "cells": [
  {
   "cell_type": "markdown",
   "metadata": {},
   "source": [
    "# MNIST classification"
   ]
  },
  {
   "cell_type": "code",
   "execution_count": 1,
   "metadata": {},
   "outputs": [
    {
     "name": "stderr",
     "output_type": "stream",
     "text": [
      "OMP: Info #276: omp_set_nested routine deprecated, please use omp_set_max_active_levels instead.\n"
     ]
    }
   ],
   "source": [
    "import numpy as np\n",
    "import jax.numpy as jnp\n",
    "import jax\n",
    "import tensorflow as tf\n",
    "from tensorflow.keras.datasets import mnist\n",
    "from jax.nn.initializers import *\n",
    "import quimb.tensor as qtn\n",
    "\n",
    "from tn4ml.initializers import *\n",
    "from tn4ml.models.mps import *\n",
    "from tn4ml.models.model import *\n",
    "from tn4ml.embeddings import *\n",
    "from tn4ml.metrics import *\n",
    "from tn4ml.strategy import *\n",
    "from tn4ml.util import *"
   ]
  },
  {
   "cell_type": "code",
   "execution_count": 2,
   "metadata": {},
   "outputs": [],
   "source": [
    "jax.config.update(\"jax_enable_x64\", True)"
   ]
  },
  {
   "cell_type": "markdown",
   "metadata": {},
   "source": [
    "### Load dataset\n",
    "\n",
    "**MNIST images** &rarr; grayscale images\n",
    "- size: 28x28\n",
    "- 0-9 numbers"
   ]
  },
  {
   "cell_type": "code",
   "execution_count": 3,
   "metadata": {},
   "outputs": [],
   "source": [
    "train, test = mnist.load_data()"
   ]
  },
  {
   "cell_type": "code",
   "execution_count": 4,
   "metadata": {},
   "outputs": [],
   "source": [
    "train_labels = train[1]\n",
    "train_images = train[0].reshape(-1, 28, 28)"
   ]
  },
  {
   "cell_type": "code",
   "execution_count": 5,
   "metadata": {},
   "outputs": [
    {
     "data": {
      "image/png": "[encoded data removed]",
      "text/plain": [
       "<Figure size 640x480 with 10 Axes>"
      ]
     },
     "metadata": {},
     "output_type": "display_data"
    }
   ],
   "source": [
    "import matplotlib.pyplot as plt\n",
    "hfont = {'fontname':'Courier New', 'fontsize': 15, 'fontweight': 'bold'}\n",
    "\n",
    "for i in range(10):\n",
    "    plt.subplot(2, 5, i + 1)\n",
    "    # Select the first image of each digit\n",
    "    digit_indices = np.where(train_labels == i)[0]\n",
    "    plt.imshow(train_images[digit_indices[0]], cmap='gray')\n",
    "    plt.title(f'Label: {i}', **hfont)\n",
    "    plt.axis('off')\n",
    "\n",
    "plt.tight_layout()"
   ]
  },
  {
   "cell_type": "code",
   "execution_count": 6,
   "metadata": {},
   "outputs": [],
   "source": [
    "data = {\"X\": dict(train=train[0], test=test[0]), \"y\": dict(train=train[1], test=test[1])}"
   ]
  },
  {
   "cell_type": "markdown",
   "metadata": {},
   "source": [
    "**Reduce size of the image**"
   ]
  },
  {
   "cell_type": "code",
   "execution_count": 7,
   "metadata": {},
   "outputs": [],
   "source": [
    "def resize_images(images):\n",
    "    resized_images = tf.image.resize(images, [14, 14], method=tf.image.ResizeMethod.AREA)\n",
    "    return resized_images.numpy()"
   ]
  },
  {
   "cell_type": "code",
   "execution_count": 8,
   "metadata": {},
   "outputs": [],
   "source": [
    "X_resized = resize_images(data['X']['train'].reshape(-1,28,28,1)).reshape(-1,14,14)/255.0\n",
    "\n",
    "X_test_resized = resize_images(data['X']['test'].reshape(-1,28,28,1)).reshape(-1,14,14)/255.0"
   ]
  },
  {
   "cell_type": "markdown",
   "metadata": {},
   "source": [
    "### Rearagne pixels in zig-zag order\n",
    "- (from https://arxiv.org/pdf/1605.05775.pdf)\n",
    "\n",
    "<img src=\"images/zig-zag.png\" alt=\"MPS Params\" width=\"150\" height=\"150\">"
   ]
  },
  {
   "cell_type": "code",
   "execution_count": 9,
   "metadata": {},
   "outputs": [],
   "source": [
    "def zigzag_order(data):\n",
    "    data_zigzag = []\n",
    "    for x in data:\n",
    "        image = []\n",
    "        for i in x:\n",
    "            image.extend(i)\n",
    "        data_zigzag.append(image)\n",
    "    return np.asarray(data_zigzag)"
   ]
  },
  {
   "cell_type": "code",
   "execution_count": 10,
   "metadata": {},
   "outputs": [],
   "source": [
    "train_data = zigzag_order(X_resized)\n",
    "test_data = zigzag_order(X_test_resized)"
   ]
  },
  {
   "cell_type": "markdown",
   "metadata": {},
   "source": [
    "### Specify number of classes and hot-encode the labels\n",
    "\n",
    "0 &rarr; [1 0 0 0 0 0 0 0 0 0]<br>\n",
    "1 &rarr; [0 1 0 0 0 0 0 0 0 0]<br>\n",
    "<br>\n",
    "....<br>\n",
    "<br>\n",
    "9 &rarr; [0 0 0 0 0 0 0 0 0 1]<br>"
   ]
  },
  {
   "cell_type": "code",
   "execution_count": 11,
   "metadata": {},
   "outputs": [],
   "source": [
    "n_classes = 10"
   ]
  },
  {
   "cell_type": "code",
   "execution_count": 12,
   "metadata": {},
   "outputs": [],
   "source": [
    "y_train = integer_to_one_hot(data['y']['train'], n_classes)\n",
    "y_test = integer_to_one_hot(data['y']['test'], n_classes)"
   ]
  },
  {
   "cell_type": "markdown",
   "metadata": {},
   "source": [
    "**Take samples for training, validation and testing**"
   ]
  },
  {
   "cell_type": "code",
   "execution_count": 13,
   "metadata": {},
   "outputs": [],
   "source": [
    "train_size = 6000\n",
    "test_size = 5000\n",
    "val_perc = 0.2"
   ]
  },
  {
   "cell_type": "code",
   "execution_count": 14,
   "metadata": {},
   "outputs": [],
   "source": [
    "# take val_size samples from normal class for validation (X% of training data)\n",
    "val_size = int(val_perc*train_size)\n",
    "train_size = int(train_size - val_size)"
   ]
  },
  {
   "cell_type": "code",
   "execution_count": 15,
   "metadata": {},
   "outputs": [],
   "source": [
    "indices = list(range(len(train_data)))\n",
    "np.random.shuffle(indices)\n",
    "\n",
    "train_indices = indices[:train_size]\n",
    "val_indices = indices[train_size : train_size+val_size]\n",
    "\n",
    "# train data and validation inputs\n",
    "train_inputs = np.take(train_data, train_indices, axis=0)\n",
    "val_inputs = np.take(train_data, val_indices, axis=0)\n",
    "\n",
    "\n",
    "# train data and validation labels\n",
    "train_targets = np.take(y_train, train_indices, axis=0)\n",
    "val_targets = np.take(y_train, val_indices, axis=0)"
   ]
  },
  {
   "cell_type": "code",
   "execution_count": 16,
   "metadata": {},
   "outputs": [],
   "source": [
    "indices = list(range(len(test_data)))\n",
    "np.random.shuffle(indices)\n",
    "\n",
    "test_indices = indices[:test_size]\n",
    "\n",
    "# test inputs\n",
    "test_inputs = np.take(test_data, test_indices, axis=0)\n",
    "\n",
    "# test labels\n",
    "test_targets = np.take(y_test, test_indices, axis=0)"
   ]
  },
  {
   "cell_type": "markdown",
   "metadata": {},
   "source": [
    "## TN as ML model\n",
    "**Specify parameters and initialize a tensor network**"
   ]
  },
  {
   "cell_type": "markdown",
   "metadata": {},
   "source": [
    "<img src=\"images/mps_params.png\" alt=\"MPS Params\" width=\"500\" height=\"300\">"
   ]
  },
  {
   "cell_type": "code",
   "execution_count": 17,
   "metadata": {},
   "outputs": [],
   "source": [
    "L = 14*14 # number of tensors in the MPS\n",
    "initializer = randn(1e-2) # MPS tensors are initialized with random normal values\n",
    "key = jax.random.key(42)\n",
    "shape_method = 'noteven'\n",
    "bond_dim = 10 # bond dimension of the MPS\n",
    "phys_dim = 3 # when polyomial embedding is used p = 3, when trigonometric embedding is used p = 2\n",
    "class_dim = 10 # number of classes\n",
    "index_class = L//2 if L%2==0 else L//2+1\n",
    "cyclic = False\n",
    "add_identity = True\n",
    "boundary = 'obc' # open boundary conditions"
   ]
  },
  {
   "cell_type": "code",
   "execution_count": 18,
   "metadata": {},
   "outputs": [],
   "source": [
    "model = MPS_initialize(L,\n",
    "                    initializer=initializer,\n",
    "                    key=key,\n",
    "                    shape_method=shape_method,\n",
    "                    bond_dim=bond_dim,\n",
    "                    phys_dim=phys_dim,\n",
    "                    cyclic=False,\n",
    "                    add_identity=add_identity,\n",
    "                    class_dim=class_dim,\n",
    "                    class_index=index_class,\n",
    "                    canonical_center=index_class,\n",
    "                    boundary=boundary,\n",
    "                    dtype=jnp.float64)"
   ]
  },
  {
   "cell_type": "markdown",
   "metadata": {},
   "source": [
    "**Define training parameters**"
   ]
  },
  {
   "cell_type": "code",
   "execution_count": 19,
   "metadata": {},
   "outputs": [],
   "source": [
    "def cross_entropy_loss(*args, **kwargs):\n",
    "    return OptaxWrapper(optax.softmax_cross_entropy)(*args, **kwargs).mean()"
   ]
  },
  {
   "cell_type": "code",
   "execution_count": 20,
   "metadata": {},
   "outputs": [],
   "source": [
    "# training parameters\n",
    "optimizer = optax.adam\n",
    "strategy = 'global' # Global Gradient Descent\n",
    "loss = cross_entropy_loss\n",
    "train_type = 1 # 0 for unsupervised, 1 for supervised\n",
    "embedding = polynomial(degree=2) # if using randn\n",
    "learning_rate = 5e-4"
   ]
  },
  {
   "cell_type": "code",
   "execution_count": 21,
   "metadata": {},
   "outputs": [],
   "source": [
    "model.configure(optimizer=optimizer, strategy=strategy, loss=loss, train_type=train_type, learning_rate=learning_rate)"
   ]
  },
  {
   "cell_type": "code",
   "execution_count": 22,
   "metadata": {},
   "outputs": [],
   "source": [
    "epochs = 150\n",
    "batch_size = 256"
   ]
  },
  {
   "cell_type": "markdown",
   "metadata": {},
   "source": [
    "To obtain loss scalar value, contract:\n",
    "\n",
    "<div style=\"text-align: center;\">\n",
    "    <img src=\"images/mps_models.png\" alt=\"MPS Params\" width=\"150\" height=\"250\">\n",
    "</div>"
   ]
  },
  {
   "cell_type": "code",
   "execution_count": 23,
   "metadata": {},
   "outputs": [
    {
     "name": "stderr",
     "output_type": "stream",
     "text": [
      "epoch:   0%|          | 0/150 [00:00<?, ?it/s]/Users/emapuljak/miniforge3/envs/workspace/lib/python3.10/site-packages/cotengra/hyperoptimizers/hyper.py:54: UserWarning: Couldn't find `optuna`, `baytune (btb)`, `chocolate`, `nevergrad` or `skopt` so will use completely random sampling in place of hyper-optimization.\n",
      "  warnings.warn(\n",
      "epoch: 100%|██████████| 150/150 [33:46<00:00, 13.51s/it, loss=1.4368678180043386, val_loss=1.4954734415559394, val_acc=0.936]\n"
     ]
    }
   ],
   "source": [
    "history = model.train(train_inputs,\n",
    "                    targets = train_targets,\n",
    "                    val_inputs = val_inputs,\n",
    "                    val_targets = val_targets,\n",
    "                    epochs = epochs,\n",
    "                    batch_size = batch_size,\n",
    "                    canonize = (True, index_class),\n",
    "                    embedding = embedding,\n",
    "                    normalize = True,\n",
    "                    cache=False, # for now True not working for classification\n",
    "                    display_val_acc=True,\n",
    "                    val_batch_size=batch_size,\n",
    "                    eval_metric = cross_entropy_loss,\n",
    "                    dtype = jnp.float64)"
   ]
  },
  {
   "cell_type": "markdown",
   "metadata": {},
   "source": [
    "**Save model**"
   ]
  },
  {
   "cell_type": "code",
   "execution_count": 25,
   "metadata": {},
   "outputs": [],
   "source": [
    "model.save('model', 'results/mnist_class', tn=True)"
   ]
  },
  {
   "cell_type": "markdown",
   "metadata": {},
   "source": [
    "### Evaluate\n",
    "\n",
    "Calculate accuracy of the classification"
   ]
  },
  {
   "cell_type": "code",
   "execution_count": 26,
   "metadata": {},
   "outputs": [
    {
     "data": {
      "text/plain": [
       "0.9499198717948718"
      ]
     },
     "execution_count": 26,
     "metadata": {},
     "output_type": "execute_result"
    }
   ],
   "source": [
    "model.accuracy(test_inputs, test_targets, embedding=embedding, batch_size=64)"
   ]
  },
  {
   "cell_type": "markdown",
   "metadata": {},
   "source": [
    "### Retrain with exponential decay"
   ]
  },
  {
   "cell_type": "code",
   "execution_count": 33,
   "metadata": {},
   "outputs": [],
   "source": [
    "# Exponential decay of the learning rate.\n",
    "scheduler = optax.exponential_decay(\n",
    "    init_value=1e-3,\n",
    "    transition_steps=1000,\n",
    "    decay_rate=0.01)\n",
    "\n",
    "# Combining gradient transforms using `optax.chain`.\n",
    "gradient_transforms = [\n",
    "    optax.clip_by_global_norm(1.0),  # Clip by the gradient by the global norm.\n",
    "    optax.scale_by_adam(),  # Use the updates from adam.\n",
    "    optax.scale_by_schedule(scheduler),  # Use the learning rate from the scheduler.\n",
    "    # Scale updates by -1 since optax.apply_updates is additive and we want to descend on the loss.\n",
    "    optax.scale(-1.0)\n",
    "]"
   ]
  },
  {
   "cell_type": "code",
   "execution_count": 39,
   "metadata": {},
   "outputs": [],
   "source": [
    "model.configure(gradient_transforms=gradient_transforms, strategy=strategy, loss=loss, train_type=train_type, learning_rate=learning_rate)"
   ]
  },
  {
   "cell_type": "code",
   "execution_count": 40,
   "metadata": {},
   "outputs": [],
   "source": [
    "epochs = 50\n",
    "batch_size = 256"
   ]
  },
  {
   "cell_type": "code",
   "execution_count": 42,
   "metadata": {},
   "outputs": [],
   "source": [
    "# history = model.train(train_inputs,\n",
    "#                     targets = train_targets,\n",
    "#                     val_inputs = val_inputs,\n",
    "#                     val_targets = val_targets,\n",
    "#                     epochs = epochs,\n",
    "#                     batch_size = batch_size,\n",
    "#                     canonize = (True, index_class),\n",
    "#                     embedding = embedding,\n",
    "#                     normalize = True,\n",
    "#                     cache=False, # for now True not working for classification\n",
    "#                     display_val_acc=True,\n",
    "#                     eval_metric = cross_entropy_loss,\n",
    "#                     val_batch_size=64,\n",
    "#                     dtype = jnp.float64)"
   ]
  },
  {
   "cell_type": "code",
   "execution_count": null,
   "metadata": {},
   "outputs": [],
   "source": [
    "# # plot loss\n",
    "# plt.figure()\n",
    "# plt.plot(range(len(model.history['loss'])), model.history['loss'], label='train')\n",
    "# plt.plot(range(len(model.history['val_loss'])), model.history['val_loss'], label='validation')\n",
    "# plt.legend()\n",
    "# plt.show()"
   ]
  }
 ],
 "metadata": {
  "kernelspec": {
   "display_name": "workspace",
   "language": "python",
   "name": "python3"
  },
  "language_info": {
   "codemirror_mode": {
    "name": "ipython",
    "version": 3
   },
   "file_extension": ".py",
   "mimetype": "text/x-python",
   "name": "python",
   "nbconvert_exporter": "python",
   "pygments_lexer": "ipython3",
   "version": "3.10.13"
  }
 },
 "nbformat": 4,
 "nbformat_minor": 2
}
