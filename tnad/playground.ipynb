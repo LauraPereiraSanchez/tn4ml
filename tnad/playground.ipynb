{
 "cells": [
  {
   "cell_type": "code",
   "execution_count": null,
   "id": "c3377b2f-90ec-4a5e-be6f-e6262d1b85e2",
   "metadata": {},
   "outputs": [],
   "source": [
    "import random\n",
    "import numpy as np\n",
    "import math\n",
    "import quimb.tensor as qtn\n",
    "import smpo"
   ]
  },
  {
   "cell_type": "code",
   "execution_count": null,
   "id": "1206acd0-df14-4c6b-9990-1bba86b70329",
   "metadata": {},
   "outputs": [],
   "source": [
    "mpo = smpo.SpacedMatrixProductOperator.rand(n=8, spacing=1)"
   ]
  },
  {
   "cell_type": "code",
   "execution_count": null,
   "id": "fc36c93a-9a75-4139-967b-c3775c8f3276",
   "metadata": {},
   "outputs": [],
   "source": [
    "mpo.norm()"
   ]
  },
  {
   "cell_type": "markdown",
   "id": "23d21665-ad66-414f-b6ab-00433b4d07aa",
   "metadata": {},
   "source": [
    "#### Check normalization"
   ]
  },
  {
   "cell_type": "code",
   "execution_count": null,
   "id": "96be461f-8065-4992-9a5b-79755be6cb05",
   "metadata": {},
   "outputs": [],
   "source": [
    "mpo.normalize(insert=0)"
   ]
  },
  {
   "cell_type": "code",
   "execution_count": null,
   "id": "6aa30f0a-031b-49b9-a7d7-edd53dbd7e34",
   "metadata": {},
   "outputs": [],
   "source": [
    "mpo.norm()"
   ]
  },
  {
   "cell_type": "markdown",
   "id": "c008bed1-c5ec-4c08-b6ca-eb51606505c5",
   "metadata": {},
   "source": [
    "#### Check trace"
   ]
  },
  {
   "cell_type": "code",
   "execution_count": null,
   "id": "7315b76d-e385-4e6c-afc1-eb5dfc2268e2",
   "metadata": {},
   "outputs": [],
   "source": [
    "mpo.trace(left_inds=mpo.upper_inds, right_inds=mpo.lower_inds)"
   ]
  },
  {
   "cell_type": "markdown",
   "id": "64d67f64-77fc-4144-bacc-c5d1e94da8bb",
   "metadata": {},
   "source": [
    "#### Check canonization"
   ]
  },
  {
   "cell_type": "code",
   "execution_count": null,
   "id": "330828a1-69a9-40ce-a3ea-efaa31aeaa72",
   "metadata": {},
   "outputs": [],
   "source": [
    "mpo.canonize(0)"
   ]
  },
  {
   "cell_type": "code",
   "execution_count": null,
   "id": "efa60a01-62c6-4d3a-9149-4bbbca1f7548",
   "metadata": {},
   "outputs": [],
   "source": [
    "mpo.tensors[0]"
   ]
  },
  {
   "cell_type": "code",
   "execution_count": null,
   "id": "4e30db93-5295-4b3a-950b-fc96c42b9110",
   "metadata": {},
   "outputs": [],
   "source": [
    "mpo.tensors[0].norm()"
   ]
  },
  {
   "cell_type": "code",
   "execution_count": null,
   "id": "cfafdaca-6cb8-4e0d-b28c-8b78da81a0aa",
   "metadata": {},
   "outputs": [],
   "source": [
    "mpo.tensors[1].norm()"
   ]
  },
  {
   "cell_type": "code",
   "execution_count": null,
   "id": "28f3f196-0bea-4d4d-ab80-5b36ffc53302",
   "metadata": {},
   "outputs": [],
   "source": [
    "mpo.tensors[2].norm()"
   ]
  },
  {
   "cell_type": "code",
   "execution_count": null,
   "id": "4e49b351-346c-409d-9ba0-55719034fe74",
   "metadata": {},
   "outputs": [],
   "source": [
    "(mpo.tensors[1] & mpo.tensors[1]) ^ all"
   ]
  },
  {
   "cell_type": "code",
   "execution_count": null,
   "id": "c8596a02-4560-4507-a6bc-c20c27f9e8c1",
   "metadata": {},
   "outputs": [],
   "source": [
    "mpo.norm()"
   ]
  },
  {
   "cell_type": "code",
   "execution_count": null,
   "id": "3da9e10d-cb8f-426c-915e-d9dbf218132c",
   "metadata": {},
   "outputs": [],
   "source": [
    "mpo.canonize((1,4))"
   ]
  },
  {
   "cell_type": "code",
   "execution_count": null,
   "id": "4aba1fa9-abe6-47c9-9eec-832f927ce693",
   "metadata": {},
   "outputs": [],
   "source": [
    "mpo.norm()"
   ]
  },
  {
   "cell_type": "code",
   "execution_count": null,
   "id": "b6e8484f-f139-44fc-9e34-313e6caf27f3",
   "metadata": {},
   "outputs": [],
   "source": [
    "mpo.tensors[0].norm()"
   ]
  },
  {
   "cell_type": "code",
   "execution_count": null,
   "id": "37ce4a04-3ed1-4637-a884-b82afaa20d2f",
   "metadata": {},
   "outputs": [],
   "source": [
    "mpo.calc_current_orthog_center()"
   ]
  },
  {
   "cell_type": "markdown",
   "id": "5321dda2-e396-4e2f-ba48-601e5efc14f7",
   "metadata": {},
   "source": [
    "#### Check MPS&MPO"
   ]
  },
  {
   "cell_type": "code",
   "execution_count": null,
   "id": "22e282c1-a65c-485a-b5b2-4179ad728bf3",
   "metadata": {},
   "outputs": [],
   "source": [
    "#mps = qtn.MPS_rand_state(L=8, bond_dim=4)\n",
    "mps = qtn.MPS_rand_computational_state(L=8) # all 0 and 1s"
   ]
  },
  {
   "cell_type": "code",
   "execution_count": null,
   "id": "ec3d1539-2d1f-4953-b734-fa7318ccbee0",
   "metadata": {},
   "outputs": [],
   "source": [
    "(mpo&mps).draw(show_tags=False, show_inds=True, output_inds=[*mpo.lower_inds, *mpo.upper_inds])"
   ]
  },
  {
   "cell_type": "code",
   "execution_count": null,
   "id": "c286436e-1e94-45ea-bf87-663c33e3de90",
   "metadata": {},
   "outputs": [],
   "source": [
    "((mpo&mps)^mpo.site_tag(0)^mpo.site_tag(1)^mpo.site_tag(2)^mpo.site_tag(3)^mpo.site_tag(4)^mpo.site_tag(5)^mpo.site_tag(6)^mpo.site_tag(7)).draw()"
   ]
  },
  {
   "cell_type": "code",
   "execution_count": null,
   "id": "663c2b55-1b40-4180-a0af-810a74b0062e",
   "metadata": {},
   "outputs": [],
   "source": [
    "mpo_copy = mpo.copy(deep=True)\n",
    "mpo_copy.draw()"
   ]
  },
  {
   "cell_type": "markdown",
   "id": "e9de93e4-90d3-4a13-a40d-aea6af8d6f58",
   "metadata": {},
   "source": [
    "### Optimization"
   ]
  },
  {
   "cell_type": "code",
   "execution_count": null,
   "id": "d75ccda1-107c-43b5-9ce4-94238f4a1183",
   "metadata": {},
   "outputs": [],
   "source": [
    "from tqdm import tqdm\n",
    "import embeddings as e\n",
    "import FeatureMap as fm\n",
    "import itertools"
   ]
  },
  {
   "cell_type": "code",
   "execution_count": null,
   "id": "c3fec7bf-e4f6-42fa-97a5-d4d7da922262",
   "metadata": {},
   "outputs": [],
   "source": [
    "import importlib\n",
    "importlib.reload(smpo)"
   ]
  },
  {
   "cell_type": "code",
   "execution_count": null,
   "id": "1bdd7a63-6f8f-47f4-bce1-43f8553e03e2",
   "metadata": {},
   "outputs": [],
   "source": [
    "def loss_miss(phi, P):\n",
    "    #[phiH, PH, phi, P] = qtn.tensor_network_align(phi.H, P.H, P, phi)\n",
    "    phi_orig_renamed = phi.reindex({f'k0': f'k_0', f'k1': f'k_1', 'k2':'k_2', 'k3':'k_3', 'k4':'k_4', 'k5':'k_5', 'k6':'k_6', 'k7':'k_7'})\n",
    "    P_orig_renamed = P.reindex({f'k0': f'k_0', f'k1': f'k_1', 'k2':'k_2', 'k3':'k_3', 'k4':'k_4', 'k5':'k_5', 'k6':'k_6', 'k7':'k_7'})\n",
    "    return math.pow((math.log((phi_orig_renamed.H&P_orig_renamed.H&P&phi)^all) - 1), 2)"
   ]
  },
  {
   "cell_type": "code",
   "execution_count": null,
   "id": "08f4eb5f-64e0-42c6-938f-72ec8867678b",
   "metadata": {},
   "outputs": [],
   "source": [
    "def gradient_miss(phi, P_orig, P_rem, sites):\n",
    "    index_to_remove = sites[0] if (sites[1] == 0 and sites[1] < sites[0]) or (sites[1] == N_features-1 and sites[1] > sites[0]) else sites[1]\n",
    "    phi_orig_renamed = phi.reindex({f'k0': f'k_0', f'k1': f'k_1', 'k2':'k_2', 'k3':'k_3', 'k4':'k_4', 'k5':'k_5', 'k6':'k_6', 'k7':'k_7'})\n",
    "    P_orig_renamed = P_orig.reindex({'k0': f'k_0', f'k1': f'k_1', 'k2':'k_2', 'k3':'k_3', 'k4':'k_4', 'k5':'k_5', 'k6':'k_6', 'k7':'k_7',\\\n",
    "                                     f'bond_{index_to_remove}': f'bond{index_to_remove}'})\n",
    "    l2_norm = (phi_orig_renamed.H&P_orig_renamed.H&P_orig&phi)^all\n",
    "    \n",
    "    first = (phi.H&P_rem.H&P_orig_renamed&phi_orig_renamed)^all\n",
    "    second = (phi_orig_renamed.H&P_orig_renamed.H&P_rem&phi)^all\n",
    "    \n",
    "    return 2*(math.log(l2_norm) - 1) * (1 / l2_norm) * (first+second)"
   ]
  },
  {
   "cell_type": "code",
   "execution_count": null,
   "id": "1a690b0c-4251-46ef-b830-5e7ae48c3e39",
   "metadata": {},
   "outputs": [],
   "source": [
    "def loss_reg(P, alpha):\n",
    "    return alpha*max(0, math.log((P.H&P)^all))"
   ]
  },
  {
   "cell_type": "code",
   "execution_count": null,
   "id": "8b5b4ce7-f7fb-449c-9b7f-72490125cd0d",
   "metadata": {},
   "outputs": [],
   "source": [
    "def gradient_reg(P_orig, P_rem, alpha, sites):\n",
    "    frob_norm_sq = (P_orig.H&P_orig)^all\n",
    "    index_to_remove = sites[0] if (sites[1] == 0 and sites[1] < sites[0]) or (sites[1] == N_features-1 and sites[1] > sites[0]) else sites[1]\n",
    "    P_rem_renamed = P_rem.reindex({f'bond_{index_to_remove}': f'b_{index_to_remove}'})\n",
    "    return 2*alpha*(1/frob_norm_sq) * (((P_rem_renamed.H&P_orig)^all)&((P_orig.H&P_rem_renamed)^all)^all if frob_norm_sq >= 1 else 0)"
   ]
  },
  {
   "cell_type": "code",
   "execution_count": null,
   "id": "8ee90f7d-e7e3-4f6f-8130-afe78df3ddc9",
   "metadata": {},
   "outputs": [],
   "source": [
    "lamda = 0.5\n",
    "alpha = 0.3 # regularization\n",
    "N_features = 8"
   ]
  },
  {
   "cell_type": "code",
   "execution_count": null,
   "id": "2459fbdc-e573-4f57-8266-3f1a5de2ba5a",
   "metadata": {},
   "outputs": [],
   "source": [
    "batch_size = 100\n",
    "n_epochs = int(10000/batch_size)"
   ]
  },
  {
   "cell_type": "code",
   "execution_count": null,
   "id": "00effb06-dfc4-4117-b34d-04684a13db3b",
   "metadata": {},
   "outputs": [],
   "source": [
    "inputs = np.random.rand(10000, N_features)\n",
    "inputs_batch = np.split(inputs, n_epochs)"
   ]
  },
  {
   "cell_type": "code",
   "execution_count": null,
   "id": "e38634de-46be-496b-b0f9-02c923b1f608",
   "metadata": {},
   "outputs": [],
   "source": [
    "# init P\n",
    "P_orig = smpo.SpacedMatrixProductOperator.rand(n=N_features, spacing=2)"
   ]
  },
  {
   "cell_type": "code",
   "execution_count": null,
   "id": "e5a5e808-6c23-44ec-99ca-f79fdeb9888d",
   "metadata": {},
   "outputs": [],
   "source": [
    "ortog_center = 0\n",
    "P = P_orig.copy(deep=True)\n",
    "P.canonize(ortog_center)"
   ]
  },
  {
   "cell_type": "code",
   "execution_count": null,
   "id": "ed8373a7-1f4f-4f7b-a2a2-24b7cf983f8c",
   "metadata": {},
   "outputs": [],
   "source": [
    "P_orig.draw(show_inds='all', font_size_inner=15, figsize=(15,15))"
   ]
  },
  {
   "cell_type": "code",
   "execution_count": null,
   "id": "cdc23034-ae19-4a2e-b40e-8508b2e28b65",
   "metadata": {},
   "outputs": [],
   "source": [
    "with tqdm(range(n_epochs)) as progressbar:\n",
    "    for it in progressbar:\n",
    "        sweeps = itertools.chain(zip(list(range(0,N_features-1)), list(range(1,N_features))), reversed(list(zip(list(range(1,N_features)),list(range(0,N_features-1))))))\n",
    "        for sweep_it, sites in enumerate(sweeps):\n",
    "            [sitel, siter] = sites\n",
    "            site_tags = [P.site_tag(site) for site in sites]\n",
    "            \n",
    "            # canonize P with root in sites\n",
    "            P.canonize(sites, cur_orthog=ortog_center)\n",
    "            ortog_center = sites\n",
    "\n",
    "            # pop site tensor\n",
    "            [origl, origr] = P.select_tensors(site_tags, which=\"any\")\n",
    "            tensor_orig = origl & origr ^ all\n",
    "            tensor_orig.draw(show_inds='all', font_size_inner=15, figsize=(15,15))\n",
    "            \n",
    "            #virtual bonds\n",
    "            #     left\n",
    "            if sitel == 0 or (sitel == N_features-1 and sitel>siter): vindl = []\n",
    "            elif sitel>0 and sitel<siter: vindl = [P.bond(sitel-1, sitel)]\n",
    "            else: vindl = [P.bond(sitel, sitel+1)]\n",
    "            #.    right\n",
    "            if siter == N_features - 1 or (siter == 0 and siter<sitel): vindr = []\n",
    "            elif siter < N_features-1 and siter>sitel: vindr = [P.bond(siter, siter+1)]\n",
    "            else: vindr = [P.bond(siter-1, siter)]\n",
    "            \n",
    "            P.delete(site_tags, which=\"any\")\n",
    "\n",
    "            grad_miss=0; loss_miss_batch=0\n",
    "            \n",
    "            for sample in inputs_batch[it]:\n",
    "                phi, _ = fm.embed(sample, fm.trigonometric)\n",
    "                \n",
    "                #calculate loss\n",
    "                loss_miss_batch += loss_miss(phi, P_orig)\n",
    "\n",
    "                #calculate gradient\n",
    "                grad_miss += gradient_miss(phi, P_orig, P, sites)\n",
    "\n",
    "            loss = (1/batch_size)*(loss_miss_batch) + loss_reg(P_orig, alpha)\n",
    "            progressbar.set_postfix(loss = loss)\n",
    "            grad = (1/batch_size)*grad_miss + gradient_reg(P_orig, P, alpha, sites)\n",
    "            index_to_remove = sites[0] if (sites[1] == 0 and sites[1] < sites[0]) or (sites[1] == N_features-1 and sites[1] > sites[0]) else sites[1]\n",
    "            grad = grad.reindex({f'bond{index_to_remove}': f'bond_{index_to_remove}'})\n",
    "            \n",
    "            tensor_new = tensor_orig - lamda*grad\n",
    "            tensor_new.normalize(inplace=True)\n",
    "            [tensorl, tensorr] = tensor_new.split(get=\"tensors\", left_inds=[P.upper_ind(sitel), P.lower_ind(sitel), *vindl])\n",
    "\n",
    "            # link new tensor to psi\n",
    "            for site, tensor in zip(sites, [tensorl, tensorr]):\n",
    "                tensor.drop_tags()\n",
    "                tensor.add_tag(P.site_tag(site))\n",
    "                P.add_tensor(tensor)\n",
    "            P.draw(show_inds='all', font_size_inner=15, figsize=(15,15))"
   ]
  },
  {
   "cell_type": "code",
   "execution_count": null,
   "id": "041855dc-a45e-4a81-8a45-4ab6398c21a3",
   "metadata": {},
   "outputs": [],
   "source": []
  },
  {
   "cell_type": "code",
   "execution_count": null,
   "id": "7a099d4e-9fac-43f6-a402-90d2c70ca85e",
   "metadata": {},
   "outputs": [],
   "source": []
  }
 ],
 "metadata": {
  "kernelspec": {
   "display_name": "Python 3 (ipykernel)",
   "language": "python",
   "name": "python3"
  },
  "language_info": {
   "codemirror_mode": {
    "name": "ipython",
    "version": 3
   },
   "file_extension": ".py",
   "mimetype": "text/x-python",
   "name": "python",
   "nbconvert_exporter": "python",
   "pygments_lexer": "ipython3",
   "version": "3.8.12"
  }
 },
 "nbformat": 4,
 "nbformat_minor": 5
}
