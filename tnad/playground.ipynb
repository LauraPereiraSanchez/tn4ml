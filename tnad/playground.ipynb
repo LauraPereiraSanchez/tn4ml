{
 "cells": [
  {
   "cell_type": "code",
   "execution_count": 1,
   "id": "c3377b2f-90ec-4a5e-be6f-e6262d1b85e2",
   "metadata": {},
   "outputs": [],
   "source": [
    "import random\n",
    "import numpy as np\n",
    "import math\n",
    "import quimb.tensor as qtn\n",
    "import smpo\n",
    "#import embeddings as fm"
   ]
  },
  {
   "cell_type": "code",
   "execution_count": 2,
   "id": "1206acd0-df14-4c6b-9990-1bba86b70329",
   "metadata": {},
   "outputs": [
    {
     "ename": "ZeroDivisionError",
     "evalue": "integer division or modulo by zero",
     "output_type": "error",
     "traceback": [
      "\u001b[0;31m---------------------------------------------------------------------------\u001b[0m",
      "\u001b[0;31mZeroDivisionError\u001b[0m                         Traceback (most recent call last)",
      "Input \u001b[0;32mIn [2]\u001b[0m, in \u001b[0;36m<module>\u001b[0;34m\u001b[0m\n\u001b[0;32m----> 1\u001b[0m mpo \u001b[38;5;241m=\u001b[39m \u001b[43msmpo\u001b[49m\u001b[38;5;241;43m.\u001b[39;49m\u001b[43mSpacedMatrixProductOperator\u001b[49m\u001b[38;5;241;43m.\u001b[39;49m\u001b[43mrand\u001b[49m\u001b[43m(\u001b[49m\u001b[43mn\u001b[49m\u001b[38;5;241;43m=\u001b[39;49m\u001b[38;5;241;43m8\u001b[39;49m\u001b[43m,\u001b[49m\u001b[43m \u001b[49m\u001b[43mspacing\u001b[49m\u001b[38;5;241;43m=\u001b[39;49m\u001b[38;5;241;43m3\u001b[39;49m\u001b[43m)\u001b[49m\n",
      "File \u001b[0;32m/eos/home-e/epuljak/private/epuljak/PhD/tnad/tnad/smpo.py:108\u001b[0m, in \u001b[0;36mSpacedMatrixProductOperator.rand\u001b[0;34m(n, spacing, bond_dim, phys_dim, cyclic, init_func, **kwargs)\u001b[0m\n\u001b[1;32m    106\u001b[0m         \u001b[38;5;28;01mif\u001b[39;00m i\u001b[38;5;241m==\u001b[39mn\u001b[38;5;241m-\u001b[39m\u001b[38;5;241m1\u001b[39m \u001b[38;5;129;01mand\u001b[39;00m \u001b[38;5;129;01mnot\u001b[39;00m cyclic: shape \u001b[38;5;241m=\u001b[39m (bond_dim, \u001b[38;5;241m1\u001b[39m, phys_dim[\u001b[38;5;241m0\u001b[39m], \u001b[38;5;241m1\u001b[39m)\n\u001b[1;32m    107\u001b[0m         arrays\u001b[38;5;241m.\u001b[39mappend(qu\u001b[38;5;241m.\u001b[39mgen\u001b[38;5;241m.\u001b[39mrand\u001b[38;5;241m.\u001b[39mrandn(shape, dist\u001b[38;5;241m=\u001b[39minit_func))\n\u001b[0;32m--> 108\u001b[0m mpo \u001b[38;5;241m=\u001b[39m \u001b[43mSpacedMatrixProductOperator\u001b[49m\u001b[43m(\u001b[49m\u001b[43marrays\u001b[49m\u001b[43m,\u001b[49m\u001b[43m \u001b[49m\u001b[38;5;241;43m*\u001b[39;49m\u001b[38;5;241;43m*\u001b[39;49m\u001b[43mkwargs\u001b[49m\u001b[43m)\u001b[49m\n\u001b[1;32m    109\u001b[0m mpo\u001b[38;5;241m.\u001b[39mcompress(form\u001b[38;5;241m=\u001b[39m\u001b[38;5;124m'\u001b[39m\u001b[38;5;124mflat\u001b[39m\u001b[38;5;124m'\u001b[39m, max_bond\u001b[38;5;241m=\u001b[39mbond_dim) \u001b[38;5;66;03m# limit bond_dim\u001b[39;00m\n\u001b[1;32m    110\u001b[0m \u001b[38;5;28;01mreturn\u001b[39;00m mpo\n",
      "File \u001b[0;32m/eos/home-e/epuljak/private/epuljak/PhD/tnad/tnad/smpo.py:57\u001b[0m, in \u001b[0;36mSpacedMatrixProductOperator.__init__\u001b[0;34m(self, arrays, shape, site_tag_id, tags, upper_ind_id, lower_ind_id, bond_name, **tn_opts)\u001b[0m\n\u001b[1;32m     54\u001b[0m lrud_ord \u001b[38;5;241m=\u001b[39m \u001b[38;5;28mtuple\u001b[39m(\u001b[38;5;28mmap\u001b[39m(shape\u001b[38;5;241m.\u001b[39mfind, \u001b[38;5;124m\"\u001b[39m\u001b[38;5;124mlrud\u001b[39m\u001b[38;5;124m\"\u001b[39m))\n\u001b[1;32m     56\u001b[0m \u001b[38;5;28;01mif\u001b[39;00m \u001b[38;5;28mself\u001b[39m\u001b[38;5;241m.\u001b[39mcyclic:\n\u001b[0;32m---> 57\u001b[0m     \u001b[38;5;28;01mif\u001b[39;00m \u001b[43m(\u001b[49m\u001b[38;5;28;43mself\u001b[39;49m\u001b[38;5;241;43m.\u001b[39;49m\u001b[43mL\u001b[49m\u001b[43m \u001b[49m\u001b[38;5;241;43m-\u001b[39;49m\u001b[43m \u001b[49m\u001b[38;5;241;43m1\u001b[39;49m\u001b[43m)\u001b[49m\u001b[43m \u001b[49m\u001b[38;5;241;43m%\u001b[39;49m\u001b[43m \u001b[49m\u001b[38;5;28;43mself\u001b[39;49m\u001b[38;5;241;43m.\u001b[39;49m\u001b[43mspacing\u001b[49m \u001b[38;5;241m==\u001b[39m \u001b[38;5;241m0\u001b[39m:\n\u001b[1;32m     58\u001b[0m         last_ord \u001b[38;5;241m=\u001b[39m lrud_ord\n\u001b[1;32m     59\u001b[0m     \u001b[38;5;28;01melse\u001b[39;00m:\n",
      "\u001b[0;31mZeroDivisionError\u001b[0m: integer division or modulo by zero"
     ]
    }
   ],
   "source": [
    "mpo = smpo.SpacedMatrixProductOperator.rand(n=8, spacing=3)"
   ]
  },
  {
   "cell_type": "code",
   "execution_count": null,
   "id": "7315b76d-e385-4e6c-afc1-eb5dfc2268e2",
   "metadata": {},
   "outputs": [],
   "source": [
    "mpo.draw()"
   ]
  },
  {
   "cell_type": "code",
   "execution_count": null,
   "id": "330828a1-69a9-40ce-a3ea-efaa31aeaa72",
   "metadata": {},
   "outputs": [],
   "source": []
  }
 ],
 "metadata": {
  "kernelspec": {
   "display_name": "Python 3 (ipykernel)",
   "language": "python",
   "name": "python3"
  },
  "language_info": {
   "codemirror_mode": {
    "name": "ipython",
    "version": 3
   },
   "file_extension": ".py",
   "mimetype": "text/x-python",
   "name": "python",
   "nbconvert_exporter": "python",
   "pygments_lexer": "ipython3",
   "version": "3.8.12"
  }
 },
 "nbformat": 4,
 "nbformat_minor": 5
}
