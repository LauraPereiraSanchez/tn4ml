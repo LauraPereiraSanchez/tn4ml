{
 "cells": [
  {
   "cell_type": "markdown",
   "id": "e1836a26",
   "metadata": {},
   "source": [
    "## Global update with `Dask`"
   ]
  },
  {
   "cell_type": "markdown",
   "id": "4654aa7f",
   "metadata": {},
   "source": [
    "`Dask` is a framework that allows to add parallelization to code in Python. To install the extra dependencies (not added in `pyproject.toml` yet):"
   ]
  },
  {
   "cell_type": "code",
   "execution_count": 1,
   "id": "0a933798",
   "metadata": {
    "scrolled": true
   },
   "outputs": [
    {
     "name": "stdout",
     "output_type": "stream",
     "text": [
      "Couldn't find program: 'bash'\n"
     ]
    }
   ],
   "source": [
    "%%bash\n",
    "python -m pip install dask distributed --upgrade"
   ]
  },
  {
   "cell_type": "markdown",
   "id": "9a6b3cec",
   "metadata": {},
   "source": [
    "`graphviz` (or `cytoscape`) is also needed to visualize the task graph."
   ]
  },
  {
   "cell_type": "code",
   "execution_count": null,
   "id": "6deb4859",
   "metadata": {},
<<<<<<< HEAD
   "outputs": [
    {
     "data": {
      "text/html": [
       "<div>\n",
       "    <div style=\"width: 24px; height: 24px; background-color: #e1e1e1; border: 3px solid #9D9D9D; border-radius: 5px; position: absolute;\"> </div>\n",
       "    <div style=\"margin-left: 48px;\">\n",
       "        <h3 style=\"margin-bottom: 0px;\">Client</h3>\n",
       "        <p style=\"color: #9D9D9D; margin-bottom: 0px;\">Client-0aa8396f-4021-11ed-a848-14857f023ad6</p>\n",
       "        <table style=\"width: 100%; text-align: left;\">\n",
       "\n",
       "        <tr>\n",
       "        \n",
       "            <td style=\"text-align: left;\"><strong>Connection method:</strong> Cluster object</td>\n",
       "            <td style=\"text-align: left;\"><strong>Cluster type:</strong> distributed.LocalCluster</td>\n",
       "        \n",
       "        </tr>\n",
       "\n",
       "        \n",
       "            <tr>\n",
       "                <td style=\"text-align: left;\">\n",
       "                    <strong>Dashboard: </strong> <a href=\"http://127.0.0.1:8787/status\" target=\"_blank\">http://127.0.0.1:8787/status</a>\n",
       "                </td>\n",
       "                <td style=\"text-align: left;\"></td>\n",
       "            </tr>\n",
       "        \n",
       "\n",
       "        </table>\n",
       "\n",
       "        \n",
       "            <details>\n",
       "            <summary style=\"margin-bottom: 20px;\"><h3 style=\"display: inline;\">Cluster Info</h3></summary>\n",
       "            <div class=\"jp-RenderedHTMLCommon jp-RenderedHTML jp-mod-trusted jp-OutputArea-output\">\n",
       "    <div style=\"width: 24px; height: 24px; background-color: #e1e1e1; border: 3px solid #9D9D9D; border-radius: 5px; position: absolute;\">\n",
       "    </div>\n",
       "    <div style=\"margin-left: 48px;\">\n",
       "        <h3 style=\"margin-bottom: 0px; margin-top: 0px;\">LocalCluster</h3>\n",
       "        <p style=\"color: #9D9D9D; margin-bottom: 0px;\">bb6e06e1</p>\n",
       "        <table style=\"width: 100%; text-align: left;\">\n",
       "            <tr>\n",
       "                <td style=\"text-align: left;\">\n",
       "                    <strong>Dashboard:</strong> <a href=\"http://127.0.0.1:8787/status\" target=\"_blank\">http://127.0.0.1:8787/status</a>\n",
       "                </td>\n",
       "                <td style=\"text-align: left;\">\n",
       "                    <strong>Workers:</strong> 12\n",
       "                </td>\n",
       "            </tr>\n",
       "            <tr>\n",
       "                <td style=\"text-align: left;\">\n",
       "                    <strong>Total threads:</strong> 12\n",
       "                </td>\n",
       "                <td style=\"text-align: left;\">\n",
       "                    <strong>Total memory:</strong> 15.77 GiB\n",
       "                </td>\n",
       "            </tr>\n",
       "            \n",
       "            <tr>\n",
       "    <td style=\"text-align: left;\"><strong>Status:</strong> running</td>\n",
       "    <td style=\"text-align: left;\"><strong>Using processes:</strong> True</td>\n",
       "</tr>\n",
       "\n",
       "            \n",
       "        </table>\n",
       "\n",
       "        <details>\n",
       "            <summary style=\"margin-bottom: 20px;\">\n",
       "                <h3 style=\"display: inline;\">Scheduler Info</h3>\n",
       "            </summary>\n",
       "\n",
       "            <div style=\"\">\n",
       "    <div>\n",
       "        <div style=\"width: 24px; height: 24px; background-color: #FFF7E5; border: 3px solid #FF6132; border-radius: 5px; position: absolute;\"> </div>\n",
       "        <div style=\"margin-left: 48px;\">\n",
       "            <h3 style=\"margin-bottom: 0px;\">Scheduler</h3>\n",
       "            <p style=\"color: #9D9D9D; margin-bottom: 0px;\">Scheduler-b7ee59f8-a75d-437d-a3b3-22080b5e61ed</p>\n",
       "            <table style=\"width: 100%; text-align: left;\">\n",
       "                <tr>\n",
       "                    <td style=\"text-align: left;\">\n",
       "                        <strong>Comm:</strong> tcp://127.0.0.1:61943\n",
       "                    </td>\n",
       "                    <td style=\"text-align: left;\">\n",
       "                        <strong>Workers:</strong> 12\n",
       "                    </td>\n",
       "                </tr>\n",
       "                <tr>\n",
       "                    <td style=\"text-align: left;\">\n",
       "                        <strong>Dashboard:</strong> <a href=\"http://127.0.0.1:8787/status\" target=\"_blank\">http://127.0.0.1:8787/status</a>\n",
       "                    </td>\n",
       "                    <td style=\"text-align: left;\">\n",
       "                        <strong>Total threads:</strong> 12\n",
       "                    </td>\n",
       "                </tr>\n",
       "                <tr>\n",
       "                    <td style=\"text-align: left;\">\n",
       "                        <strong>Started:</strong> Just now\n",
       "                    </td>\n",
       "                    <td style=\"text-align: left;\">\n",
       "                        <strong>Total memory:</strong> 15.77 GiB\n",
       "                    </td>\n",
       "                </tr>\n",
       "            </table>\n",
       "        </div>\n",
       "    </div>\n",
       "\n",
       "    <details style=\"margin-left: 48px;\">\n",
       "        <summary style=\"margin-bottom: 20px;\">\n",
       "            <h3 style=\"display: inline;\">Workers</h3>\n",
       "        </summary>\n",
       "\n",
       "        \n",
       "        <div style=\"margin-bottom: 20px;\">\n",
       "            <div style=\"width: 24px; height: 24px; background-color: #DBF5FF; border: 3px solid #4CC9FF; border-radius: 5px; position: absolute;\"> </div>\n",
       "            <div style=\"margin-left: 48px;\">\n",
       "            <details>\n",
       "                <summary>\n",
       "                    <h4 style=\"margin-bottom: 0px; display: inline;\">Worker: 0</h4>\n",
       "                </summary>\n",
       "                <table style=\"width: 100%; text-align: left;\">\n",
       "                    <tr>\n",
       "                        <td style=\"text-align: left;\">\n",
       "                            <strong>Comm: </strong> tcp://127.0.0.1:62041\n",
       "                        </td>\n",
       "                        <td style=\"text-align: left;\">\n",
       "                            <strong>Total threads: </strong> 1\n",
       "                        </td>\n",
       "                    </tr>\n",
       "                    <tr>\n",
       "                        <td style=\"text-align: left;\">\n",
       "                            <strong>Dashboard: </strong> <a href=\"http://127.0.0.1:62042/status\" target=\"_blank\">http://127.0.0.1:62042/status</a>\n",
       "                        </td>\n",
       "                        <td style=\"text-align: left;\">\n",
       "                            <strong>Memory: </strong> 1.31 GiB\n",
       "                        </td>\n",
       "                    </tr>\n",
       "                    <tr>\n",
       "                        <td style=\"text-align: left;\">\n",
       "                            <strong>Nanny: </strong> tcp://127.0.0.1:61956\n",
       "                        </td>\n",
       "                        <td style=\"text-align: left;\"></td>\n",
       "                    </tr>\n",
       "                    <tr>\n",
       "                        <td colspan=\"2\" style=\"text-align: left;\">\n",
       "                            <strong>Local directory: </strong> C:\\Users\\Sergi\\AppData\\Local\\Temp\\dask-worker-space\\worker-9fym03w_\n",
       "                        </td>\n",
       "                    </tr>\n",
       "\n",
       "                    \n",
       "\n",
       "                    \n",
       "\n",
       "                </table>\n",
       "            </details>\n",
       "            </div>\n",
       "        </div>\n",
       "        \n",
       "        <div style=\"margin-bottom: 20px;\">\n",
       "            <div style=\"width: 24px; height: 24px; background-color: #DBF5FF; border: 3px solid #4CC9FF; border-radius: 5px; position: absolute;\"> </div>\n",
       "            <div style=\"margin-left: 48px;\">\n",
       "            <details>\n",
       "                <summary>\n",
       "                    <h4 style=\"margin-bottom: 0px; display: inline;\">Worker: 1</h4>\n",
       "                </summary>\n",
       "                <table style=\"width: 100%; text-align: left;\">\n",
       "                    <tr>\n",
       "                        <td style=\"text-align: left;\">\n",
       "                            <strong>Comm: </strong> tcp://127.0.0.1:62044\n",
       "                        </td>\n",
       "                        <td style=\"text-align: left;\">\n",
       "                            <strong>Total threads: </strong> 1\n",
       "                        </td>\n",
       "                    </tr>\n",
       "                    <tr>\n",
       "                        <td style=\"text-align: left;\">\n",
       "                            <strong>Dashboard: </strong> <a href=\"http://127.0.0.1:62045/status\" target=\"_blank\">http://127.0.0.1:62045/status</a>\n",
       "                        </td>\n",
       "                        <td style=\"text-align: left;\">\n",
       "                            <strong>Memory: </strong> 1.31 GiB\n",
       "                        </td>\n",
       "                    </tr>\n",
       "                    <tr>\n",
       "                        <td style=\"text-align: left;\">\n",
       "                            <strong>Nanny: </strong> tcp://127.0.0.1:61954\n",
       "                        </td>\n",
       "                        <td style=\"text-align: left;\"></td>\n",
       "                    </tr>\n",
       "                    <tr>\n",
       "                        <td colspan=\"2\" style=\"text-align: left;\">\n",
       "                            <strong>Local directory: </strong> C:\\Users\\Sergi\\AppData\\Local\\Temp\\dask-worker-space\\worker-o3tkev9h\n",
       "                        </td>\n",
       "                    </tr>\n",
       "\n",
       "                    \n",
       "\n",
       "                    \n",
       "\n",
       "                </table>\n",
       "            </details>\n",
       "            </div>\n",
       "        </div>\n",
       "        \n",
       "        <div style=\"margin-bottom: 20px;\">\n",
       "            <div style=\"width: 24px; height: 24px; background-color: #DBF5FF; border: 3px solid #4CC9FF; border-radius: 5px; position: absolute;\"> </div>\n",
       "            <div style=\"margin-left: 48px;\">\n",
       "            <details>\n",
       "                <summary>\n",
       "                    <h4 style=\"margin-bottom: 0px; display: inline;\">Worker: 2</h4>\n",
       "                </summary>\n",
       "                <table style=\"width: 100%; text-align: left;\">\n",
       "                    <tr>\n",
       "                        <td style=\"text-align: left;\">\n",
       "                            <strong>Comm: </strong> tcp://127.0.0.1:62059\n",
       "                        </td>\n",
       "                        <td style=\"text-align: left;\">\n",
       "                            <strong>Total threads: </strong> 1\n",
       "                        </td>\n",
       "                    </tr>\n",
       "                    <tr>\n",
       "                        <td style=\"text-align: left;\">\n",
       "                            <strong>Dashboard: </strong> <a href=\"http://127.0.0.1:62060/status\" target=\"_blank\">http://127.0.0.1:62060/status</a>\n",
       "                        </td>\n",
       "                        <td style=\"text-align: left;\">\n",
       "                            <strong>Memory: </strong> 1.31 GiB\n",
       "                        </td>\n",
       "                    </tr>\n",
       "                    <tr>\n",
       "                        <td style=\"text-align: left;\">\n",
       "                            <strong>Nanny: </strong> tcp://127.0.0.1:61951\n",
       "                        </td>\n",
       "                        <td style=\"text-align: left;\"></td>\n",
       "                    </tr>\n",
       "                    <tr>\n",
       "                        <td colspan=\"2\" style=\"text-align: left;\">\n",
       "                            <strong>Local directory: </strong> C:\\Users\\Sergi\\AppData\\Local\\Temp\\dask-worker-space\\worker-s7rkq19l\n",
       "                        </td>\n",
       "                    </tr>\n",
       "\n",
       "                    \n",
       "\n",
       "                    \n",
       "\n",
       "                </table>\n",
       "            </details>\n",
       "            </div>\n",
       "        </div>\n",
       "        \n",
       "        <div style=\"margin-bottom: 20px;\">\n",
       "            <div style=\"width: 24px; height: 24px; background-color: #DBF5FF; border: 3px solid #4CC9FF; border-radius: 5px; position: absolute;\"> </div>\n",
       "            <div style=\"margin-left: 48px;\">\n",
       "            <details>\n",
       "                <summary>\n",
       "                    <h4 style=\"margin-bottom: 0px; display: inline;\">Worker: 3</h4>\n",
       "                </summary>\n",
       "                <table style=\"width: 100%; text-align: left;\">\n",
       "                    <tr>\n",
       "                        <td style=\"text-align: left;\">\n",
       "                            <strong>Comm: </strong> tcp://127.0.0.1:62035\n",
       "                        </td>\n",
       "                        <td style=\"text-align: left;\">\n",
       "                            <strong>Total threads: </strong> 1\n",
       "                        </td>\n",
       "                    </tr>\n",
       "                    <tr>\n",
       "                        <td style=\"text-align: left;\">\n",
       "                            <strong>Dashboard: </strong> <a href=\"http://127.0.0.1:62036/status\" target=\"_blank\">http://127.0.0.1:62036/status</a>\n",
       "                        </td>\n",
       "                        <td style=\"text-align: left;\">\n",
       "                            <strong>Memory: </strong> 1.31 GiB\n",
       "                        </td>\n",
       "                    </tr>\n",
       "                    <tr>\n",
       "                        <td style=\"text-align: left;\">\n",
       "                            <strong>Nanny: </strong> tcp://127.0.0.1:61957\n",
       "                        </td>\n",
       "                        <td style=\"text-align: left;\"></td>\n",
       "                    </tr>\n",
       "                    <tr>\n",
       "                        <td colspan=\"2\" style=\"text-align: left;\">\n",
       "                            <strong>Local directory: </strong> C:\\Users\\Sergi\\AppData\\Local\\Temp\\dask-worker-space\\worker-29l1l4dt\n",
       "                        </td>\n",
       "                    </tr>\n",
       "\n",
       "                    \n",
       "\n",
       "                    \n",
       "\n",
       "                </table>\n",
       "            </details>\n",
       "            </div>\n",
       "        </div>\n",
       "        \n",
       "        <div style=\"margin-bottom: 20px;\">\n",
       "            <div style=\"width: 24px; height: 24px; background-color: #DBF5FF; border: 3px solid #4CC9FF; border-radius: 5px; position: absolute;\"> </div>\n",
       "            <div style=\"margin-left: 48px;\">\n",
       "            <details>\n",
       "                <summary>\n",
       "                    <h4 style=\"margin-bottom: 0px; display: inline;\">Worker: 4</h4>\n",
       "                </summary>\n",
       "                <table style=\"width: 100%; text-align: left;\">\n",
       "                    <tr>\n",
       "                        <td style=\"text-align: left;\">\n",
       "                            <strong>Comm: </strong> tcp://127.0.0.1:62014\n",
       "                        </td>\n",
       "                        <td style=\"text-align: left;\">\n",
       "                            <strong>Total threads: </strong> 1\n",
       "                        </td>\n",
       "                    </tr>\n",
       "                    <tr>\n",
       "                        <td style=\"text-align: left;\">\n",
       "                            <strong>Dashboard: </strong> <a href=\"http://127.0.0.1:62021/status\" target=\"_blank\">http://127.0.0.1:62021/status</a>\n",
       "                        </td>\n",
       "                        <td style=\"text-align: left;\">\n",
       "                            <strong>Memory: </strong> 1.31 GiB\n",
       "                        </td>\n",
       "                    </tr>\n",
       "                    <tr>\n",
       "                        <td style=\"text-align: left;\">\n",
       "                            <strong>Nanny: </strong> tcp://127.0.0.1:61949\n",
       "                        </td>\n",
       "                        <td style=\"text-align: left;\"></td>\n",
       "                    </tr>\n",
       "                    <tr>\n",
       "                        <td colspan=\"2\" style=\"text-align: left;\">\n",
       "                            <strong>Local directory: </strong> C:\\Users\\Sergi\\AppData\\Local\\Temp\\dask-worker-space\\worker-5ncmj5pv\n",
       "                        </td>\n",
       "                    </tr>\n",
       "\n",
       "                    \n",
       "\n",
       "                    \n",
       "\n",
       "                </table>\n",
       "            </details>\n",
       "            </div>\n",
       "        </div>\n",
       "        \n",
       "        <div style=\"margin-bottom: 20px;\">\n",
       "            <div style=\"width: 24px; height: 24px; background-color: #DBF5FF; border: 3px solid #4CC9FF; border-radius: 5px; position: absolute;\"> </div>\n",
       "            <div style=\"margin-left: 48px;\">\n",
       "            <details>\n",
       "                <summary>\n",
       "                    <h4 style=\"margin-bottom: 0px; display: inline;\">Worker: 5</h4>\n",
       "                </summary>\n",
       "                <table style=\"width: 100%; text-align: left;\">\n",
       "                    <tr>\n",
       "                        <td style=\"text-align: left;\">\n",
       "                            <strong>Comm: </strong> tcp://127.0.0.1:62051\n",
       "                        </td>\n",
       "                        <td style=\"text-align: left;\">\n",
       "                            <strong>Total threads: </strong> 1\n",
       "                        </td>\n",
       "                    </tr>\n",
       "                    <tr>\n",
       "                        <td style=\"text-align: left;\">\n",
       "                            <strong>Dashboard: </strong> <a href=\"http://127.0.0.1:62053/status\" target=\"_blank\">http://127.0.0.1:62053/status</a>\n",
       "                        </td>\n",
       "                        <td style=\"text-align: left;\">\n",
       "                            <strong>Memory: </strong> 1.31 GiB\n",
       "                        </td>\n",
       "                    </tr>\n",
       "                    <tr>\n",
       "                        <td style=\"text-align: left;\">\n",
       "                            <strong>Nanny: </strong> tcp://127.0.0.1:61955\n",
       "                        </td>\n",
       "                        <td style=\"text-align: left;\"></td>\n",
       "                    </tr>\n",
       "                    <tr>\n",
       "                        <td colspan=\"2\" style=\"text-align: left;\">\n",
       "                            <strong>Local directory: </strong> C:\\Users\\Sergi\\AppData\\Local\\Temp\\dask-worker-space\\worker-b30zsc7k\n",
       "                        </td>\n",
       "                    </tr>\n",
       "\n",
       "                    \n",
       "\n",
       "                    \n",
       "\n",
       "                </table>\n",
       "            </details>\n",
       "            </div>\n",
       "        </div>\n",
       "        \n",
       "        <div style=\"margin-bottom: 20px;\">\n",
       "            <div style=\"width: 24px; height: 24px; background-color: #DBF5FF; border: 3px solid #4CC9FF; border-radius: 5px; position: absolute;\"> </div>\n",
       "            <div style=\"margin-left: 48px;\">\n",
       "            <details>\n",
       "                <summary>\n",
       "                    <h4 style=\"margin-bottom: 0px; display: inline;\">Worker: 6</h4>\n",
       "                </summary>\n",
       "                <table style=\"width: 100%; text-align: left;\">\n",
       "                    <tr>\n",
       "                        <td style=\"text-align: left;\">\n",
       "                            <strong>Comm: </strong> tcp://127.0.0.1:62062\n",
       "                        </td>\n",
       "                        <td style=\"text-align: left;\">\n",
       "                            <strong>Total threads: </strong> 1\n",
       "                        </td>\n",
       "                    </tr>\n",
       "                    <tr>\n",
       "                        <td style=\"text-align: left;\">\n",
       "                            <strong>Dashboard: </strong> <a href=\"http://127.0.0.1:62063/status\" target=\"_blank\">http://127.0.0.1:62063/status</a>\n",
       "                        </td>\n",
       "                        <td style=\"text-align: left;\">\n",
       "                            <strong>Memory: </strong> 1.31 GiB\n",
       "                        </td>\n",
       "                    </tr>\n",
       "                    <tr>\n",
       "                        <td style=\"text-align: left;\">\n",
       "                            <strong>Nanny: </strong> tcp://127.0.0.1:61948\n",
       "                        </td>\n",
       "                        <td style=\"text-align: left;\"></td>\n",
       "                    </tr>\n",
       "                    <tr>\n",
       "                        <td colspan=\"2\" style=\"text-align: left;\">\n",
       "                            <strong>Local directory: </strong> C:\\Users\\Sergi\\AppData\\Local\\Temp\\dask-worker-space\\worker-tyyz7_9v\n",
       "                        </td>\n",
       "                    </tr>\n",
       "\n",
       "                    \n",
       "\n",
       "                    \n",
       "\n",
       "                </table>\n",
       "            </details>\n",
       "            </div>\n",
       "        </div>\n",
       "        \n",
       "        <div style=\"margin-bottom: 20px;\">\n",
       "            <div style=\"width: 24px; height: 24px; background-color: #DBF5FF; border: 3px solid #4CC9FF; border-radius: 5px; position: absolute;\"> </div>\n",
       "            <div style=\"margin-left: 48px;\">\n",
       "            <details>\n",
       "                <summary>\n",
       "                    <h4 style=\"margin-bottom: 0px; display: inline;\">Worker: 7</h4>\n",
       "                </summary>\n",
       "                <table style=\"width: 100%; text-align: left;\">\n",
       "                    <tr>\n",
       "                        <td style=\"text-align: left;\">\n",
       "                            <strong>Comm: </strong> tcp://127.0.0.1:62065\n",
       "                        </td>\n",
       "                        <td style=\"text-align: left;\">\n",
       "                            <strong>Total threads: </strong> 1\n",
       "                        </td>\n",
       "                    </tr>\n",
       "                    <tr>\n",
       "                        <td style=\"text-align: left;\">\n",
       "                            <strong>Dashboard: </strong> <a href=\"http://127.0.0.1:62066/status\" target=\"_blank\">http://127.0.0.1:62066/status</a>\n",
       "                        </td>\n",
       "                        <td style=\"text-align: left;\">\n",
       "                            <strong>Memory: </strong> 1.31 GiB\n",
       "                        </td>\n",
       "                    </tr>\n",
       "                    <tr>\n",
       "                        <td style=\"text-align: left;\">\n",
       "                            <strong>Nanny: </strong> tcp://127.0.0.1:61952\n",
       "                        </td>\n",
       "                        <td style=\"text-align: left;\"></td>\n",
       "                    </tr>\n",
       "                    <tr>\n",
       "                        <td colspan=\"2\" style=\"text-align: left;\">\n",
       "                            <strong>Local directory: </strong> C:\\Users\\Sergi\\AppData\\Local\\Temp\\dask-worker-space\\worker-7kllb5pu\n",
       "                        </td>\n",
       "                    </tr>\n",
       "\n",
       "                    \n",
       "\n",
       "                    \n",
       "\n",
       "                </table>\n",
       "            </details>\n",
       "            </div>\n",
       "        </div>\n",
       "        \n",
       "        <div style=\"margin-bottom: 20px;\">\n",
       "            <div style=\"width: 24px; height: 24px; background-color: #DBF5FF; border: 3px solid #4CC9FF; border-radius: 5px; position: absolute;\"> </div>\n",
       "            <div style=\"margin-left: 48px;\">\n",
       "            <details>\n",
       "                <summary>\n",
       "                    <h4 style=\"margin-bottom: 0px; display: inline;\">Worker: 8</h4>\n",
       "                </summary>\n",
       "                <table style=\"width: 100%; text-align: left;\">\n",
       "                    <tr>\n",
       "                        <td style=\"text-align: left;\">\n",
       "                            <strong>Comm: </strong> tcp://127.0.0.1:62047\n",
       "                        </td>\n",
       "                        <td style=\"text-align: left;\">\n",
       "                            <strong>Total threads: </strong> 1\n",
       "                        </td>\n",
       "                    </tr>\n",
       "                    <tr>\n",
       "                        <td style=\"text-align: left;\">\n",
       "                            <strong>Dashboard: </strong> <a href=\"http://127.0.0.1:62048/status\" target=\"_blank\">http://127.0.0.1:62048/status</a>\n",
       "                        </td>\n",
       "                        <td style=\"text-align: left;\">\n",
       "                            <strong>Memory: </strong> 1.31 GiB\n",
       "                        </td>\n",
       "                    </tr>\n",
       "                    <tr>\n",
       "                        <td style=\"text-align: left;\">\n",
       "                            <strong>Nanny: </strong> tcp://127.0.0.1:61947\n",
       "                        </td>\n",
       "                        <td style=\"text-align: left;\"></td>\n",
       "                    </tr>\n",
       "                    <tr>\n",
       "                        <td colspan=\"2\" style=\"text-align: left;\">\n",
       "                            <strong>Local directory: </strong> C:\\Users\\Sergi\\AppData\\Local\\Temp\\dask-worker-space\\worker-k9nhue1h\n",
       "                        </td>\n",
       "                    </tr>\n",
       "\n",
       "                    \n",
       "\n",
       "                    \n",
       "\n",
       "                </table>\n",
       "            </details>\n",
       "            </div>\n",
       "        </div>\n",
       "        \n",
       "        <div style=\"margin-bottom: 20px;\">\n",
       "            <div style=\"width: 24px; height: 24px; background-color: #DBF5FF; border: 3px solid #4CC9FF; border-radius: 5px; position: absolute;\"> </div>\n",
       "            <div style=\"margin-left: 48px;\">\n",
       "            <details>\n",
       "                <summary>\n",
       "                    <h4 style=\"margin-bottom: 0px; display: inline;\">Worker: 9</h4>\n",
       "                </summary>\n",
       "                <table style=\"width: 100%; text-align: left;\">\n",
       "                    <tr>\n",
       "                        <td style=\"text-align: left;\">\n",
       "                            <strong>Comm: </strong> tcp://127.0.0.1:62050\n",
       "                        </td>\n",
       "                        <td style=\"text-align: left;\">\n",
       "                            <strong>Total threads: </strong> 1\n",
       "                        </td>\n",
       "                    </tr>\n",
       "                    <tr>\n",
       "                        <td style=\"text-align: left;\">\n",
       "                            <strong>Dashboard: </strong> <a href=\"http://127.0.0.1:62052/status\" target=\"_blank\">http://127.0.0.1:62052/status</a>\n",
       "                        </td>\n",
       "                        <td style=\"text-align: left;\">\n",
       "                            <strong>Memory: </strong> 1.31 GiB\n",
       "                        </td>\n",
       "                    </tr>\n",
       "                    <tr>\n",
       "                        <td style=\"text-align: left;\">\n",
       "                            <strong>Nanny: </strong> tcp://127.0.0.1:61953\n",
       "                        </td>\n",
       "                        <td style=\"text-align: left;\"></td>\n",
       "                    </tr>\n",
       "                    <tr>\n",
       "                        <td colspan=\"2\" style=\"text-align: left;\">\n",
       "                            <strong>Local directory: </strong> C:\\Users\\Sergi\\AppData\\Local\\Temp\\dask-worker-space\\worker-qvt87wks\n",
       "                        </td>\n",
       "                    </tr>\n",
       "\n",
       "                    \n",
       "\n",
       "                    \n",
       "\n",
       "                </table>\n",
       "            </details>\n",
       "            </div>\n",
       "        </div>\n",
       "        \n",
       "        <div style=\"margin-bottom: 20px;\">\n",
       "            <div style=\"width: 24px; height: 24px; background-color: #DBF5FF; border: 3px solid #4CC9FF; border-radius: 5px; position: absolute;\"> </div>\n",
       "            <div style=\"margin-left: 48px;\">\n",
       "            <details>\n",
       "                <summary>\n",
       "                    <h4 style=\"margin-bottom: 0px; display: inline;\">Worker: 10</h4>\n",
       "                </summary>\n",
       "                <table style=\"width: 100%; text-align: left;\">\n",
       "                    <tr>\n",
       "                        <td style=\"text-align: left;\">\n",
       "                            <strong>Comm: </strong> tcp://127.0.0.1:62056\n",
       "                        </td>\n",
       "                        <td style=\"text-align: left;\">\n",
       "                            <strong>Total threads: </strong> 1\n",
       "                        </td>\n",
       "                    </tr>\n",
       "                    <tr>\n",
       "                        <td style=\"text-align: left;\">\n",
       "                            <strong>Dashboard: </strong> <a href=\"http://127.0.0.1:62057/status\" target=\"_blank\">http://127.0.0.1:62057/status</a>\n",
       "                        </td>\n",
       "                        <td style=\"text-align: left;\">\n",
       "                            <strong>Memory: </strong> 1.31 GiB\n",
       "                        </td>\n",
       "                    </tr>\n",
       "                    <tr>\n",
       "                        <td style=\"text-align: left;\">\n",
       "                            <strong>Nanny: </strong> tcp://127.0.0.1:61946\n",
       "                        </td>\n",
       "                        <td style=\"text-align: left;\"></td>\n",
       "                    </tr>\n",
       "                    <tr>\n",
       "                        <td colspan=\"2\" style=\"text-align: left;\">\n",
       "                            <strong>Local directory: </strong> C:\\Users\\Sergi\\AppData\\Local\\Temp\\dask-worker-space\\worker-5e9ehgpt\n",
       "                        </td>\n",
       "                    </tr>\n",
       "\n",
       "                    \n",
       "\n",
       "                    \n",
       "\n",
       "                </table>\n",
       "            </details>\n",
       "            </div>\n",
       "        </div>\n",
       "        \n",
       "        <div style=\"margin-bottom: 20px;\">\n",
       "            <div style=\"width: 24px; height: 24px; background-color: #DBF5FF; border: 3px solid #4CC9FF; border-radius: 5px; position: absolute;\"> </div>\n",
       "            <div style=\"margin-left: 48px;\">\n",
       "            <details>\n",
       "                <summary>\n",
       "                    <h4 style=\"margin-bottom: 0px; display: inline;\">Worker: 11</h4>\n",
       "                </summary>\n",
       "                <table style=\"width: 100%; text-align: left;\">\n",
       "                    <tr>\n",
       "                        <td style=\"text-align: left;\">\n",
       "                            <strong>Comm: </strong> tcp://127.0.0.1:62038\n",
       "                        </td>\n",
       "                        <td style=\"text-align: left;\">\n",
       "                            <strong>Total threads: </strong> 1\n",
       "                        </td>\n",
       "                    </tr>\n",
       "                    <tr>\n",
       "                        <td style=\"text-align: left;\">\n",
       "                            <strong>Dashboard: </strong> <a href=\"http://127.0.0.1:62039/status\" target=\"_blank\">http://127.0.0.1:62039/status</a>\n",
       "                        </td>\n",
       "                        <td style=\"text-align: left;\">\n",
       "                            <strong>Memory: </strong> 1.31 GiB\n",
       "                        </td>\n",
       "                    </tr>\n",
       "                    <tr>\n",
       "                        <td style=\"text-align: left;\">\n",
       "                            <strong>Nanny: </strong> tcp://127.0.0.1:61950\n",
       "                        </td>\n",
       "                        <td style=\"text-align: left;\"></td>\n",
       "                    </tr>\n",
       "                    <tr>\n",
       "                        <td colspan=\"2\" style=\"text-align: left;\">\n",
       "                            <strong>Local directory: </strong> C:\\Users\\Sergi\\AppData\\Local\\Temp\\dask-worker-space\\worker-na9sfk_5\n",
       "                        </td>\n",
       "                    </tr>\n",
       "\n",
       "                    \n",
       "\n",
       "                    \n",
       "\n",
       "                </table>\n",
       "            </details>\n",
       "            </div>\n",
       "        </div>\n",
       "        \n",
       "\n",
       "    </details>\n",
       "</div>\n",
       "\n",
       "        </details>\n",
       "    </div>\n",
       "</div>\n",
       "            </details>\n",
       "        \n",
       "\n",
       "    </div>\n",
       "</div>"
      ],
      "text/plain": [
       "<Client: 'tcp://127.0.0.1:61943' processes=12 threads=12, memory=15.77 GiB>"
      ]
     },
     "execution_count": 1,
     "metadata": {},
     "output_type": "execute_result"
    }
   ],
=======
   "outputs": [],
>>>>>>> 787ce11 (fix 'playground-dask.ipynb')
   "source": [
    "from dask.distributed import Client, LocalCluster\n",
    "\n",
    "# client = Client()\n",
    "client = Client(n_workers=12)\n",
    "client # Displays the information of the local client"
   ]
  },
  {
   "cell_type": "markdown",
   "id": "405c50b3",
   "metadata": {},
   "source": [
    "This creates automatically a Dask 'Client' given by our system specificaition. One can then go to the link in the previous block to see `Dask dashboard`, which enables us to see the task stream and other useful information live during the computation."
   ]
  },
  {
   "cell_type": "markdown",
<<<<<<< HEAD
=======
   "id": "d727a1cd",
   "metadata": {},
   "source": [
    "Imports:"
   ]
  },
  {
   "cell_type": "code",
   "execution_count": null,
   "id": "256dc7cc-30d1-435e-9b01-76fe7d903670",
   "metadata": {
    "tags": []
   },
   "outputs": [],
   "source": [
    "%config InlineBackend.figure_format = 'svg'\n",
    "\n",
    "from multiprocessing import pool\n",
    "import os\n",
    "import sys\n",
    "import json \n",
    "import time\n",
    "import dask\n",
    "from dask.distributed import Client, wait, performance_report # LocalCluster\n",
    "from dask_jobqueue import SLURMCluster\n",
    "import itertools\n",
    "import numpy as np\n",
    "import tnad.FeatureMap as fm\n",
    "from tnad.losses import loss_miss, loss_reg\n",
    "from tnad.gradients import gradient_miss, gradient_reg\n",
    "from tnad.optimization import load_mnist_train_data, data_preprocessing\n",
    "from tnad import smpo\n",
    "import tnad.procedures as p\n",
    "import math\n",
    "import quimb.tensor as qtn\n",
    "import quimb as qu\n",
    "import matplotlib.pyplot as plt\n",
    "from tqdm import tqdm"
   ]
  },
  {
   "cell_type": "markdown",
>>>>>>> 787ce11 (fix 'playground-dask.ipynb')
   "id": "0fed8bb0",
   "metadata": {},
   "source": [
    "`procedures.py` functions adapted to Dask framework:"
   ]
  },
  {
   "cell_type": "code",
<<<<<<< HEAD
   "execution_count": 2,
   "id": "e6e69623",
   "metadata": {},
=======
   "execution_count": null,
   "id": "9a034bee-d401-4370-99e1-b18f25861330",
   "metadata": {
    "tags": []
   },
>>>>>>> 787ce11 (fix 'playground-dask.ipynb')
   "outputs": [],
   "source": [
    "import itertools\n",
    "import functools\n",
    "import numpy as np\n",
    "import tnad.FeatureMap as fm\n",
    "from tnad.losses import loss_miss, loss_reg\n",
    "from tnad.gradients import gradient_miss, gradient_reg\n",
    "import math\n",
    "import quimb.tensor as qtn\n",
    "import quimb as qu\n",
    "\n",
    "from tqdm import tqdm\n",
    "import dask \n",
    "\n",
    "\n",
    "def get_sample_grad(sample, embed_func, P, P_rem, tensor):\n",
    "    # create MPS for input sample\n",
    "    phi, _ = fm.embed(sample.flatten(), embed_func)\n",
    "\n",
    "    #calculate gradient\n",
    "    grad_miss = gradient_miss(phi, P, P_rem, [tensor])\n",
    "    return grad_miss\n",
    "\n",
    "def get_sample_loss(sample, embed_func, P):\n",
    "    # create MPS for input sample\n",
    "    phi, _ = fm.embed(sample.flatten(), embed_func)\n",
    "\n",
    "    #calculate loss\n",
    "    loss_miss_batch = loss_miss(phi, P)\n",
    "    return loss_miss_batch\n",
    "\n",
    "def get_total_grad(P, tensor, data, embed_func, batch_size, alpha):\n",
    "    P_rem = P.copy(deep=True)\n",
    "    \n",
    "    site_tag = P_rem.site_tag(tensor)\n",
    "    # remove site tag of poped sites\n",
    "    P_rem.delete(site_tag, which=\"any\")\n",
    "\n",
    "    # parallelize\n",
    "    grad_miss = []\n",
    "    for i, sample in enumerate(data):\n",
    "        output_per_sample = dask.delayed(get_sample_grad)(sample, embed_func, P, P_rem, tensor)\n",
    "        grad_miss.append(output_per_sample)\n",
    "    \n",
    "    # gradient of loss miss\n",
    "    grad_miss = dask.delayed(sum)(grad_miss)\n",
    "    grad_miss.drop_tags()\n",
    "    grad_miss.add_tag(site_tag)\n",
    "    # gradient of loss reg\n",
    "    grad_regular = gradient_reg(P, P_rem, alpha, [tensor])\n",
    "    if grad_regular != 0:\n",
    "        grad_regular.drop_tags()\n",
    "        grad_regular.add_tag(site_tag)\n",
    "    # total gradient\n",
    "    total_grad = (1/batch_size)*(grad_miss) + grad_regular\n",
    "    return total_grad\n",
    "\n",
    "def global_update_costfuncnorm(P, n_epochs, n_iters, data, batch_size, alpha, lamda_init, bond_dim, decay_rate=None, expdecay_tol=None):\n",
    "    loss_array = []\n",
    "    n_tensors = P.nsites\n",
    "    \n",
    "    for epoch in range(n_epochs):\n",
    "        for it in (pbar := tqdm(range(n_iters))):        \n",
    "            pbar.set_description(\"Epoch #\"+str(epoch)+\", sample in batch:\")\n",
    "            # parallelize\n",
    "            grad_per_tensor=[]\n",
    "            for tensor in range(n_tensors):\n",
    "                embed_func = fm.trigonometric\n",
    "                output_per_tensor = dask.delayed(get_total_grad)(P, tensor, data[it], embed_func, batch_size, alpha) # get grad per tensor\n",
    "                grad_per_tensor.append(output_per_tensor)\n",
    "            \n",
    "            # get loss per sample\n",
    "            loss_miss = 0\n",
    "            for i, sample in enumerate(data[it]):\n",
    "                embed_func = fm.trigonometric\n",
    "                output_per_sample = dask.delayed(get_sample_loss)(sample, embed_func, P)\n",
    "                loss_miss += output_per_sample\n",
    "            # get total loss\n",
    "            total_loss = (1/batch_size)*(loss_miss) + loss_reg(P, alpha)\n",
    "            loss_array.append(total_loss)\n",
    "\n",
    "            # update P\n",
    "            # no need to parallelize\n",
    "            for tensor in range(n_tensors):\n",
    "                site_tag = P.site_tag(tensor)\n",
    "                tensor_orig = P.select_tensors(site_tag, which=\"any\")\n",
    "                \n",
    "                if epoch > expdecay_tol:\n",
    "                    if decay_rate != None:\n",
    "                        # exp. decay of lamda\n",
    "                        lamda = lamda_init*math.pow((1 - decay_rate/100),epoch)\n",
    "                        tensor_orig = tensor_orig - lamda*grad_per_tensor[tensor]\n",
    "                else:\n",
    "                    tensor_orig = tensor_orig - lamda_init*grad_per_tensor[tensor]\n",
    "                \n",
    "    return P, loss_array"
   ]
  },
  {
   "cell_type": "markdown",
   "id": "9ba052d5",
   "metadata": {},
   "source": [
    "Arguments for the optimization process:"
   ]
  },
  {
   "cell_type": "code",
   "execution_count": 5,
   "id": "16f19af2",
   "metadata": {},
   "outputs": [],
   "source": [
    "# args\n",
    "train_size = 1024\n",
    "batch_size = 32\n",
    "strides = (2,2)\n",
    "pool_size = (2,2)\n",
    "padding = 'same'\n",
    "reduced_shape = (14,14)\n",
    "opt_procedure = 'automatic_differentiation' # 'global_update_costfuncnorm' # \n",
    "spacing = 8\n",
    "n_epochs = 2\n",
    "alpha = 0.4\n",
    "lamda_init = 2e-3\n",
    "lamda_init_2 = 2e-3\n",
    "decay_rate = 0.01\n",
    "expdecay_tol = 10\n",
    "bond_dim = 5\n",
    "init_func = 'normal'\n",
    "scale_init_p = 0.5"
   ]
  },
  {
   "cell_type": "code",
<<<<<<< HEAD
   "execution_count": 4,
   "id": "cb620d6e",
   "metadata": {
    "scrolled": true
   },
   "outputs": [
    {
     "name": "stderr",
     "output_type": "stream",
     "text": [
      "Epoch #0, sample in batch::   0%|          | 0/32 [00:00<?, ?it/s]WARNING:absl:No GPU/TPU found, falling back to CPU. (Set TF_CPP_MIN_LOG_LEVEL=0 and rerun for more info.)\n",
      "Epoch #0, sample in batch::   3%|▎         | 1/32 [00:20<10:29, 20.30s/it]"
     ]
    },
    {
     "name": "stdout",
     "output_type": "stream",
     "text": [
      "\n",
      " loss 959.8132934570312\n"
     ]
    },
    {
     "name": "stderr",
     "output_type": "stream",
     "text": [
      "Epoch #0, sample in batch::   6%|▋         | 2/32 [00:23<05:11, 10.39s/it]"
     ]
    },
    {
     "name": "stdout",
     "output_type": "stream",
     "text": [
      "\n",
      " loss 2248.327880859375\n"
     ]
    },
    {
     "name": "stderr",
     "output_type": "stream",
     "text": [
      "Epoch #0, sample in batch::   9%|▉         | 3/32 [00:26<03:18,  6.85s/it]"
     ]
    },
    {
     "name": "stdout",
     "output_type": "stream",
     "text": [
      "\n",
      " loss 714.2861938476562\n"
     ]
    },
    {
     "name": "stderr",
     "output_type": "stream",
     "text": [
      "Epoch #0, sample in batch::  12%|█▎        | 4/32 [00:29<02:34,  5.52s/it]"
     ]
    },
    {
     "name": "stdout",
     "output_type": "stream",
     "text": [
      "\n",
      " loss 245.49444580078125\n"
     ]
    },
    {
     "name": "stderr",
     "output_type": "stream",
     "text": [
      "Epoch #0, sample in batch::  16%|█▌        | 5/32 [00:33<02:08,  4.77s/it]"
     ]
    },
    {
     "name": "stdout",
     "output_type": "stream",
     "text": [
      "\n",
      " loss 94.51713562011719\n"
     ]
    },
    {
     "name": "stderr",
     "output_type": "stream",
     "text": [
      "Epoch #0, sample in batch::  19%|█▉        | 6/32 [00:36<01:51,  4.29s/it]"
     ]
    },
    {
     "name": "stdout",
     "output_type": "stream",
     "text": [
      "\n",
      " loss 22.940732955932617\n"
     ]
    },
    {
     "name": "stderr",
     "output_type": "stream",
     "text": [
      "Epoch #0, sample in batch::  22%|██▏       | 7/32 [00:40<01:40,  4.03s/it]"
     ]
    },
    {
     "name": "stdout",
     "output_type": "stream",
     "text": [
      "\n",
      " loss 23.34886932373047\n"
     ]
    },
    {
     "name": "stderr",
     "output_type": "stream",
     "text": [
      "Epoch #0, sample in batch::  25%|██▌       | 8/32 [00:42<01:26,  3.61s/it]"
     ]
    },
    {
     "name": "stdout",
     "output_type": "stream",
     "text": [
      "\n",
      " loss 19.832351684570312\n"
     ]
    },
    {
     "name": "stderr",
     "output_type": "stream",
     "text": [
      "Epoch #0, sample in batch::  28%|██▊       | 9/32 [00:46<01:21,  3.54s/it]"
     ]
    },
    {
     "name": "stdout",
     "output_type": "stream",
     "text": [
      "\n",
      " loss 20.657495498657227\n"
     ]
    },
    {
     "name": "stderr",
     "output_type": "stream",
     "text": [
      "Epoch #0, sample in batch::  31%|███▏      | 10/32 [00:49<01:13,  3.32s/it]"
     ]
    },
    {
     "name": "stdout",
     "output_type": "stream",
     "text": [
      "\n",
      " loss 20.557537078857422\n"
     ]
    },
    {
     "name": "stderr",
     "output_type": "stream",
     "text": [
      "Epoch #0, sample in batch::  34%|███▍      | 11/32 [00:52<01:11,  3.40s/it]"
     ]
    },
    {
     "name": "stdout",
     "output_type": "stream",
     "text": [
      "\n",
      " loss 21.008228302001953\n"
     ]
    },
    {
     "name": "stderr",
     "output_type": "stream",
     "text": [
      "Epoch #0, sample in batch::  38%|███▊      | 12/32 [00:55<01:05,  3.25s/it]"
     ]
    },
    {
     "name": "stdout",
     "output_type": "stream",
     "text": [
      "\n",
      " loss 20.28157615661621\n"
     ]
    },
    {
     "name": "stderr",
     "output_type": "stream",
     "text": [
      "Epoch #0, sample in batch::  41%|████      | 13/32 [00:59<01:03,  3.33s/it]"
     ]
    },
    {
     "name": "stdout",
     "output_type": "stream",
     "text": [
      "\n",
      " loss 20.138174057006836\n"
     ]
    },
    {
     "name": "stderr",
     "output_type": "stream",
     "text": [
      "Epoch #0, sample in batch::  44%|████▍     | 14/32 [01:01<00:56,  3.12s/it]"
     ]
    },
    {
     "name": "stdout",
     "output_type": "stream",
     "text": [
      "\n",
      " loss 19.637601852416992\n"
     ]
    },
    {
     "name": "stderr",
     "output_type": "stream",
     "text": [
      "Epoch #0, sample in batch::  47%|████▋     | 15/32 [01:04<00:52,  3.09s/it]"
     ]
    },
    {
     "name": "stdout",
     "output_type": "stream",
     "text": [
      "\n",
      " loss 20.17959976196289\n"
     ]
    },
    {
     "name": "stderr",
     "output_type": "stream",
     "text": [
      "Epoch #0, sample in batch::  50%|█████     | 16/32 [01:08<00:50,  3.19s/it]"
     ]
    },
    {
     "name": "stdout",
     "output_type": "stream",
     "text": [
      "\n",
      " loss 19.393070220947266\n"
     ]
    },
    {
     "name": "stderr",
     "output_type": "stream",
     "text": [
      "Epoch #0, sample in batch::  53%|█████▎    | 17/32 [01:10<00:45,  3.04s/it]"
     ]
    },
    {
     "name": "stdout",
     "output_type": "stream",
     "text": [
      "\n",
      " loss 22.41274642944336\n"
     ]
    },
    {
     "name": "stderr",
     "output_type": "stream",
     "text": [
      "Epoch #0, sample in batch::  56%|█████▋    | 18/32 [01:13<00:42,  3.04s/it]"
     ]
    },
    {
     "name": "stdout",
     "output_type": "stream",
     "text": [
      "\n",
      " loss 19.29230499267578\n"
     ]
    },
    {
     "name": "stderr",
     "output_type": "stream",
     "text": [
      "Epoch #0, sample in batch::  59%|█████▉    | 19/32 [01:17<00:41,  3.22s/it]"
     ]
    },
    {
     "name": "stdout",
     "output_type": "stream",
     "text": [
      "\n",
      " loss 21.300617218017578\n"
     ]
    },
    {
     "name": "stderr",
     "output_type": "stream",
     "text": [
      "Epoch #0, sample in batch::  62%|██████▎   | 20/32 [01:20<00:36,  3.07s/it]"
     ]
    },
    {
     "name": "stdout",
     "output_type": "stream",
     "text": [
      "\n",
      " loss 19.100603103637695\n"
     ]
    },
    {
     "name": "stderr",
     "output_type": "stream",
     "text": [
      "Epoch #0, sample in batch::  66%|██████▌   | 21/32 [01:23<00:33,  3.01s/it]"
     ]
    },
    {
     "name": "stdout",
     "output_type": "stream",
     "text": [
      "\n",
      " loss 18.796680450439453\n"
     ]
    },
    {
     "name": "stderr",
     "output_type": "stream",
     "text": [
      "Epoch #0, sample in batch::  69%|██████▉   | 22/32 [01:25<00:29,  2.96s/it]"
     ]
    },
    {
     "name": "stdout",
     "output_type": "stream",
     "text": [
      "\n",
      " loss 18.824108123779297\n"
     ]
    },
    {
     "name": "stderr",
     "output_type": "stream",
     "text": [
      "Epoch #0, sample in batch::  72%|███████▏  | 23/32 [01:28<00:26,  2.94s/it]"
     ]
    },
    {
     "name": "stdout",
     "output_type": "stream",
     "text": [
      "\n",
      " loss 19.329700469970703\n"
     ]
    },
    {
     "name": "stderr",
     "output_type": "stream",
     "text": [
      "Epoch #0, sample in batch::  75%|███████▌  | 24/32 [01:31<00:23,  2.95s/it]"
     ]
    },
    {
     "name": "stdout",
     "output_type": "stream",
     "text": [
      "\n",
      " loss 18.666501998901367\n"
     ]
    },
    {
     "name": "stderr",
     "output_type": "stream",
     "text": [
      "Epoch #0, sample in batch::  78%|███████▊  | 25/32 [01:35<00:21,  3.12s/it]"
     ]
    },
    {
     "name": "stdout",
     "output_type": "stream",
     "text": [
      "\n",
      " loss 19.647735595703125\n"
     ]
    },
    {
     "name": "stderr",
     "output_type": "stream",
     "text": [
      "Epoch #0, sample in batch::  81%|████████▏ | 26/32 [01:38<00:18,  3.02s/it]"
     ]
    },
    {
     "name": "stdout",
     "output_type": "stream",
     "text": [
      "\n",
      " loss 21.97400665283203\n"
     ]
    },
    {
     "name": "stderr",
     "output_type": "stream",
     "text": [
      "Epoch #0, sample in batch::  84%|████████▍ | 27/32 [01:40<00:14,  2.95s/it]"
     ]
    },
    {
     "name": "stdout",
     "output_type": "stream",
     "text": [
      "\n",
      " loss 18.624237060546875\n"
     ]
    },
    {
     "name": "stderr",
     "output_type": "stream",
     "text": [
      "Epoch #0, sample in batch::  88%|████████▊ | 28/32 [01:43<00:11,  2.94s/it]"
     ]
    },
    {
     "name": "stdout",
     "output_type": "stream",
     "text": [
      "\n",
      " loss 18.98032569885254\n"
     ]
    },
    {
     "name": "stderr",
     "output_type": "stream",
     "text": [
      "Epoch #0, sample in batch::  91%|█████████ | 29/32 [01:46<00:08,  2.93s/it]"
     ]
    },
    {
     "name": "stdout",
     "output_type": "stream",
     "text": [
      "\n",
      " loss 18.609907150268555\n"
     ]
    },
    {
     "name": "stderr",
     "output_type": "stream",
     "text": [
      "Epoch #0, sample in batch::  94%|█████████▍| 30/32 [01:49<00:05,  2.98s/it]"
     ]
    },
    {
     "name": "stdout",
     "output_type": "stream",
     "text": [
      "\n",
      " loss 18.954944610595703\n"
     ]
    },
    {
     "name": "stderr",
     "output_type": "stream",
     "text": [
      "Epoch #0, sample in batch::  97%|█████████▋| 31/32 [01:52<00:02,  2.93s/it]"
     ]
    },
    {
     "name": "stdout",
     "output_type": "stream",
     "text": [
      "\n",
      " loss 18.626176834106445\n"
     ]
    },
    {
     "name": "stderr",
     "output_type": "stream",
     "text": [
      "Epoch #0, sample in batch:: 100%|██████████| 32/32 [01:55<00:00,  3.61s/it]\n"
     ]
    },
    {
     "name": "stdout",
     "output_type": "stream",
     "text": [
      "\n",
      " loss 18.57073402404785\n"
     ]
    },
    {
     "name": "stderr",
     "output_type": "stream",
     "text": [
      "Epoch #1, sample in batch::   3%|▎         | 1/32 [00:03<01:34,  3.04s/it]"
     ]
    },
    {
     "name": "stdout",
     "output_type": "stream",
     "text": [
      "\n",
      " loss 19.621337890625\n"
     ]
    },
    {
     "name": "stderr",
     "output_type": "stream",
     "text": [
      "Epoch #1, sample in batch::   6%|▋         | 2/32 [00:05<01:25,  2.86s/it]"
     ]
    },
    {
     "name": "stdout",
     "output_type": "stream",
     "text": [
      "\n",
      " loss 18.101533889770508\n"
     ]
    },
    {
     "name": "stderr",
     "output_type": "stream",
     "text": [
      "Epoch #1, sample in batch::   9%|▉         | 3/32 [00:08<01:22,  2.84s/it]"
     ]
    },
    {
     "name": "stdout",
     "output_type": "stream",
     "text": [
      "\n",
      " loss 18.63861083984375\n"
     ]
    },
    {
     "name": "stderr",
     "output_type": "stream",
     "text": [
      "Epoch #1, sample in batch::  12%|█▎        | 4/32 [00:11<01:19,  2.85s/it]"
     ]
    },
    {
     "name": "stdout",
     "output_type": "stream",
     "text": [
      "\n",
      " loss 18.351871490478516\n"
     ]
    },
    {
     "name": "stderr",
     "output_type": "stream",
     "text": [
      "Epoch #1, sample in batch::  16%|█▌        | 5/32 [00:14<01:16,  2.85s/it]"
     ]
    },
    {
     "name": "stdout",
     "output_type": "stream",
     "text": [
      "\n",
      " loss 18.507524490356445\n"
     ]
    },
    {
     "name": "stderr",
     "output_type": "stream",
     "text": [
      "Epoch #1, sample in batch::  19%|█▉        | 6/32 [00:17<01:14,  2.87s/it]"
     ]
    },
    {
     "name": "stdout",
     "output_type": "stream",
     "text": [
      "\n",
      " loss 18.50208854675293\n"
     ]
    },
    {
     "name": "stderr",
     "output_type": "stream",
     "text": [
      "Epoch #1, sample in batch::  22%|██▏       | 7/32 [00:20<01:11,  2.87s/it]"
     ]
    },
    {
     "name": "stdout",
     "output_type": "stream",
     "text": [
      "\n",
      " loss 18.11196517944336\n"
     ]
    },
    {
     "name": "stderr",
     "output_type": "stream",
     "text": [
      "Epoch #1, sample in batch::  25%|██▌       | 8/32 [00:22<01:07,  2.82s/it]"
     ]
    },
    {
     "name": "stdout",
     "output_type": "stream",
     "text": [
      "\n",
      " loss 17.850664138793945\n"
     ]
    },
    {
     "name": "stderr",
     "output_type": "stream",
     "text": [
      "Epoch #1, sample in batch::  28%|██▊       | 9/32 [00:25<01:05,  2.86s/it]"
     ]
    },
    {
     "name": "stdout",
     "output_type": "stream",
     "text": [
      "\n",
      " loss 17.948484420776367\n"
     ]
    },
    {
     "name": "stderr",
     "output_type": "stream",
     "text": [
      "Epoch #1, sample in batch::  31%|███▏      | 10/32 [00:28<01:02,  2.85s/it]"
     ]
    },
    {
     "name": "stdout",
     "output_type": "stream",
     "text": [
      "\n",
      " loss 17.967641830444336\n"
     ]
    },
    {
     "name": "stderr",
     "output_type": "stream",
     "text": [
      "Epoch #1, sample in batch::  34%|███▍      | 11/32 [00:31<01:00,  2.90s/it]"
     ]
    },
    {
     "name": "stdout",
     "output_type": "stream",
     "text": [
      "\n",
      " loss 17.710622787475586\n"
     ]
    },
    {
     "name": "stderr",
     "output_type": "stream",
     "text": [
      "Epoch #1, sample in batch::  38%|███▊      | 12/32 [00:34<00:58,  2.90s/it]"
     ]
    },
    {
     "name": "stdout",
     "output_type": "stream",
     "text": [
      "\n",
      " loss 17.9503231048584\n"
     ]
    },
    {
     "name": "stderr",
     "output_type": "stream",
     "text": [
      "Epoch #1, sample in batch::  41%|████      | 13/32 [00:37<00:54,  2.87s/it]"
     ]
    },
    {
     "name": "stdout",
     "output_type": "stream",
     "text": [
      "\n",
      " loss 17.90242576599121\n"
     ]
    },
    {
     "name": "stderr",
     "output_type": "stream",
     "text": [
      "Epoch #1, sample in batch::  44%|████▍     | 14/32 [00:40<00:51,  2.88s/it]"
     ]
    },
    {
     "name": "stdout",
     "output_type": "stream",
     "text": [
      "\n",
      " loss 17.9655818939209\n"
     ]
    },
    {
     "name": "stderr",
     "output_type": "stream",
     "text": [
      "Epoch #1, sample in batch::  47%|████▋     | 15/32 [00:43<00:49,  2.90s/it]"
     ]
    },
    {
     "name": "stdout",
     "output_type": "stream",
     "text": [
      "\n",
      " loss 17.733234405517578\n"
     ]
    },
    {
     "name": "stderr",
     "output_type": "stream",
     "text": [
      "Epoch #1, sample in batch::  50%|█████     | 16/32 [00:46<00:46,  2.92s/it]"
     ]
    },
    {
     "name": "stdout",
     "output_type": "stream",
     "text": [
      "\n",
      " loss 17.70073127746582\n"
     ]
    },
    {
     "name": "stderr",
     "output_type": "stream",
     "text": [
      "Epoch #1, sample in batch::  53%|█████▎    | 17/32 [00:49<00:44,  2.94s/it]"
     ]
    },
    {
     "name": "stdout",
     "output_type": "stream",
     "text": [
      "\n",
      " loss 18.382535934448242\n"
     ]
    },
    {
     "name": "stderr",
     "output_type": "stream",
     "text": [
      "Epoch #1, sample in batch::  56%|█████▋    | 18/32 [00:51<00:40,  2.89s/it]"
     ]
    },
    {
     "name": "stdout",
     "output_type": "stream",
     "text": [
      "\n",
      " loss 17.796899795532227\n"
     ]
    },
    {
     "name": "stderr",
     "output_type": "stream",
     "text": [
      "Epoch #1, sample in batch::  59%|█████▉    | 19/32 [00:54<00:37,  2.89s/it]"
     ]
    },
    {
     "name": "stdout",
     "output_type": "stream",
     "text": [
      "\n",
      " loss 18.64165496826172\n"
     ]
    },
    {
     "name": "stderr",
     "output_type": "stream",
     "text": [
      "Epoch #1, sample in batch::  62%|██████▎   | 20/32 [00:57<00:34,  2.91s/it]"
     ]
    },
    {
     "name": "stdout",
     "output_type": "stream",
     "text": [
      "\n",
      " loss 17.886646270751953\n"
     ]
    },
    {
     "name": "stderr",
     "output_type": "stream",
     "text": [
      "Epoch #1, sample in batch::  66%|██████▌   | 21/32 [01:00<00:32,  2.97s/it]"
     ]
    },
    {
     "name": "stdout",
     "output_type": "stream",
     "text": [
      "\n",
      " loss 17.527780532836914\n"
     ]
    },
    {
     "name": "stderr",
     "output_type": "stream",
     "text": [
      "Epoch #1, sample in batch::  69%|██████▉   | 22/32 [01:03<00:29,  2.93s/it]"
     ]
    },
    {
     "name": "stdout",
     "output_type": "stream",
     "text": [
      "\n",
      " loss 17.627803802490234\n"
     ]
    },
    {
     "name": "stderr",
     "output_type": "stream",
     "text": [
      "Epoch #1, sample in batch::  72%|███████▏  | 23/32 [01:06<00:26,  2.97s/it]"
     ]
    },
    {
     "name": "stdout",
     "output_type": "stream",
     "text": [
      "\n",
      " loss 18.138399124145508\n"
     ]
    },
    {
     "name": "stderr",
     "output_type": "stream",
     "text": [
      "Epoch #1, sample in batch::  75%|███████▌  | 24/32 [01:09<00:23,  2.96s/it]"
     ]
    },
    {
     "name": "stdout",
     "output_type": "stream",
     "text": [
      "\n",
      " loss 17.823041915893555\n"
     ]
    },
    {
     "name": "stderr",
     "output_type": "stream",
     "text": [
      "Epoch #1, sample in batch::  78%|███████▊  | 25/32 [01:12<00:20,  2.92s/it]"
     ]
    },
    {
     "name": "stdout",
     "output_type": "stream",
     "text": [
      "\n",
      " loss 18.016286849975586\n"
     ]
    },
    {
     "name": "stderr",
     "output_type": "stream",
     "text": [
      "Epoch #1, sample in batch::  81%|████████▏ | 26/32 [01:15<00:17,  2.88s/it]"
     ]
    },
    {
     "name": "stdout",
     "output_type": "stream",
     "text": [
      "\n",
      " loss 18.990110397338867\n"
     ]
    },
    {
     "name": "stderr",
     "output_type": "stream",
     "text": [
      "Epoch #1, sample in batch::  84%|████████▍ | 27/32 [01:18<00:14,  2.90s/it]"
     ]
    },
    {
     "name": "stdout",
     "output_type": "stream",
     "text": [
      "\n",
      " loss 17.491350173950195\n"
     ]
    },
    {
     "name": "stderr",
     "output_type": "stream",
     "text": [
      "Epoch #1, sample in batch::  88%|████████▊ | 28/32 [01:20<00:11,  2.86s/it]"
     ]
    },
    {
     "name": "stdout",
     "output_type": "stream",
     "text": [
      "\n",
      " loss 17.584171295166016\n"
     ]
    },
    {
     "name": "stderr",
     "output_type": "stream",
     "text": [
      "Epoch #1, sample in batch::  91%|█████████ | 29/32 [01:24<00:08,  2.93s/it]"
     ]
    },
    {
     "name": "stdout",
     "output_type": "stream",
     "text": [
      "\n",
      " loss 17.617780685424805\n"
     ]
    },
    {
     "name": "stderr",
     "output_type": "stream",
     "text": [
      "Epoch #1, sample in batch::  94%|█████████▍| 30/32 [01:27<00:06,  3.04s/it]"
     ]
    },
    {
     "name": "stdout",
     "output_type": "stream",
     "text": [
      "\n",
      " loss 17.82236099243164\n"
     ]
    },
    {
     "name": "stderr",
     "output_type": "stream",
     "text": [
      "Epoch #1, sample in batch::  97%|█████████▋| 31/32 [01:30<00:03,  3.14s/it]"
     ]
    },
    {
     "name": "stdout",
     "output_type": "stream",
     "text": [
      "\n",
      " loss 17.554725646972656\n"
     ]
    },
    {
     "name": "stderr",
     "output_type": "stream",
     "text": [
      "Epoch #1, sample in batch:: 100%|██████████| 32/32 [01:34<00:00,  2.94s/it]"
     ]
    },
    {
     "name": "stdout",
     "output_type": "stream",
     "text": [
      "\n",
      " loss 17.567462921142578\n",
      "[959.8132934570312, 2248.327880859375, 714.2861938476562, 245.49444580078125, 94.51713562011719, 22.940732955932617, 23.34886932373047, 19.832351684570312, 20.657495498657227, 20.557537078857422, 21.008228302001953, 20.28157615661621, 20.138174057006836, 19.637601852416992, 20.17959976196289, 19.393070220947266, 22.41274642944336, 19.29230499267578, 21.300617218017578, 19.100603103637695, 18.796680450439453, 18.824108123779297, 19.329700469970703, 18.666501998901367, 19.647735595703125, 21.97400665283203, 18.624237060546875, 18.98032569885254, 18.609907150268555, 18.954944610595703, 18.626176834106445, 18.57073402404785, 19.621337890625, 18.101533889770508, 18.63861083984375, 18.351871490478516, 18.507524490356445, 18.50208854675293, 18.11196517944336, 17.850664138793945, 17.948484420776367, 17.967641830444336, 17.710622787475586, 17.9503231048584, 17.90242576599121, 17.9655818939209, 17.733234405517578, 17.70073127746582, 18.382535934448242, 17.796899795532227, 18.64165496826172, 17.886646270751953, 17.527780532836914, 17.627803802490234, 18.138399124145508, 17.823041915893555, 18.016286849975586, 18.990110397338867, 17.491350173950195, 17.584171295166016, 17.617780685424805, 17.82236099243164, 17.554725646972656, 17.567462921142578]\n",
      "CPU times: total: 2min 1s\n",
      "Wall time: 3min 36s\n"
     ]
    },
    {
     "name": "stderr",
     "output_type": "stream",
     "text": [
      "\n"
     ]
    },
    {
     "data": {
      "text/plain": [
       "[959.8132934570312,\n",
       " 2248.327880859375,\n",
       " 714.2861938476562,\n",
       " 245.49444580078125,\n",
       " 94.51713562011719,\n",
       " 22.940732955932617,\n",
       " 23.34886932373047,\n",
       " 19.832351684570312,\n",
       " 20.657495498657227,\n",
       " 20.557537078857422,\n",
       " 21.008228302001953,\n",
       " 20.28157615661621,\n",
       " 20.138174057006836,\n",
       " 19.637601852416992,\n",
       " 20.17959976196289,\n",
       " 19.393070220947266,\n",
       " 22.41274642944336,\n",
       " 19.29230499267578,\n",
       " 21.300617218017578,\n",
       " 19.100603103637695,\n",
       " 18.796680450439453,\n",
       " 18.824108123779297,\n",
       " 19.329700469970703,\n",
       " 18.666501998901367,\n",
       " 19.647735595703125,\n",
       " 21.97400665283203,\n",
       " 18.624237060546875,\n",
       " 18.98032569885254,\n",
       " 18.609907150268555,\n",
       " 18.954944610595703,\n",
       " 18.626176834106445,\n",
       " 18.57073402404785,\n",
       " 19.621337890625,\n",
       " 18.101533889770508,\n",
       " 18.63861083984375,\n",
       " 18.351871490478516,\n",
       " 18.507524490356445,\n",
       " 18.50208854675293,\n",
       " 18.11196517944336,\n",
       " 17.850664138793945,\n",
       " 17.948484420776367,\n",
       " 17.967641830444336,\n",
       " 17.710622787475586,\n",
       " 17.9503231048584,\n",
       " 17.90242576599121,\n",
       " 17.9655818939209,\n",
       " 17.733234405517578,\n",
       " 17.70073127746582,\n",
       " 18.382535934448242,\n",
       " 17.796899795532227,\n",
       " 18.64165496826172,\n",
       " 17.886646270751953,\n",
       " 17.527780532836914,\n",
       " 17.627803802490234,\n",
       " 18.138399124145508,\n",
       " 17.823041915893555,\n",
       " 18.016286849975586,\n",
       " 18.990110397338867,\n",
       " 17.491350173950195,\n",
       " 17.584171295166016,\n",
       " 17.617780685424805,\n",
       " 17.82236099243164,\n",
       " 17.554725646972656,\n",
       " 17.567462921142578]"
      ]
     },
     "execution_count": 4,
     "metadata": {},
     "output_type": "execute_result"
    }
   ],
=======
   "execution_count": null,
   "id": "73cd7acb-16c4-465e-b456-ff4b9bed6bea",
   "metadata": {},
   "outputs": [],
   "source": [
    "from tnad.optimization import load_mnist_train_data, data_preprocessing\n",
    "import tnad.procedures as p\n",
    "import matplotlib.pyplot as plt\n",
    "\n",
    "train_data = load_mnist_train_data(train_size=train_size) # seed=123456\n",
    "data = data_preprocessing(train_data, strides=strides, pool_size=pool_size, padding=padding, reduced_shape=reduced_shape)\n",
    "plt.imshow(train_data[0,:,:], interpolation='nearest', cmap='Greys')\n",
    "plt.show()"
   ]
  },
  {
   "cell_type": "code",
   "execution_count": null,
   "id": "1b4145b7-3616-45b5-ad55-50a702ca4c49",
   "metadata": {},
   "outputs": [],
>>>>>>> 787ce11 (fix 'playground-dask.ipynb')
   "source": [
    "%%time\n",
    "\n",
    "from tnad.optimization import train_SMPO, load_mnist_train_data, data_preprocessing\n",
    "import tnad.procedures as p\n",
    "\n",
    "train_data = load_mnist_train_data(train_size=train_size, seed=123456)\n",
    "data = data_preprocessing(train_data, strides=strides, pool_size=pool_size, padding=padding, reduced_shape=reduced_shape)\n",
    "\n",
    "if opt_procedure == 'local_update_sweep_dyncanonization_renorm':\n",
    "    opt_procedure = p.local_update_sweep_dyncanonization_renorm\n",
    "elif opt_procedure == 'global_update_costfuncnorm':\n",
    "    opt_procedure = p.global_update_costfuncnorm\n",
    "elif opt_procedure == 'automatic_differentiation':\n",
    "    opt_procedure = functools.partial(p.automatic_differentiation, alg_depth=2, jit_fn=False, par_client=client) # this now also works with dask!\n",
    "\n",
    "P, loss_array = train_SMPO(data, spacing, n_epochs, alpha, opt_procedure, lamda_init, lamda_init_2, decay_rate, expdecay_tol, bond_dim, init_func, scale_init_p, batch_size, seed=123456,)\n",
    "loss_array"
   ]
  },
  {
   "cell_type": "code",
   "execution_count": 6,
   "id": "c23675bc",
   "metadata": {
    "scrolled": true
   },
   "outputs": [
    {
     "ename": "RuntimeError",
     "evalue": "No visualization engine detected, please install graphviz or ipycytoscape",
     "output_type": "error",
     "traceback": [
      "\u001b[1;31m---------------------------------------------------------------------------\u001b[0m",
      "\u001b[1;31mRuntimeError\u001b[0m                              Traceback (most recent call last)",
      "\u001b[1;32mc:\\Users\\Sergi\\OneDrive\\Desktop\\BSC\\Python\\tnad\\notebooks\\playground-dask.ipynb Cell 13\u001b[0m in \u001b[0;36m<cell line: 2>\u001b[1;34m()\u001b[0m\n\u001b[0;32m      <a href='vscode-notebook-cell:/c%3A/Users/Sergi/OneDrive/Desktop/BSC/Python/tnad/notebooks/playground-dask.ipynb#X15sZmlsZQ%3D%3D?line=0'>1</a>\u001b[0m loss_array \u001b[39m=\u001b[39m dask\u001b[39m.\u001b[39mdelayed()(loss_array)\n\u001b[1;32m----> <a href='vscode-notebook-cell:/c%3A/Users/Sergi/OneDrive/Desktop/BSC/Python/tnad/notebooks/playground-dask.ipynb#X15sZmlsZQ%3D%3D?line=1'>2</a>\u001b[0m loss_array\u001b[39m.\u001b[39;49mvisualize(filename\u001b[39m=\u001b[39;49m\u001b[39m'\u001b[39;49m\u001b[39mvisualization_graph.png\u001b[39;49m\u001b[39m'\u001b[39;49m)\n",
      "File \u001b[1;32m~\\AppData\\Roaming\\Python\\Python39\\site-packages\\dask\\base.py:241\u001b[0m, in \u001b[0;36mDaskMethodsMixin.visualize\u001b[1;34m(self, filename, format, optimize_graph, **kwargs)\u001b[0m\n\u001b[0;32m    197\u001b[0m \u001b[39mdef\u001b[39;00m \u001b[39mvisualize\u001b[39m(\u001b[39mself\u001b[39m, filename\u001b[39m=\u001b[39m\u001b[39m\"\u001b[39m\u001b[39mmydask\u001b[39m\u001b[39m\"\u001b[39m, \u001b[39mformat\u001b[39m\u001b[39m=\u001b[39m\u001b[39mNone\u001b[39;00m, optimize_graph\u001b[39m=\u001b[39m\u001b[39mFalse\u001b[39;00m, \u001b[39m*\u001b[39m\u001b[39m*\u001b[39mkwargs):\n\u001b[0;32m    198\u001b[0m     \u001b[39m\"\"\"Render the computation of this object's task graph using graphviz.\u001b[39;00m\n\u001b[0;32m    199\u001b[0m \n\u001b[0;32m    200\u001b[0m \u001b[39m    Requires ``graphviz`` to be installed.\u001b[39;00m\n\u001b[1;32m   (...)\u001b[0m\n\u001b[0;32m    239\u001b[0m \u001b[39m    https://docs.dask.org/en/latest/optimize.html\u001b[39;00m\n\u001b[0;32m    240\u001b[0m \u001b[39m    \"\"\"\u001b[39;00m\n\u001b[1;32m--> 241\u001b[0m     \u001b[39mreturn\u001b[39;00m visualize(\n\u001b[0;32m    242\u001b[0m         \u001b[39mself\u001b[39m,\n\u001b[0;32m    243\u001b[0m         filename\u001b[39m=\u001b[39mfilename,\n\u001b[0;32m    244\u001b[0m         \u001b[39mformat\u001b[39m\u001b[39m=\u001b[39m\u001b[39mformat\u001b[39m,\n\u001b[0;32m    245\u001b[0m         optimize_graph\u001b[39m=\u001b[39moptimize_graph,\n\u001b[0;32m    246\u001b[0m         \u001b[39m*\u001b[39m\u001b[39m*\u001b[39mkwargs,\n\u001b[0;32m    247\u001b[0m     )\n",
      "File \u001b[1;32m~\\AppData\\Roaming\\Python\\Python39\\site-packages\\dask\\base.py:803\u001b[0m, in \u001b[0;36mvisualize\u001b[1;34m(filename, traverse, optimize_graph, maxval, engine, *args, **kwargs)\u001b[0m\n\u001b[0;32m    801\u001b[0m     \u001b[39mreturn\u001b[39;00m cytoscape_graph(dsk, filename\u001b[39m=\u001b[39mfilename, \u001b[39m*\u001b[39m\u001b[39m*\u001b[39mkwargs)\n\u001b[0;32m    802\u001b[0m \u001b[39melif\u001b[39;00m engine \u001b[39mis\u001b[39;00m \u001b[39mNone\u001b[39;00m:\n\u001b[1;32m--> 803\u001b[0m     \u001b[39mraise\u001b[39;00m \u001b[39mRuntimeError\u001b[39;00m(\n\u001b[0;32m    804\u001b[0m         \u001b[39m\"\u001b[39m\u001b[39mNo visualization engine detected, please install graphviz or ipycytoscape\u001b[39m\u001b[39m\"\u001b[39m\n\u001b[0;32m    805\u001b[0m     )\n\u001b[0;32m    806\u001b[0m \u001b[39melse\u001b[39;00m:\n\u001b[0;32m    807\u001b[0m     \u001b[39mraise\u001b[39;00m \u001b[39mValueError\u001b[39;00m(\u001b[39mf\u001b[39m\u001b[39m\"\u001b[39m\u001b[39mVisualization engine \u001b[39m\u001b[39m{\u001b[39;00mengine\u001b[39m}\u001b[39;00m\u001b[39m not recognized\u001b[39m\u001b[39m\"\u001b[39m)\n",
      "\u001b[1;31mRuntimeError\u001b[0m: No visualization engine detected, please install graphviz or ipycytoscape"
     ]
    }
   ],
   "source": [
    "loss_array = dask.delayed()(loss_array)\n",
    "loss_array.visualize(filename='visualization_graph.png')\n",
    "# loss_array.visualize(size='50',ranksep='8',node_attr={'fillcolor':'black','fontsize':'0','penwidth':'4','color':'black'},filename='visualization_graph.png', optimize_graph=True)"
   ]
  },
  {
   "cell_type": "markdown",
   "id": "b82be251",
   "metadata": {},
   "source": [
    "And we can begin the computation. `performance_report` enables to save some information from the Dask dashboard in an `.html` file."
   ]
  },
  {
   "cell_type": "code",
   "execution_count": 7,
   "id": "4fd3bd5f",
   "metadata": {
    "scrolled": true
   },
   "outputs": [
    {
     "name": "stderr",
     "output_type": "stream",
     "text": [
      "2022-09-15 17:06:27,929 - distributed.utils_perf - WARNING - full garbage collections took 13% CPU time recently (threshold: 10%)\n",
      "2022-09-15 17:06:29,151 - distributed.utils_perf - WARNING - full garbage collections took 14% CPU time recently (threshold: 10%)\n",
      "2022-09-15 17:06:29,976 - distributed.utils_perf - WARNING - full garbage collections took 12% CPU time recently (threshold: 10%)\n",
      "2022-09-15 17:06:30,318 - distributed.utils_perf - WARNING - full garbage collections took 15% CPU time recently (threshold: 10%)\n",
      "2022-09-15 17:06:30,544 - distributed.utils_perf - WARNING - full garbage collections took 13% CPU time recently (threshold: 10%)\n",
      "2022-09-15 17:06:31,073 - distributed.utils_perf - WARNING - full garbage collections took 13% CPU time recently (threshold: 10%)\n",
      "2022-09-15 17:06:31,657 - distributed.utils_perf - WARNING - full garbage collections took 15% CPU time recently (threshold: 10%)\n",
      "2022-09-15 17:06:31,772 - distributed.utils_perf - WARNING - full garbage collections took 15% CPU time recently (threshold: 10%)\n",
      "2022-09-15 17:06:31,798 - distributed.utils_perf - WARNING - full garbage collections took 14% CPU time recently (threshold: 10%)\n",
      "2022-09-15 17:06:32,754 - distributed.utils_perf - WARNING - full garbage collections took 13% CPU time recently (threshold: 10%)\n",
      "2022-09-15 17:06:32,862 - distributed.utils_perf - WARNING - full garbage collections took 15% CPU time recently (threshold: 10%)\n",
      "2022-09-15 17:06:32,953 - distributed.utils_perf - WARNING - full garbage collections took 15% CPU time recently (threshold: 10%)\n",
      "2022-09-15 17:06:32,989 - distributed.utils_perf - WARNING - full garbage collections took 16% CPU time recently (threshold: 10%)\n",
      "2022-09-15 17:06:34,016 - distributed.utils_perf - WARNING - full garbage collections took 16% CPU time recently (threshold: 10%)\n",
      "2022-09-15 17:06:34,021 - distributed.utils_perf - WARNING - full garbage collections took 15% CPU time recently (threshold: 10%)\n",
      "2022-09-15 17:06:34,062 - distributed.utils_perf - WARNING - full garbage collections took 13% CPU time recently (threshold: 10%)\n",
      "2022-09-15 17:06:34,277 - distributed.utils_perf - WARNING - full garbage collections took 14% CPU time recently (threshold: 10%)\n",
      "2022-09-15 17:06:35,078 - distributed.utils_perf - WARNING - full garbage collections took 13% CPU time recently (threshold: 10%)\n",
      "2022-09-15 17:06:35,239 - distributed.utils_perf - WARNING - full garbage collections took 16% CPU time recently (threshold: 10%)\n",
      "2022-09-15 17:06:35,320 - distributed.utils_perf - WARNING - full garbage collections took 16% CPU time recently (threshold: 10%)\n",
      "2022-09-15 17:06:35,557 - distributed.utils_perf - WARNING - full garbage collections took 15% CPU time recently (threshold: 10%)\n",
      "2022-09-15 17:06:35,923 - distributed.utils_perf - WARNING - full garbage collections took 13% CPU time recently (threshold: 10%)\n",
      "2022-09-15 17:06:36,393 - distributed.utils_perf - WARNING - full garbage collections took 16% CPU time recently (threshold: 10%)\n",
      "2022-09-15 17:06:36,606 - distributed.utils_perf - WARNING - full garbage collections took 14% CPU time recently (threshold: 10%)\n",
      "2022-09-15 17:06:36,897 - distributed.utils_perf - WARNING - full garbage collections took 15% CPU time recently (threshold: 10%)\n",
      "2022-09-15 17:06:37,388 - distributed.utils_perf - WARNING - full garbage collections took 14% CPU time recently (threshold: 10%)\n",
      "2022-09-15 17:06:37,793 - distributed.utils_perf - WARNING - full garbage collections took 14% CPU time recently (threshold: 10%)\n",
      "2022-09-15 17:06:37,900 - distributed.utils_perf - WARNING - full garbage collections took 15% CPU time recently (threshold: 10%)\n",
      "2022-09-15 17:06:37,987 - distributed.utils_perf - WARNING - full garbage collections took 16% CPU time recently (threshold: 10%)\n",
      "2022-09-15 17:06:38,609 - distributed.utils_perf - WARNING - full garbage collections took 15% CPU time recently (threshold: 10%)\n",
      "2022-09-15 17:06:38,630 - distributed.utils_perf - WARNING - full garbage collections took 16% CPU time recently (threshold: 10%)\n",
      "2022-09-15 17:06:39,047 - distributed.utils_perf - WARNING - full garbage collections took 14% CPU time recently (threshold: 10%)\n",
      "2022-09-15 17:06:39,196 - distributed.utils_perf - WARNING - full garbage collections took 16% CPU time recently (threshold: 10%)\n",
      "2022-09-15 17:06:39,753 - distributed.utils_perf - WARNING - full garbage collections took 16% CPU time recently (threshold: 10%)\n",
      "2022-09-15 17:06:39,809 - distributed.utils_perf - WARNING - full garbage collections took 15% CPU time recently (threshold: 10%)\n",
      "2022-09-15 17:06:40,120 - distributed.utils_perf - WARNING - full garbage collections took 15% CPU time recently (threshold: 10%)\n",
      "2022-09-15 17:06:40,346 - distributed.utils_perf - WARNING - full garbage collections took 15% CPU time recently (threshold: 10%)\n",
      "2022-09-15 17:06:41,102 - distributed.utils_perf - WARNING - full garbage collections took 15% CPU time recently (threshold: 10%)\n",
      "2022-09-15 17:06:41,188 - distributed.utils_perf - WARNING - full garbage collections took 15% CPU time recently (threshold: 10%)\n",
      "2022-09-15 17:06:41,512 - distributed.utils_perf - WARNING - full garbage collections took 16% CPU time recently (threshold: 10%)\n",
      "2022-09-15 17:06:41,619 - distributed.utils_perf - WARNING - full garbage collections took 15% CPU time recently (threshold: 10%)\n",
      "2022-09-15 17:06:42,329 - distributed.utils_perf - WARNING - full garbage collections took 15% CPU time recently (threshold: 10%)\n",
      "2022-09-15 17:06:42,630 - distributed.utils_perf - WARNING - full garbage collections took 15% CPU time recently (threshold: 10%)\n",
      "2022-09-15 17:06:42,974 - distributed.utils_perf - WARNING - full garbage collections took 16% CPU time recently (threshold: 10%)\n",
      "2022-09-15 17:06:42,991 - distributed.utils_perf - WARNING - full garbage collections took 15% CPU time recently (threshold: 10%)\n",
      "2022-09-15 17:06:43,576 - distributed.utils_perf - WARNING - full garbage collections took 15% CPU time recently (threshold: 10%)\n",
      "2022-09-15 17:06:43,965 - distributed.utils_perf - WARNING - full garbage collections took 15% CPU time recently (threshold: 10%)\n",
      "2022-09-15 17:06:44,319 - distributed.utils_perf - WARNING - full garbage collections took 16% CPU time recently (threshold: 10%)\n",
      "2022-09-15 17:06:44,322 - distributed.utils_perf - WARNING - full garbage collections took 15% CPU time recently (threshold: 10%)\n",
      "2022-09-15 17:06:45,124 - distributed.utils_perf - WARNING - full garbage collections took 15% CPU time recently (threshold: 10%)\n",
      "2022-09-15 17:06:45,495 - distributed.utils_perf - WARNING - full garbage collections took 16% CPU time recently (threshold: 10%)\n",
      "2022-09-15 17:06:45,526 - distributed.utils_perf - WARNING - full garbage collections took 15% CPU time recently (threshold: 10%)\n",
      "2022-09-15 17:06:45,546 - distributed.utils_perf - WARNING - full garbage collections took 15% CPU time recently (threshold: 10%)\n",
      "2022-09-15 17:06:46,263 - distributed.utils_perf - WARNING - full garbage collections took 15% CPU time recently (threshold: 10%)\n",
      "2022-09-15 17:06:46,769 - distributed.utils_perf - WARNING - full garbage collections took 16% CPU time recently (threshold: 10%)\n",
      "2022-09-15 17:06:46,812 - distributed.utils_perf - WARNING - full garbage collections took 15% CPU time recently (threshold: 10%)\n",
      "2022-09-15 17:06:46,991 - distributed.utils_perf - WARNING - full garbage collections took 15% CPU time recently (threshold: 10%)\n",
      "2022-09-15 17:06:47,705 - distributed.utils_perf - WARNING - full garbage collections took 15% CPU time recently (threshold: 10%)\n",
      "2022-09-15 17:06:48,155 - distributed.utils_perf - WARNING - full garbage collections took 16% CPU time recently (threshold: 10%)\n",
      "2022-09-15 17:06:48,254 - distributed.utils_perf - WARNING - full garbage collections took 15% CPU time recently (threshold: 10%)\n",
      "2022-09-15 17:06:48,265 - distributed.utils_perf - WARNING - full garbage collections took 15% CPU time recently (threshold: 10%)\n",
      "2022-09-15 17:06:48,843 - distributed.utils_perf - WARNING - full garbage collections took 15% CPU time recently (threshold: 10%)\n",
      "2022-09-15 17:06:49,224 - distributed.utils_perf - WARNING - full garbage collections took 16% CPU time recently (threshold: 10%)\n",
      "2022-09-15 17:06:49,649 - distributed.utils_perf - WARNING - full garbage collections took 16% CPU time recently (threshold: 10%)\n",
      "2022-09-15 17:06:49,764 - distributed.utils_perf - WARNING - full garbage collections took 15% CPU time recently (threshold: 10%)\n",
      "2022-09-15 17:06:49,922 - distributed.utils_perf - WARNING - full garbage collections took 14% CPU time recently (threshold: 10%)\n",
      "2022-09-15 17:06:50,565 - distributed.utils_perf - WARNING - full garbage collections took 16% CPU time recently (threshold: 10%)\n",
      "2022-09-15 17:06:50,576 - distributed.utils_perf - WARNING - full garbage collections took 16% CPU time recently (threshold: 10%)\n",
      "2022-09-15 17:06:51,253 - distributed.utils_perf - WARNING - full garbage collections took 15% CPU time recently (threshold: 10%)\n",
      "2022-09-15 17:06:51,412 - distributed.utils_perf - WARNING - full garbage collections took 15% CPU time recently (threshold: 10%)\n",
      "2022-09-15 17:06:51,741 - distributed.utils_perf - WARNING - full garbage collections took 16% CPU time recently (threshold: 10%)\n",
      "2022-09-15 17:06:51,799 - distributed.utils_perf - WARNING - full garbage collections took 15% CPU time recently (threshold: 10%)\n",
      "2022-09-15 17:06:52,246 - distributed.utils_perf - WARNING - full garbage collections took 15% CPU time recently (threshold: 10%)\n",
      "2022-09-15 17:06:52,680 - distributed.utils_perf - WARNING - full garbage collections took 16% CPU time recently (threshold: 10%)\n",
      "2022-09-15 17:06:52,986 - distributed.utils_perf - WARNING - full garbage collections took 15% CPU time recently (threshold: 10%)\n",
      "2022-09-15 17:06:53,104 - distributed.utils_perf - WARNING - full garbage collections took 15% CPU time recently (threshold: 10%)\n",
      "2022-09-15 17:06:53,519 - distributed.utils_perf - WARNING - full garbage collections took 15% CPU time recently (threshold: 10%)\n",
      "2022-09-15 17:06:53,878 - distributed.utils_perf - WARNING - full garbage collections took 17% CPU time recently (threshold: 10%)\n",
      "2022-09-15 17:06:54,230 - distributed.utils_perf - WARNING - full garbage collections took 15% CPU time recently (threshold: 10%)\n",
      "2022-09-15 17:06:54,345 - distributed.utils_perf - WARNING - full garbage collections took 15% CPU time recently (threshold: 10%)\n",
      "2022-09-15 17:06:54,383 - distributed.utils_perf - WARNING - full garbage collections took 15% CPU time recently (threshold: 10%)\n",
      "2022-09-15 17:06:55,154 - distributed.utils_perf - WARNING - full garbage collections took 17% CPU time recently (threshold: 10%)\n",
      "2022-09-15 17:06:55,438 - distributed.utils_perf - WARNING - full garbage collections took 15% CPU time recently (threshold: 10%)\n",
      "2022-09-15 17:06:55,481 - distributed.utils_perf - WARNING - full garbage collections took 15% CPU time recently (threshold: 10%)\n",
      "2022-09-15 17:06:55,926 - distributed.utils_perf - WARNING - full garbage collections took 16% CPU time recently (threshold: 10%)\n",
      "2022-09-15 17:06:56,148 - distributed.utils_perf - WARNING - full garbage collections took 17% CPU time recently (threshold: 10%)\n",
      "2022-09-15 17:06:56,750 - distributed.utils_perf - WARNING - full garbage collections took 15% CPU time recently (threshold: 10%)\n",
      "2022-09-15 17:06:56,773 - distributed.utils_perf - WARNING - full garbage collections took 15% CPU time recently (threshold: 10%)\n",
      "2022-09-15 17:06:57,249 - distributed.utils_perf - WARNING - full garbage collections took 16% CPU time recently (threshold: 10%)\n",
      "2022-09-15 17:06:57,256 - distributed.utils_perf - WARNING - full garbage collections took 17% CPU time recently (threshold: 10%)\n",
      "2022-09-15 17:06:57,906 - distributed.utils_perf - WARNING - full garbage collections took 15% CPU time recently (threshold: 10%)\n",
      "2022-09-15 17:06:58,129 - distributed.utils_perf - WARNING - full garbage collections took 15% CPU time recently (threshold: 10%)\n",
      "2022-09-15 17:06:58,595 - distributed.utils_perf - WARNING - full garbage collections took 17% CPU time recently (threshold: 10%)\n",
      "2022-09-15 17:06:58,725 - distributed.utils_perf - WARNING - full garbage collections took 16% CPU time recently (threshold: 10%)\n",
      "2022-09-15 17:06:59,138 - distributed.utils_perf - WARNING - full garbage collections took 15% CPU time recently (threshold: 10%)\n",
      "2022-09-15 17:06:59,559 - distributed.utils_perf - WARNING - full garbage collections took 16% CPU time recently (threshold: 10%)\n",
      "2022-09-15 17:06:59,767 - distributed.utils_perf - WARNING - full garbage collections took 17% CPU time recently (threshold: 10%)\n",
      "2022-09-15 17:07:00,156 - distributed.utils_perf - WARNING - full garbage collections took 16% CPU time recently (threshold: 10%)\n",
      "2022-09-15 17:07:00,270 - distributed.utils_perf - WARNING - full garbage collections took 15% CPU time recently (threshold: 10%)\n",
      "2022-09-15 17:07:00,617 - distributed.utils_perf - WARNING - full garbage collections took 16% CPU time recently (threshold: 10%)\n",
      "2022-09-15 17:07:01,224 - distributed.utils_perf - WARNING - full garbage collections took 17% CPU time recently (threshold: 10%)\n",
      "2022-09-15 17:07:01,261 - distributed.utils_perf - WARNING - full garbage collections took 16% CPU time recently (threshold: 10%)\n",
      "2022-09-15 17:07:01,539 - distributed.utils_perf - WARNING - full garbage collections took 16% CPU time recently (threshold: 10%)\n",
      "2022-09-15 17:07:01,716 - distributed.utils_perf - WARNING - full garbage collections took 15% CPU time recently (threshold: 10%)\n",
      "2022-09-15 17:07:02,447 - distributed.utils_perf - WARNING - full garbage collections took 17% CPU time recently (threshold: 10%)\n",
      "2022-09-15 17:07:02,665 - distributed.utils_perf - WARNING - full garbage collections took 16% CPU time recently (threshold: 10%)\n",
      "2022-09-15 17:07:02,694 - distributed.utils_perf - WARNING - full garbage collections took 15% CPU time recently (threshold: 10%)\n",
      "2022-09-15 17:07:02,715 - distributed.utils_perf - WARNING - full garbage collections took 16% CPU time recently (threshold: 10%)\n",
      "2022-09-15 17:07:03,589 - distributed.utils_perf - WARNING - full garbage collections took 15% CPU time recently (threshold: 10%)\n",
      "2022-09-15 17:07:03,769 - distributed.utils_perf - WARNING - full garbage collections took 17% CPU time recently (threshold: 10%)\n",
      "2022-09-15 17:07:04,146 - distributed.utils_perf - WARNING - full garbage collections took 16% CPU time recently (threshold: 10%)\n",
      "2022-09-15 17:07:04,284 - distributed.utils_perf - WARNING - full garbage collections took 16% CPU time recently (threshold: 10%)\n",
      "2022-09-15 17:07:04,518 - distributed.utils_perf - WARNING - full garbage collections took 15% CPU time recently (threshold: 10%)\n",
      "2022-09-15 17:07:05,210 - distributed.utils_perf - WARNING - full garbage collections took 16% CPU time recently (threshold: 10%)\n",
      "2022-09-15 17:07:05,261 - distributed.utils_perf - WARNING - full garbage collections took 17% CPU time recently (threshold: 10%)\n",
      "2022-09-15 17:07:05,607 - distributed.utils_perf - WARNING - full garbage collections took 16% CPU time recently (threshold: 10%)\n",
      "2022-09-15 17:07:05,695 - distributed.utils_perf - WARNING - full garbage collections took 15% CPU time recently (threshold: 10%)\n",
      "2022-09-15 17:07:06,493 - distributed.utils_perf - WARNING - full garbage collections took 16% CPU time recently (threshold: 10%)\n",
      "2022-09-15 17:07:06,628 - distributed.utils_perf - WARNING - full garbage collections took 16% CPU time recently (threshold: 10%)\n",
      "2022-09-15 17:07:06,699 - distributed.utils_perf - WARNING - full garbage collections took 18% CPU time recently (threshold: 10%)\n",
      "2022-09-15 17:07:07,037 - distributed.utils_perf - WARNING - full garbage collections took 16% CPU time recently (threshold: 10%)\n",
      "2022-09-15 17:07:07,605 - distributed.utils_perf - WARNING - full garbage collections took 16% CPU time recently (threshold: 10%)\n",
      "2022-09-15 17:07:08,063 - distributed.utils_perf - WARNING - full garbage collections took 17% CPU time recently (threshold: 10%)\n",
      "2022-09-15 17:07:08,117 - distributed.utils_perf - WARNING - full garbage collections took 16% CPU time recently (threshold: 10%)\n",
      "2022-09-15 17:07:08,303 - distributed.utils_perf - WARNING - full garbage collections took 16% CPU time recently (threshold: 10%)\n",
      "2022-09-15 17:07:08,855 - distributed.utils_perf - WARNING - full garbage collections took 16% CPU time recently (threshold: 10%)\n",
      "2022-09-15 17:07:09,113 - distributed.utils_perf - WARNING - full garbage collections took 18% CPU time recently (threshold: 10%)\n",
      "2022-09-15 17:07:09,421 - distributed.utils_perf - WARNING - full garbage collections took 16% CPU time recently (threshold: 10%)\n",
      "2022-09-15 17:07:09,544 - distributed.utils_perf - WARNING - full garbage collections took 16% CPU time recently (threshold: 10%)\n",
      "2022-09-15 17:07:10,072 - distributed.utils_perf - WARNING - full garbage collections took 16% CPU time recently (threshold: 10%)\n",
      "2022-09-15 17:07:10,614 - distributed.utils_perf - WARNING - full garbage collections took 16% CPU time recently (threshold: 10%)\n",
      "2022-09-15 17:07:10,633 - distributed.utils_perf - WARNING - full garbage collections took 16% CPU time recently (threshold: 10%)\n",
      "2022-09-15 17:07:10,708 - distributed.utils_perf - WARNING - full garbage collections took 18% CPU time recently (threshold: 10%)\n"
     ]
    },
    {
     "name": "stdout",
     "output_type": "stream",
     "text": [
      "CPU times: user 35 s, sys: 2.75 s, total: 37.8 s\n",
      "Wall time: 1min 55s\n"
     ]
    }
   ],
   "source": [
    "%%time\n",
    "\n",
    "from dask.distributed import performance_report\n",
    "    \n",
    "with performance_report(filename='performance_report.html') as ts:\n",
    "    loss_array = dask.delayed()(loss_array)\n",
    "    loss_array = loss_array.compute()"
   ]
  },
  {
   "cell_type": "code",
<<<<<<< HEAD
   "execution_count": 9,
   "id": "35937b96",
   "metadata": {},
   "outputs": [
    {
     "data": {
      "image/png": "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",
      "text/plain": [
       "<Figure size 1200x400 with 1 Axes>"
      ]
     },
     "metadata": {},
     "output_type": "display_data"
    }
   ],
=======
   "execution_count": null,
   "id": "ebedc892-4abb-4940-87a3-983eb4285b87",
   "metadata": {},
   "outputs": [],
>>>>>>> 787ce11 (fix 'playground-dask.ipynb')
   "source": [
    "%config InlineBackend.figure_format = 'svg'\n",
    "import matplotlib.pyplot as plt\n",
    "import matplotlib\n",
    "\n",
    "matplotlib.rcParams.update(matplotlib.rcParamsDefault) # restore to default settings\n",
    "plt.rc(\"font\", **{\"family\": \"serif\", \"serif\":[\"Computer Modern\"]})\n",
    "plt.rc(\"text\", usetex=True)\n",
    "\n",
    "fig, ax = plt.subplots(figsize=(12,4))\n",
    "ax.plot(range(0, len(loss_array)), loss_array, \"o\", linestyle=\"--\", markersize=5.)\n",
    "\n",
    "ax.set_xlabel(\"epoch\", fontsize=24)\n",
    "ax.set_ylabel(\"loss\", fontsize=24)\n",
    "\n",
    "ax.tick_params(labelsize=15)\n",
    "\n",
    "plt.subplots_adjust(\n",
    "    top=0.97,\n",
    "    bottom=0.14,\n",
    "    left=0.13,\n",
    "    right=0.97,\n",
    "    hspace=0.,\n",
    "    wspace=0.\n",
    ")\n",
    "plt.show()"
   ]
  }
 ],
 "metadata": {
  "kernelspec": {
   "display_name": "Python 3 (ipykernel)",
   "language": "python",
   "name": "python3"
  },
  "language_info": {
   "codemirror_mode": {
    "name": "ipython",
    "version": 3
   },
   "file_extension": ".py",
   "mimetype": "text/x-python",
   "name": "python",
   "nbconvert_exporter": "python",
   "pygments_lexer": "ipython3",
   "version": "3.9.13"
  },
  "vscode": {
   "interpreter": {
    "hash": "fac1413829ca582ba4d8f19a0d6d0c6b142fee2b1a7589b65d306abe89f5697a"
   }
  }
 },
 "nbformat": 4,
 "nbformat_minor": 5
}
