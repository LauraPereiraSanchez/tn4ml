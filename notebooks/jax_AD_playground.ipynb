{
 "cells": [
  {
   "cell_type": "markdown",
   "metadata": {
    "id": "xtWX4x9DCF5_"
   },
   "source": [
    "# JAX Automatic differentiation Playground\n",
    "\n",
    "[![Open in Colab](https://colab.research.google.com/assets/colab-badge.svg)](https://colab.research.google.com/github/google/jax/blob/main/docs/notebooks/quickstart.ipynb)\n",
    "\n",
    "**JAX is NumPy on the CPU, GPU, and TPU, with great automatic differentiation for high-performance machine learning research.**\n",
    "\n",
    "With its updated version of [Autograd](https://github.com/hips/autograd), JAX\n",
    "can automatically differentiate native Python and NumPy code. It can\n",
    "differentiate through a large subset of Python’s features, including loops, ifs,\n",
    "recursion, and closures, and it can even take derivatives of derivatives of\n",
    "derivatives. It supports reverse-mode as well as forward-mode differentiation, and the two can be composed arbitrarily\n",
    "to any order.\n",
    "\n",
    "What’s new is that JAX uses\n",
    "[XLA](https://www.tensorflow.org/xla)\n",
    "to compile and run your NumPy code on accelerators, like GPUs and TPUs.\n",
    "Compilation happens under the hood by default, with library calls getting\n",
    "just-in-time compiled and executed. But JAX even lets you just-in-time compile\n",
    "your own Python functions into XLA-optimized kernels using a one-function API.\n",
    "Compilation and automatic differentiation can be composed arbitrarily, so you\n",
    "can express sophisticated algorithms and get maximal performance without having\n",
    "to leave Python."
   ]
  },
  {
   "cell_type": "code",
   "execution_count": 1,
   "metadata": {
    "id": "SY8mDvEvCGqk"
   },
   "outputs": [],
   "source": [
    "import jax.numpy as jnp\n",
    "from jax import grad, jit, vmap\n",
    "from jax import random"
   ]
  },
  {
   "cell_type": "markdown",
   "metadata": {},
   "source": [
    "## Test 1:\n",
    "Example of grad() use with basic function"
   ]
  },
  {
   "cell_type": "code",
   "execution_count": 2,
   "metadata": {
    "id": "IMAgNJaMJwPD"
   },
   "outputs": [
    {
     "name": "stderr",
     "output_type": "stream",
     "text": [
      "WARNING:absl:No GPU/TPU found, falling back to CPU. (Set TF_CPP_MIN_LOG_LEVEL=0 and rerun for more info.)\n"
     ]
    },
    {
     "name": "stdout",
     "output_type": "stream",
     "text": [
      "[0.25       0.19661197 0.10499357]\n"
     ]
    }
   ],
   "source": [
    "def sum_logistic(x):\n",
    "  return jnp.sum(1.0 / (1.0 + jnp.exp(-x)))\n",
    "\n",
    "x_small = jnp.arange(3.)\n",
    "derivative_fn = grad(sum_logistic)\n",
    "print(derivative_fn(x_small))"
   ]
  },
  {
   "cell_type": "markdown",
   "metadata": {
    "id": "PtNs881Ohioc"
   },
   "source": [
    "Let's verify with finite differences that our result is correct."
   ]
  },
  {
   "cell_type": "code",
   "execution_count": 3,
   "metadata": {
    "id": "JXI7_OZuKZVO"
   },
   "outputs": [
    {
     "name": "stdout",
     "output_type": "stream",
     "text": [
      "[0.24998187 0.1965761  0.10502338]\n"
     ]
    }
   ],
   "source": [
    "def first_finite_differences(f, x):\n",
    "  eps = 1e-3\n",
    "  return jnp.array([(f(x + eps * v) - f(x - eps * v)) / (2 * eps)\n",
    "                   for v in jnp.eye(len(x))])\n",
    "\n",
    "\n",
    "print(first_finite_differences(sum_logistic, x_small))"
   ]
  },
  {
   "cell_type": "markdown",
   "metadata": {
    "id": "Q2CUZjOWNZ-3"
   },
   "source": [
    "Taking derivatives is as easy as calling {func}`~jax.grad`. {func}`~jax.grad` and {func}`~jax.jit` compose and can be mixed arbitrarily. In the above example we jitted `sum_logistic` and then took its derivative. We can go further:"
   ]
  },
  {
   "cell_type": "code",
   "execution_count": 4,
   "metadata": {
    "id": "TO4g8ny-OEi4"
   },
   "outputs": [
    {
     "name": "stdout",
     "output_type": "stream",
     "text": [
      "-0.035325598\n"
     ]
    }
   ],
   "source": [
    "print(grad(jit(grad(jit(grad(sum_logistic)))))(1.0))"
   ]
  },
  {
   "cell_type": "markdown",
   "metadata": {
    "id": "yCJ5feKvhnBJ"
   },
   "source": [
    "For more advanced autodiff, you can use {func}`jax.vjp` for reverse-mode vector-Jacobian products and {func}`jax.jvp` for forward-mode Jacobian-vector products. The two can be composed arbitrarily with one another, and with other JAX transformations. Here's one way to compose them to make a function that efficiently computes full Hessian matrices:"
   ]
  },
  {
   "cell_type": "code",
   "execution_count": 5,
   "metadata": {
    "id": "Z-JxbiNyhxEW"
   },
   "outputs": [],
   "source": [
    "from jax import jacfwd, jacrev\n",
    "def hessian(fun):\n",
    "  return jit(jacfwd(jacrev(fun)))"
   ]
  },
  {
   "cell_type": "markdown",
   "metadata": {},
   "source": [
    "## Test 2: \n",
    "This is closer to what we do in machine learning, using a loss function and some trainable weight"
   ]
  },
  {
   "cell_type": "code",
   "execution_count": 6,
   "metadata": {},
   "outputs": [],
   "source": [
    "key = random.PRNGKey(0)"
   ]
  },
  {
   "cell_type": "code",
   "execution_count": 7,
   "metadata": {},
   "outputs": [],
   "source": [
    "def sigmoid(x):\n",
    "    return 0.5 * (jnp.tanh(x / 2) + 1)\n",
    "\n",
    "# Outputs probability of a label being true.\n",
    "def predict(W, b, inputs):\n",
    "    return sigmoid(jnp.dot(inputs, W) + b)\n",
    "\n",
    "# Build a toy dataset.\n",
    "inputs = jnp.array([[0.52, 1.12,  0.77],\n",
    "                   [0.88, -1.08, 0.15],\n",
    "                   [0.52, 0.06, -1.30],\n",
    "                   [0.74, -2.49, 1.39]])\n",
    "targets = jnp.array([True, True, False, True])\n",
    "\n",
    "# Training loss is the negative log-likelihood of the training examples.\n",
    "def loss(W, b):\n",
    "    preds = predict(W, b, inputs)\n",
    "    label_probs = preds * targets + (1 - preds) * (1 - targets)\n",
    "    return -jnp.sum(jnp.log(label_probs))\n",
    "\n",
    "# Initialize random model coefficients\n",
    "key, W_key, b_key = random.split(key, 3)\n",
    "W = random.normal(W_key, (3,))\n",
    "b = random.normal(b_key, ())"
   ]
  },
  {
   "cell_type": "code",
   "execution_count": 8,
   "metadata": {},
   "outputs": [
    {
     "name": "stdout",
     "output_type": "stream",
     "text": [
      "W_grad [-0.16965583 -0.8774644  -1.4901346 ]\n",
      "W_grad [-0.16965583 -0.8774644  -1.4901346 ]\n",
      "b_grad -0.29227245\n",
      "W_grad [-0.16965583 -0.8774644  -1.4901346 ]\n",
      "b_grad -0.29227245\n"
     ]
    }
   ],
   "source": [
    "# Differentiate `loss` with respect to the first positional argument:\n",
    "W_grad = grad(loss, argnums=0)(W, b)\n",
    "print('W_grad', W_grad)\n",
    "\n",
    "# Since argnums=0 is the default, this does the same thing:\n",
    "W_grad = grad(loss)(W, b)\n",
    "print('W_grad', W_grad)\n",
    "\n",
    "# But we can choose different values too, and drop the keyword:\n",
    "b_grad = grad(loss, 1)(W, b)\n",
    "print('b_grad', b_grad)\n",
    "\n",
    "# Including tuple values\n",
    "W_grad, b_grad = grad(loss, (0, 1))(W, b)\n",
    "print('W_grad', W_grad)\n",
    "print('b_grad', b_grad)"
   ]
  },
  {
   "cell_type": "markdown",
   "metadata": {},
   "source": [
    "## Test 3: \n",
    "This is an example already with a tensor network. We're following the naive approach of making a loss function and feeding it an array that JAX knows how to operate, and only after that it's converted back to a TN. This way JAX can keep track of the operations that form the TN and differentiate over those. This means, however, that we're losing a lot of efficiency spent doing\n",
    "\n",
    "*MPS -> dense tensor -> array --[JAX processes this as an arg in loss()]--> dense tensor -> MPS -> return value*\n",
    "\n",
    "instead of \n",
    "\n",
    "*MPS -> loss() calculation -> return value*"
   ]
  },
  {
   "cell_type": "code",
   "execution_count": 9,
   "metadata": {},
   "outputs": [
    {
     "name": "stderr",
     "output_type": "stream",
     "text": [
      "c:\\Users\\Sergi\\miniconda3\\envs\\tnad\\lib\\site-packages\\tqdm\\auto.py:22: TqdmWarning: IProgress not found. Please update jupyter and ipywidgets. See https://ipywidgets.readthedocs.io/en/stable/user_install.html\n",
      "  from .autonotebook import tqdm as notebook_tqdm\n"
     ]
    }
   ],
   "source": [
    "import quimb.tensor as qtn\n",
    "import numpy as np\n",
    "from tqdm.auto import tqdm\n",
    "import itertools\n",
    "%config InlineBackend.figure_format = \"svg\"\n",
    "from matplotlib import pyplot as plt\n",
    "from functools import reduce"
   ]
  },
  {
   "cell_type": "code",
   "execution_count": 10,
   "metadata": {},
   "outputs": [],
   "source": [
    "n = 8\n",
    "chi = 256\n",
    "chi_red = 10"
   ]
  },
  {
   "cell_type": "code",
   "execution_count": 11,
   "metadata": {},
   "outputs": [
    {
     "data": {
      "text/plain": [
       "<MatrixProductState(tensors=8, indices=15, L=8, max_bond=16)>"
      ]
     },
     "execution_count": 11,
     "metadata": {},
     "output_type": "execute_result"
    }
   ],
   "source": [
    "psi_ref = qtn.MPS_rand_state(n, bond_dim=chi, normalize=True, tags=[\"ref\"])\n",
    "psi_ref.compress()\n",
    "psi_ref"
   ]
  },
  {
   "cell_type": "code",
   "execution_count": 12,
   "metadata": {},
   "outputs": [
    {
     "data": {
      "text/plain": [
       "<MatrixProductState(tensors=8, indices=15, L=8, max_bond=10)>"
      ]
     },
     "execution_count": 12,
     "metadata": {},
     "output_type": "execute_result"
    }
   ],
   "source": [
    "psi_orig = qtn.MPS_rand_state(n, bond_dim=chi_red, normalize=True, tags=[\"approx\"])\n",
    "psi_orig.compress()\n",
    "psi_orig"
   ]
  },
  {
   "cell_type": "code",
   "execution_count": 13,
   "metadata": {},
   "outputs": [
    {
     "data": {
      "text/plain": [
       "0.041089260663192545"
      ]
     },
     "execution_count": 13,
     "metadata": {},
     "output_type": "execute_result"
    }
   ],
   "source": [
    "fid = psi_ref.H & psi_orig ^ all\n",
    "if fid < 0:\n",
    "\tpsi_orig *= -1\n",
    "\tfid *= -1\n",
    "fid"
   ]
  },
  {
   "cell_type": "code",
   "execution_count": 14,
   "metadata": {},
   "outputs": [],
   "source": [
    "# def fidelity(tensor:) -> float:\n",
    "\n",
    "# def loss(f: float, norm: float) -> float:\n",
    "# \treturn (abs(f) - 1) ** 2  + (norm - 1) ** 2\n",
    "\n",
    "# We need to define the loss function so that at least one of its arguments is what we want to differentiate on\n",
    "\n",
    "def fidelity(psi1, psi2):\n",
    "\t# [psi1H, psi2] = qtn.tensor_network_align(psi1.H, psi2)\n",
    "\t# tn = (psi1H | psi2)\n",
    "\t# return tn ^ all\n",
    "\treturn (psi1.H & psi2) ^ all\n",
    "\n",
    "def norm(psi):\n",
    "\t[psiH, psi] = qtn.tensor_network_align(psi.H, psi)\n",
    "\tpsiH.drop_tags([\"approx\"])\n",
    "\n",
    "\tnorm_tn = (psiH | psi)\n",
    "\t\n",
    "\treturn norm_tn ^ all\n",
    "\n",
    "def loss_simple(fid,norm):\n",
    "\treturn (abs(fid) - 1)**2 + (norm - 1)**2\n",
    "\n",
    "def loss_array(psi_array,psi_shape,psi_ref):\n",
    "\tpsi_tn = qtn.tensor_1d.MatrixProductState.from_dense(psi_array,psi_shape)\n",
    "\treturn (abs(fidelity(psi_tn,psi_ref)) - 1)**2 + (norm(psi_tn) - 1)**2\n"
   ]
  },
  {
   "cell_type": "code",
   "execution_count": 15,
   "metadata": {},
   "outputs": [],
   "source": [
    "# However, type MatrixProductState is not (obviously) a class recognized by JAX.\n",
    "# We need to convert it to an array of arrays\n",
    "def get_grad(psi,psi_ref,gradient=None):\n",
    "    \n",
    "    psi_dense = psi ^ all\n",
    "    psi_array = psi_dense.data\n",
    "    psi_shape = psi_array.shape\n",
    "\n",
    "    if gradient is None:\n",
    "        gradient = grad(loss_array,argnums=0)\n",
    "    gradient_as_array = gradient(psi_array,psi_shape,psi_ref)\n",
    "    # gradient_as_array = grad(loss_array, argnums=0)(psi_array,psi_shape,psi_ref)\n",
    "\n",
    "    return qtn.tensor_1d.MatrixProductState.from_dense(gradient_as_array,psi_shape)\n"
   ]
  },
  {
   "cell_type": "code",
   "execution_count": 17,
   "metadata": {},
   "outputs": [
    {
     "name": "stderr",
     "output_type": "stream",
     "text": [
      "100%|██████████| 500/500 [02:02<00:00,  4.07it/s, fidelity=0.995, norm=1]                  \n"
     ]
    },
    {
     "data": {
      "image/svg+xml": "<?xml version=\"1.0\" encoding=\"utf-8\" standalone=\"no\"?>\n<!DOCTYPE svg PUBLIC \"-//W3C//DTD SVG 1.1//EN\"\n  \"http://www.w3.org/Graphics/SVG/1.1/DTD/svg11.dtd\">\n<svg xmlns:xlink=\"http://www.w3.org/1999/xlink\" width=\"745.178125pt\" height=\"547.515469pt\" viewBox=\"0 0 745.178125 547.515469\" xmlns=\"http://www.w3.org/2000/svg\" version=\"1.1\">\n <metadata>\n  <rdf:RDF xmlns:dc=\"http://purl.org/dc/elements/1.1/\" xmlns:cc=\"http://creativecommons.org/ns#\" xmlns:rdf=\"http://www.w3.org/1999/02/22-rdf-syntax-ns#\">\n   <cc:Work>\n    <dc:type rdf:resource=\"http://purl.org/dc/dcmitype/StillImage\"/>\n    <dc:date>2022-09-29T18:18:46.038230</dc:date>\n    <dc:format>image/svg+xml</dc:format>\n    <dc:creator>\n     <cc:Agent>\n      <dc:title>Matplotlib v3.5.3, https://matplotlib.org/</dc:title>\n     </cc:Agent>\n    </dc:creator>\n   </cc:Work>\n  </rdf:RDF>\n </metadata>\n <defs>\n  <style type=\"text/css\">*{stroke-linejoin: round; stroke-linecap: butt}</style>\n </defs>\n <g id=\"figure_1\">\n  <g id=\"patch_1\">\n   <path d=\"M 0 547.515469 \nL 745.178125 547.515469 \nL 745.178125 0 \nL 0 0 \nz\n\" style=\"fill: #ffffff\"/>\n  </g>\n  <g id=\"axes_1\">\n   <g id=\"patch_2\">\n    <path d=\"M 68.378125 157.75216 \nL 737.978125 157.75216 \nL 737.978125 10.999219 \nL 68.378125 10.999219 \nz\n\" style=\"fill: #ffffff\"/>\n   </g>\n   <g id=\"matplotlib.axis_1\">\n    <g id=\"xtick_1\">\n     <g id=\"line2d_1\">\n      <defs>\n       <path id=\"mf4ac6a441b\" d=\"M 0 0 \nL 0 3.5 \n\" style=\"stroke: #000000; stroke-width: 0.8\"/>\n      </defs>\n      <g>\n       <use xlink:href=\"#mf4ac6a441b\" x=\"68.378125\" y=\"157.75216\" style=\"stroke: #000000; stroke-width: 0.8\"/>\n      </g>\n     </g>\n    </g>\n    <g id=\"xtick_2\">\n     <g id=\"line2d_2\">\n      <g>\n       <use xlink:href=\"#mf4ac6a441b\" x=\"152.24586\" y=\"157.75216\" style=\"stroke: #000000; stroke-width: 0.8\"/>\n      </g>\n     </g>\n    </g>\n    <g id=\"xtick_3\">\n     <g id=\"line2d_3\">\n      <g>\n       <use xlink:href=\"#mf4ac6a441b\" x=\"236.113596\" y=\"157.75216\" style=\"stroke: #000000; stroke-width: 0.8\"/>\n      </g>\n     </g>\n    </g>\n    <g id=\"xtick_4\">\n     <g id=\"line2d_4\">\n      <g>\n       <use xlink:href=\"#mf4ac6a441b\" x=\"319.981331\" y=\"157.75216\" style=\"stroke: #000000; stroke-width: 0.8\"/>\n      </g>\n     </g>\n    </g>\n    <g id=\"xtick_5\">\n     <g id=\"line2d_5\">\n      <g>\n       <use xlink:href=\"#mf4ac6a441b\" x=\"403.849067\" y=\"157.75216\" style=\"stroke: #000000; stroke-width: 0.8\"/>\n      </g>\n     </g>\n    </g>\n    <g id=\"xtick_6\">\n     <g id=\"line2d_6\">\n      <g>\n       <use xlink:href=\"#mf4ac6a441b\" x=\"487.716802\" y=\"157.75216\" style=\"stroke: #000000; stroke-width: 0.8\"/>\n      </g>\n     </g>\n    </g>\n    <g id=\"xtick_7\">\n     <g id=\"line2d_7\">\n      <g>\n       <use xlink:href=\"#mf4ac6a441b\" x=\"571.584538\" y=\"157.75216\" style=\"stroke: #000000; stroke-width: 0.8\"/>\n      </g>\n     </g>\n    </g>\n    <g id=\"xtick_8\">\n     <g id=\"line2d_8\">\n      <g>\n       <use xlink:href=\"#mf4ac6a441b\" x=\"655.452273\" y=\"157.75216\" style=\"stroke: #000000; stroke-width: 0.8\"/>\n      </g>\n     </g>\n    </g>\n   </g>\n   <g id=\"matplotlib.axis_2\">\n    <g id=\"ytick_1\">\n     <g id=\"line2d_9\">\n      <defs>\n       <path id=\"mbb7ea8747a\" d=\"M 0 0 \nL -3.5 0 \n\" style=\"stroke: #000000; stroke-width: 0.8\"/>\n      </defs>\n      <g>\n       <use xlink:href=\"#mbb7ea8747a\" x=\"68.378125\" y=\"138.557327\" style=\"stroke: #000000; stroke-width: 0.8\"/>\n      </g>\n     </g>\n     <g id=\"text_1\">\n      <!-- $\\mathdefault{10^{-2}}$ -->\n      <g transform=\"translate(37.878125 142.356546)scale(0.1 -0.1)\">\n       <defs>\n        <path id=\"DejaVuSans-31\" d=\"M 794 531 \nL 1825 531 \nL 1825 4091 \nL 703 3866 \nL 703 4441 \nL 1819 4666 \nL 2450 4666 \nL 2450 531 \nL 3481 531 \nL 3481 0 \nL 794 0 \nL 794 531 \nz\n\" transform=\"scale(0.015625)\"/>\n        <path id=\"DejaVuSans-30\" d=\"M 2034 4250 \nQ 1547 4250 1301 3770 \nQ 1056 3291 1056 2328 \nQ 1056 1369 1301 889 \nQ 1547 409 2034 409 \nQ 2525 409 2770 889 \nQ 3016 1369 3016 2328 \nQ 3016 3291 2770 3770 \nQ 2525 4250 2034 4250 \nz\nM 2034 4750 \nQ 2819 4750 3233 4129 \nQ 3647 3509 3647 2328 \nQ 3647 1150 3233 529 \nQ 2819 -91 2034 -91 \nQ 1250 -91 836 529 \nQ 422 1150 422 2328 \nQ 422 3509 836 4129 \nQ 1250 4750 2034 4750 \nz\n\" transform=\"scale(0.015625)\"/>\n        <path id=\"DejaVuSans-2212\" d=\"M 678 2272 \nL 4684 2272 \nL 4684 1741 \nL 678 1741 \nL 678 2272 \nz\n\" transform=\"scale(0.015625)\"/>\n        <path id=\"DejaVuSans-32\" d=\"M 1228 531 \nL 3431 531 \nL 3431 0 \nL 469 0 \nL 469 531 \nQ 828 903 1448 1529 \nQ 2069 2156 2228 2338 \nQ 2531 2678 2651 2914 \nQ 2772 3150 2772 3378 \nQ 2772 3750 2511 3984 \nQ 2250 4219 1831 4219 \nQ 1534 4219 1204 4116 \nQ 875 4013 500 3803 \nL 500 4441 \nQ 881 4594 1212 4672 \nQ 1544 4750 1819 4750 \nQ 2544 4750 2975 4387 \nQ 3406 4025 3406 3419 \nQ 3406 3131 3298 2873 \nQ 3191 2616 2906 2266 \nQ 2828 2175 2409 1742 \nQ 1991 1309 1228 531 \nz\n\" transform=\"scale(0.015625)\"/>\n       </defs>\n       <use xlink:href=\"#DejaVuSans-31\" transform=\"translate(0 0.765625)\"/>\n       <use xlink:href=\"#DejaVuSans-30\" transform=\"translate(63.623047 0.765625)\"/>\n       <use xlink:href=\"#DejaVuSans-2212\" transform=\"translate(128.203125 39.046875)scale(0.7)\"/>\n       <use xlink:href=\"#DejaVuSans-32\" transform=\"translate(186.855469 39.046875)scale(0.7)\"/>\n      </g>\n     </g>\n    </g>\n    <g id=\"ytick_2\">\n     <g id=\"line2d_10\">\n      <g>\n       <use xlink:href=\"#mbb7ea8747a\" x=\"68.378125\" y=\"74.778273\" style=\"stroke: #000000; stroke-width: 0.8\"/>\n      </g>\n     </g>\n     <g id=\"text_2\">\n      <!-- $\\mathdefault{10^{-1}}$ -->\n      <g transform=\"translate(37.878125 78.577492)scale(0.1 -0.1)\">\n       <use xlink:href=\"#DejaVuSans-31\" transform=\"translate(0 0.684375)\"/>\n       <use xlink:href=\"#DejaVuSans-30\" transform=\"translate(63.623047 0.684375)\"/>\n       <use xlink:href=\"#DejaVuSans-2212\" transform=\"translate(128.203125 38.965625)scale(0.7)\"/>\n       <use xlink:href=\"#DejaVuSans-31\" transform=\"translate(186.855469 38.965625)scale(0.7)\"/>\n      </g>\n     </g>\n    </g>\n    <g id=\"ytick_3\">\n     <g id=\"line2d_11\">\n      <g>\n       <use xlink:href=\"#mbb7ea8747a\" x=\"68.378125\" y=\"10.999219\" style=\"stroke: #000000; stroke-width: 0.8\"/>\n      </g>\n     </g>\n     <g id=\"text_3\">\n      <!-- $\\mathdefault{10^{0}}$ -->\n      <g transform=\"translate(43.778125 14.798438)scale(0.1 -0.1)\">\n       <use xlink:href=\"#DejaVuSans-31\" transform=\"translate(0 0.765625)\"/>\n       <use xlink:href=\"#DejaVuSans-30\" transform=\"translate(63.623047 0.765625)\"/>\n       <use xlink:href=\"#DejaVuSans-30\" transform=\"translate(128.203125 39.046875)scale(0.7)\"/>\n      </g>\n     </g>\n    </g>\n    <g id=\"ytick_4\">\n     <g id=\"line2d_12\">\n      <defs>\n       <path id=\"m697297994a\" d=\"M 0 0 \nL -2 0 \n\" style=\"stroke: #000000; stroke-width: 0.6\"/>\n      </defs>\n      <g>\n       <use xlink:href=\"#m697297994a\" x=\"68.378125\" y=\"152.706631\" style=\"stroke: #000000; stroke-width: 0.6\"/>\n      </g>\n     </g>\n    </g>\n    <g id=\"ytick_5\">\n     <g id=\"line2d_13\">\n      <g>\n       <use xlink:href=\"#m697297994a\" x=\"68.378125\" y=\"148.436828\" style=\"stroke: #000000; stroke-width: 0.6\"/>\n      </g>\n     </g>\n    </g>\n    <g id=\"ytick_6\">\n     <g id=\"line2d_14\">\n      <g>\n       <use xlink:href=\"#m697297994a\" x=\"68.378125\" y=\"144.738156\" style=\"stroke: #000000; stroke-width: 0.6\"/>\n      </g>\n     </g>\n    </g>\n    <g id=\"ytick_7\">\n     <g id=\"line2d_15\">\n      <g>\n       <use xlink:href=\"#m697297994a\" x=\"68.378125\" y=\"141.475697\" style=\"stroke: #000000; stroke-width: 0.6\"/>\n      </g>\n     </g>\n    </g>\n    <g id=\"ytick_8\">\n     <g id=\"line2d_16\">\n      <g>\n       <use xlink:href=\"#m697297994a\" x=\"68.378125\" y=\"119.357919\" style=\"stroke: #000000; stroke-width: 0.6\"/>\n      </g>\n     </g>\n    </g>\n    <g id=\"ytick_9\">\n     <g id=\"line2d_17\">\n      <g>\n       <use xlink:href=\"#m697297994a\" x=\"68.378125\" y=\"108.126985\" style=\"stroke: #000000; stroke-width: 0.6\"/>\n      </g>\n     </g>\n    </g>\n    <g id=\"ytick_10\">\n     <g id=\"line2d_18\">\n      <g>\n       <use xlink:href=\"#m697297994a\" x=\"68.378125\" y=\"100.15851\" style=\"stroke: #000000; stroke-width: 0.6\"/>\n      </g>\n     </g>\n    </g>\n    <g id=\"ytick_11\">\n     <g id=\"line2d_19\">\n      <g>\n       <use xlink:href=\"#m697297994a\" x=\"68.378125\" y=\"93.977681\" style=\"stroke: #000000; stroke-width: 0.6\"/>\n      </g>\n     </g>\n    </g>\n    <g id=\"ytick_12\">\n     <g id=\"line2d_20\">\n      <g>\n       <use xlink:href=\"#m697297994a\" x=\"68.378125\" y=\"88.927576\" style=\"stroke: #000000; stroke-width: 0.6\"/>\n      </g>\n     </g>\n    </g>\n    <g id=\"ytick_13\">\n     <g id=\"line2d_21\">\n      <g>\n       <use xlink:href=\"#m697297994a\" x=\"68.378125\" y=\"84.657773\" style=\"stroke: #000000; stroke-width: 0.6\"/>\n      </g>\n     </g>\n    </g>\n    <g id=\"ytick_14\">\n     <g id=\"line2d_22\">\n      <g>\n       <use xlink:href=\"#m697297994a\" x=\"68.378125\" y=\"80.959102\" style=\"stroke: #000000; stroke-width: 0.6\"/>\n      </g>\n     </g>\n    </g>\n    <g id=\"ytick_15\">\n     <g id=\"line2d_23\">\n      <g>\n       <use xlink:href=\"#m697297994a\" x=\"68.378125\" y=\"77.696642\" style=\"stroke: #000000; stroke-width: 0.6\"/>\n      </g>\n     </g>\n    </g>\n    <g id=\"ytick_16\">\n     <g id=\"line2d_24\">\n      <g>\n       <use xlink:href=\"#m697297994a\" x=\"68.378125\" y=\"55.578865\" style=\"stroke: #000000; stroke-width: 0.6\"/>\n      </g>\n     </g>\n    </g>\n    <g id=\"ytick_17\">\n     <g id=\"line2d_25\">\n      <g>\n       <use xlink:href=\"#m697297994a\" x=\"68.378125\" y=\"44.347931\" style=\"stroke: #000000; stroke-width: 0.6\"/>\n      </g>\n     </g>\n    </g>\n    <g id=\"ytick_18\">\n     <g id=\"line2d_26\">\n      <g>\n       <use xlink:href=\"#m697297994a\" x=\"68.378125\" y=\"36.379456\" style=\"stroke: #000000; stroke-width: 0.6\"/>\n      </g>\n     </g>\n    </g>\n    <g id=\"ytick_19\">\n     <g id=\"line2d_27\">\n      <g>\n       <use xlink:href=\"#m697297994a\" x=\"68.378125\" y=\"30.198627\" style=\"stroke: #000000; stroke-width: 0.6\"/>\n      </g>\n     </g>\n    </g>\n    <g id=\"ytick_20\">\n     <g id=\"line2d_28\">\n      <g>\n       <use xlink:href=\"#m697297994a\" x=\"68.378125\" y=\"25.148522\" style=\"stroke: #000000; stroke-width: 0.6\"/>\n      </g>\n     </g>\n    </g>\n    <g id=\"ytick_21\">\n     <g id=\"line2d_29\">\n      <g>\n       <use xlink:href=\"#m697297994a\" x=\"68.378125\" y=\"20.878719\" style=\"stroke: #000000; stroke-width: 0.6\"/>\n      </g>\n     </g>\n    </g>\n    <g id=\"ytick_22\">\n     <g id=\"line2d_30\">\n      <g>\n       <use xlink:href=\"#m697297994a\" x=\"68.378125\" y=\"17.180048\" style=\"stroke: #000000; stroke-width: 0.6\"/>\n      </g>\n     </g>\n    </g>\n    <g id=\"ytick_23\">\n     <g id=\"line2d_31\">\n      <g>\n       <use xlink:href=\"#m697297994a\" x=\"68.378125\" y=\"13.917588\" style=\"stroke: #000000; stroke-width: 0.6\"/>\n      </g>\n     </g>\n    </g>\n    <g id=\"text_4\">\n     <!-- infidelity -->\n     <g style=\"fill: #1f77b4\" transform=\"translate(31.798438 106.031158)rotate(-90)scale(0.1 -0.1)\">\n      <defs>\n       <path id=\"DejaVuSans-69\" d=\"M 603 3500 \nL 1178 3500 \nL 1178 0 \nL 603 0 \nL 603 3500 \nz\nM 603 4863 \nL 1178 4863 \nL 1178 4134 \nL 603 4134 \nL 603 4863 \nz\n\" transform=\"scale(0.015625)\"/>\n       <path id=\"DejaVuSans-6e\" d=\"M 3513 2113 \nL 3513 0 \nL 2938 0 \nL 2938 2094 \nQ 2938 2591 2744 2837 \nQ 2550 3084 2163 3084 \nQ 1697 3084 1428 2787 \nQ 1159 2491 1159 1978 \nL 1159 0 \nL 581 0 \nL 581 3500 \nL 1159 3500 \nL 1159 2956 \nQ 1366 3272 1645 3428 \nQ 1925 3584 2291 3584 \nQ 2894 3584 3203 3211 \nQ 3513 2838 3513 2113 \nz\n\" transform=\"scale(0.015625)\"/>\n       <path id=\"DejaVuSans-66\" d=\"M 2375 4863 \nL 2375 4384 \nL 1825 4384 \nQ 1516 4384 1395 4259 \nQ 1275 4134 1275 3809 \nL 1275 3500 \nL 2222 3500 \nL 2222 3053 \nL 1275 3053 \nL 1275 0 \nL 697 0 \nL 697 3053 \nL 147 3053 \nL 147 3500 \nL 697 3500 \nL 697 3744 \nQ 697 4328 969 4595 \nQ 1241 4863 1831 4863 \nL 2375 4863 \nz\n\" transform=\"scale(0.015625)\"/>\n       <path id=\"DejaVuSans-64\" d=\"M 2906 2969 \nL 2906 4863 \nL 3481 4863 \nL 3481 0 \nL 2906 0 \nL 2906 525 \nQ 2725 213 2448 61 \nQ 2172 -91 1784 -91 \nQ 1150 -91 751 415 \nQ 353 922 353 1747 \nQ 353 2572 751 3078 \nQ 1150 3584 1784 3584 \nQ 2172 3584 2448 3432 \nQ 2725 3281 2906 2969 \nz\nM 947 1747 \nQ 947 1113 1208 752 \nQ 1469 391 1925 391 \nQ 2381 391 2643 752 \nQ 2906 1113 2906 1747 \nQ 2906 2381 2643 2742 \nQ 2381 3103 1925 3103 \nQ 1469 3103 1208 2742 \nQ 947 2381 947 1747 \nz\n\" transform=\"scale(0.015625)\"/>\n       <path id=\"DejaVuSans-65\" d=\"M 3597 1894 \nL 3597 1613 \nL 953 1613 \nQ 991 1019 1311 708 \nQ 1631 397 2203 397 \nQ 2534 397 2845 478 \nQ 3156 559 3463 722 \nL 3463 178 \nQ 3153 47 2828 -22 \nQ 2503 -91 2169 -91 \nQ 1331 -91 842 396 \nQ 353 884 353 1716 \nQ 353 2575 817 3079 \nQ 1281 3584 2069 3584 \nQ 2775 3584 3186 3129 \nQ 3597 2675 3597 1894 \nz\nM 3022 2063 \nQ 3016 2534 2758 2815 \nQ 2500 3097 2075 3097 \nQ 1594 3097 1305 2825 \nQ 1016 2553 972 2059 \nL 3022 2063 \nz\n\" transform=\"scale(0.015625)\"/>\n       <path id=\"DejaVuSans-6c\" d=\"M 603 4863 \nL 1178 4863 \nL 1178 0 \nL 603 0 \nL 603 4863 \nz\n\" transform=\"scale(0.015625)\"/>\n       <path id=\"DejaVuSans-74\" d=\"M 1172 4494 \nL 1172 3500 \nL 2356 3500 \nL 2356 3053 \nL 1172 3053 \nL 1172 1153 \nQ 1172 725 1289 603 \nQ 1406 481 1766 481 \nL 2356 481 \nL 2356 0 \nL 1766 0 \nQ 1100 0 847 248 \nQ 594 497 594 1153 \nL 594 3053 \nL 172 3053 \nL 172 3500 \nL 594 3500 \nL 594 4494 \nL 1172 4494 \nz\n\" transform=\"scale(0.015625)\"/>\n       <path id=\"DejaVuSans-79\" d=\"M 2059 -325 \nQ 1816 -950 1584 -1140 \nQ 1353 -1331 966 -1331 \nL 506 -1331 \nL 506 -850 \nL 844 -850 \nQ 1081 -850 1212 -737 \nQ 1344 -625 1503 -206 \nL 1606 56 \nL 191 3500 \nL 800 3500 \nL 1894 763 \nL 2988 3500 \nL 3597 3500 \nL 2059 -325 \nz\n\" transform=\"scale(0.015625)\"/>\n      </defs>\n      <use xlink:href=\"#DejaVuSans-69\"/>\n      <use xlink:href=\"#DejaVuSans-6e\" x=\"27.783203\"/>\n      <use xlink:href=\"#DejaVuSans-66\" x=\"91.162109\"/>\n      <use xlink:href=\"#DejaVuSans-69\" x=\"126.367188\"/>\n      <use xlink:href=\"#DejaVuSans-64\" x=\"154.150391\"/>\n      <use xlink:href=\"#DejaVuSans-65\" x=\"217.626953\"/>\n      <use xlink:href=\"#DejaVuSans-6c\" x=\"279.150391\"/>\n      <use xlink:href=\"#DejaVuSans-69\" x=\"306.933594\"/>\n      <use xlink:href=\"#DejaVuSans-74\" x=\"334.716797\"/>\n      <use xlink:href=\"#DejaVuSans-79\" x=\"373.925781\"/>\n     </g>\n    </g>\n   </g>\n   <g id=\"line2d_32\">\n    <path d=\"M 68.378125 12.161389 \nL 68.378125 17.165568 \nL 69.720009 23.128105 \nL 71.061893 28.577074 \nL 72.403776 33.343785 \nL 73.74566 37.518143 \nL 75.087544 41.210321 \nL 76.429428 44.508934 \nL 79.113195 50.187653 \nL 81.796963 54.947665 \nL 84.48073 59.035697 \nL 87.164498 62.611607 \nL 89.848265 65.788614 \nL 92.532033 68.645522 \nL 95.2158 71.242517 \nL 99.241452 74.737632 \nL 103.267103 77.846138 \nL 107.292754 80.644527 \nL 111.318406 83.189004 \nL 116.685941 86.257014 \nL 122.053476 89.021691 \nL 127.421011 91.536287 \nL 134.13043 94.391085 \nL 140.839848 96.980744 \nL 147.549267 99.350059 \nL 155.60057 101.949792 \nL 163.651872 104.327485 \nL 173.045059 106.868155 \nL 183.780129 109.510224 \nL 194.515199 111.924928 \nL 206.592153 114.412949 \nL 220.010991 116.93514 \nL 234.771712 119.470581 \nL 252.216201 122.195302 \nL 266.976923 124.309997 \nL 289.788947 127.287276 \nL 307.233436 129.368404 \nL 328.703576 131.732888 \nL 358.225019 134.682933 \nL 389.088345 137.466367 \nL 434.712394 141.127417 \nL 474.968907 143.997653 \nL 517.909187 146.767783 \nL 551.456281 148.754089 \nL 627.943656 152.800856 \nL 737.978125 157.75216 \nL 737.978125 157.75216 \n\" clip-path=\"url(#pb4967f2455)\" style=\"fill: none; stroke: #0000ff; stroke-width: 1.5; stroke-linecap: square\"/>\n   </g>\n   <g id=\"patch_3\">\n    <path d=\"M 68.378125 157.75216 \nL 68.378125 10.999219 \n\" style=\"fill: none; stroke: #000000; stroke-width: 0.8; stroke-linejoin: miter; stroke-linecap: square\"/>\n   </g>\n   <g id=\"patch_4\">\n    <path d=\"M 737.978125 157.75216 \nL 737.978125 10.999219 \n\" style=\"fill: none; stroke: #000000; stroke-width: 0.8; stroke-linejoin: miter; stroke-linecap: square\"/>\n   </g>\n   <g id=\"patch_5\">\n    <path d=\"M 68.378125 157.75216 \nL 737.978125 157.75216 \n\" style=\"fill: none; stroke: #000000; stroke-width: 0.8; stroke-linejoin: miter; stroke-linecap: square\"/>\n   </g>\n   <g id=\"patch_6\">\n    <path d=\"M 68.378125 10.999219 \nL 737.978125 10.999219 \n\" style=\"fill: none; stroke: #000000; stroke-width: 0.8; stroke-linejoin: miter; stroke-linecap: square\"/>\n   </g>\n  </g>\n  <g id=\"axes_2\">\n   <g id=\"patch_7\">\n    <path d=\"M 68.378125 333.855689 \nL 737.978125 333.855689 \nL 737.978125 187.102748 \nL 68.378125 187.102748 \nz\n\" style=\"fill: #ffffff\"/>\n   </g>\n   <g id=\"matplotlib.axis_3\">\n    <g id=\"xtick_9\">\n     <g id=\"line2d_33\">\n      <g>\n       <use xlink:href=\"#mf4ac6a441b\" x=\"68.378125\" y=\"333.855689\" style=\"stroke: #000000; stroke-width: 0.8\"/>\n      </g>\n     </g>\n    </g>\n    <g id=\"xtick_10\">\n     <g id=\"line2d_34\">\n      <g>\n       <use xlink:href=\"#mf4ac6a441b\" x=\"152.24586\" y=\"333.855689\" style=\"stroke: #000000; stroke-width: 0.8\"/>\n      </g>\n     </g>\n    </g>\n    <g id=\"xtick_11\">\n     <g id=\"line2d_35\">\n      <g>\n       <use xlink:href=\"#mf4ac6a441b\" x=\"236.113596\" y=\"333.855689\" style=\"stroke: #000000; stroke-width: 0.8\"/>\n      </g>\n     </g>\n    </g>\n    <g id=\"xtick_12\">\n     <g id=\"line2d_36\">\n      <g>\n       <use xlink:href=\"#mf4ac6a441b\" x=\"319.981331\" y=\"333.855689\" style=\"stroke: #000000; stroke-width: 0.8\"/>\n      </g>\n     </g>\n    </g>\n    <g id=\"xtick_13\">\n     <g id=\"line2d_37\">\n      <g>\n       <use xlink:href=\"#mf4ac6a441b\" x=\"403.849067\" y=\"333.855689\" style=\"stroke: #000000; stroke-width: 0.8\"/>\n      </g>\n     </g>\n    </g>\n    <g id=\"xtick_14\">\n     <g id=\"line2d_38\">\n      <g>\n       <use xlink:href=\"#mf4ac6a441b\" x=\"487.716802\" y=\"333.855689\" style=\"stroke: #000000; stroke-width: 0.8\"/>\n      </g>\n     </g>\n    </g>\n    <g id=\"xtick_15\">\n     <g id=\"line2d_39\">\n      <g>\n       <use xlink:href=\"#mf4ac6a441b\" x=\"571.584538\" y=\"333.855689\" style=\"stroke: #000000; stroke-width: 0.8\"/>\n      </g>\n     </g>\n    </g>\n    <g id=\"xtick_16\">\n     <g id=\"line2d_40\">\n      <g>\n       <use xlink:href=\"#mf4ac6a441b\" x=\"655.452273\" y=\"333.855689\" style=\"stroke: #000000; stroke-width: 0.8\"/>\n      </g>\n     </g>\n    </g>\n   </g>\n   <g id=\"matplotlib.axis_4\">\n    <g id=\"ytick_24\">\n     <g id=\"line2d_41\">\n      <g>\n       <use xlink:href=\"#mbb7ea8747a\" x=\"68.378125\" y=\"307.270095\" style=\"stroke: #000000; stroke-width: 0.8\"/>\n      </g>\n     </g>\n     <g id=\"text_5\">\n      <!-- $\\mathdefault{10^{-4}}$ -->\n      <g transform=\"translate(37.878125 311.069314)scale(0.1 -0.1)\">\n       <defs>\n        <path id=\"DejaVuSans-34\" d=\"M 2419 4116 \nL 825 1625 \nL 2419 1625 \nL 2419 4116 \nz\nM 2253 4666 \nL 3047 4666 \nL 3047 1625 \nL 3713 1625 \nL 3713 1100 \nL 3047 1100 \nL 3047 0 \nL 2419 0 \nL 2419 1100 \nL 313 1100 \nL 313 1709 \nL 2253 4666 \nz\n\" transform=\"scale(0.015625)\"/>\n       </defs>\n       <use xlink:href=\"#DejaVuSans-31\" transform=\"translate(0 0.684375)\"/>\n       <use xlink:href=\"#DejaVuSans-30\" transform=\"translate(63.623047 0.684375)\"/>\n       <use xlink:href=\"#DejaVuSans-2212\" transform=\"translate(128.203125 38.965625)scale(0.7)\"/>\n       <use xlink:href=\"#DejaVuSans-34\" transform=\"translate(186.855469 38.965625)scale(0.7)\"/>\n      </g>\n     </g>\n    </g>\n    <g id=\"ytick_25\">\n     <g id=\"line2d_42\">\n      <g>\n       <use xlink:href=\"#mbb7ea8747a\" x=\"68.378125\" y=\"276.952033\" style=\"stroke: #000000; stroke-width: 0.8\"/>\n      </g>\n     </g>\n     <g id=\"text_6\">\n      <!-- $\\mathdefault{10^{-3}}$ -->\n      <g transform=\"translate(37.878125 280.751252)scale(0.1 -0.1)\">\n       <defs>\n        <path id=\"DejaVuSans-33\" d=\"M 2597 2516 \nQ 3050 2419 3304 2112 \nQ 3559 1806 3559 1356 \nQ 3559 666 3084 287 \nQ 2609 -91 1734 -91 \nQ 1441 -91 1130 -33 \nQ 819 25 488 141 \nL 488 750 \nQ 750 597 1062 519 \nQ 1375 441 1716 441 \nQ 2309 441 2620 675 \nQ 2931 909 2931 1356 \nQ 2931 1769 2642 2001 \nQ 2353 2234 1838 2234 \nL 1294 2234 \nL 1294 2753 \nL 1863 2753 \nQ 2328 2753 2575 2939 \nQ 2822 3125 2822 3475 \nQ 2822 3834 2567 4026 \nQ 2313 4219 1838 4219 \nQ 1578 4219 1281 4162 \nQ 984 4106 628 3988 \nL 628 4550 \nQ 988 4650 1302 4700 \nQ 1616 4750 1894 4750 \nQ 2613 4750 3031 4423 \nQ 3450 4097 3450 3541 \nQ 3450 3153 3228 2886 \nQ 3006 2619 2597 2516 \nz\n\" transform=\"scale(0.015625)\"/>\n       </defs>\n       <use xlink:href=\"#DejaVuSans-31\" transform=\"translate(0 0.765625)\"/>\n       <use xlink:href=\"#DejaVuSans-30\" transform=\"translate(63.623047 0.765625)\"/>\n       <use xlink:href=\"#DejaVuSans-2212\" transform=\"translate(128.203125 39.046875)scale(0.7)\"/>\n       <use xlink:href=\"#DejaVuSans-33\" transform=\"translate(186.855469 39.046875)scale(0.7)\"/>\n      </g>\n     </g>\n    </g>\n    <g id=\"ytick_26\">\n     <g id=\"line2d_43\">\n      <g>\n       <use xlink:href=\"#mbb7ea8747a\" x=\"68.378125\" y=\"246.633971\" style=\"stroke: #000000; stroke-width: 0.8\"/>\n      </g>\n     </g>\n     <g id=\"text_7\">\n      <!-- $\\mathdefault{10^{-2}}$ -->\n      <g transform=\"translate(37.878125 250.43319)scale(0.1 -0.1)\">\n       <use xlink:href=\"#DejaVuSans-31\" transform=\"translate(0 0.765625)\"/>\n       <use xlink:href=\"#DejaVuSans-30\" transform=\"translate(63.623047 0.765625)\"/>\n       <use xlink:href=\"#DejaVuSans-2212\" transform=\"translate(128.203125 39.046875)scale(0.7)\"/>\n       <use xlink:href=\"#DejaVuSans-32\" transform=\"translate(186.855469 39.046875)scale(0.7)\"/>\n      </g>\n     </g>\n    </g>\n    <g id=\"ytick_27\">\n     <g id=\"line2d_44\">\n      <g>\n       <use xlink:href=\"#mbb7ea8747a\" x=\"68.378125\" y=\"216.31591\" style=\"stroke: #000000; stroke-width: 0.8\"/>\n      </g>\n     </g>\n     <g id=\"text_8\">\n      <!-- $\\mathdefault{10^{-1}}$ -->\n      <g transform=\"translate(37.878125 220.115128)scale(0.1 -0.1)\">\n       <use xlink:href=\"#DejaVuSans-31\" transform=\"translate(0 0.684375)\"/>\n       <use xlink:href=\"#DejaVuSans-30\" transform=\"translate(63.623047 0.684375)\"/>\n       <use xlink:href=\"#DejaVuSans-2212\" transform=\"translate(128.203125 38.965625)scale(0.7)\"/>\n       <use xlink:href=\"#DejaVuSans-31\" transform=\"translate(186.855469 38.965625)scale(0.7)\"/>\n      </g>\n     </g>\n    </g>\n    <g id=\"ytick_28\">\n     <g id=\"line2d_45\">\n      <g>\n       <use xlink:href=\"#m697297994a\" x=\"68.378125\" y=\"328.461511\" style=\"stroke: #000000; stroke-width: 0.6\"/>\n      </g>\n     </g>\n    </g>\n    <g id=\"ytick_29\">\n     <g id=\"line2d_46\">\n      <g>\n       <use xlink:href=\"#m697297994a\" x=\"68.378125\" y=\"323.122765\" style=\"stroke: #000000; stroke-width: 0.6\"/>\n      </g>\n     </g>\n    </g>\n    <g id=\"ytick_30\">\n     <g id=\"line2d_47\">\n      <g>\n       <use xlink:href=\"#m697297994a\" x=\"68.378125\" y=\"319.334865\" style=\"stroke: #000000; stroke-width: 0.6\"/>\n      </g>\n     </g>\n    </g>\n    <g id=\"ytick_31\">\n     <g id=\"line2d_48\">\n      <g>\n       <use xlink:href=\"#m697297994a\" x=\"68.378125\" y=\"316.396741\" style=\"stroke: #000000; stroke-width: 0.6\"/>\n      </g>\n     </g>\n    </g>\n    <g id=\"ytick_32\">\n     <g id=\"line2d_49\">\n      <g>\n       <use xlink:href=\"#m697297994a\" x=\"68.378125\" y=\"313.996119\" style=\"stroke: #000000; stroke-width: 0.6\"/>\n      </g>\n     </g>\n    </g>\n    <g id=\"ytick_33\">\n     <g id=\"line2d_50\">\n      <g>\n       <use xlink:href=\"#m697297994a\" x=\"68.378125\" y=\"311.966422\" style=\"stroke: #000000; stroke-width: 0.6\"/>\n      </g>\n     </g>\n    </g>\n    <g id=\"ytick_34\">\n     <g id=\"line2d_51\">\n      <g>\n       <use xlink:href=\"#m697297994a\" x=\"68.378125\" y=\"310.208219\" style=\"stroke: #000000; stroke-width: 0.6\"/>\n      </g>\n     </g>\n    </g>\n    <g id=\"ytick_35\">\n     <g id=\"line2d_52\">\n      <g>\n       <use xlink:href=\"#m697297994a\" x=\"68.378125\" y=\"308.657373\" style=\"stroke: #000000; stroke-width: 0.6\"/>\n      </g>\n     </g>\n    </g>\n    <g id=\"ytick_36\">\n     <g id=\"line2d_53\">\n      <g>\n       <use xlink:href=\"#m697297994a\" x=\"68.378125\" y=\"298.143449\" style=\"stroke: #000000; stroke-width: 0.6\"/>\n      </g>\n     </g>\n    </g>\n    <g id=\"ytick_37\">\n     <g id=\"line2d_54\">\n      <g>\n       <use xlink:href=\"#m697297994a\" x=\"68.378125\" y=\"292.804703\" style=\"stroke: #000000; stroke-width: 0.6\"/>\n      </g>\n     </g>\n    </g>\n    <g id=\"ytick_38\">\n     <g id=\"line2d_55\">\n      <g>\n       <use xlink:href=\"#m697297994a\" x=\"68.378125\" y=\"289.016803\" style=\"stroke: #000000; stroke-width: 0.6\"/>\n      </g>\n     </g>\n    </g>\n    <g id=\"ytick_39\">\n     <g id=\"line2d_56\">\n      <g>\n       <use xlink:href=\"#m697297994a\" x=\"68.378125\" y=\"286.078679\" style=\"stroke: #000000; stroke-width: 0.6\"/>\n      </g>\n     </g>\n    </g>\n    <g id=\"ytick_40\">\n     <g id=\"line2d_57\">\n      <g>\n       <use xlink:href=\"#m697297994a\" x=\"68.378125\" y=\"283.678057\" style=\"stroke: #000000; stroke-width: 0.6\"/>\n      </g>\n     </g>\n    </g>\n    <g id=\"ytick_41\">\n     <g id=\"line2d_58\">\n      <g>\n       <use xlink:href=\"#m697297994a\" x=\"68.378125\" y=\"281.64836\" style=\"stroke: #000000; stroke-width: 0.6\"/>\n      </g>\n     </g>\n    </g>\n    <g id=\"ytick_42\">\n     <g id=\"line2d_59\">\n      <g>\n       <use xlink:href=\"#m697297994a\" x=\"68.378125\" y=\"279.890157\" style=\"stroke: #000000; stroke-width: 0.6\"/>\n      </g>\n     </g>\n    </g>\n    <g id=\"ytick_43\">\n     <g id=\"line2d_60\">\n      <g>\n       <use xlink:href=\"#m697297994a\" x=\"68.378125\" y=\"278.339312\" style=\"stroke: #000000; stroke-width: 0.6\"/>\n      </g>\n     </g>\n    </g>\n    <g id=\"ytick_44\">\n     <g id=\"line2d_61\">\n      <g>\n       <use xlink:href=\"#m697297994a\" x=\"68.378125\" y=\"267.825387\" style=\"stroke: #000000; stroke-width: 0.6\"/>\n      </g>\n     </g>\n    </g>\n    <g id=\"ytick_45\">\n     <g id=\"line2d_62\">\n      <g>\n       <use xlink:href=\"#m697297994a\" x=\"68.378125\" y=\"262.486642\" style=\"stroke: #000000; stroke-width: 0.6\"/>\n      </g>\n     </g>\n    </g>\n    <g id=\"ytick_46\">\n     <g id=\"line2d_63\">\n      <g>\n       <use xlink:href=\"#m697297994a\" x=\"68.378125\" y=\"258.698741\" style=\"stroke: #000000; stroke-width: 0.6\"/>\n      </g>\n     </g>\n    </g>\n    <g id=\"ytick_47\">\n     <g id=\"line2d_64\">\n      <g>\n       <use xlink:href=\"#m697297994a\" x=\"68.378125\" y=\"255.760617\" style=\"stroke: #000000; stroke-width: 0.6\"/>\n      </g>\n     </g>\n    </g>\n    <g id=\"ytick_48\">\n     <g id=\"line2d_65\">\n      <g>\n       <use xlink:href=\"#m697297994a\" x=\"68.378125\" y=\"253.359996\" style=\"stroke: #000000; stroke-width: 0.6\"/>\n      </g>\n     </g>\n    </g>\n    <g id=\"ytick_49\">\n     <g id=\"line2d_66\">\n      <g>\n       <use xlink:href=\"#m697297994a\" x=\"68.378125\" y=\"251.330299\" style=\"stroke: #000000; stroke-width: 0.6\"/>\n      </g>\n     </g>\n    </g>\n    <g id=\"ytick_50\">\n     <g id=\"line2d_67\">\n      <g>\n       <use xlink:href=\"#m697297994a\" x=\"68.378125\" y=\"249.572095\" style=\"stroke: #000000; stroke-width: 0.6\"/>\n      </g>\n     </g>\n    </g>\n    <g id=\"ytick_51\">\n     <g id=\"line2d_68\">\n      <g>\n       <use xlink:href=\"#m697297994a\" x=\"68.378125\" y=\"248.02125\" style=\"stroke: #000000; stroke-width: 0.6\"/>\n      </g>\n     </g>\n    </g>\n    <g id=\"ytick_52\">\n     <g id=\"line2d_69\">\n      <g>\n       <use xlink:href=\"#m697297994a\" x=\"68.378125\" y=\"237.507325\" style=\"stroke: #000000; stroke-width: 0.6\"/>\n      </g>\n     </g>\n    </g>\n    <g id=\"ytick_53\">\n     <g id=\"line2d_70\">\n      <g>\n       <use xlink:href=\"#m697297994a\" x=\"68.378125\" y=\"232.16858\" style=\"stroke: #000000; stroke-width: 0.6\"/>\n      </g>\n     </g>\n    </g>\n    <g id=\"ytick_54\">\n     <g id=\"line2d_71\">\n      <g>\n       <use xlink:href=\"#m697297994a\" x=\"68.378125\" y=\"228.380679\" style=\"stroke: #000000; stroke-width: 0.6\"/>\n      </g>\n     </g>\n    </g>\n    <g id=\"ytick_55\">\n     <g id=\"line2d_72\">\n      <g>\n       <use xlink:href=\"#m697297994a\" x=\"68.378125\" y=\"225.442556\" style=\"stroke: #000000; stroke-width: 0.6\"/>\n      </g>\n     </g>\n    </g>\n    <g id=\"ytick_56\">\n     <g id=\"line2d_73\">\n      <g>\n       <use xlink:href=\"#m697297994a\" x=\"68.378125\" y=\"223.041934\" style=\"stroke: #000000; stroke-width: 0.6\"/>\n      </g>\n     </g>\n    </g>\n    <g id=\"ytick_57\">\n     <g id=\"line2d_74\">\n      <g>\n       <use xlink:href=\"#m697297994a\" x=\"68.378125\" y=\"221.012237\" style=\"stroke: #000000; stroke-width: 0.6\"/>\n      </g>\n     </g>\n    </g>\n    <g id=\"ytick_58\">\n     <g id=\"line2d_75\">\n      <g>\n       <use xlink:href=\"#m697297994a\" x=\"68.378125\" y=\"219.254033\" style=\"stroke: #000000; stroke-width: 0.6\"/>\n      </g>\n     </g>\n    </g>\n    <g id=\"ytick_59\">\n     <g id=\"line2d_76\">\n      <g>\n       <use xlink:href=\"#m697297994a\" x=\"68.378125\" y=\"217.703188\" style=\"stroke: #000000; stroke-width: 0.6\"/>\n      </g>\n     </g>\n    </g>\n    <g id=\"ytick_60\">\n     <g id=\"line2d_77\">\n      <g>\n       <use xlink:href=\"#m697297994a\" x=\"68.378125\" y=\"207.189264\" style=\"stroke: #000000; stroke-width: 0.6\"/>\n      </g>\n     </g>\n    </g>\n    <g id=\"ytick_61\">\n     <g id=\"line2d_78\">\n      <g>\n       <use xlink:href=\"#m697297994a\" x=\"68.378125\" y=\"201.850518\" style=\"stroke: #000000; stroke-width: 0.6\"/>\n      </g>\n     </g>\n    </g>\n    <g id=\"ytick_62\">\n     <g id=\"line2d_79\">\n      <g>\n       <use xlink:href=\"#m697297994a\" x=\"68.378125\" y=\"198.062618\" style=\"stroke: #000000; stroke-width: 0.6\"/>\n      </g>\n     </g>\n    </g>\n    <g id=\"ytick_63\">\n     <g id=\"line2d_80\">\n      <g>\n       <use xlink:href=\"#m697297994a\" x=\"68.378125\" y=\"195.124494\" style=\"stroke: #000000; stroke-width: 0.6\"/>\n      </g>\n     </g>\n    </g>\n    <g id=\"ytick_64\">\n     <g id=\"line2d_81\">\n      <g>\n       <use xlink:href=\"#m697297994a\" x=\"68.378125\" y=\"192.723872\" style=\"stroke: #000000; stroke-width: 0.6\"/>\n      </g>\n     </g>\n    </g>\n    <g id=\"ytick_65\">\n     <g id=\"line2d_82\">\n      <g>\n       <use xlink:href=\"#m697297994a\" x=\"68.378125\" y=\"190.694175\" style=\"stroke: #000000; stroke-width: 0.6\"/>\n      </g>\n     </g>\n    </g>\n    <g id=\"ytick_66\">\n     <g id=\"line2d_83\">\n      <g>\n       <use xlink:href=\"#m697297994a\" x=\"68.378125\" y=\"188.935972\" style=\"stroke: #000000; stroke-width: 0.6\"/>\n      </g>\n     </g>\n    </g>\n    <g id=\"ytick_67\">\n     <g id=\"line2d_84\">\n      <g>\n       <use xlink:href=\"#m697297994a\" x=\"68.378125\" y=\"187.385126\" style=\"stroke: #000000; stroke-width: 0.6\"/>\n      </g>\n     </g>\n    </g>\n    <g id=\"text_9\">\n     <!-- loss -->\n     <g style=\"fill: #d62728\" transform=\"translate(31.798438 270.137031)rotate(-90)scale(0.1 -0.1)\">\n      <defs>\n       <path id=\"DejaVuSans-6f\" d=\"M 1959 3097 \nQ 1497 3097 1228 2736 \nQ 959 2375 959 1747 \nQ 959 1119 1226 758 \nQ 1494 397 1959 397 \nQ 2419 397 2687 759 \nQ 2956 1122 2956 1747 \nQ 2956 2369 2687 2733 \nQ 2419 3097 1959 3097 \nz\nM 1959 3584 \nQ 2709 3584 3137 3096 \nQ 3566 2609 3566 1747 \nQ 3566 888 3137 398 \nQ 2709 -91 1959 -91 \nQ 1206 -91 779 398 \nQ 353 888 353 1747 \nQ 353 2609 779 3096 \nQ 1206 3584 1959 3584 \nz\n\" transform=\"scale(0.015625)\"/>\n       <path id=\"DejaVuSans-73\" d=\"M 2834 3397 \nL 2834 2853 \nQ 2591 2978 2328 3040 \nQ 2066 3103 1784 3103 \nQ 1356 3103 1142 2972 \nQ 928 2841 928 2578 \nQ 928 2378 1081 2264 \nQ 1234 2150 1697 2047 \nL 1894 2003 \nQ 2506 1872 2764 1633 \nQ 3022 1394 3022 966 \nQ 3022 478 2636 193 \nQ 2250 -91 1575 -91 \nQ 1294 -91 989 -36 \nQ 684 19 347 128 \nL 347 722 \nQ 666 556 975 473 \nQ 1284 391 1588 391 \nQ 1994 391 2212 530 \nQ 2431 669 2431 922 \nQ 2431 1156 2273 1281 \nQ 2116 1406 1581 1522 \nL 1381 1569 \nQ 847 1681 609 1914 \nQ 372 2147 372 2553 \nQ 372 3047 722 3315 \nQ 1072 3584 1716 3584 \nQ 2034 3584 2315 3537 \nQ 2597 3491 2834 3397 \nz\n\" transform=\"scale(0.015625)\"/>\n      </defs>\n      <use xlink:href=\"#DejaVuSans-6c\"/>\n      <use xlink:href=\"#DejaVuSans-6f\" x=\"27.783203\"/>\n      <use xlink:href=\"#DejaVuSans-73\" x=\"88.964844\"/>\n      <use xlink:href=\"#DejaVuSans-73\" x=\"141.064453\"/>\n     </g>\n    </g>\n   </g>\n   <g id=\"line2d_85\">\n    <path d=\"M 68.378125 187.102748 \nL 68.378125 191.843409 \nL 69.720009 197.457624 \nL 71.061893 202.555782 \nL 72.403776 207.014497 \nL 73.74566 210.923301 \nL 75.087544 214.384051 \nL 76.429428 217.478732 \nL 79.113195 222.812767 \nL 81.796963 227.290033 \nL 84.48073 231.139648 \nL 87.164498 234.510198 \nL 89.848265 237.507079 \nL 92.532033 240.203769 \nL 95.2158 242.656367 \nL 99.241452 245.959232 \nL 103.267103 248.898488 \nL 107.292754 251.54578 \nL 111.318406 253.953762 \nL 116.685941 256.85845 \nL 122.053476 259.47684 \nL 127.421011 261.859359 \nL 134.13043 264.564923 \nL 140.839848 267.019811 \nL 147.549267 269.266309 \nL 155.60057 271.731968 \nL 163.651872 273.987428 \nL 173.045059 276.397514 \nL 183.780129 278.90503 \nL 194.515199 281.196506 \nL 206.592153 283.557668 \nL 220.010991 285.952574 \nL 234.771712 288.359681 \nL 252.216201 290.946954 \nL 268.318806 293.128125 \nL 287.105179 295.466126 \nL 308.575319 297.9058 \nL 330.04546 300.137914 \nL 358.225019 302.808228 \nL 389.088345 305.452401 \nL 430.686742 308.641124 \nL 462.891953 310.867971 \nL 497.780931 313.089033 \nL 540.721211 315.586671 \nL 585.003376 317.933539 \nL 664.174518 321.668692 \nL 700.40538 323.215399 \nL 737.978125 324.729043 \nL 737.978125 324.729043 \n\" clip-path=\"url(#p08736a0282)\" style=\"fill: none; stroke-dasharray: 5.55,2.4; stroke-dashoffset: 0; stroke: #ff0000; stroke-width: 1.5\"/>\n   </g>\n   <g id=\"patch_8\">\n    <path d=\"M 68.378125 333.855689 \nL 68.378125 187.102748 \n\" style=\"fill: none; stroke: #000000; stroke-width: 0.8; stroke-linejoin: miter; stroke-linecap: square\"/>\n   </g>\n   <g id=\"patch_9\">\n    <path d=\"M 737.978125 333.855689 \nL 737.978125 187.102748 \n\" style=\"fill: none; stroke: #000000; stroke-width: 0.8; stroke-linejoin: miter; stroke-linecap: square\"/>\n   </g>\n   <g id=\"patch_10\">\n    <path d=\"M 68.378125 333.855689 \nL 737.978125 333.855689 \n\" style=\"fill: none; stroke: #000000; stroke-width: 0.8; stroke-linejoin: miter; stroke-linecap: square\"/>\n   </g>\n   <g id=\"patch_11\">\n    <path d=\"M 68.378125 187.102748 \nL 737.978125 187.102748 \n\" style=\"fill: none; stroke: #000000; stroke-width: 0.8; stroke-linejoin: miter; stroke-linecap: square\"/>\n   </g>\n  </g>\n  <g id=\"axes_3\">\n   <g id=\"patch_12\">\n    <path d=\"M 68.378125 509.959219 \nL 737.978125 509.959219 \nL 737.978125 363.206278 \nL 68.378125 363.206278 \nz\n\" style=\"fill: #ffffff\"/>\n   </g>\n   <g id=\"matplotlib.axis_5\">\n    <g id=\"xtick_17\">\n     <g id=\"line2d_86\">\n      <g>\n       <use xlink:href=\"#mf4ac6a441b\" x=\"68.378125\" y=\"509.959219\" style=\"stroke: #000000; stroke-width: 0.8\"/>\n      </g>\n     </g>\n     <g id=\"text_10\">\n      <!-- 0 -->\n      <g transform=\"translate(65.196875 524.557656)scale(0.1 -0.1)\">\n       <use xlink:href=\"#DejaVuSans-30\"/>\n      </g>\n     </g>\n    </g>\n    <g id=\"xtick_18\">\n     <g id=\"line2d_87\">\n      <g>\n       <use xlink:href=\"#mf4ac6a441b\" x=\"152.24586\" y=\"509.959219\" style=\"stroke: #000000; stroke-width: 0.8\"/>\n      </g>\n     </g>\n     <g id=\"text_11\">\n      <!-- 500 -->\n      <g transform=\"translate(142.70211 524.557656)scale(0.1 -0.1)\">\n       <defs>\n        <path id=\"DejaVuSans-35\" d=\"M 691 4666 \nL 3169 4666 \nL 3169 4134 \nL 1269 4134 \nL 1269 2991 \nQ 1406 3038 1543 3061 \nQ 1681 3084 1819 3084 \nQ 2600 3084 3056 2656 \nQ 3513 2228 3513 1497 \nQ 3513 744 3044 326 \nQ 2575 -91 1722 -91 \nQ 1428 -91 1123 -41 \nQ 819 9 494 109 \nL 494 744 \nQ 775 591 1075 516 \nQ 1375 441 1709 441 \nQ 2250 441 2565 725 \nQ 2881 1009 2881 1497 \nQ 2881 1984 2565 2268 \nQ 2250 2553 1709 2553 \nQ 1456 2553 1204 2497 \nQ 953 2441 691 2322 \nL 691 4666 \nz\n\" transform=\"scale(0.015625)\"/>\n       </defs>\n       <use xlink:href=\"#DejaVuSans-35\"/>\n       <use xlink:href=\"#DejaVuSans-30\" x=\"63.623047\"/>\n       <use xlink:href=\"#DejaVuSans-30\" x=\"127.246094\"/>\n      </g>\n     </g>\n    </g>\n    <g id=\"xtick_19\">\n     <g id=\"line2d_88\">\n      <g>\n       <use xlink:href=\"#mf4ac6a441b\" x=\"236.113596\" y=\"509.959219\" style=\"stroke: #000000; stroke-width: 0.8\"/>\n      </g>\n     </g>\n     <g id=\"text_12\">\n      <!-- 1000 -->\n      <g transform=\"translate(223.388596 524.557656)scale(0.1 -0.1)\">\n       <use xlink:href=\"#DejaVuSans-31\"/>\n       <use xlink:href=\"#DejaVuSans-30\" x=\"63.623047\"/>\n       <use xlink:href=\"#DejaVuSans-30\" x=\"127.246094\"/>\n       <use xlink:href=\"#DejaVuSans-30\" x=\"190.869141\"/>\n      </g>\n     </g>\n    </g>\n    <g id=\"xtick_20\">\n     <g id=\"line2d_89\">\n      <g>\n       <use xlink:href=\"#mf4ac6a441b\" x=\"319.981331\" y=\"509.959219\" style=\"stroke: #000000; stroke-width: 0.8\"/>\n      </g>\n     </g>\n     <g id=\"text_13\">\n      <!-- 1500 -->\n      <g transform=\"translate(307.256331 524.557656)scale(0.1 -0.1)\">\n       <use xlink:href=\"#DejaVuSans-31\"/>\n       <use xlink:href=\"#DejaVuSans-35\" x=\"63.623047\"/>\n       <use xlink:href=\"#DejaVuSans-30\" x=\"127.246094\"/>\n       <use xlink:href=\"#DejaVuSans-30\" x=\"190.869141\"/>\n      </g>\n     </g>\n    </g>\n    <g id=\"xtick_21\">\n     <g id=\"line2d_90\">\n      <g>\n       <use xlink:href=\"#mf4ac6a441b\" x=\"403.849067\" y=\"509.959219\" style=\"stroke: #000000; stroke-width: 0.8\"/>\n      </g>\n     </g>\n     <g id=\"text_14\">\n      <!-- 2000 -->\n      <g transform=\"translate(391.124067 524.557656)scale(0.1 -0.1)\">\n       <use xlink:href=\"#DejaVuSans-32\"/>\n       <use xlink:href=\"#DejaVuSans-30\" x=\"63.623047\"/>\n       <use xlink:href=\"#DejaVuSans-30\" x=\"127.246094\"/>\n       <use xlink:href=\"#DejaVuSans-30\" x=\"190.869141\"/>\n      </g>\n     </g>\n    </g>\n    <g id=\"xtick_22\">\n     <g id=\"line2d_91\">\n      <g>\n       <use xlink:href=\"#mf4ac6a441b\" x=\"487.716802\" y=\"509.959219\" style=\"stroke: #000000; stroke-width: 0.8\"/>\n      </g>\n     </g>\n     <g id=\"text_15\">\n      <!-- 2500 -->\n      <g transform=\"translate(474.991802 524.557656)scale(0.1 -0.1)\">\n       <use xlink:href=\"#DejaVuSans-32\"/>\n       <use xlink:href=\"#DejaVuSans-35\" x=\"63.623047\"/>\n       <use xlink:href=\"#DejaVuSans-30\" x=\"127.246094\"/>\n       <use xlink:href=\"#DejaVuSans-30\" x=\"190.869141\"/>\n      </g>\n     </g>\n    </g>\n    <g id=\"xtick_23\">\n     <g id=\"line2d_92\">\n      <g>\n       <use xlink:href=\"#mf4ac6a441b\" x=\"571.584538\" y=\"509.959219\" style=\"stroke: #000000; stroke-width: 0.8\"/>\n      </g>\n     </g>\n     <g id=\"text_16\">\n      <!-- 3000 -->\n      <g transform=\"translate(558.859538 524.557656)scale(0.1 -0.1)\">\n       <use xlink:href=\"#DejaVuSans-33\"/>\n       <use xlink:href=\"#DejaVuSans-30\" x=\"63.623047\"/>\n       <use xlink:href=\"#DejaVuSans-30\" x=\"127.246094\"/>\n       <use xlink:href=\"#DejaVuSans-30\" x=\"190.869141\"/>\n      </g>\n     </g>\n    </g>\n    <g id=\"xtick_24\">\n     <g id=\"line2d_93\">\n      <g>\n       <use xlink:href=\"#mf4ac6a441b\" x=\"655.452273\" y=\"509.959219\" style=\"stroke: #000000; stroke-width: 0.8\"/>\n      </g>\n     </g>\n     <g id=\"text_17\">\n      <!-- 3500 -->\n      <g transform=\"translate(642.727273 524.557656)scale(0.1 -0.1)\">\n       <use xlink:href=\"#DejaVuSans-33\"/>\n       <use xlink:href=\"#DejaVuSans-35\" x=\"63.623047\"/>\n       <use xlink:href=\"#DejaVuSans-30\" x=\"127.246094\"/>\n       <use xlink:href=\"#DejaVuSans-30\" x=\"190.869141\"/>\n      </g>\n     </g>\n    </g>\n    <g id=\"text_18\">\n     <!-- epoch -->\n     <g transform=\"translate(387.95 538.235781)scale(0.1 -0.1)\">\n      <defs>\n       <path id=\"DejaVuSans-70\" d=\"M 1159 525 \nL 1159 -1331 \nL 581 -1331 \nL 581 3500 \nL 1159 3500 \nL 1159 2969 \nQ 1341 3281 1617 3432 \nQ 1894 3584 2278 3584 \nQ 2916 3584 3314 3078 \nQ 3713 2572 3713 1747 \nQ 3713 922 3314 415 \nQ 2916 -91 2278 -91 \nQ 1894 -91 1617 61 \nQ 1341 213 1159 525 \nz\nM 3116 1747 \nQ 3116 2381 2855 2742 \nQ 2594 3103 2138 3103 \nQ 1681 3103 1420 2742 \nQ 1159 2381 1159 1747 \nQ 1159 1113 1420 752 \nQ 1681 391 2138 391 \nQ 2594 391 2855 752 \nQ 3116 1113 3116 1747 \nz\n\" transform=\"scale(0.015625)\"/>\n       <path id=\"DejaVuSans-63\" d=\"M 3122 3366 \nL 3122 2828 \nQ 2878 2963 2633 3030 \nQ 2388 3097 2138 3097 \nQ 1578 3097 1268 2742 \nQ 959 2388 959 1747 \nQ 959 1106 1268 751 \nQ 1578 397 2138 397 \nQ 2388 397 2633 464 \nQ 2878 531 3122 666 \nL 3122 134 \nQ 2881 22 2623 -34 \nQ 2366 -91 2075 -91 \nQ 1284 -91 818 406 \nQ 353 903 353 1747 \nQ 353 2603 823 3093 \nQ 1294 3584 2113 3584 \nQ 2378 3584 2631 3529 \nQ 2884 3475 3122 3366 \nz\n\" transform=\"scale(0.015625)\"/>\n       <path id=\"DejaVuSans-68\" d=\"M 3513 2113 \nL 3513 0 \nL 2938 0 \nL 2938 2094 \nQ 2938 2591 2744 2837 \nQ 2550 3084 2163 3084 \nQ 1697 3084 1428 2787 \nQ 1159 2491 1159 1978 \nL 1159 0 \nL 581 0 \nL 581 4863 \nL 1159 4863 \nL 1159 2956 \nQ 1366 3272 1645 3428 \nQ 1925 3584 2291 3584 \nQ 2894 3584 3203 3211 \nQ 3513 2838 3513 2113 \nz\n\" transform=\"scale(0.015625)\"/>\n      </defs>\n      <use xlink:href=\"#DejaVuSans-65\"/>\n      <use xlink:href=\"#DejaVuSans-70\" x=\"61.523438\"/>\n      <use xlink:href=\"#DejaVuSans-6f\" x=\"125\"/>\n      <use xlink:href=\"#DejaVuSans-63\" x=\"186.181641\"/>\n      <use xlink:href=\"#DejaVuSans-68\" x=\"241.162109\"/>\n     </g>\n    </g>\n   </g>\n   <g id=\"matplotlib.axis_6\">\n    <g id=\"ytick_68\">\n     <g id=\"line2d_94\">\n      <g>\n       <use xlink:href=\"#mbb7ea8747a\" x=\"68.378125\" y=\"393.13543\" style=\"stroke: #000000; stroke-width: 0.8\"/>\n      </g>\n     </g>\n     <g id=\"text_19\">\n      <!-- $\\mathdefault{10^{0}}$ -->\n      <g transform=\"translate(43.778125 396.934649)scale(0.1 -0.1)\">\n       <use xlink:href=\"#DejaVuSans-31\" transform=\"translate(0 0.765625)\"/>\n       <use xlink:href=\"#DejaVuSans-30\" transform=\"translate(63.623047 0.765625)\"/>\n       <use xlink:href=\"#DejaVuSans-30\" transform=\"translate(128.203125 39.046875)scale(0.7)\"/>\n      </g>\n     </g>\n    </g>\n    <g id=\"ytick_69\">\n     <g id=\"line2d_95\">\n      <g>\n       <use xlink:href=\"#m697297994a\" x=\"68.378125\" y=\"509.959219\" style=\"stroke: #000000; stroke-width: 0.6\"/>\n      </g>\n     </g>\n     <g id=\"text_20\">\n      <!-- $\\mathdefault{8\\times10^{-1}}$ -->\n      <g transform=\"translate(20.878125 513.758438)scale(0.1 -0.1)\">\n       <defs>\n        <path id=\"DejaVuSans-38\" d=\"M 2034 2216 \nQ 1584 2216 1326 1975 \nQ 1069 1734 1069 1313 \nQ 1069 891 1326 650 \nQ 1584 409 2034 409 \nQ 2484 409 2743 651 \nQ 3003 894 3003 1313 \nQ 3003 1734 2745 1975 \nQ 2488 2216 2034 2216 \nz\nM 1403 2484 \nQ 997 2584 770 2862 \nQ 544 3141 544 3541 \nQ 544 4100 942 4425 \nQ 1341 4750 2034 4750 \nQ 2731 4750 3128 4425 \nQ 3525 4100 3525 3541 \nQ 3525 3141 3298 2862 \nQ 3072 2584 2669 2484 \nQ 3125 2378 3379 2068 \nQ 3634 1759 3634 1313 \nQ 3634 634 3220 271 \nQ 2806 -91 2034 -91 \nQ 1263 -91 848 271 \nQ 434 634 434 1313 \nQ 434 1759 690 2068 \nQ 947 2378 1403 2484 \nz\nM 1172 3481 \nQ 1172 3119 1398 2916 \nQ 1625 2713 2034 2713 \nQ 2441 2713 2670 2916 \nQ 2900 3119 2900 3481 \nQ 2900 3844 2670 4047 \nQ 2441 4250 2034 4250 \nQ 1625 4250 1398 4047 \nQ 1172 3844 1172 3481 \nz\n\" transform=\"scale(0.015625)\"/>\n        <path id=\"DejaVuSans-d7\" d=\"M 4488 3438 \nL 3059 2003 \nL 4488 575 \nL 4116 197 \nL 2681 1631 \nL 1247 197 \nL 878 575 \nL 2303 2003 \nL 878 3438 \nL 1247 3816 \nL 2681 2381 \nL 4116 3816 \nL 4488 3438 \nz\n\" transform=\"scale(0.015625)\"/>\n       </defs>\n       <use xlink:href=\"#DejaVuSans-38\" transform=\"translate(0 0.684375)\"/>\n       <use xlink:href=\"#DejaVuSans-d7\" transform=\"translate(83.105469 0.684375)\"/>\n       <use xlink:href=\"#DejaVuSans-31\" transform=\"translate(186.376953 0.684375)\"/>\n       <use xlink:href=\"#DejaVuSans-30\" transform=\"translate(250 0.684375)\"/>\n       <use xlink:href=\"#DejaVuSans-2212\" transform=\"translate(314.580078 38.965625)scale(0.7)\"/>\n       <use xlink:href=\"#DejaVuSans-31\" transform=\"translate(373.232422 38.965625)scale(0.7)\"/>\n      </g>\n     </g>\n    </g>\n    <g id=\"ytick_70\">\n     <g id=\"line2d_96\">\n      <g>\n       <use xlink:href=\"#m697297994a\" x=\"68.378125\" y=\"448.295503\" style=\"stroke: #000000; stroke-width: 0.6\"/>\n      </g>\n     </g>\n     <g id=\"text_21\">\n      <!-- $\\mathdefault{9\\times10^{-1}}$ -->\n      <g transform=\"translate(20.878125 452.094722)scale(0.1 -0.1)\">\n       <defs>\n        <path id=\"DejaVuSans-39\" d=\"M 703 97 \nL 703 672 \nQ 941 559 1184 500 \nQ 1428 441 1663 441 \nQ 2288 441 2617 861 \nQ 2947 1281 2994 2138 \nQ 2813 1869 2534 1725 \nQ 2256 1581 1919 1581 \nQ 1219 1581 811 2004 \nQ 403 2428 403 3163 \nQ 403 3881 828 4315 \nQ 1253 4750 1959 4750 \nQ 2769 4750 3195 4129 \nQ 3622 3509 3622 2328 \nQ 3622 1225 3098 567 \nQ 2575 -91 1691 -91 \nQ 1453 -91 1209 -44 \nQ 966 3 703 97 \nz\nM 1959 2075 \nQ 2384 2075 2632 2365 \nQ 2881 2656 2881 3163 \nQ 2881 3666 2632 3958 \nQ 2384 4250 1959 4250 \nQ 1534 4250 1286 3958 \nQ 1038 3666 1038 3163 \nQ 1038 2656 1286 2365 \nQ 1534 2075 1959 2075 \nz\n\" transform=\"scale(0.015625)\"/>\n       </defs>\n       <use xlink:href=\"#DejaVuSans-39\" transform=\"translate(0 0.684375)\"/>\n       <use xlink:href=\"#DejaVuSans-d7\" transform=\"translate(83.105469 0.684375)\"/>\n       <use xlink:href=\"#DejaVuSans-31\" transform=\"translate(186.376953 0.684375)\"/>\n       <use xlink:href=\"#DejaVuSans-30\" transform=\"translate(250 0.684375)\"/>\n       <use xlink:href=\"#DejaVuSans-2212\" transform=\"translate(314.580078 38.965625)scale(0.7)\"/>\n       <use xlink:href=\"#DejaVuSans-31\" transform=\"translate(373.232422 38.965625)scale(0.7)\"/>\n      </g>\n     </g>\n    </g>\n    <g id=\"text_22\">\n     <!-- norm -->\n     <g style=\"fill: #ff7f0e\" transform=\"translate(14.798438 449.649154)rotate(-90)scale(0.1 -0.1)\">\n      <defs>\n       <path id=\"DejaVuSans-72\" d=\"M 2631 2963 \nQ 2534 3019 2420 3045 \nQ 2306 3072 2169 3072 \nQ 1681 3072 1420 2755 \nQ 1159 2438 1159 1844 \nL 1159 0 \nL 581 0 \nL 581 3500 \nL 1159 3500 \nL 1159 2956 \nQ 1341 3275 1631 3429 \nQ 1922 3584 2338 3584 \nQ 2397 3584 2469 3576 \nQ 2541 3569 2628 3553 \nL 2631 2963 \nz\n\" transform=\"scale(0.015625)\"/>\n       <path id=\"DejaVuSans-6d\" d=\"M 3328 2828 \nQ 3544 3216 3844 3400 \nQ 4144 3584 4550 3584 \nQ 5097 3584 5394 3201 \nQ 5691 2819 5691 2113 \nL 5691 0 \nL 5113 0 \nL 5113 2094 \nQ 5113 2597 4934 2840 \nQ 4756 3084 4391 3084 \nQ 3944 3084 3684 2787 \nQ 3425 2491 3425 1978 \nL 3425 0 \nL 2847 0 \nL 2847 2094 \nQ 2847 2600 2669 2842 \nQ 2491 3084 2119 3084 \nQ 1678 3084 1418 2786 \nQ 1159 2488 1159 1978 \nL 1159 0 \nL 581 0 \nL 581 3500 \nL 1159 3500 \nL 1159 2956 \nQ 1356 3278 1631 3431 \nQ 1906 3584 2284 3584 \nQ 2666 3584 2933 3390 \nQ 3200 3197 3328 2828 \nz\n\" transform=\"scale(0.015625)\"/>\n      </defs>\n      <use xlink:href=\"#DejaVuSans-6e\"/>\n      <use xlink:href=\"#DejaVuSans-6f\" x=\"63.378906\"/>\n      <use xlink:href=\"#DejaVuSans-72\" x=\"124.560547\"/>\n      <use xlink:href=\"#DejaVuSans-6d\" x=\"163.923828\"/>\n     </g>\n    </g>\n   </g>\n   <g id=\"line2d_97\">\n    <path d=\"M 68.378125 393.13543 \nL 68.378125 378.320204 \nL 69.720009 368.791504 \nL 71.061893 363.891495 \nL 72.403776 363.206278 \nL 73.74566 364.136659 \nL 76.429428 367.159229 \nL 79.113195 370.134785 \nL 81.796963 372.670296 \nL 84.48073 374.775161 \nL 87.164498 376.521986 \nL 89.848265 377.983902 \nL 92.532033 379.220105 \nL 96.557684 380.749052 \nL 100.583335 381.982775 \nL 104.608987 382.997696 \nL 109.976522 384.098431 \nL 116.685941 385.180929 \nL 123.395359 386.034302 \nL 131.446662 386.845892 \nL 142.181732 387.677946 \nL 154.258686 388.386492 \nL 169.019408 389.03757 \nL 189.147664 389.682912 \nL 213.301572 390.23305 \nL 250.874317 390.808997 \nL 299.182133 391.283043 \nL 371.643856 391.715643 \nL 465.57572 392.045831 \nL 585.003376 392.295051 \nL 733.952474 392.481437 \nL 737.978125 392.484799 \nL 737.978125 392.484799 \n\" clip-path=\"url(#p30129a2c71)\" style=\"fill: none; stroke: #ffa500; stroke-width: 1.5; stroke-linecap: square\"/>\n   </g>\n   <g id=\"patch_13\">\n    <path d=\"M 68.378125 509.959219 \nL 68.378125 363.206278 \n\" style=\"fill: none; stroke: #000000; stroke-width: 0.8; stroke-linejoin: miter; stroke-linecap: square\"/>\n   </g>\n   <g id=\"patch_14\">\n    <path d=\"M 737.978125 509.959219 \nL 737.978125 363.206278 \n\" style=\"fill: none; stroke: #000000; stroke-width: 0.8; stroke-linejoin: miter; stroke-linecap: square\"/>\n   </g>\n   <g id=\"patch_15\">\n    <path d=\"M 68.378125 509.959219 \nL 737.978125 509.959219 \n\" style=\"fill: none; stroke: #000000; stroke-width: 0.8; stroke-linejoin: miter; stroke-linecap: square\"/>\n   </g>\n   <g id=\"patch_16\">\n    <path d=\"M 68.378125 363.206278 \nL 737.978125 363.206278 \n\" style=\"fill: none; stroke: #000000; stroke-width: 0.8; stroke-linejoin: miter; stroke-linecap: square\"/>\n   </g>\n  </g>\n </g>\n <defs>\n  <clipPath id=\"pb4967f2455\">\n   <rect x=\"68.378125\" y=\"10.999219\" width=\"669.6\" height=\"146.752941\"/>\n  </clipPath>\n  <clipPath id=\"p08736a0282\">\n   <rect x=\"68.378125\" y=\"187.102748\" width=\"669.6\" height=\"146.752941\"/>\n  </clipPath>\n  <clipPath id=\"p30129a2c71\">\n   <rect x=\"68.378125\" y=\"363.206278\" width=\"669.6\" height=\"146.752941\"/>\n  </clipPath>\n </defs>\n</svg>\n",
      "text/plain": [
       "<Figure size 1200x900 with 3 Axes>"
      ]
     },
     "metadata": {},
     "output_type": "display_data"
    }
   ],
   "source": [
    "max_it = 500\n",
    "alpha = 1\n",
    "l_rate = 0.1\n",
    "\n",
    "psi = psi_orig.copy(deep=True)\n",
    "fid = psi_ref.H & psi ^ all\n",
    "nrm = psi.norm()\n",
    "\n",
    "gradient = grad(loss_array,argnums=0)\n",
    "\n",
    "fig = plt.figure(figsize=(12,9))\n",
    "[ax1, ax2, ax3] = fig.subplots(3,1, sharex=True)\n",
    "ax3.set_xlabel(\"epoch\")\n",
    "\n",
    "ax1.set_ylabel(\"infidelity\", color=\"tab:blue\")\n",
    "ax1.set_ylim(0, 1)\n",
    "plot1, = ax1.semilogy([0], 1-fid, color=\"blue\")\n",
    "\n",
    "ax2.set_ylabel(\"loss\", color=\"tab:red\")\n",
    "ax2.set_ylim(0, 1)\n",
    "plot2, = ax2.semilogy([0], loss_simple(fid, nrm), color=\"red\", linestyle=\"dashed\")\n",
    "\n",
    "ax3.set_ylabel(\"norm\", color=\"tab:orange\")\n",
    "ax3.set_ylim(0, 2)\n",
    "plot3, = ax3.semilogy([0], nrm, color=\"orange\")\n",
    "\n",
    "with tqdm(range(max_it)) as progressbar:\n",
    "\tprogressbar.set_postfix(fidelity=f\"{fidelity}\")\n",
    "\t# progressbar.set_postfix(fidelity=f\"{fid}\")\n",
    "\n",
    "\tfor it in progressbar:\n",
    "\t\t\n",
    "\t\t#compute gradient\n",
    "\t\tpsi_grad = get_grad(psi,psi_ref,gradient)\n",
    "\t\tpsi.add_MPS(psi_grad * - l_rate, inplace=True, compress=True)\n",
    "\n",
    "\t\t# recompute fidelity, norm\n",
    "\t\tfid = abs(psi_ref.H & psi ^ all)\n",
    "\t\tnrm = psi.norm()\n",
    "\n",
    "\t\t# update plot\n",
    "\t\tplot1.set_xdata(np.append(plot1.get_xdata(), psi.nsites * it))\n",
    "\t\tplot1.set_ydata(np.append(plot1.get_ydata(), 1-fid))\n",
    "\t\tplot2.set_xdata(np.append(plot2.get_xdata(), psi.nsites * it))\n",
    "\t\tplot2.set_ydata(np.append(plot2.get_ydata(), loss_simple(fid, nrm)))\n",
    "\t\tplot3.set_xdata(np.append(plot3.get_xdata(), psi.nsites * it))\n",
    "\t\tplot3.set_ydata(np.append(plot3.get_ydata(), nrm))\n",
    "\n",
    "\t\tprogressbar.set_postfix(fidelity=fid, norm=nrm)\n",
    "\n",
    "ax1.set_xlim(0, it * psi.nsites)\n",
    "ax1.set_ylim(min(plot1.get_ydata()), 1)\n",
    "ax2.set_ylim(min(plot2.get_ydata()) / 2, max(plot2.get_ydata()))\n",
    "ax3.set_ylim(0.8, max(plot3.get_ydata()))\n",
    "\n",
    "plt.show()"
   ]
  },
  {
   "cell_type": "markdown",
   "metadata": {},
   "source": [
    "Despite being a bit slower, it converges!"
   ]
  },
  {
   "cell_type": "markdown",
   "metadata": {},
   "source": [
    "## Test 4:\n",
    "\n",
    "We want to gain efficiency by using JAX integrations in QUIMB. This way, grad will be handled by quimb further down the pipeline without needing to artifically break the TN structure."
   ]
  },
  {
   "cell_type": "code",
   "execution_count": 18,
   "metadata": {},
   "outputs": [
    {
     "name": "stdout",
     "output_type": "stream",
     "text": [
      "0.0006197370744099339\n"
     ]
    },
    {
     "name": "stderr",
     "output_type": "stream",
     "text": [
      "+0.000047381003 [best: +0.000047380854] :  95%|█████████▌| 1909/2000 [01:31<00:04, 20.90it/s]\n"
     ]
    },
    {
     "name": "stdout",
     "output_type": "stream",
     "text": [
      "infidelity = 0.006168770663823819\n",
      "norm = 1.003054141998291\n"
     ]
    }
   ],
   "source": [
    "# Approach 1: Let the optimize algorithm do all the work\n",
    "\n",
    "import quimb as qu\n",
    "import quimb.tensor as qtn\n",
    "from autoray import do\n",
    "import functools\n",
    "import numpy as np\n",
    "\n",
    "# reinitialize the samples\n",
    "n = 16\n",
    "chi_real = 512\n",
    "chi_approx = 256\n",
    "psi_ref = qtn.MPS_rand_state(n, bond_dim=chi_real, normalize=True, tags=[\"ref\"])\n",
    "psi_ref.compress()\n",
    "psi_orig = qtn.MPS_rand_state(n, bond_dim=chi_approx, normalize=True, tags=[\"approx\"])\n",
    "psi_orig.compress()\n",
    "print(np.abs(fidelity(psi_orig,psi_ref)))\n",
    "# function that takes the input TN and computes the loss\n",
    "def loss(psi, psi_ref):\n",
    "    return (abs(fidelity(psi,psi_ref)) - 1)**2 + (norm(psi) - 1)**2\n",
    "\n",
    "# If loss function is a sum of smaller loss functions (as is the case with the average over n samples) we can evaluate them separately (yay, parallelism!)\n",
    "# This means we need to make a list of functions. This example abstracts how it would look like for the TNAD example.\n",
    "# loss_fid(P,samples)\n",
    "# loss_fns = [\n",
    "#     functools.partial(loss_fid, samples=sample)\n",
    "#     for sample in samples\n",
    "# ] + [ loss_norm ]\n",
    "\n",
    "# in loss constants we can specify which parameters we do not want to differentiate over.\n",
    "tnopt = qtn.TNOptimizer(\n",
    "    psi_orig,\n",
    "    loss_fn=loss,\n",
    "    loss_constants={'psi_ref': psi_ref},\n",
    "    autodiff_backend='jax',\n",
    ")\n",
    "\n",
    "psi_final = tnopt.optimize(2000, tol=1e-13)\n",
    "# -1.9249370098114014: 100%|██████████| 100/100 [00:32<00:00,  3.05it/s]\n",
    "# <TensorNetwork1DVector(tensors=58, indices=70, L=5, max_bond=2)>\n",
    "\n",
    "# psi_final = tnopt.get_tn_opt()\n",
    "print(f\"infidelity = {1-np.abs(fidelity(psi_final,psi_ref))}\")\n",
    "print(f\"norm = {norm(psi_final)}\")"
   ]
  },
  {
   "cell_type": "code",
   "execution_count": 19,
   "metadata": {},
   "outputs": [
    {
     "data": {
      "text/plain": [
       "<MatrixProductState(tensors=16, indices=31, L=16, max_bond=254)>"
      ]
     },
     "execution_count": 19,
     "metadata": {},
     "output_type": "execute_result"
    }
   ],
   "source": [
    "psi_final"
   ]
  },
  {
   "cell_type": "markdown",
   "metadata": {},
   "source": [
    "Approach 2: Use integrated methods only for gradient extraction and do the optimization by hand\n",
    "(not working at the moment)"
   ]
  },
  {
   "cell_type": "code",
   "execution_count": 16,
   "metadata": {},
   "outputs": [
    {
     "name": "stderr",
     "output_type": "stream",
     "text": [
      "  4%|▍         | 6/150 [01:43<41:25, 17.26s/it, fidelity=0.00555, norm=1]                  \n"
     ]
    },
    {
     "ename": "KeyboardInterrupt",
     "evalue": "",
     "output_type": "error",
     "traceback": [
      "\u001b[1;31m---------------------------------------------------------------------------\u001b[0m",
      "\u001b[1;31mKeyboardInterrupt\u001b[0m                         Traceback (most recent call last)",
      "\u001b[1;32mc:\\Users\\Sergi\\OneDrive\\Desktop\\BSC\\Python\\tnad\\notebooks\\jax_AD_playground.ipynb Cell 28\u001b[0m in \u001b[0;36m<cell line: 47>\u001b[1;34m()\u001b[0m\n\u001b[0;32m     <a href='vscode-notebook-cell:/c%3A/Users/Sergi/OneDrive/Desktop/BSC/Python/tnad/notebooks/jax_AD_playground.ipynb#X36sZmlsZQ%3D%3D?line=65'>66</a>\u001b[0m \u001b[39m# losses.append(loss)\u001b[39;00m\n\u001b[0;32m     <a href='vscode-notebook-cell:/c%3A/Users/Sergi/OneDrive/Desktop/BSC/Python/tnad/notebooks/jax_AD_playground.ipynb#X36sZmlsZQ%3D%3D?line=66'>67</a>\u001b[0m \n\u001b[0;32m     <a href='vscode-notebook-cell:/c%3A/Users/Sergi/OneDrive/Desktop/BSC/Python/tnad/notebooks/jax_AD_playground.ipynb#X36sZmlsZQ%3D%3D?line=67'>68</a>\u001b[0m \u001b[39m# recompute fidelity, norm\u001b[39;00m\n\u001b[0;32m     <a href='vscode-notebook-cell:/c%3A/Users/Sergi/OneDrive/Desktop/BSC/Python/tnad/notebooks/jax_AD_playground.ipynb#X36sZmlsZQ%3D%3D?line=68'>69</a>\u001b[0m fid \u001b[39m=\u001b[39m fidelity(psi,psi_ref)\n\u001b[1;32m---> <a href='vscode-notebook-cell:/c%3A/Users/Sergi/OneDrive/Desktop/BSC/Python/tnad/notebooks/jax_AD_playground.ipynb#X36sZmlsZQ%3D%3D?line=69'>70</a>\u001b[0m nrm \u001b[39m=\u001b[39m norm(psi)\n\u001b[0;32m     <a href='vscode-notebook-cell:/c%3A/Users/Sergi/OneDrive/Desktop/BSC/Python/tnad/notebooks/jax_AD_playground.ipynb#X36sZmlsZQ%3D%3D?line=71'>72</a>\u001b[0m \u001b[39m# update plot\u001b[39;00m\n\u001b[0;32m     <a href='vscode-notebook-cell:/c%3A/Users/Sergi/OneDrive/Desktop/BSC/Python/tnad/notebooks/jax_AD_playground.ipynb#X36sZmlsZQ%3D%3D?line=72'>73</a>\u001b[0m plot1\u001b[39m.\u001b[39mset_xdata(np\u001b[39m.\u001b[39mappend(plot1\u001b[39m.\u001b[39mget_xdata(), it))\n",
      "\u001b[1;32mc:\\Users\\Sergi\\OneDrive\\Desktop\\BSC\\Python\\tnad\\notebooks\\jax_AD_playground.ipynb Cell 28\u001b[0m in \u001b[0;36mnorm\u001b[1;34m(psi)\u001b[0m\n\u001b[0;32m     <a href='vscode-notebook-cell:/c%3A/Users/Sergi/OneDrive/Desktop/BSC/Python/tnad/notebooks/jax_AD_playground.ipynb#X36sZmlsZQ%3D%3D?line=15'>16</a>\u001b[0m psiH\u001b[39m.\u001b[39mdrop_tags([\u001b[39m\"\u001b[39m\u001b[39mapprox\u001b[39m\u001b[39m\"\u001b[39m])\n\u001b[0;32m     <a href='vscode-notebook-cell:/c%3A/Users/Sergi/OneDrive/Desktop/BSC/Python/tnad/notebooks/jax_AD_playground.ipynb#X36sZmlsZQ%3D%3D?line=17'>18</a>\u001b[0m norm_tn \u001b[39m=\u001b[39m (psiH \u001b[39m|\u001b[39m psi)\n\u001b[1;32m---> <a href='vscode-notebook-cell:/c%3A/Users/Sergi/OneDrive/Desktop/BSC/Python/tnad/notebooks/jax_AD_playground.ipynb#X36sZmlsZQ%3D%3D?line=19'>20</a>\u001b[0m \u001b[39mreturn\u001b[39;00m norm_tn \u001b[39m^\u001b[39;49m \u001b[39mall\u001b[39;49m\n",
      "File \u001b[1;32mc:\\Users\\Sergi\\miniconda3\\envs\\tnad\\lib\\site-packages\\quimb\\tensor\\tensor_core.py:6894\u001b[0m, in \u001b[0;36mTensorNetwork.__xor__\u001b[1;34m(self, tags)\u001b[0m\n\u001b[0;32m   6891\u001b[0m \u001b[39mdef\u001b[39;00m \u001b[39m__xor__\u001b[39m(\u001b[39mself\u001b[39m, tags):\n\u001b[0;32m   6892\u001b[0m     \u001b[39m\"\"\"Overload of '^' for TensorNetwork.contract.\u001b[39;00m\n\u001b[0;32m   6893\u001b[0m \u001b[39m    \"\"\"\u001b[39;00m\n\u001b[1;32m-> 6894\u001b[0m     \u001b[39mreturn\u001b[39;00m \u001b[39mself\u001b[39;49m\u001b[39m.\u001b[39;49mcontract(tags)\n",
      "File \u001b[1;32mc:\\Users\\Sergi\\miniconda3\\envs\\tnad\\lib\\site-packages\\quimb\\tensor\\tensor_core.py:6799\u001b[0m, in \u001b[0;36mTensorNetwork.contract\u001b[1;34m(self, tags, inplace, **opts)\u001b[0m\n\u001b[0;32m   6774\u001b[0m \u001b[39m\"\"\"Contract some, or all, of the tensors in this network. This method\u001b[39;00m\n\u001b[0;32m   6775\u001b[0m \u001b[39mdispatches to ``contract_structured`` or ``contract_tags``.\u001b[39;00m\n\u001b[0;32m   6776\u001b[0m \n\u001b[1;32m   (...)\u001b[0m\n\u001b[0;32m   6796\u001b[0m \u001b[39mcontract_tags, contract_cumulative\u001b[39;00m\n\u001b[0;32m   6797\u001b[0m \u001b[39m\"\"\"\u001b[39;00m\n\u001b[0;32m   6798\u001b[0m \u001b[39mif\u001b[39;00m tags \u001b[39mis\u001b[39;00m \u001b[39mall\u001b[39m:\n\u001b[1;32m-> 6799\u001b[0m     \u001b[39mreturn\u001b[39;00m tensor_contract(\u001b[39m*\u001b[39m\u001b[39mself\u001b[39m, \u001b[39m*\u001b[39m\u001b[39m*\u001b[39mopts)\n\u001b[0;32m   6801\u001b[0m \u001b[39m# this checks whether certain TN classes have a manually specified\u001b[39;00m\n\u001b[0;32m   6802\u001b[0m \u001b[39m#     contraction pattern (e.g. 1D along the line)\u001b[39;00m\n\u001b[0;32m   6803\u001b[0m \u001b[39mif\u001b[39;00m \u001b[39mself\u001b[39m\u001b[39m.\u001b[39m_CONTRACT_STRUCTURED:\n",
      "File \u001b[1;32mc:\\Users\\Sergi\\miniconda3\\envs\\tnad\\lib\\site-packages\\quimb\\tensor\\tensor_core.py:578\u001b[0m, in \u001b[0;36mtensor_contract\u001b[1;34m(output_inds, get, backend, preserve_tensor, *tensors, **contract_opts)\u001b[0m\n\u001b[0;32m    576\u001b[0m shapes \u001b[39m=\u001b[39m (t\u001b[39m.\u001b[39mshape \u001b[39mfor\u001b[39;00m t \u001b[39min\u001b[39;00m tensors)\n\u001b[0;32m    577\u001b[0m expression \u001b[39m=\u001b[39m get_contraction(eq, \u001b[39m*\u001b[39mshapes, \u001b[39m*\u001b[39m\u001b[39m*\u001b[39mcontract_opts)\n\u001b[1;32m--> 578\u001b[0m o_array \u001b[39m=\u001b[39m expression(\u001b[39m*\u001b[39;49m(t\u001b[39m.\u001b[39;49mdata \u001b[39mfor\u001b[39;49;00m t \u001b[39min\u001b[39;49;00m tensors), backend\u001b[39m=\u001b[39;49mbackend)\n\u001b[0;32m    580\u001b[0m \u001b[39mif\u001b[39;00m \u001b[39mnot\u001b[39;00m inds_out \u001b[39mand\u001b[39;00m \u001b[39mnot\u001b[39;00m preserve_tensor:\n\u001b[0;32m    581\u001b[0m     \u001b[39mif\u001b[39;00m \u001b[39misinstance\u001b[39m(o_array, np\u001b[39m.\u001b[39mndarray):\n",
      "File \u001b[1;32mc:\\Users\\Sergi\\miniconda3\\envs\\tnad\\lib\\site-packages\\opt_einsum\\contract.py:763\u001b[0m, in \u001b[0;36mContractExpression.__call__\u001b[1;34m(self, *arrays, **kwargs)\u001b[0m\n\u001b[0;32m    760\u001b[0m     \u001b[39mif\u001b[39;00m backends\u001b[39m.\u001b[39mhas_backend(backend) \u001b[39mand\u001b[39;00m \u001b[39mall\u001b[39m(\u001b[39misinstance\u001b[39m(x, np\u001b[39m.\u001b[39mndarray) \u001b[39mfor\u001b[39;00m x \u001b[39min\u001b[39;00m arrays):\n\u001b[0;32m    761\u001b[0m         \u001b[39mreturn\u001b[39;00m \u001b[39mself\u001b[39m\u001b[39m.\u001b[39m_contract_with_conversion(ops, out, backend, evaluate_constants\u001b[39m=\u001b[39mevaluate_constants)\n\u001b[1;32m--> 763\u001b[0m     \u001b[39mreturn\u001b[39;00m \u001b[39mself\u001b[39;49m\u001b[39m.\u001b[39;49m_contract(ops, out, backend, evaluate_constants\u001b[39m=\u001b[39;49mevaluate_constants)\n\u001b[0;32m    765\u001b[0m \u001b[39mexcept\u001b[39;00m \u001b[39mValueError\u001b[39;00m \u001b[39mas\u001b[39;00m err:\n\u001b[0;32m    766\u001b[0m     original_msg \u001b[39m=\u001b[39m \u001b[39mstr\u001b[39m(err\u001b[39m.\u001b[39margs) \u001b[39mif\u001b[39;00m err\u001b[39m.\u001b[39margs \u001b[39melse\u001b[39;00m \u001b[39m\"\u001b[39m\u001b[39m\"\u001b[39m\n",
      "File \u001b[1;32mc:\\Users\\Sergi\\miniconda3\\envs\\tnad\\lib\\site-packages\\opt_einsum\\contract.py:693\u001b[0m, in \u001b[0;36mContractExpression._contract\u001b[1;34m(self, arrays, out, backend, evaluate_constants)\u001b[0m\n\u001b[0;32m    689\u001b[0m \u001b[39m\"\"\"The normal, core contraction.\u001b[39;00m\n\u001b[0;32m    690\u001b[0m \u001b[39m\"\"\"\u001b[39;00m\n\u001b[0;32m    691\u001b[0m contraction_list \u001b[39m=\u001b[39m \u001b[39mself\u001b[39m\u001b[39m.\u001b[39m_full_contraction_list \u001b[39mif\u001b[39;00m evaluate_constants \u001b[39melse\u001b[39;00m \u001b[39mself\u001b[39m\u001b[39m.\u001b[39mcontraction_list\n\u001b[1;32m--> 693\u001b[0m \u001b[39mreturn\u001b[39;00m _core_contract(\u001b[39mlist\u001b[39m(arrays),\n\u001b[0;32m    694\u001b[0m                       contraction_list,\n\u001b[0;32m    695\u001b[0m                       out\u001b[39m=\u001b[39mout,\n\u001b[0;32m    696\u001b[0m                       backend\u001b[39m=\u001b[39mbackend,\n\u001b[0;32m    697\u001b[0m                       evaluate_constants\u001b[39m=\u001b[39mevaluate_constants,\n\u001b[0;32m    698\u001b[0m                       \u001b[39m*\u001b[39m\u001b[39m*\u001b[39m\u001b[39mself\u001b[39m\u001b[39m.\u001b[39meinsum_kwargs)\n",
      "File \u001b[1;32mc:\\Users\\Sergi\\miniconda3\\envs\\tnad\\lib\\site-packages\\opt_einsum\\contract.py:573\u001b[0m, in \u001b[0;36m_core_contract\u001b[1;34m(operands, contraction_list, backend, evaluate_constants, **einsum_kwargs)\u001b[0m\n\u001b[0;32m    570\u001b[0m     right_pos\u001b[39m.\u001b[39mappend(input_right\u001b[39m.\u001b[39mfind(s))\n\u001b[0;32m    572\u001b[0m \u001b[39m# Contract!\u001b[39;00m\n\u001b[1;32m--> 573\u001b[0m new_view \u001b[39m=\u001b[39m _tensordot(\u001b[39m*\u001b[39;49mtmp_operands, axes\u001b[39m=\u001b[39;49m(\u001b[39mtuple\u001b[39;49m(left_pos), \u001b[39mtuple\u001b[39;49m(right_pos)), backend\u001b[39m=\u001b[39;49mbackend)\n\u001b[0;32m    575\u001b[0m \u001b[39m# Build a new view if needed\u001b[39;00m\n\u001b[0;32m    576\u001b[0m \u001b[39mif\u001b[39;00m (tensor_result \u001b[39m!=\u001b[39m results_index) \u001b[39mor\u001b[39;00m handle_out:\n",
      "File \u001b[1;32mc:\\Users\\Sergi\\miniconda3\\envs\\tnad\\lib\\site-packages\\opt_einsum\\sharing.py:131\u001b[0m, in \u001b[0;36mtensordot_cache_wrap.<locals>.cached_tensordot\u001b[1;34m(x, y, axes, backend)\u001b[0m\n\u001b[0;32m    128\u001b[0m \u001b[39m@functools\u001b[39m\u001b[39m.\u001b[39mwraps(tensordot)\n\u001b[0;32m    129\u001b[0m \u001b[39mdef\u001b[39;00m \u001b[39mcached_tensordot\u001b[39m(x, y, axes\u001b[39m=\u001b[39m\u001b[39m2\u001b[39m, backend\u001b[39m=\u001b[39m\u001b[39m'\u001b[39m\u001b[39mnumpy\u001b[39m\u001b[39m'\u001b[39m):\n\u001b[0;32m    130\u001b[0m     \u001b[39mif\u001b[39;00m \u001b[39mnot\u001b[39;00m currently_sharing():\n\u001b[1;32m--> 131\u001b[0m         \u001b[39mreturn\u001b[39;00m tensordot(x, y, axes, backend\u001b[39m=\u001b[39;49mbackend)\n\u001b[0;32m    133\u001b[0m     \u001b[39m# hash based on the (axes_x,axes_y) form of axes\u001b[39;00m\n\u001b[0;32m    134\u001b[0m     _save_tensors(x, y)\n",
      "File \u001b[1;32mc:\\Users\\Sergi\\miniconda3\\envs\\tnad\\lib\\site-packages\\opt_einsum\\contract.py:374\u001b[0m, in \u001b[0;36m_tensordot\u001b[1;34m(x, y, axes, backend)\u001b[0m\n\u001b[0;32m    371\u001b[0m \u001b[39m\"\"\"Base tensordot.\u001b[39;00m\n\u001b[0;32m    372\u001b[0m \u001b[39m\"\"\"\u001b[39;00m\n\u001b[0;32m    373\u001b[0m fn \u001b[39m=\u001b[39m backends\u001b[39m.\u001b[39mget_func(\u001b[39m'\u001b[39m\u001b[39mtensordot\u001b[39m\u001b[39m'\u001b[39m, backend)\n\u001b[1;32m--> 374\u001b[0m \u001b[39mreturn\u001b[39;00m fn(x, y, axes\u001b[39m=\u001b[39;49maxes)\n",
      "File \u001b[1;32m<__array_function__ internals>:180\u001b[0m, in \u001b[0;36mtensordot\u001b[1;34m(*args, **kwargs)\u001b[0m\n",
      "File \u001b[1;32mc:\\Users\\Sergi\\miniconda3\\envs\\tnad\\lib\\site-packages\\numpy\\core\\numeric.py:1138\u001b[0m, in \u001b[0;36mtensordot\u001b[1;34m(a, b, axes)\u001b[0m\n\u001b[0;32m   1136\u001b[0m at \u001b[39m=\u001b[39m a\u001b[39m.\u001b[39mtranspose(newaxes_a)\u001b[39m.\u001b[39mreshape(newshape_a)\n\u001b[0;32m   1137\u001b[0m bt \u001b[39m=\u001b[39m b\u001b[39m.\u001b[39mtranspose(newaxes_b)\u001b[39m.\u001b[39mreshape(newshape_b)\n\u001b[1;32m-> 1138\u001b[0m res \u001b[39m=\u001b[39m dot(at, bt)\n\u001b[0;32m   1139\u001b[0m \u001b[39mreturn\u001b[39;00m res\u001b[39m.\u001b[39mreshape(olda \u001b[39m+\u001b[39m oldb)\n",
      "File \u001b[1;32m<__array_function__ internals>:180\u001b[0m, in \u001b[0;36mdot\u001b[1;34m(*args, **kwargs)\u001b[0m\n",
      "\u001b[1;31mKeyboardInterrupt\u001b[0m: "
     ]
    },
    {
     "data": {
      "image/svg+xml": "<?xml version=\"1.0\" encoding=\"utf-8\" standalone=\"no\"?>\n<!DOCTYPE svg PUBLIC \"-//W3C//DTD SVG 1.1//EN\"\n  \"http://www.w3.org/Graphics/SVG/1.1/DTD/svg11.dtd\">\n<svg xmlns:xlink=\"http://www.w3.org/1999/xlink\" width=\"748.878125pt\" height=\"547.515469pt\" viewBox=\"0 0 748.878125 547.515469\" xmlns=\"http://www.w3.org/2000/svg\" version=\"1.1\">\n <metadata>\n  <rdf:RDF xmlns:dc=\"http://purl.org/dc/elements/1.1/\" xmlns:cc=\"http://creativecommons.org/ns#\" xmlns:rdf=\"http://www.w3.org/1999/02/22-rdf-syntax-ns#\">\n   <cc:Work>\n    <dc:type rdf:resource=\"http://purl.org/dc/dcmitype/StillImage\"/>\n    <dc:date>2022-09-23T18:25:26.935364</dc:date>\n    <dc:format>image/svg+xml</dc:format>\n    <dc:creator>\n     <cc:Agent>\n      <dc:title>Matplotlib v3.5.3, https://matplotlib.org/</dc:title>\n     </cc:Agent>\n    </dc:creator>\n   </cc:Work>\n  </rdf:RDF>\n </metadata>\n <defs>\n  <style type=\"text/css\">*{stroke-linejoin: round; stroke-linecap: butt}</style>\n </defs>\n <g id=\"figure_1\">\n  <g id=\"patch_1\">\n   <path d=\"M 0 547.515469 \nL 748.878125 547.515469 \nL 748.878125 0 \nL 0 0 \nz\n\" style=\"fill: #ffffff\"/>\n  </g>\n  <g id=\"axes_1\">\n   <g id=\"patch_2\">\n    <path d=\"M 72.078125 157.75216 \nL 741.678125 157.75216 \nL 741.678125 10.999219 \nL 72.078125 10.999219 \nz\n\" style=\"fill: #ffffff\"/>\n   </g>\n   <g id=\"matplotlib.axis_1\">\n    <g id=\"xtick_1\">\n     <g id=\"line2d_1\">\n      <defs>\n       <path id=\"mae164ea314\" d=\"M 0 0 \nL 0 3.5 \n\" style=\"stroke: #000000; stroke-width: 0.8\"/>\n      </defs>\n      <g>\n       <use xlink:href=\"#mae164ea314\" x=\"163.387216\" y=\"157.75216\" style=\"stroke: #000000; stroke-width: 0.8\"/>\n      </g>\n     </g>\n    </g>\n    <g id=\"xtick_2\">\n     <g id=\"line2d_2\">\n      <g>\n       <use xlink:href=\"#mae164ea314\" x=\"285.13267\" y=\"157.75216\" style=\"stroke: #000000; stroke-width: 0.8\"/>\n      </g>\n     </g>\n    </g>\n    <g id=\"xtick_3\">\n     <g id=\"line2d_3\">\n      <g>\n       <use xlink:href=\"#mae164ea314\" x=\"406.878125\" y=\"157.75216\" style=\"stroke: #000000; stroke-width: 0.8\"/>\n      </g>\n     </g>\n    </g>\n    <g id=\"xtick_4\">\n     <g id=\"line2d_4\">\n      <g>\n       <use xlink:href=\"#mae164ea314\" x=\"528.62358\" y=\"157.75216\" style=\"stroke: #000000; stroke-width: 0.8\"/>\n      </g>\n     </g>\n    </g>\n    <g id=\"xtick_5\">\n     <g id=\"line2d_5\">\n      <g>\n       <use xlink:href=\"#mae164ea314\" x=\"650.369034\" y=\"157.75216\" style=\"stroke: #000000; stroke-width: 0.8\"/>\n      </g>\n     </g>\n    </g>\n   </g>\n   <g id=\"matplotlib.axis_2\">\n    <g id=\"ytick_1\">\n     <g id=\"line2d_6\">\n      <defs>\n       <path id=\"ma75cb3188e\" d=\"M 0 0 \nL -3.5 0 \n\" style=\"stroke: #000000; stroke-width: 0.8\"/>\n      </defs>\n      <g>\n       <use xlink:href=\"#ma75cb3188e\" x=\"72.078125\" y=\"11.292725\" style=\"stroke: #000000; stroke-width: 0.8\"/>\n      </g>\n     </g>\n     <g id=\"text_1\">\n      <!-- $\\mathdefault{10^{-2}}$ -->\n      <g transform=\"translate(41.578125 15.091943)scale(0.1 -0.1)\">\n       <defs>\n        <path id=\"DejaVuSans-31\" d=\"M 794 531 \nL 1825 531 \nL 1825 4091 \nL 703 3866 \nL 703 4441 \nL 1819 4666 \nL 2450 4666 \nL 2450 531 \nL 3481 531 \nL 3481 0 \nL 794 0 \nL 794 531 \nz\n\" transform=\"scale(0.015625)\"/>\n        <path id=\"DejaVuSans-30\" d=\"M 2034 4250 \nQ 1547 4250 1301 3770 \nQ 1056 3291 1056 2328 \nQ 1056 1369 1301 889 \nQ 1547 409 2034 409 \nQ 2525 409 2770 889 \nQ 3016 1369 3016 2328 \nQ 3016 3291 2770 3770 \nQ 2525 4250 2034 4250 \nz\nM 2034 4750 \nQ 2819 4750 3233 4129 \nQ 3647 3509 3647 2328 \nQ 3647 1150 3233 529 \nQ 2819 -91 2034 -91 \nQ 1250 -91 836 529 \nQ 422 1150 422 2328 \nQ 422 3509 836 4129 \nQ 1250 4750 2034 4750 \nz\n\" transform=\"scale(0.015625)\"/>\n        <path id=\"DejaVuSans-2212\" d=\"M 678 2272 \nL 4684 2272 \nL 4684 1741 \nL 678 1741 \nL 678 2272 \nz\n\" transform=\"scale(0.015625)\"/>\n        <path id=\"DejaVuSans-32\" d=\"M 1228 531 \nL 3431 531 \nL 3431 0 \nL 469 0 \nL 469 531 \nQ 828 903 1448 1529 \nQ 2069 2156 2228 2338 \nQ 2531 2678 2651 2914 \nQ 2772 3150 2772 3378 \nQ 2772 3750 2511 3984 \nQ 2250 4219 1831 4219 \nQ 1534 4219 1204 4116 \nQ 875 4013 500 3803 \nL 500 4441 \nQ 881 4594 1212 4672 \nQ 1544 4750 1819 4750 \nQ 2544 4750 2975 4387 \nQ 3406 4025 3406 3419 \nQ 3406 3131 3298 2873 \nQ 3191 2616 2906 2266 \nQ 2828 2175 2409 1742 \nQ 1991 1309 1228 531 \nz\n\" transform=\"scale(0.015625)\"/>\n       </defs>\n       <use xlink:href=\"#DejaVuSans-31\" transform=\"translate(0 0.765625)\"/>\n       <use xlink:href=\"#DejaVuSans-30\" transform=\"translate(63.623047 0.765625)\"/>\n       <use xlink:href=\"#DejaVuSans-2212\" transform=\"translate(128.203125 39.046875)scale(0.7)\"/>\n       <use xlink:href=\"#DejaVuSans-32\" transform=\"translate(186.855469 39.046875)scale(0.7)\"/>\n      </g>\n     </g>\n    </g>\n    <g id=\"ytick_2\">\n     <g id=\"line2d_7\">\n      <g>\n       <use xlink:href=\"#ma75cb3188e\" x=\"72.078125\" y=\"11.145972\" style=\"stroke: #000000; stroke-width: 0.8\"/>\n      </g>\n     </g>\n     <g id=\"text_2\">\n      <!-- $\\mathdefault{10^{-1}}$ -->\n      <g transform=\"translate(41.578125 14.94519)scale(0.1 -0.1)\">\n       <use xlink:href=\"#DejaVuSans-31\" transform=\"translate(0 0.684375)\"/>\n       <use xlink:href=\"#DejaVuSans-30\" transform=\"translate(63.623047 0.684375)\"/>\n       <use xlink:href=\"#DejaVuSans-2212\" transform=\"translate(128.203125 38.965625)scale(0.7)\"/>\n       <use xlink:href=\"#DejaVuSans-31\" transform=\"translate(186.855469 38.965625)scale(0.7)\"/>\n      </g>\n     </g>\n    </g>\n    <g id=\"ytick_3\">\n     <g id=\"line2d_8\">\n      <g>\n       <use xlink:href=\"#ma75cb3188e\" x=\"72.078125\" y=\"10.999219\" style=\"stroke: #000000; stroke-width: 0.8\"/>\n      </g>\n     </g>\n     <g id=\"text_3\">\n      <!-- $\\mathdefault{10^{0}}$ -->\n      <g transform=\"translate(47.478125 14.798438)scale(0.1 -0.1)\">\n       <use xlink:href=\"#DejaVuSans-31\" transform=\"translate(0 0.765625)\"/>\n       <use xlink:href=\"#DejaVuSans-30\" transform=\"translate(63.623047 0.765625)\"/>\n       <use xlink:href=\"#DejaVuSans-30\" transform=\"translate(128.203125 39.046875)scale(0.7)\"/>\n      </g>\n     </g>\n    </g>\n    <g id=\"text_4\">\n     <!-- infidelity -->\n     <g style=\"fill: #1f77b4\" transform=\"translate(35.498438 106.031158)rotate(-90)scale(0.1 -0.1)\">\n      <defs>\n       <path id=\"DejaVuSans-69\" d=\"M 603 3500 \nL 1178 3500 \nL 1178 0 \nL 603 0 \nL 603 3500 \nz\nM 603 4863 \nL 1178 4863 \nL 1178 4134 \nL 603 4134 \nL 603 4863 \nz\n\" transform=\"scale(0.015625)\"/>\n       <path id=\"DejaVuSans-6e\" d=\"M 3513 2113 \nL 3513 0 \nL 2938 0 \nL 2938 2094 \nQ 2938 2591 2744 2837 \nQ 2550 3084 2163 3084 \nQ 1697 3084 1428 2787 \nQ 1159 2491 1159 1978 \nL 1159 0 \nL 581 0 \nL 581 3500 \nL 1159 3500 \nL 1159 2956 \nQ 1366 3272 1645 3428 \nQ 1925 3584 2291 3584 \nQ 2894 3584 3203 3211 \nQ 3513 2838 3513 2113 \nz\n\" transform=\"scale(0.015625)\"/>\n       <path id=\"DejaVuSans-66\" d=\"M 2375 4863 \nL 2375 4384 \nL 1825 4384 \nQ 1516 4384 1395 4259 \nQ 1275 4134 1275 3809 \nL 1275 3500 \nL 2222 3500 \nL 2222 3053 \nL 1275 3053 \nL 1275 0 \nL 697 0 \nL 697 3053 \nL 147 3053 \nL 147 3500 \nL 697 3500 \nL 697 3744 \nQ 697 4328 969 4595 \nQ 1241 4863 1831 4863 \nL 2375 4863 \nz\n\" transform=\"scale(0.015625)\"/>\n       <path id=\"DejaVuSans-64\" d=\"M 2906 2969 \nL 2906 4863 \nL 3481 4863 \nL 3481 0 \nL 2906 0 \nL 2906 525 \nQ 2725 213 2448 61 \nQ 2172 -91 1784 -91 \nQ 1150 -91 751 415 \nQ 353 922 353 1747 \nQ 353 2572 751 3078 \nQ 1150 3584 1784 3584 \nQ 2172 3584 2448 3432 \nQ 2725 3281 2906 2969 \nz\nM 947 1747 \nQ 947 1113 1208 752 \nQ 1469 391 1925 391 \nQ 2381 391 2643 752 \nQ 2906 1113 2906 1747 \nQ 2906 2381 2643 2742 \nQ 2381 3103 1925 3103 \nQ 1469 3103 1208 2742 \nQ 947 2381 947 1747 \nz\n\" transform=\"scale(0.015625)\"/>\n       <path id=\"DejaVuSans-65\" d=\"M 3597 1894 \nL 3597 1613 \nL 953 1613 \nQ 991 1019 1311 708 \nQ 1631 397 2203 397 \nQ 2534 397 2845 478 \nQ 3156 559 3463 722 \nL 3463 178 \nQ 3153 47 2828 -22 \nQ 2503 -91 2169 -91 \nQ 1331 -91 842 396 \nQ 353 884 353 1716 \nQ 353 2575 817 3079 \nQ 1281 3584 2069 3584 \nQ 2775 3584 3186 3129 \nQ 3597 2675 3597 1894 \nz\nM 3022 2063 \nQ 3016 2534 2758 2815 \nQ 2500 3097 2075 3097 \nQ 1594 3097 1305 2825 \nQ 1016 2553 972 2059 \nL 3022 2063 \nz\n\" transform=\"scale(0.015625)\"/>\n       <path id=\"DejaVuSans-6c\" d=\"M 603 4863 \nL 1178 4863 \nL 1178 0 \nL 603 0 \nL 603 4863 \nz\n\" transform=\"scale(0.015625)\"/>\n       <path id=\"DejaVuSans-74\" d=\"M 1172 4494 \nL 1172 3500 \nL 2356 3500 \nL 2356 3053 \nL 1172 3053 \nL 1172 1153 \nQ 1172 725 1289 603 \nQ 1406 481 1766 481 \nL 2356 481 \nL 2356 0 \nL 1766 0 \nQ 1100 0 847 248 \nQ 594 497 594 1153 \nL 594 3053 \nL 172 3053 \nL 172 3500 \nL 594 3500 \nL 594 4494 \nL 1172 4494 \nz\n\" transform=\"scale(0.015625)\"/>\n       <path id=\"DejaVuSans-79\" d=\"M 2059 -325 \nQ 1816 -950 1584 -1140 \nQ 1353 -1331 966 -1331 \nL 506 -1331 \nL 506 -850 \nL 844 -850 \nQ 1081 -850 1212 -737 \nQ 1344 -625 1503 -206 \nL 1606 56 \nL 191 3500 \nL 800 3500 \nL 1894 763 \nL 2988 3500 \nL 3597 3500 \nL 2059 -325 \nz\n\" transform=\"scale(0.015625)\"/>\n      </defs>\n      <use xlink:href=\"#DejaVuSans-69\"/>\n      <use xlink:href=\"#DejaVuSans-6e\" x=\"27.783203\"/>\n      <use xlink:href=\"#DejaVuSans-66\" x=\"91.162109\"/>\n      <use xlink:href=\"#DejaVuSans-69\" x=\"126.367188\"/>\n      <use xlink:href=\"#DejaVuSans-64\" x=\"154.150391\"/>\n      <use xlink:href=\"#DejaVuSans-65\" x=\"217.626953\"/>\n      <use xlink:href=\"#DejaVuSans-6c\" x=\"279.150391\"/>\n      <use xlink:href=\"#DejaVuSans-69\" x=\"306.933594\"/>\n      <use xlink:href=\"#DejaVuSans-74\" x=\"334.716797\"/>\n      <use xlink:href=\"#DejaVuSans-79\" x=\"373.925781\"/>\n     </g>\n    </g>\n   </g>\n   <g id=\"line2d_9\">\n    <path d=\"M 406.878125 10.999573 \nL 406.878125 10.999573 \nL 749.878125 10.999573 \n\" clip-path=\"url(#p7e5e936e86)\" style=\"fill: none; stroke: #0000ff; stroke-width: 1.5; stroke-linecap: square\"/>\n   </g>\n   <g id=\"patch_3\">\n    <path d=\"M 72.078125 157.75216 \nL 72.078125 10.999219 \n\" style=\"fill: none; stroke: #000000; stroke-width: 0.8; stroke-linejoin: miter; stroke-linecap: square\"/>\n   </g>\n   <g id=\"patch_4\">\n    <path d=\"M 741.678125 157.75216 \nL 741.678125 10.999219 \n\" style=\"fill: none; stroke: #000000; stroke-width: 0.8; stroke-linejoin: miter; stroke-linecap: square\"/>\n   </g>\n   <g id=\"patch_5\">\n    <path d=\"M 72.078125 157.75216 \nL 741.678125 157.75216 \n\" style=\"fill: none; stroke: #000000; stroke-width: 0.8; stroke-linejoin: miter; stroke-linecap: square\"/>\n   </g>\n   <g id=\"patch_6\">\n    <path d=\"M 72.078125 10.999219 \nL 741.678125 10.999219 \n\" style=\"fill: none; stroke: #000000; stroke-width: 0.8; stroke-linejoin: miter; stroke-linecap: square\"/>\n   </g>\n  </g>\n  <g id=\"axes_2\">\n   <g id=\"patch_7\">\n    <path d=\"M 72.078125 333.855689 \nL 741.678125 333.855689 \nL 741.678125 187.102748 \nL 72.078125 187.102748 \nz\n\" style=\"fill: #ffffff\"/>\n   </g>\n   <g id=\"matplotlib.axis_3\">\n    <g id=\"xtick_6\">\n     <g id=\"line2d_10\">\n      <g>\n       <use xlink:href=\"#mae164ea314\" x=\"163.387216\" y=\"333.855689\" style=\"stroke: #000000; stroke-width: 0.8\"/>\n      </g>\n     </g>\n    </g>\n    <g id=\"xtick_7\">\n     <g id=\"line2d_11\">\n      <g>\n       <use xlink:href=\"#mae164ea314\" x=\"285.13267\" y=\"333.855689\" style=\"stroke: #000000; stroke-width: 0.8\"/>\n      </g>\n     </g>\n    </g>\n    <g id=\"xtick_8\">\n     <g id=\"line2d_12\">\n      <g>\n       <use xlink:href=\"#mae164ea314\" x=\"406.878125\" y=\"333.855689\" style=\"stroke: #000000; stroke-width: 0.8\"/>\n      </g>\n     </g>\n    </g>\n    <g id=\"xtick_9\">\n     <g id=\"line2d_13\">\n      <g>\n       <use xlink:href=\"#mae164ea314\" x=\"528.62358\" y=\"333.855689\" style=\"stroke: #000000; stroke-width: 0.8\"/>\n      </g>\n     </g>\n    </g>\n    <g id=\"xtick_10\">\n     <g id=\"line2d_14\">\n      <g>\n       <use xlink:href=\"#mae164ea314\" x=\"650.369034\" y=\"333.855689\" style=\"stroke: #000000; stroke-width: 0.8\"/>\n      </g>\n     </g>\n    </g>\n   </g>\n   <g id=\"matplotlib.axis_4\">\n    <g id=\"ytick_4\">\n     <g id=\"line2d_15\">\n      <g>\n       <use xlink:href=\"#ma75cb3188e\" x=\"72.078125\" y=\"187.396254\" style=\"stroke: #000000; stroke-width: 0.8\"/>\n      </g>\n     </g>\n     <g id=\"text_5\">\n      <!-- $\\mathdefault{10^{-2}}$ -->\n      <g transform=\"translate(41.578125 191.195473)scale(0.1 -0.1)\">\n       <use xlink:href=\"#DejaVuSans-31\" transform=\"translate(0 0.765625)\"/>\n       <use xlink:href=\"#DejaVuSans-30\" transform=\"translate(63.623047 0.765625)\"/>\n       <use xlink:href=\"#DejaVuSans-2212\" transform=\"translate(128.203125 39.046875)scale(0.7)\"/>\n       <use xlink:href=\"#DejaVuSans-32\" transform=\"translate(186.855469 39.046875)scale(0.7)\"/>\n      </g>\n     </g>\n    </g>\n    <g id=\"ytick_5\">\n     <g id=\"line2d_16\">\n      <g>\n       <use xlink:href=\"#ma75cb3188e\" x=\"72.078125\" y=\"187.249501\" style=\"stroke: #000000; stroke-width: 0.8\"/>\n      </g>\n     </g>\n     <g id=\"text_6\">\n      <!-- $\\mathdefault{10^{-1}}$ -->\n      <g transform=\"translate(41.578125 191.04872)scale(0.1 -0.1)\">\n       <use xlink:href=\"#DejaVuSans-31\" transform=\"translate(0 0.684375)\"/>\n       <use xlink:href=\"#DejaVuSans-30\" transform=\"translate(63.623047 0.684375)\"/>\n       <use xlink:href=\"#DejaVuSans-2212\" transform=\"translate(128.203125 38.965625)scale(0.7)\"/>\n       <use xlink:href=\"#DejaVuSans-31\" transform=\"translate(186.855469 38.965625)scale(0.7)\"/>\n      </g>\n     </g>\n    </g>\n    <g id=\"ytick_6\">\n     <g id=\"line2d_17\">\n      <g>\n       <use xlink:href=\"#ma75cb3188e\" x=\"72.078125\" y=\"187.102748\" style=\"stroke: #000000; stroke-width: 0.8\"/>\n      </g>\n     </g>\n     <g id=\"text_7\">\n      <!-- $\\mathdefault{10^{0}}$ -->\n      <g transform=\"translate(47.478125 190.901967)scale(0.1 -0.1)\">\n       <use xlink:href=\"#DejaVuSans-31\" transform=\"translate(0 0.765625)\"/>\n       <use xlink:href=\"#DejaVuSans-30\" transform=\"translate(63.623047 0.765625)\"/>\n       <use xlink:href=\"#DejaVuSans-30\" transform=\"translate(128.203125 39.046875)scale(0.7)\"/>\n      </g>\n     </g>\n    </g>\n    <g id=\"text_8\">\n     <!-- loss -->\n     <g style=\"fill: #d62728\" transform=\"translate(35.498438 270.137031)rotate(-90)scale(0.1 -0.1)\">\n      <defs>\n       <path id=\"DejaVuSans-6f\" d=\"M 1959 3097 \nQ 1497 3097 1228 2736 \nQ 959 2375 959 1747 \nQ 959 1119 1226 758 \nQ 1494 397 1959 397 \nQ 2419 397 2687 759 \nQ 2956 1122 2956 1747 \nQ 2956 2369 2687 2733 \nQ 2419 3097 1959 3097 \nz\nM 1959 3584 \nQ 2709 3584 3137 3096 \nQ 3566 2609 3566 1747 \nQ 3566 888 3137 398 \nQ 2709 -91 1959 -91 \nQ 1206 -91 779 398 \nQ 353 888 353 1747 \nQ 353 2609 779 3096 \nQ 1206 3584 1959 3584 \nz\n\" transform=\"scale(0.015625)\"/>\n       <path id=\"DejaVuSans-73\" d=\"M 2834 3397 \nL 2834 2853 \nQ 2591 2978 2328 3040 \nQ 2066 3103 1784 3103 \nQ 1356 3103 1142 2972 \nQ 928 2841 928 2578 \nQ 928 2378 1081 2264 \nQ 1234 2150 1697 2047 \nL 1894 2003 \nQ 2506 1872 2764 1633 \nQ 3022 1394 3022 966 \nQ 3022 478 2636 193 \nQ 2250 -91 1575 -91 \nQ 1294 -91 989 -36 \nQ 684 19 347 128 \nL 347 722 \nQ 666 556 975 473 \nQ 1284 391 1588 391 \nQ 1994 391 2212 530 \nQ 2431 669 2431 922 \nQ 2431 1156 2273 1281 \nQ 2116 1406 1581 1522 \nL 1381 1569 \nQ 847 1681 609 1914 \nQ 372 2147 372 2553 \nQ 372 3047 722 3315 \nQ 1072 3584 1716 3584 \nQ 2034 3584 2315 3537 \nQ 2597 3491 2834 3397 \nz\n\" transform=\"scale(0.015625)\"/>\n      </defs>\n      <use xlink:href=\"#DejaVuSans-6c\"/>\n      <use xlink:href=\"#DejaVuSans-6f\" x=\"27.783203\"/>\n      <use xlink:href=\"#DejaVuSans-73\" x=\"88.964844\"/>\n      <use xlink:href=\"#DejaVuSans-73\" x=\"141.064453\"/>\n     </g>\n    </g>\n   </g>\n   <g id=\"line2d_18\">\n    <path d=\"M 406.878125 187.103457 \nL 406.878125 187.103457 \nL 749.878125 187.103457 \n\" clip-path=\"url(#p1be7d6377c)\" style=\"fill: none; stroke-dasharray: 5.55,2.4; stroke-dashoffset: 0; stroke: #ff0000; stroke-width: 1.5\"/>\n   </g>\n   <g id=\"patch_8\">\n    <path d=\"M 72.078125 333.855689 \nL 72.078125 187.102748 \n\" style=\"fill: none; stroke: #000000; stroke-width: 0.8; stroke-linejoin: miter; stroke-linecap: square\"/>\n   </g>\n   <g id=\"patch_9\">\n    <path d=\"M 741.678125 333.855689 \nL 741.678125 187.102748 \n\" style=\"fill: none; stroke: #000000; stroke-width: 0.8; stroke-linejoin: miter; stroke-linecap: square\"/>\n   </g>\n   <g id=\"patch_10\">\n    <path d=\"M 72.078125 333.855689 \nL 741.678125 333.855689 \n\" style=\"fill: none; stroke: #000000; stroke-width: 0.8; stroke-linejoin: miter; stroke-linecap: square\"/>\n   </g>\n   <g id=\"patch_11\">\n    <path d=\"M 72.078125 187.102748 \nL 741.678125 187.102748 \n\" style=\"fill: none; stroke: #000000; stroke-width: 0.8; stroke-linejoin: miter; stroke-linecap: square\"/>\n   </g>\n  </g>\n  <g id=\"axes_3\">\n   <g id=\"patch_12\">\n    <path d=\"M 72.078125 509.959219 \nL 741.678125 509.959219 \nL 741.678125 363.206278 \nL 72.078125 363.206278 \nz\n\" style=\"fill: #ffffff\"/>\n   </g>\n   <g id=\"matplotlib.axis_5\">\n    <g id=\"xtick_11\">\n     <g id=\"line2d_19\">\n      <g>\n       <use xlink:href=\"#mae164ea314\" x=\"163.387216\" y=\"509.959219\" style=\"stroke: #000000; stroke-width: 0.8\"/>\n      </g>\n     </g>\n     <g id=\"text_9\">\n      <!-- −0.04 -->\n      <g transform=\"translate(148.06456 524.557656)scale(0.1 -0.1)\">\n       <defs>\n        <path id=\"DejaVuSans-2e\" d=\"M 684 794 \nL 1344 794 \nL 1344 0 \nL 684 0 \nL 684 794 \nz\n\" transform=\"scale(0.015625)\"/>\n        <path id=\"DejaVuSans-34\" d=\"M 2419 4116 \nL 825 1625 \nL 2419 1625 \nL 2419 4116 \nz\nM 2253 4666 \nL 3047 4666 \nL 3047 1625 \nL 3713 1625 \nL 3713 1100 \nL 3047 1100 \nL 3047 0 \nL 2419 0 \nL 2419 1100 \nL 313 1100 \nL 313 1709 \nL 2253 4666 \nz\n\" transform=\"scale(0.015625)\"/>\n       </defs>\n       <use xlink:href=\"#DejaVuSans-2212\"/>\n       <use xlink:href=\"#DejaVuSans-30\" x=\"83.789062\"/>\n       <use xlink:href=\"#DejaVuSans-2e\" x=\"147.412109\"/>\n       <use xlink:href=\"#DejaVuSans-30\" x=\"179.199219\"/>\n       <use xlink:href=\"#DejaVuSans-34\" x=\"242.822266\"/>\n      </g>\n     </g>\n    </g>\n    <g id=\"xtick_12\">\n     <g id=\"line2d_20\">\n      <g>\n       <use xlink:href=\"#mae164ea314\" x=\"285.13267\" y=\"509.959219\" style=\"stroke: #000000; stroke-width: 0.8\"/>\n      </g>\n     </g>\n     <g id=\"text_10\">\n      <!-- −0.02 -->\n      <g transform=\"translate(269.810014 524.557656)scale(0.1 -0.1)\">\n       <use xlink:href=\"#DejaVuSans-2212\"/>\n       <use xlink:href=\"#DejaVuSans-30\" x=\"83.789062\"/>\n       <use xlink:href=\"#DejaVuSans-2e\" x=\"147.412109\"/>\n       <use xlink:href=\"#DejaVuSans-30\" x=\"179.199219\"/>\n       <use xlink:href=\"#DejaVuSans-32\" x=\"242.822266\"/>\n      </g>\n     </g>\n    </g>\n    <g id=\"xtick_13\">\n     <g id=\"line2d_21\">\n      <g>\n       <use xlink:href=\"#mae164ea314\" x=\"406.878125\" y=\"509.959219\" style=\"stroke: #000000; stroke-width: 0.8\"/>\n      </g>\n     </g>\n     <g id=\"text_11\">\n      <!-- 0.00 -->\n      <g transform=\"translate(395.745313 524.557656)scale(0.1 -0.1)\">\n       <use xlink:href=\"#DejaVuSans-30\"/>\n       <use xlink:href=\"#DejaVuSans-2e\" x=\"63.623047\"/>\n       <use xlink:href=\"#DejaVuSans-30\" x=\"95.410156\"/>\n       <use xlink:href=\"#DejaVuSans-30\" x=\"159.033203\"/>\n      </g>\n     </g>\n    </g>\n    <g id=\"xtick_14\">\n     <g id=\"line2d_22\">\n      <g>\n       <use xlink:href=\"#mae164ea314\" x=\"528.62358\" y=\"509.959219\" style=\"stroke: #000000; stroke-width: 0.8\"/>\n      </g>\n     </g>\n     <g id=\"text_12\">\n      <!-- 0.02 -->\n      <g transform=\"translate(517.490767 524.557656)scale(0.1 -0.1)\">\n       <use xlink:href=\"#DejaVuSans-30\"/>\n       <use xlink:href=\"#DejaVuSans-2e\" x=\"63.623047\"/>\n       <use xlink:href=\"#DejaVuSans-30\" x=\"95.410156\"/>\n       <use xlink:href=\"#DejaVuSans-32\" x=\"159.033203\"/>\n      </g>\n     </g>\n    </g>\n    <g id=\"xtick_15\">\n     <g id=\"line2d_23\">\n      <g>\n       <use xlink:href=\"#mae164ea314\" x=\"650.369034\" y=\"509.959219\" style=\"stroke: #000000; stroke-width: 0.8\"/>\n      </g>\n     </g>\n     <g id=\"text_13\">\n      <!-- 0.04 -->\n      <g transform=\"translate(639.236222 524.557656)scale(0.1 -0.1)\">\n       <use xlink:href=\"#DejaVuSans-30\"/>\n       <use xlink:href=\"#DejaVuSans-2e\" x=\"63.623047\"/>\n       <use xlink:href=\"#DejaVuSans-30\" x=\"95.410156\"/>\n       <use xlink:href=\"#DejaVuSans-34\" x=\"159.033203\"/>\n      </g>\n     </g>\n    </g>\n    <g id=\"text_14\">\n     <!-- epoch -->\n     <g transform=\"translate(391.65 538.235781)scale(0.1 -0.1)\">\n      <defs>\n       <path id=\"DejaVuSans-70\" d=\"M 1159 525 \nL 1159 -1331 \nL 581 -1331 \nL 581 3500 \nL 1159 3500 \nL 1159 2969 \nQ 1341 3281 1617 3432 \nQ 1894 3584 2278 3584 \nQ 2916 3584 3314 3078 \nQ 3713 2572 3713 1747 \nQ 3713 922 3314 415 \nQ 2916 -91 2278 -91 \nQ 1894 -91 1617 61 \nQ 1341 213 1159 525 \nz\nM 3116 1747 \nQ 3116 2381 2855 2742 \nQ 2594 3103 2138 3103 \nQ 1681 3103 1420 2742 \nQ 1159 2381 1159 1747 \nQ 1159 1113 1420 752 \nQ 1681 391 2138 391 \nQ 2594 391 2855 752 \nQ 3116 1113 3116 1747 \nz\n\" transform=\"scale(0.015625)\"/>\n       <path id=\"DejaVuSans-63\" d=\"M 3122 3366 \nL 3122 2828 \nQ 2878 2963 2633 3030 \nQ 2388 3097 2138 3097 \nQ 1578 3097 1268 2742 \nQ 959 2388 959 1747 \nQ 959 1106 1268 751 \nQ 1578 397 2138 397 \nQ 2388 397 2633 464 \nQ 2878 531 3122 666 \nL 3122 134 \nQ 2881 22 2623 -34 \nQ 2366 -91 2075 -91 \nQ 1284 -91 818 406 \nQ 353 903 353 1747 \nQ 353 2603 823 3093 \nQ 1294 3584 2113 3584 \nQ 2378 3584 2631 3529 \nQ 2884 3475 3122 3366 \nz\n\" transform=\"scale(0.015625)\"/>\n       <path id=\"DejaVuSans-68\" d=\"M 3513 2113 \nL 3513 0 \nL 2938 0 \nL 2938 2094 \nQ 2938 2591 2744 2837 \nQ 2550 3084 2163 3084 \nQ 1697 3084 1428 2787 \nQ 1159 2491 1159 1978 \nL 1159 0 \nL 581 0 \nL 581 4863 \nL 1159 4863 \nL 1159 2956 \nQ 1366 3272 1645 3428 \nQ 1925 3584 2291 3584 \nQ 2894 3584 3203 3211 \nQ 3513 2838 3513 2113 \nz\n\" transform=\"scale(0.015625)\"/>\n      </defs>\n      <use xlink:href=\"#DejaVuSans-65\"/>\n      <use xlink:href=\"#DejaVuSans-70\" x=\"61.523438\"/>\n      <use xlink:href=\"#DejaVuSans-6f\" x=\"125\"/>\n      <use xlink:href=\"#DejaVuSans-63\" x=\"186.181641\"/>\n      <use xlink:href=\"#DejaVuSans-68\" x=\"241.162109\"/>\n     </g>\n    </g>\n   </g>\n   <g id=\"matplotlib.axis_6\">\n    <g id=\"ytick_7\">\n     <g id=\"line2d_24\">\n      <g>\n       <use xlink:href=\"#ma75cb3188e\" x=\"72.078125\" y=\"363.39715\" style=\"stroke: #000000; stroke-width: 0.8\"/>\n      </g>\n     </g>\n     <g id=\"text_15\">\n      <!-- $\\mathdefault{10^{-1}}$ -->\n      <g transform=\"translate(41.578125 367.196369)scale(0.1 -0.1)\">\n       <use xlink:href=\"#DejaVuSans-31\" transform=\"translate(0 0.684375)\"/>\n       <use xlink:href=\"#DejaVuSans-30\" transform=\"translate(63.623047 0.684375)\"/>\n       <use xlink:href=\"#DejaVuSans-2212\" transform=\"translate(128.203125 38.965625)scale(0.7)\"/>\n       <use xlink:href=\"#DejaVuSans-31\" transform=\"translate(186.855469 38.965625)scale(0.7)\"/>\n      </g>\n     </g>\n    </g>\n    <g id=\"ytick_8\">\n     <g id=\"line2d_25\">\n      <g>\n       <use xlink:href=\"#ma75cb3188e\" x=\"72.078125\" y=\"363.250441\" style=\"stroke: #000000; stroke-width: 0.8\"/>\n      </g>\n     </g>\n     <g id=\"text_16\">\n      <!-- $\\mathdefault{10^{0}}$ -->\n      <g transform=\"translate(47.478125 367.04966)scale(0.1 -0.1)\">\n       <use xlink:href=\"#DejaVuSans-31\" transform=\"translate(0 0.765625)\"/>\n       <use xlink:href=\"#DejaVuSans-30\" transform=\"translate(63.623047 0.765625)\"/>\n       <use xlink:href=\"#DejaVuSans-30\" transform=\"translate(128.203125 39.046875)scale(0.7)\"/>\n      </g>\n     </g>\n    </g>\n    <g id=\"ytick_9\">\n     <g id=\"line2d_26\">\n      <defs>\n       <path id=\"mc60a43ea25\" d=\"M 0 0 \nL -2 0 \n\" style=\"stroke: #000000; stroke-width: 0.6\"/>\n      </defs>\n      <g>\n       <use xlink:href=\"#mc60a43ea25\" x=\"72.078125\" y=\"363.238825\" style=\"stroke: #000000; stroke-width: 0.6\"/>\n      </g>\n     </g>\n     <g id=\"text_17\">\n      <!-- $\\mathdefault{1.2\\times10^{0}}$ -->\n      <g transform=\"translate(21.478125 367.038043)scale(0.1 -0.1)\">\n       <defs>\n        <path id=\"DejaVuSans-d7\" d=\"M 4488 3438 \nL 3059 2003 \nL 4488 575 \nL 4116 197 \nL 2681 1631 \nL 1247 197 \nL 878 575 \nL 2303 2003 \nL 878 3438 \nL 1247 3816 \nL 2681 2381 \nL 4116 3816 \nL 4488 3438 \nz\n\" transform=\"scale(0.015625)\"/>\n       </defs>\n       <use xlink:href=\"#DejaVuSans-31\" transform=\"translate(0 0.765625)\"/>\n       <use xlink:href=\"#DejaVuSans-2e\" transform=\"translate(63.623047 0.765625)\"/>\n       <use xlink:href=\"#DejaVuSans-32\" transform=\"translate(89.910156 0.765625)\"/>\n       <use xlink:href=\"#DejaVuSans-d7\" transform=\"translate(173.015625 0.765625)\"/>\n       <use xlink:href=\"#DejaVuSans-31\" transform=\"translate(276.287109 0.765625)\"/>\n       <use xlink:href=\"#DejaVuSans-30\" transform=\"translate(339.910156 0.765625)\"/>\n       <use xlink:href=\"#DejaVuSans-30\" transform=\"translate(404.490234 39.046875)scale(0.7)\"/>\n      </g>\n     </g>\n    </g>\n    <g id=\"ytick_10\">\n     <g id=\"line2d_27\">\n      <g>\n       <use xlink:href=\"#mc60a43ea25\" x=\"72.078125\" y=\"363.229003\" style=\"stroke: #000000; stroke-width: 0.6\"/>\n      </g>\n     </g>\n     <g id=\"text_18\">\n      <!-- $\\mathdefault{1.4\\times10^{0}}$ -->\n      <g transform=\"translate(20.878125 367.028222)scale(0.1 -0.1)\">\n       <use xlink:href=\"#DejaVuSans-31\" transform=\"translate(0 0.765625)\"/>\n       <use xlink:href=\"#DejaVuSans-2e\" transform=\"translate(63.623047 0.765625)\"/>\n       <use xlink:href=\"#DejaVuSans-34\" transform=\"translate(95.410156 0.765625)\"/>\n       <use xlink:href=\"#DejaVuSans-d7\" transform=\"translate(178.515625 0.765625)\"/>\n       <use xlink:href=\"#DejaVuSans-31\" transform=\"translate(281.787109 0.765625)\"/>\n       <use xlink:href=\"#DejaVuSans-30\" transform=\"translate(345.410156 0.765625)\"/>\n       <use xlink:href=\"#DejaVuSans-30\" transform=\"translate(409.990234 39.046875)scale(0.7)\"/>\n      </g>\n     </g>\n    </g>\n    <g id=\"ytick_11\">\n     <g id=\"line2d_28\">\n      <g>\n       <use xlink:href=\"#mc60a43ea25\" x=\"72.078125\" y=\"363.220495\" style=\"stroke: #000000; stroke-width: 0.6\"/>\n      </g>\n     </g>\n    </g>\n    <g id=\"ytick_12\">\n     <g id=\"line2d_29\">\n      <g>\n       <use xlink:href=\"#mc60a43ea25\" x=\"72.078125\" y=\"363.212991\" style=\"stroke: #000000; stroke-width: 0.6\"/>\n      </g>\n     </g>\n    </g>\n    <g id=\"ytick_13\">\n     <g id=\"line2d_30\">\n      <g>\n       <use xlink:href=\"#mc60a43ea25\" x=\"72.078125\" y=\"363.206278\" style=\"stroke: #000000; stroke-width: 0.6\"/>\n      </g>\n     </g>\n    </g>\n    <g id=\"text_19\">\n     <!-- norm -->\n     <g style=\"fill: #ff7f0e\" transform=\"translate(14.798438 449.649154)rotate(-90)scale(0.1 -0.1)\">\n      <defs>\n       <path id=\"DejaVuSans-72\" d=\"M 2631 2963 \nQ 2534 3019 2420 3045 \nQ 2306 3072 2169 3072 \nQ 1681 3072 1420 2755 \nQ 1159 2438 1159 1844 \nL 1159 0 \nL 581 0 \nL 581 3500 \nL 1159 3500 \nL 1159 2956 \nQ 1341 3275 1631 3429 \nQ 1922 3584 2338 3584 \nQ 2397 3584 2469 3576 \nQ 2541 3569 2628 3553 \nL 2631 2963 \nz\n\" transform=\"scale(0.015625)\"/>\n       <path id=\"DejaVuSans-6d\" d=\"M 3328 2828 \nQ 3544 3216 3844 3400 \nQ 4144 3584 4550 3584 \nQ 5097 3584 5394 3201 \nQ 5691 2819 5691 2113 \nL 5691 0 \nL 5113 0 \nL 5113 2094 \nQ 5113 2597 4934 2840 \nQ 4756 3084 4391 3084 \nQ 3944 3084 3684 2787 \nQ 3425 2491 3425 1978 \nL 3425 0 \nL 2847 0 \nL 2847 2094 \nQ 2847 2600 2669 2842 \nQ 2491 3084 2119 3084 \nQ 1678 3084 1418 2786 \nQ 1159 2488 1159 1978 \nL 1159 0 \nL 581 0 \nL 581 3500 \nL 1159 3500 \nL 1159 2956 \nQ 1356 3278 1631 3431 \nQ 1906 3584 2284 3584 \nQ 2666 3584 2933 3390 \nQ 3200 3197 3328 2828 \nz\n\" transform=\"scale(0.015625)\"/>\n      </defs>\n      <use xlink:href=\"#DejaVuSans-6e\"/>\n      <use xlink:href=\"#DejaVuSans-6f\" x=\"63.378906\"/>\n      <use xlink:href=\"#DejaVuSans-72\" x=\"124.560547\"/>\n      <use xlink:href=\"#DejaVuSans-6d\" x=\"163.923828\"/>\n     </g>\n    </g>\n   </g>\n   <g id=\"line2d_31\">\n    <path d=\"M 406.878125 363.250441 \nL 406.878125 363.250441 \nL 749.878125 363.250441 \n\" clip-path=\"url(#p2cda418244)\" style=\"fill: none; stroke: #ffa500; stroke-width: 1.5; stroke-linecap: square\"/>\n   </g>\n   <g id=\"patch_13\">\n    <path d=\"M 72.078125 509.959219 \nL 72.078125 363.206278 \n\" style=\"fill: none; stroke: #000000; stroke-width: 0.8; stroke-linejoin: miter; stroke-linecap: square\"/>\n   </g>\n   <g id=\"patch_14\">\n    <path d=\"M 741.678125 509.959219 \nL 741.678125 363.206278 \n\" style=\"fill: none; stroke: #000000; stroke-width: 0.8; stroke-linejoin: miter; stroke-linecap: square\"/>\n   </g>\n   <g id=\"patch_15\">\n    <path d=\"M 72.078125 509.959219 \nL 741.678125 509.959219 \n\" style=\"fill: none; stroke: #000000; stroke-width: 0.8; stroke-linejoin: miter; stroke-linecap: square\"/>\n   </g>\n   <g id=\"patch_16\">\n    <path d=\"M 72.078125 363.206278 \nL 741.678125 363.206278 \n\" style=\"fill: none; stroke: #000000; stroke-width: 0.8; stroke-linejoin: miter; stroke-linecap: square\"/>\n   </g>\n  </g>\n </g>\n <defs>\n  <clipPath id=\"p7e5e936e86\">\n   <rect x=\"72.078125\" y=\"10.999219\" width=\"669.6\" height=\"146.752941\"/>\n  </clipPath>\n  <clipPath id=\"p1be7d6377c\">\n   <rect x=\"72.078125\" y=\"187.102748\" width=\"669.6\" height=\"146.752941\"/>\n  </clipPath>\n  <clipPath id=\"p2cda418244\">\n   <rect x=\"72.078125\" y=\"363.206278\" width=\"669.6\" height=\"146.752941\"/>\n  </clipPath>\n </defs>\n</svg>\n",
      "text/plain": [
       "<Figure size 1200x900 with 3 Axes>"
      ]
     },
     "metadata": {},
     "output_type": "display_data"
    }
   ],
   "source": [
    "# Approach 2: Use integrated methods only for gradient extraction and do the optimization by hand\n",
    "\n",
    "import quimb as qu\n",
    "import quimb.tensor as qtn\n",
    "from autoray import do\n",
    "import functools\n",
    "import numpy as np\n",
    "\n",
    "# reinitialize the samples\n",
    "n = 12\n",
    "chi_real = 200\n",
    "chi_approx = 100\n",
    "psi_ref = qtn.MPS_rand_state(n, bond_dim=chi_real, normalize=True, tags=[\"ref\"])\n",
    "psi_ref.compress()\n",
    "psi_orig = qtn.MPS_rand_state(n, bond_dim=chi_approx, normalize=True, tags=[\"approx\"])\n",
    "psi_orig.compress()\n",
    "\n",
    "fid = np.abs(fidelity(psi_orig,psi_ref))\n",
    "nrm = norm(psi_orig)\n",
    "# function that takes the input TN and computes the loss\n",
    "def loss(psi, psi_ref):\n",
    "    return (abs(fidelity(psi,psi_ref)) - 1)**2 + (norm(psi) - 1)**2\n",
    "\n",
    "l_rate = 0.01\n",
    "max_it = 150\n",
    "losses = []\n",
    "psi = psi_orig.copy(deep=True)\n",
    "\n",
    "fig = plt.figure(figsize=(12,9))\n",
    "[ax1,ax2,ax3] = fig.subplots(3,1, sharex=True)\n",
    "ax3.set_xlabel(\"epoch\")\n",
    "\n",
    "ax1.set_ylabel(\"infidelity\", color=\"tab:blue\")\n",
    "ax1.set_ylim(0, 1)\n",
    "plot1, = ax1.semilogy([0], 1-fid, color=\"blue\")\n",
    "\n",
    "ax2.set_ylabel(\"loss\", color=\"tab:red\")\n",
    "ax2.set_ylim(0, 1)\n",
    "plot2, = ax2.semilogy([0], loss_simple(fid, nrm), color=\"red\", linestyle=\"dashed\")\n",
    "\n",
    "ax3.set_ylabel(\"norm\", color=\"tab:orange\")\n",
    "ax3.set_ylim(0, 2)\n",
    "plot3, = ax3.semilogy([0], nrm, color=\"orange\")\n",
    "\n",
    "\n",
    "\n",
    "with tqdm(range(max_it)) as progressbar:\n",
    "\tprogressbar.set_postfix(fidelity=f\"{fidelity}\")\n",
    "\t# progressbar.set_postfix(fidelity=f\"{fid}\")\n",
    "\n",
    "\tfor it in progressbar:\n",
    "\t\ttnopt = qtn.TNOptimizer(\n",
    "\t\t\tpsi,\n",
    "\t\t\tloss_fn=loss,\n",
    "\t\t\tloss_constants={'psi_ref': psi_ref},\n",
    "\t\t\tautodiff_backend='jax',\n",
    "\t\t)\n",
    "\n",
    "\t\tx = tnopt.vectorizer.vector \n",
    "\t\tloss_v, grad_full = tnopt.vectorized_value_and_grad(x)\n",
    "\t\ttnopt.vectorizer.vector[:] = grad_full\n",
    "\t\tgrad_tn = tnopt.get_tn_opt()\n",
    "\t\t\n",
    "\t\tpsi = psi - l_rate * grad_tn \n",
    "\n",
    "\t\t# losses.append(loss)\n",
    "\n",
    "\t\t# recompute fidelity, norm\n",
    "\t\tfid = fidelity(psi,psi_ref)\n",
    "\t\tnrm = norm(psi)\n",
    "\n",
    "\t\t# update plot\n",
    "\t\tplot1.set_xdata(np.append(plot1.get_xdata(), it))\n",
    "\t\tplot1.set_ydata(np.append(plot1.get_ydata(), 1-fid))\n",
    "\t\tplot2.set_xdata(np.append(plot2.get_xdata(), it))\n",
    "\t\tplot2.set_ydata(np.append(plot2.get_ydata(), loss_v))\n",
    "\t\tplot3.set_xdata(np.append(plot3.get_xdata(), it))\n",
    "\t\tplot3.set_ydata(np.append(plot3.get_ydata(), nrm))\n",
    "\n",
    "\t\tprogressbar.set_postfix(fidelity=fid, norm=nrm)\n",
    "\n",
    "ax1.set_xlim(0, it * psi.nsites)\n",
    "ax1.set_ylim(min(plot1.get_ydata()), 1)\n",
    "ax2.set_ylim(min(plot2.get_ydata()) / 2, max(plot2.get_ydata()))\n",
    "ax3.set_ylim(0.8, max(plot3.get_ydata()))\n",
    "\n",
    "# print(f\"infidelity = {1-np.abs(fidelity(psi,psi_ref))}\")\n",
    "# print(f\"norm = {norm(psi)}\")\n"
   ]
  },
  {
   "cell_type": "code",
   "execution_count": 17,
   "metadata": {},
   "outputs": [
    {
     "data": {
      "text/plain": [
       "0.0055473980433831905"
      ]
     },
     "execution_count": 17,
     "metadata": {},
     "output_type": "execute_result"
    }
   ],
   "source": [
    "fidelity(psi,psi_ref)"
   ]
  },
  {
   "cell_type": "code",
   "execution_count": 17,
   "metadata": {},
   "outputs": [],
   "source": [
    "plt.show()"
   ]
  },
  {
   "cell_type": "code",
   "execution_count": null,
   "metadata": {},
   "outputs": [],
   "source": []
  }
 ],
 "metadata": {
  "accelerator": "GPU",
  "colab": {
   "collapsed_sections": [],
   "name": "JAX Quickstart.ipynb",
   "provenance": [],
   "toc_visible": true,
   "version": "0.3.2"
  },
  "jupytext": {
   "formats": "ipynb,md:myst"
  },
  "kernelspec": {
   "display_name": "Python 3.9.13 ('tnad')",
   "language": "python",
   "name": "python3"
  },
  "language_info": {
   "codemirror_mode": {
    "name": "ipython",
    "version": 3
   },
   "file_extension": ".py",
   "mimetype": "text/x-python",
   "name": "python",
   "nbconvert_exporter": "python",
   "pygments_lexer": "ipython3",
   "version": "3.9.13"
  },
  "vscode": {
   "interpreter": {
    "hash": "fac1413829ca582ba4d8f19a0d6d0c6b142fee2b1a7589b65d306abe89f5697a"
   }
  }
 },
 "nbformat": 4,
 "nbformat_minor": 0
}
