{
 "cells": [
  {
   "cell_type": "markdown",
   "metadata": {
    "id": "xtWX4x9DCF5_"
   },
   "source": [
    "# JAX Quickstart\n",
    "\n",
    "[![Open in Colab](https://colab.research.google.com/assets/colab-badge.svg)](https://colab.research.google.com/github/google/jax/blob/main/docs/notebooks/quickstart.ipynb)\n",
    "\n",
    "**JAX is NumPy on the CPU, GPU, and TPU, with great automatic differentiation for high-performance machine learning research.**\n",
    "\n",
    "With its updated version of [Autograd](https://github.com/hips/autograd), JAX\n",
    "can automatically differentiate native Python and NumPy code. It can\n",
    "differentiate through a large subset of Python’s features, including loops, ifs,\n",
    "recursion, and closures, and it can even take derivatives of derivatives of\n",
    "derivatives. It supports reverse-mode as well as forward-mode differentiation, and the two can be composed arbitrarily\n",
    "to any order.\n",
    "\n",
    "What’s new is that JAX uses\n",
    "[XLA](https://www.tensorflow.org/xla)\n",
    "to compile and run your NumPy code on accelerators, like GPUs and TPUs.\n",
    "Compilation happens under the hood by default, with library calls getting\n",
    "just-in-time compiled and executed. But JAX even lets you just-in-time compile\n",
    "your own Python functions into XLA-optimized kernels using a one-function API.\n",
    "Compilation and automatic differentiation can be composed arbitrarily, so you\n",
    "can express sophisticated algorithms and get maximal performance without having\n",
    "to leave Python."
   ]
  },
  {
   "cell_type": "code",
   "execution_count": 2,
   "metadata": {
    "id": "SY8mDvEvCGqk"
   },
   "outputs": [],
   "source": [
    "import jax.numpy as jnp\n",
    "from jax import grad, jit, vmap\n",
    "from jax import random"
   ]
  },
  {
   "cell_type": "code",
   "execution_count": 3,
   "metadata": {
    "id": "IMAgNJaMJwPD"
   },
   "outputs": [
    {
     "name": "stderr",
     "output_type": "stream",
     "text": [
      "WARNING:absl:No GPU/TPU found, falling back to CPU. (Set TF_CPP_MIN_LOG_LEVEL=0 and rerun for more info.)\n"
     ]
    },
    {
     "name": "stdout",
     "output_type": "stream",
     "text": [
      "[0.25       0.19661197 0.10499357]\n"
     ]
    }
   ],
   "source": [
    "def sum_logistic(x):\n",
    "  return jnp.sum(1.0 / (1.0 + jnp.exp(-x)))\n",
    "\n",
    "x_small = jnp.arange(3.)\n",
    "derivative_fn = grad(sum_logistic)\n",
    "print(derivative_fn(x_small))"
   ]
  },
  {
   "cell_type": "markdown",
   "metadata": {
    "id": "PtNs881Ohioc"
   },
   "source": [
    "Let's verify with finite differences that our result is correct."
   ]
  },
  {
   "cell_type": "code",
   "execution_count": 4,
   "metadata": {
    "id": "JXI7_OZuKZVO"
   },
   "outputs": [
    {
     "name": "stdout",
     "output_type": "stream",
     "text": [
      "[0.24998187 0.1965761  0.10502338]\n"
     ]
    }
   ],
   "source": [
    "def first_finite_differences(f, x):\n",
    "  eps = 1e-3\n",
    "  return jnp.array([(f(x + eps * v) - f(x - eps * v)) / (2 * eps)\n",
    "                   for v in jnp.eye(len(x))])\n",
    "\n",
    "\n",
    "print(first_finite_differences(sum_logistic, x_small))"
   ]
  },
  {
   "cell_type": "markdown",
   "metadata": {
    "id": "Q2CUZjOWNZ-3"
   },
   "source": [
    "Taking derivatives is as easy as calling {func}`~jax.grad`. {func}`~jax.grad` and {func}`~jax.jit` compose and can be mixed arbitrarily. In the above example we jitted `sum_logistic` and then took its derivative. We can go further:"
   ]
  },
  {
   "cell_type": "code",
   "execution_count": 5,
   "metadata": {
    "id": "TO4g8ny-OEi4"
   },
   "outputs": [
    {
     "name": "stdout",
     "output_type": "stream",
     "text": [
      "-0.035325598\n"
     ]
    }
   ],
   "source": [
    "print(grad(jit(grad(jit(grad(sum_logistic)))))(1.0))"
   ]
  },
  {
   "cell_type": "markdown",
   "metadata": {
    "id": "yCJ5feKvhnBJ"
   },
   "source": [
    "For more advanced autodiff, you can use {func}`jax.vjp` for reverse-mode vector-Jacobian products and {func}`jax.jvp` for forward-mode Jacobian-vector products. The two can be composed arbitrarily with one another, and with other JAX transformations. Here's one way to compose them to make a function that efficiently computes full Hessian matrices:"
   ]
  },
  {
   "cell_type": "code",
   "execution_count": 6,
   "metadata": {
    "id": "Z-JxbiNyhxEW"
   },
   "outputs": [],
   "source": [
    "from jax import jacfwd, jacrev\n",
    "def hessian(fun):\n",
    "  return jit(jacfwd(jacrev(fun)))"
   ]
  },
  {
   "cell_type": "markdown",
   "metadata": {},
   "source": [
    "Second tests. This is closer to what we do in machine learning."
   ]
  },
  {
   "cell_type": "code",
   "execution_count": 7,
   "metadata": {},
   "outputs": [],
   "source": [
    "key = random.PRNGKey(0)"
   ]
  },
  {
   "cell_type": "code",
   "execution_count": 8,
   "metadata": {},
   "outputs": [],
   "source": [
    "def sigmoid(x):\n",
    "    return 0.5 * (jnp.tanh(x / 2) + 1)\n",
    "\n",
    "# Outputs probability of a label being true.\n",
    "def predict(W, b, inputs):\n",
    "    return sigmoid(jnp.dot(inputs, W) + b)\n",
    "\n",
    "# Build a toy dataset.\n",
    "inputs = jnp.array([[0.52, 1.12,  0.77],\n",
    "                   [0.88, -1.08, 0.15],\n",
    "                   [0.52, 0.06, -1.30],\n",
    "                   [0.74, -2.49, 1.39]])\n",
    "targets = jnp.array([True, True, False, True])\n",
    "\n",
    "# Training loss is the negative log-likelihood of the training examples.\n",
    "def loss(W, b):\n",
    "    preds = predict(W, b, inputs)\n",
    "    label_probs = preds * targets + (1 - preds) * (1 - targets)\n",
    "    return -jnp.sum(jnp.log(label_probs))\n",
    "\n",
    "# Initialize random model coefficients\n",
    "key, W_key, b_key = random.split(key, 3)\n",
    "W = random.normal(W_key, (3,))\n",
    "b = random.normal(b_key, ())"
   ]
  },
  {
   "cell_type": "code",
   "execution_count": 9,
   "metadata": {},
   "outputs": [
    {
     "name": "stdout",
     "output_type": "stream",
     "text": [
      "W_grad [-0.16965583 -0.8774644  -1.4901346 ]\n",
      "W_grad [-0.16965583 -0.8774644  -1.4901346 ]\n",
      "b_grad -0.29227245\n",
      "W_grad [-0.16965583 -0.8774644  -1.4901346 ]\n",
      "b_grad -0.29227245\n"
     ]
    }
   ],
   "source": [
    "# Differentiate `loss` with respect to the first positional argument:\n",
    "W_grad = grad(loss, argnums=0)(W, b)\n",
    "print('W_grad', W_grad)\n",
    "\n",
    "# Since argnums=0 is the default, this does the same thing:\n",
    "W_grad = grad(loss)(W, b)\n",
    "print('W_grad', W_grad)\n",
    "\n",
    "# But we can choose different values too, and drop the keyword:\n",
    "b_grad = grad(loss, 1)(W, b)\n",
    "print('b_grad', b_grad)\n",
    "\n",
    "# Including tuple values\n",
    "W_grad, b_grad = grad(loss, (0, 1))(W, b)\n",
    "print('W_grad', W_grad)\n",
    "print('b_grad', b_grad)"
   ]
  },
  {
   "cell_type": "markdown",
   "metadata": {},
   "source": [
    "Test 3. This is directly an example with a tensor network."
   ]
  },
  {
   "cell_type": "code",
   "execution_count": 10,
   "metadata": {},
   "outputs": [],
   "source": [
    "import quimb.tensor as qtn\n",
    "import numpy as np\n",
    "from tqdm.auto import tqdm\n",
    "import itertools\n",
    "%config InlineBackend.figure_format = \"svg\"\n",
    "from matplotlib import pyplot as plt\n",
    "from functools import reduce"
   ]
  },
  {
   "cell_type": "code",
   "execution_count": 11,
   "metadata": {},
   "outputs": [],
   "source": [
    "n = 8\n",
    "chi = 8"
   ]
  },
  {
   "cell_type": "code",
   "execution_count": 12,
   "metadata": {},
   "outputs": [
    {
     "data": {
      "text/plain": [
       "<MatrixProductState(tensors=8, indices=15, L=8, max_bond=8)>"
      ]
     },
     "execution_count": 12,
     "metadata": {},
     "output_type": "execute_result"
    }
   ],
   "source": [
    "psi_ref = qtn.MPS_rand_state(n, bond_dim=chi, normalize=True, tags=[\"ref\"])\n",
    "psi_ref.compress()\n",
    "psi_ref"
   ]
  },
  {
   "cell_type": "code",
   "execution_count": 13,
   "metadata": {},
   "outputs": [
    {
     "data": {
      "text/plain": [
       "<MatrixProductState(tensors=8, indices=15, L=8, max_bond=8)>"
      ]
     },
     "execution_count": 13,
     "metadata": {},
     "output_type": "execute_result"
    }
   ],
   "source": [
    "psi_orig = qtn.MPS_rand_state(n, bond_dim=chi, normalize=True, tags=[\"approx\"])\n",
    "psi_orig.compress()\n",
    "psi_orig"
   ]
  },
  {
   "cell_type": "code",
   "execution_count": 14,
   "metadata": {},
   "outputs": [
    {
     "data": {
      "text/plain": [
       "0.04800855901784419"
      ]
     },
     "execution_count": 14,
     "metadata": {},
     "output_type": "execute_result"
    }
   ],
   "source": [
    "fidelity = psi_ref.H & psi_orig ^ all\n",
    "if fidelity < 0:\n",
    "\tpsi_orig *= -1\n",
    "\tfidelity *= -1\n",
    "fidelity"
   ]
  },
  {
   "cell_type": "code",
   "execution_count": 15,
   "metadata": {},
   "outputs": [],
   "source": [
    "def loss(f: float, norm: float) -> float:\n",
    "\treturn (abs(f) - 1) ** 2  + (norm - 1) ** 2"
   ]
  },
  {
   "cell_type": "code",
   "execution_count": null,
   "metadata": {},
   "outputs": [],
   "source": []
  },
  {
   "cell_type": "code",
   "execution_count": null,
   "metadata": {},
   "outputs": [],
   "source": []
  },
  {
   "cell_type": "code",
   "execution_count": null,
   "metadata": {},
   "outputs": [
    {
     "name": "stderr",
     "output_type": "stream",
     "text": [
      "100%|██████████| 100/100 [00:05<00:00, 17.87it/s, fidelity=0.945, norm=1.02]\n"
     ]
    },
    {
     "data": {
      "image/svg+xml": "<?xml version=\"1.0\" encoding=\"utf-8\" standalone=\"no\"?>\n<!DOCTYPE svg PUBLIC \"-//W3C//DTD SVG 1.1//EN\"\n  \"http://www.w3.org/Graphics/SVG/1.1/DTD/svg11.dtd\">\n<svg xmlns:xlink=\"http://www.w3.org/1999/xlink\" width=\"745.178125pt\" height=\"537.795469pt\" viewBox=\"0 0 745.178125 537.795469\" xmlns=\"http://www.w3.org/2000/svg\" version=\"1.1\">\n <metadata>\n  <rdf:RDF xmlns:dc=\"http://purl.org/dc/elements/1.1/\" xmlns:cc=\"http://creativecommons.org/ns#\" xmlns:rdf=\"http://www.w3.org/1999/02/22-rdf-syntax-ns#\">\n   <cc:Work>\n    <dc:type rdf:resource=\"http://purl.org/dc/dcmitype/StillImage\"/>\n    <dc:date>2022-08-01T15:07:15.835718</dc:date>\n    <dc:format>image/svg+xml</dc:format>\n    <dc:creator>\n     <cc:Agent>\n      <dc:title>Matplotlib v3.5.2, https://matplotlib.org/</dc:title>\n     </cc:Agent>\n    </dc:creator>\n   </cc:Work>\n  </rdf:RDF>\n </metadata>\n <defs>\n  <style type=\"text/css\">*{stroke-linejoin: round; stroke-linecap: butt}</style>\n </defs>\n <g id=\"figure_1\">\n  <g id=\"patch_1\">\n   <path d=\"M 0 537.795469 \nL 745.178125 537.795469 \nL 745.178125 0 \nL 0 0 \nL 0 537.795469 \nz\n\" style=\"fill: none\"/>\n  </g>\n  <g id=\"axes_1\">\n   <g id=\"patch_2\">\n    <path d=\"M 68.378125 154.893336 \nL 737.978125 154.893336 \nL 737.978125 10.999219 \nL 68.378125 10.999219 \nz\n\" style=\"fill: #ffffff\"/>\n   </g>\n   <g id=\"matplotlib.axis_1\">\n    <g id=\"xtick_1\">\n     <g id=\"line2d_1\">\n      <defs>\n       <path id=\"md7dfc61af3\" d=\"M 0 0 \nL 0 3.5 \n\" style=\"stroke: #000000; stroke-width: 0.8\"/>\n      </defs>\n      <g>\n       <use xlink:href=\"#md7dfc61af3\" x=\"68.378125\" y=\"154.893336\" style=\"stroke: #000000; stroke-width: 0.8\"/>\n      </g>\n     </g>\n    </g>\n    <g id=\"xtick_2\">\n     <g id=\"line2d_2\">\n      <g>\n       <use xlink:href=\"#md7dfc61af3\" x=\"152.92358\" y=\"154.893336\" style=\"stroke: #000000; stroke-width: 0.8\"/>\n      </g>\n     </g>\n    </g>\n    <g id=\"xtick_3\">\n     <g id=\"line2d_3\">\n      <g>\n       <use xlink:href=\"#md7dfc61af3\" x=\"237.469034\" y=\"154.893336\" style=\"stroke: #000000; stroke-width: 0.8\"/>\n      </g>\n     </g>\n    </g>\n    <g id=\"xtick_4\">\n     <g id=\"line2d_4\">\n      <g>\n       <use xlink:href=\"#md7dfc61af3\" x=\"322.014489\" y=\"154.893336\" style=\"stroke: #000000; stroke-width: 0.8\"/>\n      </g>\n     </g>\n    </g>\n    <g id=\"xtick_5\">\n     <g id=\"line2d_5\">\n      <g>\n       <use xlink:href=\"#md7dfc61af3\" x=\"406.559943\" y=\"154.893336\" style=\"stroke: #000000; stroke-width: 0.8\"/>\n      </g>\n     </g>\n    </g>\n    <g id=\"xtick_6\">\n     <g id=\"line2d_6\">\n      <g>\n       <use xlink:href=\"#md7dfc61af3\" x=\"491.105398\" y=\"154.893336\" style=\"stroke: #000000; stroke-width: 0.8\"/>\n      </g>\n     </g>\n    </g>\n    <g id=\"xtick_7\">\n     <g id=\"line2d_7\">\n      <g>\n       <use xlink:href=\"#md7dfc61af3\" x=\"575.650852\" y=\"154.893336\" style=\"stroke: #000000; stroke-width: 0.8\"/>\n      </g>\n     </g>\n    </g>\n    <g id=\"xtick_8\">\n     <g id=\"line2d_8\">\n      <g>\n       <use xlink:href=\"#md7dfc61af3\" x=\"660.196307\" y=\"154.893336\" style=\"stroke: #000000; stroke-width: 0.8\"/>\n      </g>\n     </g>\n    </g>\n   </g>\n   <g id=\"matplotlib.axis_2\">\n    <g id=\"ytick_1\">\n     <g id=\"line2d_9\">\n      <defs>\n       <path id=\"m7e6918a59e\" d=\"M 0 0 \nL -3.5 0 \n\" style=\"stroke: #000000; stroke-width: 0.8\"/>\n      </defs>\n      <g>\n       <use xlink:href=\"#m7e6918a59e\" x=\"68.378125\" y=\"125.311028\" style=\"stroke: #000000; stroke-width: 0.8\"/>\n      </g>\n     </g>\n     <g id=\"text_1\">\n      <!-- $\\mathdefault{10^{-1}}$ -->\n      <g transform=\"translate(37.878125 129.110247)scale(0.1 -0.1)\">\n       <defs>\n        <path id=\"DejaVuSans-31\" d=\"M 794 531 \nL 1825 531 \nL 1825 4091 \nL 703 3866 \nL 703 4441 \nL 1819 4666 \nL 2450 4666 \nL 2450 531 \nL 3481 531 \nL 3481 0 \nL 794 0 \nL 794 531 \nz\n\" transform=\"scale(0.015625)\"/>\n        <path id=\"DejaVuSans-30\" d=\"M 2034 4250 \nQ 1547 4250 1301 3770 \nQ 1056 3291 1056 2328 \nQ 1056 1369 1301 889 \nQ 1547 409 2034 409 \nQ 2525 409 2770 889 \nQ 3016 1369 3016 2328 \nQ 3016 3291 2770 3770 \nQ 2525 4250 2034 4250 \nz\nM 2034 4750 \nQ 2819 4750 3233 4129 \nQ 3647 3509 3647 2328 \nQ 3647 1150 3233 529 \nQ 2819 -91 2034 -91 \nQ 1250 -91 836 529 \nQ 422 1150 422 2328 \nQ 422 3509 836 4129 \nQ 1250 4750 2034 4750 \nz\n\" transform=\"scale(0.015625)\"/>\n        <path id=\"DejaVuSans-2212\" d=\"M 678 2272 \nL 4684 2272 \nL 4684 1741 \nL 678 1741 \nL 678 2272 \nz\n\" transform=\"scale(0.015625)\"/>\n       </defs>\n       <use xlink:href=\"#DejaVuSans-31\" transform=\"translate(0 0.684375)\"/>\n       <use xlink:href=\"#DejaVuSans-30\" transform=\"translate(63.623047 0.684375)\"/>\n       <use xlink:href=\"#DejaVuSans-2212\" transform=\"translate(128.203125 38.965625)scale(0.7)\"/>\n       <use xlink:href=\"#DejaVuSans-31\" transform=\"translate(186.855469 38.965625)scale(0.7)\"/>\n      </g>\n     </g>\n    </g>\n    <g id=\"ytick_2\">\n     <g id=\"line2d_10\">\n      <g>\n       <use xlink:href=\"#m7e6918a59e\" x=\"68.378125\" y=\"10.999219\" style=\"stroke: #000000; stroke-width: 0.8\"/>\n      </g>\n     </g>\n     <g id=\"text_2\">\n      <!-- $\\mathdefault{10^{0}}$ -->\n      <g transform=\"translate(43.778125 14.798438)scale(0.1 -0.1)\">\n       <use xlink:href=\"#DejaVuSans-31\" transform=\"translate(0 0.765625)\"/>\n       <use xlink:href=\"#DejaVuSans-30\" transform=\"translate(63.623047 0.765625)\"/>\n       <use xlink:href=\"#DejaVuSans-30\" transform=\"translate(128.203125 39.046875)scale(0.7)\"/>\n      </g>\n     </g>\n    </g>\n    <g id=\"ytick_3\">\n     <g id=\"line2d_11\">\n      <defs>\n       <path id=\"m14e34e7dee\" d=\"M 0 0 \nL -2 0 \n\" style=\"stroke: #000000; stroke-width: 0.6\"/>\n      </defs>\n      <g>\n       <use xlink:href=\"#m14e34e7dee\" x=\"68.378125\" y=\"150.67096\" style=\"stroke: #000000; stroke-width: 0.6\"/>\n      </g>\n     </g>\n    </g>\n    <g id=\"ytick_4\">\n     <g id=\"line2d_12\">\n      <g>\n       <use xlink:href=\"#m14e34e7dee\" x=\"68.378125\" y=\"143.018152\" style=\"stroke: #000000; stroke-width: 0.6\"/>\n      </g>\n     </g>\n    </g>\n    <g id=\"ytick_5\">\n     <g id=\"line2d_13\">\n      <g>\n       <use xlink:href=\"#m14e34e7dee\" x=\"68.378125\" y=\"136.388987\" style=\"stroke: #000000; stroke-width: 0.6\"/>\n      </g>\n     </g>\n    </g>\n    <g id=\"ytick_6\">\n     <g id=\"line2d_14\">\n      <g>\n       <use xlink:href=\"#m14e34e7dee\" x=\"68.378125\" y=\"130.54165\" style=\"stroke: #000000; stroke-width: 0.6\"/>\n      </g>\n     </g>\n    </g>\n    <g id=\"ytick_7\">\n     <g id=\"line2d_15\">\n      <g>\n       <use xlink:href=\"#m14e34e7dee\" x=\"68.378125\" y=\"90.899745\" style=\"stroke: #000000; stroke-width: 0.6\"/>\n      </g>\n     </g>\n    </g>\n    <g id=\"ytick_8\">\n     <g id=\"line2d_16\">\n      <g>\n       <use xlink:href=\"#m14e34e7dee\" x=\"68.378125\" y=\"70.770434\" style=\"stroke: #000000; stroke-width: 0.6\"/>\n      </g>\n     </g>\n    </g>\n    <g id=\"ytick_9\">\n     <g id=\"line2d_17\">\n      <g>\n       <use xlink:href=\"#m14e34e7dee\" x=\"68.378125\" y=\"56.488461\" style=\"stroke: #000000; stroke-width: 0.6\"/>\n      </g>\n     </g>\n    </g>\n    <g id=\"ytick_10\">\n     <g id=\"line2d_18\">\n      <g>\n       <use xlink:href=\"#m14e34e7dee\" x=\"68.378125\" y=\"45.410502\" style=\"stroke: #000000; stroke-width: 0.6\"/>\n      </g>\n     </g>\n    </g>\n    <g id=\"ytick_11\">\n     <g id=\"line2d_19\">\n      <g>\n       <use xlink:href=\"#m14e34e7dee\" x=\"68.378125\" y=\"36.359151\" style=\"stroke: #000000; stroke-width: 0.6\"/>\n      </g>\n     </g>\n    </g>\n    <g id=\"ytick_12\">\n     <g id=\"line2d_20\">\n      <g>\n       <use xlink:href=\"#m14e34e7dee\" x=\"68.378125\" y=\"28.706342\" style=\"stroke: #000000; stroke-width: 0.6\"/>\n      </g>\n     </g>\n    </g>\n    <g id=\"ytick_13\">\n     <g id=\"line2d_21\">\n      <g>\n       <use xlink:href=\"#m14e34e7dee\" x=\"68.378125\" y=\"22.077178\" style=\"stroke: #000000; stroke-width: 0.6\"/>\n      </g>\n     </g>\n    </g>\n    <g id=\"ytick_14\">\n     <g id=\"line2d_22\">\n      <g>\n       <use xlink:href=\"#m14e34e7dee\" x=\"68.378125\" y=\"16.22984\" style=\"stroke: #000000; stroke-width: 0.6\"/>\n      </g>\n     </g>\n    </g>\n    <g id=\"text_3\">\n     <!-- infidelity -->\n     <g style=\"fill: #1f77b4\" transform=\"translate(31.798438 104.601746)rotate(-90)scale(0.1 -0.1)\">\n      <defs>\n       <path id=\"DejaVuSans-69\" d=\"M 603 3500 \nL 1178 3500 \nL 1178 0 \nL 603 0 \nL 603 3500 \nz\nM 603 4863 \nL 1178 4863 \nL 1178 4134 \nL 603 4134 \nL 603 4863 \nz\n\" transform=\"scale(0.015625)\"/>\n       <path id=\"DejaVuSans-6e\" d=\"M 3513 2113 \nL 3513 0 \nL 2938 0 \nL 2938 2094 \nQ 2938 2591 2744 2837 \nQ 2550 3084 2163 3084 \nQ 1697 3084 1428 2787 \nQ 1159 2491 1159 1978 \nL 1159 0 \nL 581 0 \nL 581 3500 \nL 1159 3500 \nL 1159 2956 \nQ 1366 3272 1645 3428 \nQ 1925 3584 2291 3584 \nQ 2894 3584 3203 3211 \nQ 3513 2838 3513 2113 \nz\n\" transform=\"scale(0.015625)\"/>\n       <path id=\"DejaVuSans-66\" d=\"M 2375 4863 \nL 2375 4384 \nL 1825 4384 \nQ 1516 4384 1395 4259 \nQ 1275 4134 1275 3809 \nL 1275 3500 \nL 2222 3500 \nL 2222 3053 \nL 1275 3053 \nL 1275 0 \nL 697 0 \nL 697 3053 \nL 147 3053 \nL 147 3500 \nL 697 3500 \nL 697 3744 \nQ 697 4328 969 4595 \nQ 1241 4863 1831 4863 \nL 2375 4863 \nz\n\" transform=\"scale(0.015625)\"/>\n       <path id=\"DejaVuSans-64\" d=\"M 2906 2969 \nL 2906 4863 \nL 3481 4863 \nL 3481 0 \nL 2906 0 \nL 2906 525 \nQ 2725 213 2448 61 \nQ 2172 -91 1784 -91 \nQ 1150 -91 751 415 \nQ 353 922 353 1747 \nQ 353 2572 751 3078 \nQ 1150 3584 1784 3584 \nQ 2172 3584 2448 3432 \nQ 2725 3281 2906 2969 \nz\nM 947 1747 \nQ 947 1113 1208 752 \nQ 1469 391 1925 391 \nQ 2381 391 2643 752 \nQ 2906 1113 2906 1747 \nQ 2906 2381 2643 2742 \nQ 2381 3103 1925 3103 \nQ 1469 3103 1208 2742 \nQ 947 2381 947 1747 \nz\n\" transform=\"scale(0.015625)\"/>\n       <path id=\"DejaVuSans-65\" d=\"M 3597 1894 \nL 3597 1613 \nL 953 1613 \nQ 991 1019 1311 708 \nQ 1631 397 2203 397 \nQ 2534 397 2845 478 \nQ 3156 559 3463 722 \nL 3463 178 \nQ 3153 47 2828 -22 \nQ 2503 -91 2169 -91 \nQ 1331 -91 842 396 \nQ 353 884 353 1716 \nQ 353 2575 817 3079 \nQ 1281 3584 2069 3584 \nQ 2775 3584 3186 3129 \nQ 3597 2675 3597 1894 \nz\nM 3022 2063 \nQ 3016 2534 2758 2815 \nQ 2500 3097 2075 3097 \nQ 1594 3097 1305 2825 \nQ 1016 2553 972 2059 \nL 3022 2063 \nz\n\" transform=\"scale(0.015625)\"/>\n       <path id=\"DejaVuSans-6c\" d=\"M 603 4863 \nL 1178 4863 \nL 1178 0 \nL 603 0 \nL 603 4863 \nz\n\" transform=\"scale(0.015625)\"/>\n       <path id=\"DejaVuSans-74\" d=\"M 1172 4494 \nL 1172 3500 \nL 2356 3500 \nL 2356 3053 \nL 1172 3053 \nL 1172 1153 \nQ 1172 725 1289 603 \nQ 1406 481 1766 481 \nL 2356 481 \nL 2356 0 \nL 1766 0 \nQ 1100 0 847 248 \nQ 594 497 594 1153 \nL 594 3053 \nL 172 3053 \nL 172 3500 \nL 594 3500 \nL 594 4494 \nL 1172 4494 \nz\n\" transform=\"scale(0.015625)\"/>\n       <path id=\"DejaVuSans-79\" d=\"M 2059 -325 \nQ 1816 -950 1584 -1140 \nQ 1353 -1331 966 -1331 \nL 506 -1331 \nL 506 -850 \nL 844 -850 \nQ 1081 -850 1212 -737 \nQ 1344 -625 1503 -206 \nL 1606 56 \nL 191 3500 \nL 800 3500 \nL 1894 763 \nL 2988 3500 \nL 3597 3500 \nL 2059 -325 \nz\n\" transform=\"scale(0.015625)\"/>\n      </defs>\n      <use xlink:href=\"#DejaVuSans-69\"/>\n      <use xlink:href=\"#DejaVuSans-6e\" x=\"27.783203\"/>\n      <use xlink:href=\"#DejaVuSans-66\" x=\"91.162109\"/>\n      <use xlink:href=\"#DejaVuSans-69\" x=\"126.367188\"/>\n      <use xlink:href=\"#DejaVuSans-64\" x=\"154.150391\"/>\n      <use xlink:href=\"#DejaVuSans-65\" x=\"217.626953\"/>\n      <use xlink:href=\"#DejaVuSans-6c\" x=\"279.150391\"/>\n      <use xlink:href=\"#DejaVuSans-69\" x=\"306.933594\"/>\n      <use xlink:href=\"#DejaVuSans-74\" x=\"334.716797\"/>\n      <use xlink:href=\"#DejaVuSans-79\" x=\"373.925781\"/>\n     </g>\n    </g>\n   </g>\n   <g id=\"line2d_23\">\n    <path d=\"M 68.378125 17.261728 \nL 68.378125 18.348991 \nL 69.22358 19.298899 \nL 70.069034 22.511437 \nL 70.914489 26.602209 \nL 72.605398 32.475219 \nL 73.450852 33.735389 \nL 74.296307 34.481865 \nL 75.141761 34.778338 \nL 75.987216 36.729801 \nL 78.52358 47.569264 \nL 79.369034 50.284484 \nL 80.214489 50.824408 \nL 81.059943 52.124355 \nL 81.905398 51.861184 \nL 85.287216 62.564591 \nL 86.13267 64.222015 \nL 86.978125 64.03503 \nL 87.82358 65.417919 \nL 88.669034 64.675753 \nL 89.514489 67.202061 \nL 90.359943 68.762076 \nL 92.050852 73.005377 \nL 92.896307 73.943624 \nL 93.741761 73.451321 \nL 94.587216 74.7011 \nL 95.43267 73.787814 \nL 96.278125 75.999725 \nL 97.12358 76.937104 \nL 97.969034 78.838827 \nL 98.814489 80.393113 \nL 99.659943 80.934932 \nL 100.505398 80.332303 \nL 101.350852 81.402652 \nL 102.196307 80.472485 \nL 103.041761 82.379233 \nL 103.887216 82.952816 \nL 104.73267 84.642603 \nL 105.578125 85.86236 \nL 106.42358 86.18357 \nL 107.269034 85.555628 \nL 108.114489 86.457226 \nL 108.959943 85.567981 \nL 109.805398 87.219278 \nL 110.650852 87.576329 \nL 111.496307 89.107356 \nL 112.341761 90.079529 \nL 113.187216 90.274983 \nL 114.03267 89.660228 \nL 114.878125 90.418574 \nL 115.72358 89.587309 \nL 116.569034 91.033024 \nL 117.414489 91.256638 \nL 118.259943 92.662071 \nL 119.105398 93.446195 \nL 119.950852 93.568915 \nL 120.796307 92.984465 \nL 121.641761 93.625829 \nL 122.487216 92.853895 \nL 123.33267 94.135711 \nL 124.178125 94.273769 \nL 125.02358 95.577455 \nL 125.869034 96.215663 \nL 126.714489 96.296164 \nL 127.559943 95.748771 \nL 128.405398 96.295985 \nL 129.250852 95.579226 \nL 130.096307 96.730053 \nL 130.941761 96.810917 \nL 131.787216 98.030996 \nL 132.63267 98.554038 \nL 133.478125 98.610214 \nL 134.32358 98.10151 \nL 135.169034 98.573194 \nL 136.014489 97.905987 \nL 136.859943 98.951298 \nL 137.705398 98.99222 \nL 138.550852 100.142832 \nL 139.396307 100.573718 \nL 140.241761 100.616173 \nL 141.087216 100.145289 \nL 141.93267 100.556222 \nL 142.778125 99.933008 \nL 143.62358 100.89243 \nL 144.469034 100.904147 \nL 145.314489 101.996488 \nL 146.159943 102.352786 \nL 147.005398 102.387825 \nL 147.850852 101.95273 \nL 148.696307 102.314513 \nL 149.541761 101.730311 \nL 150.387216 102.619015 \nL 151.23267 102.608336 \nL 152.078125 103.651378 \nL 152.92358 103.946726 \nL 153.769034 103.978078 \nL 154.614489 103.576274 \nL 155.459943 103.89799 \nL 156.305398 103.348505 \nL 157.150852 104.178299 \nL 157.996307 104.149608 \nL 158.841761 105.15062 \nL 159.687216 105.395755 \nL 160.53267 105.425595 \nL 161.378125 105.054473 \nL 162.22358 105.343242 \nL 163.069034 104.824824 \nL 163.914489 105.604984 \nL 164.759943 105.561138 \nL 165.605398 106.526066 \nL 166.450852 106.72955 \nL 167.296307 106.759102 \nL 168.141761 106.416119 \nL 168.987216 106.67755 \nL 169.83267 106.187109 \nL 170.678125 106.924996 \nL 171.52358 106.867875 \nL 172.369034 107.801623 \nL 173.214489 107.970357 \nL 174.059943 108.000267 \nL 174.905398 107.683035 \nL 175.750852 107.921572 \nL 176.596307 107.456481 \nL 177.441761 108.158001 \nL 178.287216 108.088853 \nL 179.13267 108.995493 \nL 180.82358 109.165658 \nL 181.669034 108.871976 \nL 182.514489 109.091165 \nL 183.359943 108.64918 \nL 184.205398 109.31912 \nL 185.050852 109.238785 \nL 185.896307 110.121715 \nL 187.587216 110.268104 \nL 188.43267 109.995964 \nL 189.278125 110.198659 \nL 190.12358 109.777846 \nL 190.969034 110.420129 \nL 191.814489 110.329179 \nL 192.659943 111.19125 \nL 194.350852 111.317648 \nL 195.196307 111.065235 \nL 196.041761 111.253748 \nL 196.887216 110.85243 \nL 197.73267 111.470299 \nL 198.578125 111.369137 \nL 199.42358 112.212744 \nL 201.114489 112.322238 \nL 201.959943 112.087913 \nL 202.805398 112.264134 \nL 203.650852 111.880844 \nL 204.496307 112.477006 \nL 205.341761 112.365928 \nL 206.187216 113.19309 \nL 207.878125 113.288222 \nL 208.72358 113.070509 \nL 209.569034 113.235996 \nL 210.414489 112.869442 \nL 211.259943 113.446175 \nL 212.105398 113.325409 \nL 212.950852 114.13783 \nL 214.641761 114.220716 \nL 215.487216 114.018286 \nL 216.33267 114.174336 \nL 217.178125 113.823371 \nL 218.02358 114.382606 \nL 218.869034 114.252344 \nL 219.714489 115.05146 \nL 221.405398 115.123877 \nL 222.250852 114.935533 \nL 223.096307 115.083232 \nL 223.941761 114.746832 \nL 224.787216 115.290218 \nL 225.63267 115.150632 \nL 226.478125 115.937655 \nL 228.169034 116.001107 \nL 229.014489 115.82577 \nL 229.859943 115.966036 \nL 230.705398 115.643284 \nL 231.550852 116.172234 \nL 232.396307 116.023489 \nL 233.241761 116.799441 \nL 234.93267 116.855208 \nL 235.778125 116.691907 \nL 236.62358 116.825521 \nL 237.469034 116.515589 \nL 238.314489 117.031325 \nL 239.159943 116.873585 \nL 240.005398 117.639323 \nL 241.696307 117.688508 \nL 242.541761 117.536362 \nL 243.387216 117.663994 \nL 244.23267 117.366134 \nL 245.078125 117.869713 \nL 245.92358 117.703149 \nL 246.769034 118.459391 \nL 248.459943 118.502943 \nL 249.305398 118.361158 \nL 250.150852 118.483388 \nL 250.996307 118.196917 \nL 251.841761 118.68926 \nL 252.687216 118.51405 \nL 253.53267 119.261398 \nL 255.22358 119.300142 \nL 256.069034 119.167995 \nL 256.914489 119.285327 \nL 257.759943 119.009625 \nL 258.605398 119.491534 \nL 259.450852 119.307867 \nL 260.296307 120.046818 \nL 263.678125 120.071186 \nL 264.52358 119.805682 \nL 265.369034 120.277862 \nL 266.214489 120.085935 \nL 267.059943 120.8169 \nL 270.441761 120.842129 \nL 271.287216 120.586301 \nL 272.13267 121.049369 \nL 272.978125 120.849392 \nL 273.82358 121.572708 \nL 277.205398 121.599151 \nL 278.050852 121.352518 \nL 278.896307 121.807017 \nL 279.741761 121.599206 \nL 280.587216 122.315148 \nL 283.969034 122.343102 \nL 284.814489 122.105218 \nL 285.659943 122.551628 \nL 286.505398 122.33621 \nL 287.350852 123.044996 \nL 290.73267 123.07471 \nL 291.578125 122.845164 \nL 292.42358 123.283908 \nL 293.269034 123.061117 \nL 294.114489 123.762922 \nL 297.496307 123.794604 \nL 298.341761 123.573013 \nL 299.187216 124.004467 \nL 300.03267 123.774544 \nL 300.878125 124.469502 \nL 304.259943 124.503327 \nL 305.105398 124.289335 \nL 305.950852 124.71383 \nL 306.796307 124.477024 \nL 307.641761 125.165236 \nL 311.02358 125.20135 \nL 311.869034 124.994622 \nL 312.714489 125.412456 \nL 313.559943 125.169019 \nL 314.405398 125.850561 \nL 317.787216 125.889081 \nL 318.63267 125.689306 \nL 319.478125 126.100742 \nL 320.32358 125.850931 \nL 321.169034 126.525854 \nL 324.550852 126.566878 \nL 325.396307 126.373762 \nL 326.241761 126.779037 \nL 327.087216 126.523112 \nL 327.93267 127.19145 \nL 331.314489 127.235055 \nL 332.159943 127.048322 \nL 333.005398 127.447648 \nL 333.850852 127.185872 \nL 334.696307 127.847642 \nL 338.078125 127.893887 \nL 338.92358 127.713276 \nL 339.769034 128.106843 \nL 340.614489 127.83948 \nL 341.459943 128.494689 \nL 344.841761 128.543617 \nL 345.687216 128.368882 \nL 346.53267 128.756862 \nL 347.378125 128.484177 \nL 348.22358 129.132821 \nL 351.605398 129.184464 \nL 352.450852 129.015369 \nL 353.296307 129.397918 \nL 354.141761 129.120177 \nL 354.987216 129.762246 \nL 358.369034 129.81662 \nL 359.214489 129.652943 \nL 360.059943 130.030204 \nL 360.905398 129.747671 \nL 361.750852 130.383149 \nL 365.13267 130.440261 \nL 365.978125 130.281788 \nL 366.82358 130.65389 \nL 367.669034 130.36683 \nL 368.514489 130.995698 \nL 371.896307 131.055543 \nL 372.741761 130.902072 \nL 373.587216 131.269136 \nL 374.43267 130.977809 \nL 375.278125 131.600046 \nL 378.659943 131.662613 \nL 379.505398 131.513948 \nL 380.350852 131.876084 \nL 381.196307 131.58075 \nL 382.041761 132.196334 \nL 385.42358 132.261601 \nL 386.269034 132.117557 \nL 387.114489 132.474867 \nL 387.959943 132.175784 \nL 388.805398 132.784693 \nL 392.187216 132.852632 \nL 393.03267 132.713029 \nL 393.878125 133.065609 \nL 394.72358 132.76303 \nL 395.569034 133.365245 \nL 398.950852 133.435821 \nL 399.796307 133.300485 \nL 400.641761 133.648426 \nL 401.487216 133.342601 \nL 402.33267 133.938104 \nL 404.02358 133.961893 \nL 406.559943 133.880042 \nL 407.405398 134.223429 \nL 408.250852 133.914603 \nL 409.096307 134.503378 \nL 410.787216 134.528017 \nL 413.32358 134.451807 \nL 414.169034 134.790721 \nL 415.014489 134.479136 \nL 415.859943 135.061171 \nL 417.550852 135.086681 \nL 420.087216 135.015886 \nL 420.93267 135.350404 \nL 421.778125 135.036296 \nL 422.62358 135.611582 \nL 424.314489 135.637978 \nL 426.850852 135.572378 \nL 427.696307 135.902575 \nL 428.541761 135.586176 \nL 429.387216 136.154707 \nL 431.078125 136.181999 \nL 433.614489 136.121382 \nL 434.459943 136.447329 \nL 435.305398 136.128865 \nL 436.150852 136.69064 \nL 437.841761 136.718832 \nL 440.378125 136.662992 \nL 441.22358 136.984758 \nL 442.069034 136.664451 \nL 442.914489 137.219472 \nL 444.605398 137.248563 \nL 447.141761 137.197303 \nL 447.987216 137.514955 \nL 448.83267 137.193019 \nL 449.678125 137.741293 \nL 451.369034 137.771279 \nL 453.905398 137.724406 \nL 454.750852 138.038009 \nL 455.596307 137.714653 \nL 456.441761 138.256192 \nL 458.13267 138.287065 \nL 460.669034 138.244392 \nL 461.514489 138.55401 \nL 462.359943 138.229437 \nL 463.205398 138.764256 \nL 464.896307 138.796005 \nL 467.43267 138.757351 \nL 468.278125 139.063046 \nL 469.12358 138.737454 \nL 469.969034 139.265572 \nL 471.659943 139.298183 \nL 474.196307 139.263374 \nL 475.041761 139.565207 \nL 475.887216 139.238787 \nL 476.73267 139.760227 \nL 478.42358 139.793685 \nL 480.959943 139.76255 \nL 481.805398 140.060581 \nL 482.650852 139.733517 \nL 483.496307 140.248307 \nL 485.187216 140.282593 \nL 487.72358 140.25497 \nL 488.569034 140.549256 \nL 489.414489 140.221727 \nL 490.259943 140.729899 \nL 491.105398 140.803511 \nL 492.796307 140.76872 \nL 493.641761 140.831456 \nL 494.487216 140.740721 \nL 495.33267 141.031322 \nL 496.178125 140.703499 \nL 497.02358 141.205087 \nL 497.869034 141.280938 \nL 499.559943 141.245976 \nL 500.405398 141.308351 \nL 501.250852 141.219896 \nL 502.096307 141.506867 \nL 502.941761 141.178916 \nL 503.787216 141.673959 \nL 504.63267 141.75197 \nL 506.32358 141.716829 \nL 507.169034 141.778859 \nL 508.014489 141.692582 \nL 508.859943 141.97598 \nL 509.705398 141.64806 \nL 510.550852 142.1366 \nL 511.396307 142.216692 \nL 513.087216 142.181366 \nL 513.93267 142.243066 \nL 514.778125 142.158871 \nL 515.62358 142.43875 \nL 516.469034 142.111014 \nL 517.314489 142.593095 \nL 518.159943 142.675191 \nL 519.850852 142.639676 \nL 520.696307 142.701059 \nL 521.541761 142.618852 \nL 522.387216 142.895266 \nL 523.23267 142.567861 \nL 524.078125 143.043533 \nL 524.92358 143.127552 \nL 526.614489 143.091848 \nL 527.459943 143.152926 \nL 528.305398 143.072616 \nL 529.150852 143.345619 \nL 529.996307 143.018686 \nL 530.841761 143.487997 \nL 531.687216 143.573863 \nL 533.378125 143.537971 \nL 534.22358 143.598752 \nL 535.069034 143.520253 \nL 535.914489 143.789897 \nL 536.759943 143.46357 \nL 537.605398 143.926575 \nL 538.450852 144.01421 \nL 540.141761 143.978132 \nL 540.987216 144.038627 \nL 541.83267 143.961854 \nL 542.678125 144.228191 \nL 543.52358 143.902598 \nL 544.369034 144.359353 \nL 545.214489 144.448681 \nL 546.905398 144.412422 \nL 547.750852 144.472637 \nL 548.596307 144.39751 \nL 549.441761 144.66059 \nL 550.287216 144.335854 \nL 551.13267 144.786417 \nL 551.978125 144.877363 \nL 553.669034 144.840929 \nL 554.514489 144.900871 \nL 555.359943 144.827312 \nL 556.205398 145.087184 \nL 557.050852 144.763422 \nL 557.896307 145.207853 \nL 558.741761 145.300344 \nL 560.43267 145.263742 \nL 561.278125 145.323415 \nL 562.12358 145.251349 \nL 562.969034 145.508063 \nL 563.814489 145.185386 \nL 564.659943 145.623747 \nL 565.505398 145.717711 \nL 567.196307 145.680949 \nL 568.041761 145.740358 \nL 568.887216 145.669713 \nL 569.73267 145.923317 \nL 570.578125 145.60183 \nL 571.42358 146.034185 \nL 572.269034 146.129553 \nL 573.959943 146.092639 \nL 574.805398 146.151786 \nL 575.650852 146.082494 \nL 576.496307 146.333035 \nL 577.341761 146.012838 \nL 578.187216 146.439253 \nL 579.03267 146.535955 \nL 580.72358 146.498899 \nL 581.569034 146.557789 \nL 582.414489 146.489783 \nL 583.259943 146.737308 \nL 584.105398 146.418495 \nL 584.950852 146.839035 \nL 585.796307 146.937007 \nL 587.487216 146.899819 \nL 588.33267 146.958451 \nL 589.178125 146.891668 \nL 590.02358 147.136222 \nL 590.869034 146.818883 \nL 591.714489 147.233617 \nL 592.559943 147.332795 \nL 594.250852 147.295485 \nL 595.096307 147.353862 \nL 595.941761 147.288241 \nL 596.787216 147.529869 \nL 597.63267 147.214087 \nL 598.478125 147.623084 \nL 599.32358 147.723406 \nL 601.014489 147.685985 \nL 601.859943 147.744106 \nL 602.705398 147.679589 \nL 603.550852 147.918335 \nL 604.396307 147.60419 \nL 605.241761 148.007521 \nL 606.087216 148.108926 \nL 607.778125 148.071405 \nL 608.62358 148.129271 \nL 609.469034 148.065802 \nL 610.314489 148.301709 \nL 611.159943 147.989275 \nL 612.005398 148.38701 \nL 612.850852 148.489441 \nL 614.541761 148.451833 \nL 615.387216 148.509443 \nL 616.23267 148.446968 \nL 617.078125 148.680078 \nL 617.92358 148.369426 \nL 618.769034 148.761636 \nL 619.614489 148.865038 \nL 621.305398 148.827353 \nL 622.150852 148.884706 \nL 622.996307 148.823176 \nL 623.841761 149.05353 \nL 624.687216 148.744723 \nL 625.53267 149.131481 \nL 626.378125 149.235801 \nL 628.069034 149.19805 \nL 628.914489 149.255145 \nL 629.759943 149.194511 \nL 630.605398 149.422149 \nL 631.450852 149.11525 \nL 632.296307 149.496629 \nL 633.141761 149.601815 \nL 634.83267 149.564011 \nL 635.678125 149.620845 \nL 636.52358 149.56106 \nL 637.369034 149.786023 \nL 638.214489 149.481087 \nL 639.059943 149.857159 \nL 639.905398 149.963164 \nL 641.596307 149.925317 \nL 642.441761 149.981889 \nL 643.287216 149.922909 \nL 644.13267 150.145235 \nL 644.978125 149.842316 \nL 645.82358 150.213154 \nL 646.669034 150.319931 \nL 648.359943 150.282053 \nL 649.205398 150.338361 \nL 650.050852 150.280144 \nL 650.896307 150.499871 \nL 651.741761 150.199017 \nL 652.587216 150.564694 \nL 653.43267 150.672199 \nL 655.12358 150.634301 \nL 655.969034 150.690342 \nL 656.814489 150.632848 \nL 657.659943 150.850013 \nL 658.505398 150.551268 \nL 659.350852 150.911859 \nL 660.196307 151.020049 \nL 661.887216 150.982143 \nL 662.73267 151.037913 \nL 663.578125 150.981105 \nL 664.42358 151.195745 \nL 665.269034 150.89915 \nL 666.114489 151.254727 \nL 666.959943 151.363562 \nL 668.650852 151.325659 \nL 669.496307 151.381156 \nL 670.341761 151.324997 \nL 671.187216 151.537147 \nL 672.03267 151.242741 \nL 672.878125 151.593377 \nL 673.72358 151.702819 \nL 675.414489 151.664928 \nL 677.950852 151.874301 \nL 678.796307 151.582117 \nL 679.641761 151.927886 \nL 680.487216 152.0379 \nL 682.178125 152.000032 \nL 684.714489 152.207287 \nL 685.559943 151.917356 \nL 686.405398 152.25833 \nL 687.250852 152.368881 \nL 688.941761 152.331047 \nL 691.478125 152.536184 \nL 692.32358 152.248534 \nL 693.169034 152.584785 \nL 694.014489 152.695842 \nL 695.705398 152.65805 \nL 698.241761 152.861069 \nL 699.087216 152.575726 \nL 699.93267 152.907327 \nL 700.778125 153.018858 \nL 702.469034 152.981119 \nL 705.005398 153.182021 \nL 705.850852 152.899006 \nL 706.696307 153.226028 \nL 707.541761 153.338005 \nL 709.23267 153.300328 \nL 711.769034 153.499115 \nL 712.614489 153.218447 \nL 713.459943 153.540961 \nL 714.305398 153.653359 \nL 715.996307 153.615752 \nL 718.53267 153.812427 \nL 719.378125 153.534123 \nL 720.22358 153.852199 \nL 721.069034 153.964992 \nL 722.759943 153.927464 \nL 725.296307 154.12203 \nL 726.141761 153.846104 \nL 726.987216 154.159813 \nL 727.83267 154.272977 \nL 729.52358 154.235536 \nL 732.059943 154.427997 \nL 732.905398 154.154461 \nL 733.750852 154.463872 \nL 734.596307 154.577387 \nL 736.287216 154.54004 \nL 738.82358 154.730402 \nL 739.669034 154.459265 \nL 740.514489 154.764447 \nL 741.359943 154.878291 \nL 743.050852 154.841047 \nL 743.896307 154.893336 \nL 743.896307 154.893336 \n\" clip-path=\"url(#pcd28bd04d4)\" style=\"fill: none; stroke: #0000ff; stroke-width: 1.5; stroke-linecap: square\"/>\n   </g>\n   <g id=\"patch_3\">\n    <path d=\"M 68.378125 154.893336 \nL 68.378125 10.999219 \n\" style=\"fill: none; stroke: #000000; stroke-width: 0.8; stroke-linejoin: miter; stroke-linecap: square\"/>\n   </g>\n   <g id=\"patch_4\">\n    <path d=\"M 737.978125 154.893336 \nL 737.978125 10.999219 \n\" style=\"fill: none; stroke: #000000; stroke-width: 0.8; stroke-linejoin: miter; stroke-linecap: square\"/>\n   </g>\n   <g id=\"patch_5\">\n    <path d=\"M 68.378125 154.893336 \nL 737.978125 154.893336 \n\" style=\"fill: none; stroke: #000000; stroke-width: 0.8; stroke-linejoin: miter; stroke-linecap: square\"/>\n   </g>\n   <g id=\"patch_6\">\n    <path d=\"M 68.378125 10.999219 \nL 737.978125 10.999219 \n\" style=\"fill: none; stroke: #000000; stroke-width: 0.8; stroke-linejoin: miter; stroke-linecap: square\"/>\n   </g>\n  </g>\n  <g id=\"axes_2\">\n   <g id=\"patch_7\">\n    <path d=\"M 68.378125 327.566278 \nL 737.978125 327.566278 \nL 737.978125 183.67216 \nL 68.378125 183.67216 \nz\n\" style=\"fill: #ffffff\"/>\n   </g>\n   <g id=\"matplotlib.axis_3\">\n    <g id=\"xtick_9\">\n     <g id=\"line2d_24\">\n      <g>\n       <use xlink:href=\"#md7dfc61af3\" x=\"68.378125\" y=\"327.566278\" style=\"stroke: #000000; stroke-width: 0.8\"/>\n      </g>\n     </g>\n    </g>\n    <g id=\"xtick_10\">\n     <g id=\"line2d_25\">\n      <g>\n       <use xlink:href=\"#md7dfc61af3\" x=\"152.92358\" y=\"327.566278\" style=\"stroke: #000000; stroke-width: 0.8\"/>\n      </g>\n     </g>\n    </g>\n    <g id=\"xtick_11\">\n     <g id=\"line2d_26\">\n      <g>\n       <use xlink:href=\"#md7dfc61af3\" x=\"237.469034\" y=\"327.566278\" style=\"stroke: #000000; stroke-width: 0.8\"/>\n      </g>\n     </g>\n    </g>\n    <g id=\"xtick_12\">\n     <g id=\"line2d_27\">\n      <g>\n       <use xlink:href=\"#md7dfc61af3\" x=\"322.014489\" y=\"327.566278\" style=\"stroke: #000000; stroke-width: 0.8\"/>\n      </g>\n     </g>\n    </g>\n    <g id=\"xtick_13\">\n     <g id=\"line2d_28\">\n      <g>\n       <use xlink:href=\"#md7dfc61af3\" x=\"406.559943\" y=\"327.566278\" style=\"stroke: #000000; stroke-width: 0.8\"/>\n      </g>\n     </g>\n    </g>\n    <g id=\"xtick_14\">\n     <g id=\"line2d_29\">\n      <g>\n       <use xlink:href=\"#md7dfc61af3\" x=\"491.105398\" y=\"327.566278\" style=\"stroke: #000000; stroke-width: 0.8\"/>\n      </g>\n     </g>\n    </g>\n    <g id=\"xtick_15\">\n     <g id=\"line2d_30\">\n      <g>\n       <use xlink:href=\"#md7dfc61af3\" x=\"575.650852\" y=\"327.566278\" style=\"stroke: #000000; stroke-width: 0.8\"/>\n      </g>\n     </g>\n    </g>\n    <g id=\"xtick_16\">\n     <g id=\"line2d_31\">\n      <g>\n       <use xlink:href=\"#md7dfc61af3\" x=\"660.196307\" y=\"327.566278\" style=\"stroke: #000000; stroke-width: 0.8\"/>\n      </g>\n     </g>\n    </g>\n   </g>\n   <g id=\"matplotlib.axis_4\">\n    <g id=\"ytick_15\">\n     <g id=\"line2d_32\">\n      <g>\n       <use xlink:href=\"#m7e6918a59e\" x=\"68.378125\" y=\"287.152704\" style=\"stroke: #000000; stroke-width: 0.8\"/>\n      </g>\n     </g>\n     <g id=\"text_4\">\n      <!-- $\\mathdefault{10^{-2}}$ -->\n      <g transform=\"translate(37.878125 290.951922)scale(0.1 -0.1)\">\n       <defs>\n        <path id=\"DejaVuSans-32\" d=\"M 1228 531 \nL 3431 531 \nL 3431 0 \nL 469 0 \nL 469 531 \nQ 828 903 1448 1529 \nQ 2069 2156 2228 2338 \nQ 2531 2678 2651 2914 \nQ 2772 3150 2772 3378 \nQ 2772 3750 2511 3984 \nQ 2250 4219 1831 4219 \nQ 1534 4219 1204 4116 \nQ 875 4013 500 3803 \nL 500 4441 \nQ 881 4594 1212 4672 \nQ 1544 4750 1819 4750 \nQ 2544 4750 2975 4387 \nQ 3406 4025 3406 3419 \nQ 3406 3131 3298 2873 \nQ 3191 2616 2906 2266 \nQ 2828 2175 2409 1742 \nQ 1991 1309 1228 531 \nz\n\" transform=\"scale(0.015625)\"/>\n       </defs>\n       <use xlink:href=\"#DejaVuSans-31\" transform=\"translate(0 0.765625)\"/>\n       <use xlink:href=\"#DejaVuSans-30\" transform=\"translate(63.623047 0.765625)\"/>\n       <use xlink:href=\"#DejaVuSans-2212\" transform=\"translate(128.203125 39.046875)scale(0.7)\"/>\n       <use xlink:href=\"#DejaVuSans-32\" transform=\"translate(186.855469 39.046875)scale(0.7)\"/>\n      </g>\n     </g>\n    </g>\n    <g id=\"ytick_16\">\n     <g id=\"line2d_33\">\n      <g>\n       <use xlink:href=\"#m7e6918a59e\" x=\"68.378125\" y=\"232.413579\" style=\"stroke: #000000; stroke-width: 0.8\"/>\n      </g>\n     </g>\n     <g id=\"text_5\">\n      <!-- $\\mathdefault{10^{-1}}$ -->\n      <g transform=\"translate(37.878125 236.212798)scale(0.1 -0.1)\">\n       <use xlink:href=\"#DejaVuSans-31\" transform=\"translate(0 0.684375)\"/>\n       <use xlink:href=\"#DejaVuSans-30\" transform=\"translate(63.623047 0.684375)\"/>\n       <use xlink:href=\"#DejaVuSans-2212\" transform=\"translate(128.203125 38.965625)scale(0.7)\"/>\n       <use xlink:href=\"#DejaVuSans-31\" transform=\"translate(186.855469 38.965625)scale(0.7)\"/>\n      </g>\n     </g>\n    </g>\n    <g id=\"ytick_17\">\n     <g id=\"line2d_34\">\n      <g>\n       <use xlink:href=\"#m14e34e7dee\" x=\"68.378125\" y=\"325.41371\" style=\"stroke: #000000; stroke-width: 0.6\"/>\n      </g>\n     </g>\n    </g>\n    <g id=\"ytick_18\">\n     <g id=\"line2d_35\">\n      <g>\n       <use xlink:href=\"#m14e34e7dee\" x=\"68.378125\" y=\"315.774628\" style=\"stroke: #000000; stroke-width: 0.6\"/>\n      </g>\n     </g>\n    </g>\n    <g id=\"ytick_19\">\n     <g id=\"line2d_36\">\n      <g>\n       <use xlink:href=\"#m14e34e7dee\" x=\"68.378125\" y=\"308.935591\" style=\"stroke: #000000; stroke-width: 0.6\"/>\n      </g>\n     </g>\n    </g>\n    <g id=\"ytick_20\">\n     <g id=\"line2d_37\">\n      <g>\n       <use xlink:href=\"#m14e34e7dee\" x=\"68.378125\" y=\"303.630822\" style=\"stroke: #000000; stroke-width: 0.6\"/>\n      </g>\n     </g>\n    </g>\n    <g id=\"ytick_21\">\n     <g id=\"line2d_38\">\n      <g>\n       <use xlink:href=\"#m14e34e7dee\" x=\"68.378125\" y=\"299.29651\" style=\"stroke: #000000; stroke-width: 0.6\"/>\n      </g>\n     </g>\n    </g>\n    <g id=\"ytick_22\">\n     <g id=\"line2d_39\">\n      <g>\n       <use xlink:href=\"#m14e34e7dee\" x=\"68.378125\" y=\"295.631901\" style=\"stroke: #000000; stroke-width: 0.6\"/>\n      </g>\n     </g>\n    </g>\n    <g id=\"ytick_23\">\n     <g id=\"line2d_40\">\n      <g>\n       <use xlink:href=\"#m14e34e7dee\" x=\"68.378125\" y=\"292.457473\" style=\"stroke: #000000; stroke-width: 0.6\"/>\n      </g>\n     </g>\n    </g>\n    <g id=\"ytick_24\">\n     <g id=\"line2d_41\">\n      <g>\n       <use xlink:href=\"#m14e34e7dee\" x=\"68.378125\" y=\"289.657429\" style=\"stroke: #000000; stroke-width: 0.6\"/>\n      </g>\n     </g>\n    </g>\n    <g id=\"ytick_25\">\n     <g id=\"line2d_42\">\n      <g>\n       <use xlink:href=\"#m14e34e7dee\" x=\"68.378125\" y=\"270.674585\" style=\"stroke: #000000; stroke-width: 0.6\"/>\n      </g>\n     </g>\n    </g>\n    <g id=\"ytick_26\">\n     <g id=\"line2d_43\">\n      <g>\n       <use xlink:href=\"#m14e34e7dee\" x=\"68.378125\" y=\"261.035504\" style=\"stroke: #000000; stroke-width: 0.6\"/>\n      </g>\n     </g>\n    </g>\n    <g id=\"ytick_27\">\n     <g id=\"line2d_44\">\n      <g>\n       <use xlink:href=\"#m14e34e7dee\" x=\"68.378125\" y=\"254.196467\" style=\"stroke: #000000; stroke-width: 0.6\"/>\n      </g>\n     </g>\n    </g>\n    <g id=\"ytick_28\">\n     <g id=\"line2d_45\">\n      <g>\n       <use xlink:href=\"#m14e34e7dee\" x=\"68.378125\" y=\"248.891698\" style=\"stroke: #000000; stroke-width: 0.6\"/>\n      </g>\n     </g>\n    </g>\n    <g id=\"ytick_29\">\n     <g id=\"line2d_46\">\n      <g>\n       <use xlink:href=\"#m14e34e7dee\" x=\"68.378125\" y=\"244.557385\" style=\"stroke: #000000; stroke-width: 0.6\"/>\n      </g>\n     </g>\n    </g>\n    <g id=\"ytick_30\">\n     <g id=\"line2d_47\">\n      <g>\n       <use xlink:href=\"#m14e34e7dee\" x=\"68.378125\" y=\"240.892777\" style=\"stroke: #000000; stroke-width: 0.6\"/>\n      </g>\n     </g>\n    </g>\n    <g id=\"ytick_31\">\n     <g id=\"line2d_48\">\n      <g>\n       <use xlink:href=\"#m14e34e7dee\" x=\"68.378125\" y=\"237.718348\" style=\"stroke: #000000; stroke-width: 0.6\"/>\n      </g>\n     </g>\n    </g>\n    <g id=\"ytick_32\">\n     <g id=\"line2d_49\">\n      <g>\n       <use xlink:href=\"#m14e34e7dee\" x=\"68.378125\" y=\"234.918304\" style=\"stroke: #000000; stroke-width: 0.6\"/>\n      </g>\n     </g>\n    </g>\n    <g id=\"ytick_33\">\n     <g id=\"line2d_50\">\n      <g>\n       <use xlink:href=\"#m14e34e7dee\" x=\"68.378125\" y=\"215.935461\" style=\"stroke: #000000; stroke-width: 0.6\"/>\n      </g>\n     </g>\n    </g>\n    <g id=\"ytick_34\">\n     <g id=\"line2d_51\">\n      <g>\n       <use xlink:href=\"#m14e34e7dee\" x=\"68.378125\" y=\"206.296379\" style=\"stroke: #000000; stroke-width: 0.6\"/>\n      </g>\n     </g>\n    </g>\n    <g id=\"ytick_35\">\n     <g id=\"line2d_52\">\n      <g>\n       <use xlink:href=\"#m14e34e7dee\" x=\"68.378125\" y=\"199.457342\" style=\"stroke: #000000; stroke-width: 0.6\"/>\n      </g>\n     </g>\n    </g>\n    <g id=\"ytick_36\">\n     <g id=\"line2d_53\">\n      <g>\n       <use xlink:href=\"#m14e34e7dee\" x=\"68.378125\" y=\"194.152573\" style=\"stroke: #000000; stroke-width: 0.6\"/>\n      </g>\n     </g>\n    </g>\n    <g id=\"ytick_37\">\n     <g id=\"line2d_54\">\n      <g>\n       <use xlink:href=\"#m14e34e7dee\" x=\"68.378125\" y=\"189.818261\" style=\"stroke: #000000; stroke-width: 0.6\"/>\n      </g>\n     </g>\n    </g>\n    <g id=\"ytick_38\">\n     <g id=\"line2d_55\">\n      <g>\n       <use xlink:href=\"#m14e34e7dee\" x=\"68.378125\" y=\"186.153652\" style=\"stroke: #000000; stroke-width: 0.6\"/>\n      </g>\n     </g>\n    </g>\n    <g id=\"text_6\">\n     <!-- loss -->\n     <g style=\"fill: #d62728\" transform=\"translate(31.798438 265.277031)rotate(-90)scale(0.1 -0.1)\">\n      <defs>\n       <path id=\"DejaVuSans-6f\" d=\"M 1959 3097 \nQ 1497 3097 1228 2736 \nQ 959 2375 959 1747 \nQ 959 1119 1226 758 \nQ 1494 397 1959 397 \nQ 2419 397 2687 759 \nQ 2956 1122 2956 1747 \nQ 2956 2369 2687 2733 \nQ 2419 3097 1959 3097 \nz\nM 1959 3584 \nQ 2709 3584 3137 3096 \nQ 3566 2609 3566 1747 \nQ 3566 888 3137 398 \nQ 2709 -91 1959 -91 \nQ 1206 -91 779 398 \nQ 353 888 353 1747 \nQ 353 2609 779 3096 \nQ 1206 3584 1959 3584 \nz\n\" transform=\"scale(0.015625)\"/>\n       <path id=\"DejaVuSans-73\" d=\"M 2834 3397 \nL 2834 2853 \nQ 2591 2978 2328 3040 \nQ 2066 3103 1784 3103 \nQ 1356 3103 1142 2972 \nQ 928 2841 928 2578 \nQ 928 2378 1081 2264 \nQ 1234 2150 1697 2047 \nL 1894 2003 \nQ 2506 1872 2764 1633 \nQ 3022 1394 3022 966 \nQ 3022 478 2636 193 \nQ 2250 -91 1575 -91 \nQ 1294 -91 989 -36 \nQ 684 19 347 128 \nL 347 722 \nQ 666 556 975 473 \nQ 1284 391 1588 391 \nQ 1994 391 2212 530 \nQ 2431 669 2431 922 \nQ 2431 1156 2273 1281 \nQ 2116 1406 1581 1522 \nL 1381 1569 \nQ 847 1681 609 1914 \nQ 372 2147 372 2553 \nQ 372 3047 722 3315 \nQ 1072 3584 1716 3584 \nQ 2034 3584 2315 3537 \nQ 2597 3491 2834 3397 \nz\n\" transform=\"scale(0.015625)\"/>\n      </defs>\n      <use xlink:href=\"#DejaVuSans-6c\"/>\n      <use xlink:href=\"#DejaVuSans-6f\" x=\"27.783203\"/>\n      <use xlink:href=\"#DejaVuSans-73\" x=\"88.964844\"/>\n      <use xlink:href=\"#DejaVuSans-73\" x=\"141.064453\"/>\n     </g>\n    </g>\n   </g>\n   <g id=\"line2d_56\">\n    <path d=\"M 68.378125 183.67216 \nL 68.378125 184.47514 \nL 69.22358 185.510242 \nL 70.069034 188.479522 \nL 70.914489 192.369752 \nL 71.759943 195.38004 \nL 72.605398 197.865726 \nL 73.450852 198.961316 \nL 74.296307 199.565389 \nL 75.141761 199.882528 \nL 75.987216 201.527504 \nL 76.83267 204.694101 \nL 78.52358 211.527007 \nL 79.369034 213.94566 \nL 81.059943 215.635946 \nL 81.905398 215.725659 \nL 83.596307 219.966638 \nL 85.287216 224.945136 \nL 86.13267 226.522715 \nL 86.978125 226.869038 \nL 87.82358 227.742856 \nL 88.669034 227.54791 \nL 89.514489 229.345031 \nL 90.359943 230.779508 \nL 92.050852 234.400565 \nL 92.896307 235.394094 \nL 93.741761 235.509226 \nL 94.587216 236.252649 \nL 95.43267 235.933907 \nL 96.278125 237.42833 \nL 97.12358 238.384627 \nL 98.814489 241.174615 \nL 99.659943 241.82391 \nL 100.505398 241.81726 \nL 101.350852 242.430512 \nL 102.196307 242.079689 \nL 103.041761 243.31404 \nL 103.887216 243.989979 \nL 105.578125 246.236437 \nL 106.42358 246.678085 \nL 107.269034 246.605215 \nL 108.114489 247.108599 \nL 108.959943 246.761908 \nL 109.805398 247.793737 \nL 110.650852 248.298695 \nL 111.496307 249.346848 \nL 112.341761 250.166578 \nL 113.187216 250.478433 \nL 114.03267 250.369726 \nL 114.878125 250.784871 \nL 115.72358 250.454582 \nL 116.569034 251.331864 \nL 117.414489 251.727947 \nL 118.259943 252.654607 \nL 119.105398 253.320309 \nL 119.950852 253.548534 \nL 120.796307 253.421479 \nL 121.641761 253.766901 \nL 122.487216 253.45604 \nL 123.33267 254.21519 \nL 124.178125 254.53906 \nL 125.02358 255.374308 \nL 125.869034 255.924375 \nL 126.714489 256.097309 \nL 127.559943 255.962275 \nL 128.405398 256.252779 \nL 129.250852 255.961009 \nL 130.096307 256.628998 \nL 130.941761 256.90311 \nL 131.787216 257.667611 \nL 132.63267 258.128875 \nL 133.478125 258.264408 \nL 134.32358 258.127635 \nL 135.169034 258.374754 \nL 136.014489 258.100657 \nL 136.859943 258.697399 \nL 137.705398 258.935956 \nL 138.550852 259.644438 \nL 139.396307 260.0362 \nL 140.241761 260.145891 \nL 141.087216 260.011138 \nL 141.93267 260.223772 \nL 142.778125 259.965716 \nL 143.62358 260.506 \nL 144.469034 260.718235 \nL 145.314489 261.3815 \nL 146.159943 261.717985 \nL 147.005398 261.809454 \nL 147.850852 261.678955 \nL 148.696307 261.863965 \nL 149.541761 261.620405 \nL 150.387216 262.115318 \nL 151.23267 262.307378 \nL 152.078125 262.93354 \nL 152.92358 263.225451 \nL 153.769034 263.303813 \nL 154.614489 263.178849 \nL 155.459943 263.341536 \nL 156.305398 263.111109 \nL 157.150852 263.569053 \nL 157.996307 263.745117 \nL 158.841761 264.340398 \nL 159.687216 264.595935 \nL 160.53267 264.664682 \nL 161.378125 264.545928 \nL 162.22358 264.69041 \nL 163.069034 264.471935 \nL 163.914489 264.899359 \nL 164.759943 265.06232 \nL 165.605398 265.631579 \nL 166.450852 265.857124 \nL 167.296307 265.918676 \nL 168.141761 265.806421 \nL 168.987216 265.935918 \nL 169.83267 265.728383 \nL 170.678125 266.13029 \nL 171.52358 266.282187 \nL 172.369034 266.829277 \nL 173.214489 267.02987 \nL 174.059943 267.085927 \nL 174.905398 266.980216 \nL 175.750852 267.097264 \nL 176.596307 266.899792 \nL 177.441761 267.280117 \nL 178.287216 267.422408 \nL 179.13267 267.950424 \nL 179.978125 268.130099 \nL 180.82358 268.181869 \nL 181.669034 268.082593 \nL 182.514489 268.189204 \nL 183.359943 268.001033 \nL 184.205398 268.3629 \nL 185.050852 268.496651 \nL 185.896307 269.008109 \nL 186.741761 269.170129 \nL 187.587216 269.218481 \nL 188.43267 269.125436 \nL 189.278125 269.22322 \nL 190.12358 269.043682 \nL 190.969034 269.389602 \nL 191.814489 269.515601 \nL 192.659943 270.012564 \nL 194.350852 270.205165 \nL 195.196307 270.118091 \nL 196.041761 270.208347 \nL 196.887216 270.03685 \nL 197.73267 270.368859 \nL 198.578125 270.487704 \nL 199.42358 270.971877 \nL 201.114489 271.149376 \nL 201.959943 271.067986 \nL 202.805398 271.151769 \nL 203.650852 270.987785 \nL 204.496307 271.307551 \nL 205.341761 271.419702 \nL 206.187216 271.892505 \nL 207.878125 272.057084 \nL 208.72358 271.981076 \nL 209.569034 272.059252 \nL 210.414489 271.902305 \nL 211.259943 272.211208 \nL 212.105398 272.31703 \nL 212.950852 272.779648 \nL 214.641761 272.933107 \nL 215.487216 272.86218 \nL 216.33267 272.935466 \nL 217.178125 272.785124 \nL 218.02358 273.084311 \nL 218.869034 273.184101 \nL 219.714489 273.637532 \nL 221.405398 273.78137 \nL 222.250852 273.715229 \nL 223.096307 273.784219 \nL 223.941761 273.640093 \nL 224.787216 273.930526 \nL 225.63267 274.024529 \nL 226.478125 274.469612 \nL 228.169034 274.605088 \nL 229.014489 274.54345 \nL 229.859943 274.608645 \nL 230.705398 274.470375 \nL 231.550852 274.752868 \nL 232.396307 274.841295 \nL 233.241761 275.278739 \nL 234.93267 275.406918 \nL 235.778125 275.349512 \nL 236.62358 275.411336 \nL 237.469034 275.278594 \nL 238.314489 275.553836 \nL 239.159943 275.636872 \nL 240.005398 276.067275 \nL 241.696307 276.189065 \nL 242.541761 276.135637 \nL 243.387216 276.19445 \nL 244.23267 276.066933 \nL 245.078125 276.335513 \nL 245.92358 276.413323 \nL 246.769034 276.837195 \nL 248.459943 276.953373 \nL 250.996307 276.837224 \nL 251.841761 277.099646 \nL 252.687216 277.172383 \nL 253.53267 277.590151 \nL 255.22358 277.701389 \nL 257.759943 277.591007 \nL 258.605398 277.847705 \nL 259.450852 277.91551 \nL 260.296307 278.32754 \nL 261.987216 278.434418 \nL 264.52358 278.329587 \nL 265.369034 278.580937 \nL 266.214489 278.643944 \nL 267.059943 279.050543 \nL 268.750852 279.153567 \nL 271.287216 279.054072 \nL 272.13267 279.300399 \nL 272.978125 279.358738 \nL 273.82358 279.760165 \nL 275.514489 279.859777 \nL 278.050852 279.765409 \nL 278.896307 280.006994 \nL 279.741761 280.060789 \nL 280.587216 280.457265 \nL 282.278125 280.553851 \nL 284.814489 280.464406 \nL 285.659943 280.701497 \nL 286.505398 280.750869 \nL 287.350852 281.142578 \nL 289.041761 281.236478 \nL 291.578125 281.151759 \nL 292.42358 281.384572 \nL 293.269034 281.429639 \nL 294.114489 281.816736 \nL 295.805398 281.90825 \nL 298.341761 281.828068 \nL 299.187216 282.056793 \nL 300.03267 282.097672 \nL 300.878125 282.480286 \nL 302.569034 282.569678 \nL 305.105398 282.493851 \nL 305.950852 282.718655 \nL 306.796307 282.75546 \nL 307.641761 283.133702 \nL 309.33267 283.221204 \nL 311.869034 283.149558 \nL 312.714489 283.370588 \nL 313.559943 283.403435 \nL 314.405398 283.777392 \nL 316.096307 283.863212 \nL 318.63267 283.79558 \nL 319.478125 284.012968 \nL 320.32358 284.041968 \nL 321.169034 284.411717 \nL 322.859943 284.496037 \nL 325.396307 284.432259 \nL 326.241761 284.646123 \nL 327.087216 284.671387 \nL 327.93267 285.036991 \nL 329.62358 285.119971 \nL 332.159943 285.059894 \nL 333.005398 285.27034 \nL 333.850852 285.291979 \nL 334.696307 285.653488 \nL 336.387216 285.735271 \nL 338.92358 285.678751 \nL 339.769034 285.885873 \nL 340.614489 285.903996 \nL 341.459943 286.261453 \nL 343.150852 286.342165 \nL 345.687216 286.289061 \nL 346.53267 286.492946 \nL 347.378125 286.507662 \nL 348.22358 286.861102 \nL 349.914489 286.940854 \nL 352.450852 286.891033 \nL 353.296307 287.091759 \nL 354.141761 287.103176 \nL 354.987216 287.452628 \nL 356.678125 287.531518 \nL 359.214489 287.484851 \nL 360.059943 287.682491 \nL 360.905398 287.690717 \nL 361.750852 288.036205 \nL 363.441761 288.114318 \nL 365.978125 288.070682 \nL 366.82358 288.265303 \nL 367.669034 288.270443 \nL 368.514489 288.611989 \nL 370.205398 288.689401 \nL 372.741761 288.648677 \nL 373.587216 288.840342 \nL 374.43267 288.842501 \nL 375.278125 289.180123 \nL 376.969034 289.256898 \nL 379.505398 289.218973 \nL 380.350852 289.40774 \nL 381.196307 289.407024 \nL 382.041761 289.740737 \nL 383.73267 289.816933 \nL 386.269034 289.781697 \nL 387.114489 289.967622 \nL 387.959943 289.964132 \nL 388.805398 290.293951 \nL 390.496307 290.369618 \nL 393.03267 290.336965 \nL 393.878125 290.520101 \nL 394.72358 290.51394 \nL 395.569034 290.839878 \nL 397.259943 290.915058 \nL 399.796307 290.884886 \nL 400.641761 291.065285 \nL 401.487216 291.056553 \nL 402.33267 291.378624 \nL 404.02358 291.453353 \nL 406.559943 291.425563 \nL 407.405398 291.603273 \nL 408.250852 291.592071 \nL 409.096307 291.910288 \nL 410.787216 291.984597 \nL 413.32358 291.959094 \nL 414.169034 292.134162 \nL 415.014489 292.120588 \nL 415.859943 292.434964 \nL 417.550852 292.50888 \nL 420.087216 292.485571 \nL 420.93267 292.658043 \nL 421.778125 292.642194 \nL 422.62358 292.952745 \nL 424.314489 293.026289 \nL 426.850852 293.005085 \nL 427.696307 293.175006 \nL 428.541761 293.156977 \nL 429.387216 293.463717 \nL 431.078125 293.536907 \nL 433.614489 293.517722 \nL 434.459943 293.685136 \nL 435.305398 293.665022 \nL 436.150852 293.967967 \nL 437.841761 294.040818 \nL 440.378125 294.023568 \nL 441.22358 294.188518 \nL 442.069034 294.166411 \nL 442.914489 294.465578 \nL 444.605398 294.538101 \nL 447.141761 294.522705 \nL 447.987216 294.685233 \nL 448.83267 294.661224 \nL 449.678125 294.956633 \nL 451.369034 295.028837 \nL 453.905398 295.015215 \nL 454.750852 295.175364 \nL 455.596307 295.149543 \nL 456.441761 295.441213 \nL 458.13267 295.513104 \nL 460.669034 295.50118 \nL 461.514489 295.658992 \nL 462.359943 295.631445 \nL 463.205398 295.919397 \nL 464.896307 295.990981 \nL 467.43267 295.980681 \nL 468.278125 296.136195 \nL 469.12358 296.10701 \nL 469.969034 296.391267 \nL 471.659943 296.462545 \nL 474.196307 296.453798 \nL 475.041761 296.607056 \nL 475.887216 296.576315 \nL 476.73267 296.856901 \nL 478.42358 296.927875 \nL 480.959943 296.920611 \nL 481.805398 297.071652 \nL 482.650852 297.039438 \nL 483.496307 297.316378 \nL 485.187216 297.38705 \nL 487.72358 297.3812 \nL 488.569034 297.530064 \nL 489.414489 297.496457 \nL 490.259943 297.769778 \nL 491.950852 297.840146 \nL 494.487216 297.835646 \nL 495.33267 297.982372 \nL 496.178125 297.94745 \nL 497.02358 298.21718 \nL 498.714489 298.287242 \nL 501.250852 298.284028 \nL 502.096307 298.428655 \nL 502.941761 298.392495 \nL 503.787216 298.658664 \nL 505.478125 298.728418 \nL 508.014489 298.726428 \nL 508.859943 298.868994 \nL 509.705398 298.83167 \nL 510.550852 299.094308 \nL 512.241761 299.163751 \nL 514.778125 299.162927 \nL 515.62358 299.303469 \nL 516.469034 299.265054 \nL 517.314489 299.524192 \nL 519.005398 299.593321 \nL 523.23267 299.692725 \nL 524.078125 299.948397 \nL 525.769034 300.017208 \nL 529.996307 300.114762 \nL 530.841761 300.367 \nL 532.53267 300.435491 \nL 536.759943 300.531243 \nL 537.605398 300.780084 \nL 539.296307 300.84825 \nL 543.52358 300.942248 \nL 544.369034 301.187727 \nL 546.059943 301.255565 \nL 550.287216 301.347857 \nL 551.13267 301.590009 \nL 552.82358 301.657515 \nL 557.050852 301.748148 \nL 557.896307 301.987012 \nL 559.587216 302.054182 \nL 563.814489 302.143201 \nL 564.659943 302.378814 \nL 566.350852 302.445646 \nL 570.578125 302.533094 \nL 571.42358 302.765495 \nL 573.114489 302.831986 \nL 577.341761 302.917909 \nL 578.187216 303.147136 \nL 579.878125 303.213283 \nL 584.105398 303.297723 \nL 584.950852 303.523816 \nL 586.641761 303.589617 \nL 590.869034 303.672615 \nL 591.714489 303.895615 \nL 593.405398 303.961067 \nL 597.63267 304.042665 \nL 598.478125 304.262611 \nL 600.169034 304.327714 \nL 604.396307 304.407951 \nL 605.241761 304.624884 \nL 606.93267 304.689636 \nL 611.159943 304.768552 \nL 612.005398 304.982512 \nL 613.696307 305.046912 \nL 617.92358 305.124544 \nL 618.769034 305.335573 \nL 620.459943 305.399621 \nL 624.687216 305.476006 \nL 625.53267 305.684145 \nL 627.22358 305.74784 \nL 631.450852 305.823015 \nL 632.296307 306.028304 \nL 633.987216 306.091648 \nL 638.214489 306.165647 \nL 639.059943 306.368128 \nL 640.750852 306.43112 \nL 644.978125 306.503978 \nL 645.82358 306.703692 \nL 647.514489 306.766335 \nL 651.741761 306.838083 \nL 652.587216 307.035072 \nL 654.278125 307.097366 \nL 658.505398 307.168038 \nL 659.350852 307.362342 \nL 661.041761 307.42429 \nL 665.269034 307.493917 \nL 666.114489 307.685577 \nL 667.805398 307.747181 \nL 672.03267 307.815793 \nL 673.72358 308.081517 \nL 677.105398 308.079796 \nL 677.950852 308.181711 \nL 678.796307 308.133738 \nL 680.487216 308.396745 \nL 683.869034 308.395044 \nL 684.714489 308.495699 \nL 685.559943 308.447826 \nL 687.250852 308.708147 \nL 690.63267 308.706457 \nL 691.478125 308.805875 \nL 692.32358 308.758126 \nL 694.014489 309.015795 \nL 697.396307 309.014106 \nL 698.241761 309.112309 \nL 699.087216 309.064711 \nL 700.778125 309.31976 \nL 704.159943 309.318063 \nL 705.005398 309.415073 \nL 705.850852 309.367648 \nL 707.541761 309.620111 \nL 710.92358 309.6184 \nL 711.769034 309.714236 \nL 712.614489 309.667008 \nL 714.305398 309.916918 \nL 717.687216 309.915184 \nL 718.53267 310.009869 \nL 719.378125 309.962858 \nL 721.069034 310.21025 \nL 724.450852 310.208486 \nL 725.296307 310.30204 \nL 726.141761 310.255265 \nL 727.83267 310.500173 \nL 731.214489 310.498373 \nL 732.059943 310.590815 \nL 732.905398 310.544295 \nL 734.596307 310.786754 \nL 737.978125 310.784912 \nL 738.82358 310.876261 \nL 739.669034 310.830015 \nL 741.359943 311.070059 \nL 743.896307 311.088159 \nL 743.896307 311.088159 \n\" clip-path=\"url(#p9ba3da5210)\" style=\"fill: none; stroke-dasharray: 5.55,2.4; stroke-dashoffset: 0; stroke: #ff0000; stroke-width: 1.5\"/>\n   </g>\n   <g id=\"patch_8\">\n    <path d=\"M 68.378125 327.566278 \nL 68.378125 183.67216 \n\" style=\"fill: none; stroke: #000000; stroke-width: 0.8; stroke-linejoin: miter; stroke-linecap: square\"/>\n   </g>\n   <g id=\"patch_9\">\n    <path d=\"M 737.978125 327.566278 \nL 737.978125 183.67216 \n\" style=\"fill: none; stroke: #000000; stroke-width: 0.8; stroke-linejoin: miter; stroke-linecap: square\"/>\n   </g>\n   <g id=\"patch_10\">\n    <path d=\"M 68.378125 327.566278 \nL 737.978125 327.566278 \n\" style=\"fill: none; stroke: #000000; stroke-width: 0.8; stroke-linejoin: miter; stroke-linecap: square\"/>\n   </g>\n   <g id=\"patch_11\">\n    <path d=\"M 68.378125 183.67216 \nL 737.978125 183.67216 \n\" style=\"fill: none; stroke: #000000; stroke-width: 0.8; stroke-linejoin: miter; stroke-linecap: square\"/>\n   </g>\n  </g>\n  <g id=\"axes_3\">\n   <g id=\"patch_12\">\n    <path d=\"M 68.378125 500.239219 \nL 737.978125 500.239219 \nL 737.978125 356.345101 \nL 68.378125 356.345101 \nz\n\" style=\"fill: #ffffff\"/>\n   </g>\n   <g id=\"matplotlib.axis_5\">\n    <g id=\"xtick_17\">\n     <g id=\"line2d_57\">\n      <g>\n       <use xlink:href=\"#md7dfc61af3\" x=\"68.378125\" y=\"500.239219\" style=\"stroke: #000000; stroke-width: 0.8\"/>\n      </g>\n     </g>\n     <g id=\"text_7\">\n      <!-- 0 -->\n      <g transform=\"translate(65.196875 514.837656)scale(0.1 -0.1)\">\n       <use xlink:href=\"#DejaVuSans-30\"/>\n      </g>\n     </g>\n    </g>\n    <g id=\"xtick_18\">\n     <g id=\"line2d_58\">\n      <g>\n       <use xlink:href=\"#md7dfc61af3\" x=\"152.92358\" y=\"500.239219\" style=\"stroke: #000000; stroke-width: 0.8\"/>\n      </g>\n     </g>\n     <g id=\"text_8\">\n      <!-- 100 -->\n      <g transform=\"translate(143.37983 514.837656)scale(0.1 -0.1)\">\n       <use xlink:href=\"#DejaVuSans-31\"/>\n       <use xlink:href=\"#DejaVuSans-30\" x=\"63.623047\"/>\n       <use xlink:href=\"#DejaVuSans-30\" x=\"127.246094\"/>\n      </g>\n     </g>\n    </g>\n    <g id=\"xtick_19\">\n     <g id=\"line2d_59\">\n      <g>\n       <use xlink:href=\"#md7dfc61af3\" x=\"237.469034\" y=\"500.239219\" style=\"stroke: #000000; stroke-width: 0.8\"/>\n      </g>\n     </g>\n     <g id=\"text_9\">\n      <!-- 200 -->\n      <g transform=\"translate(227.925284 514.837656)scale(0.1 -0.1)\">\n       <use xlink:href=\"#DejaVuSans-32\"/>\n       <use xlink:href=\"#DejaVuSans-30\" x=\"63.623047\"/>\n       <use xlink:href=\"#DejaVuSans-30\" x=\"127.246094\"/>\n      </g>\n     </g>\n    </g>\n    <g id=\"xtick_20\">\n     <g id=\"line2d_60\">\n      <g>\n       <use xlink:href=\"#md7dfc61af3\" x=\"322.014489\" y=\"500.239219\" style=\"stroke: #000000; stroke-width: 0.8\"/>\n      </g>\n     </g>\n     <g id=\"text_10\">\n      <!-- 300 -->\n      <g transform=\"translate(312.470739 514.837656)scale(0.1 -0.1)\">\n       <defs>\n        <path id=\"DejaVuSans-33\" d=\"M 2597 2516 \nQ 3050 2419 3304 2112 \nQ 3559 1806 3559 1356 \nQ 3559 666 3084 287 \nQ 2609 -91 1734 -91 \nQ 1441 -91 1130 -33 \nQ 819 25 488 141 \nL 488 750 \nQ 750 597 1062 519 \nQ 1375 441 1716 441 \nQ 2309 441 2620 675 \nQ 2931 909 2931 1356 \nQ 2931 1769 2642 2001 \nQ 2353 2234 1838 2234 \nL 1294 2234 \nL 1294 2753 \nL 1863 2753 \nQ 2328 2753 2575 2939 \nQ 2822 3125 2822 3475 \nQ 2822 3834 2567 4026 \nQ 2313 4219 1838 4219 \nQ 1578 4219 1281 4162 \nQ 984 4106 628 3988 \nL 628 4550 \nQ 988 4650 1302 4700 \nQ 1616 4750 1894 4750 \nQ 2613 4750 3031 4423 \nQ 3450 4097 3450 3541 \nQ 3450 3153 3228 2886 \nQ 3006 2619 2597 2516 \nz\n\" transform=\"scale(0.015625)\"/>\n       </defs>\n       <use xlink:href=\"#DejaVuSans-33\"/>\n       <use xlink:href=\"#DejaVuSans-30\" x=\"63.623047\"/>\n       <use xlink:href=\"#DejaVuSans-30\" x=\"127.246094\"/>\n      </g>\n     </g>\n    </g>\n    <g id=\"xtick_21\">\n     <g id=\"line2d_61\">\n      <g>\n       <use xlink:href=\"#md7dfc61af3\" x=\"406.559943\" y=\"500.239219\" style=\"stroke: #000000; stroke-width: 0.8\"/>\n      </g>\n     </g>\n     <g id=\"text_11\">\n      <!-- 400 -->\n      <g transform=\"translate(397.016193 514.837656)scale(0.1 -0.1)\">\n       <defs>\n        <path id=\"DejaVuSans-34\" d=\"M 2419 4116 \nL 825 1625 \nL 2419 1625 \nL 2419 4116 \nz\nM 2253 4666 \nL 3047 4666 \nL 3047 1625 \nL 3713 1625 \nL 3713 1100 \nL 3047 1100 \nL 3047 0 \nL 2419 0 \nL 2419 1100 \nL 313 1100 \nL 313 1709 \nL 2253 4666 \nz\n\" transform=\"scale(0.015625)\"/>\n       </defs>\n       <use xlink:href=\"#DejaVuSans-34\"/>\n       <use xlink:href=\"#DejaVuSans-30\" x=\"63.623047\"/>\n       <use xlink:href=\"#DejaVuSans-30\" x=\"127.246094\"/>\n      </g>\n     </g>\n    </g>\n    <g id=\"xtick_22\">\n     <g id=\"line2d_62\">\n      <g>\n       <use xlink:href=\"#md7dfc61af3\" x=\"491.105398\" y=\"500.239219\" style=\"stroke: #000000; stroke-width: 0.8\"/>\n      </g>\n     </g>\n     <g id=\"text_12\">\n      <!-- 500 -->\n      <g transform=\"translate(481.561648 514.837656)scale(0.1 -0.1)\">\n       <defs>\n        <path id=\"DejaVuSans-35\" d=\"M 691 4666 \nL 3169 4666 \nL 3169 4134 \nL 1269 4134 \nL 1269 2991 \nQ 1406 3038 1543 3061 \nQ 1681 3084 1819 3084 \nQ 2600 3084 3056 2656 \nQ 3513 2228 3513 1497 \nQ 3513 744 3044 326 \nQ 2575 -91 1722 -91 \nQ 1428 -91 1123 -41 \nQ 819 9 494 109 \nL 494 744 \nQ 775 591 1075 516 \nQ 1375 441 1709 441 \nQ 2250 441 2565 725 \nQ 2881 1009 2881 1497 \nQ 2881 1984 2565 2268 \nQ 2250 2553 1709 2553 \nQ 1456 2553 1204 2497 \nQ 953 2441 691 2322 \nL 691 4666 \nz\n\" transform=\"scale(0.015625)\"/>\n       </defs>\n       <use xlink:href=\"#DejaVuSans-35\"/>\n       <use xlink:href=\"#DejaVuSans-30\" x=\"63.623047\"/>\n       <use xlink:href=\"#DejaVuSans-30\" x=\"127.246094\"/>\n      </g>\n     </g>\n    </g>\n    <g id=\"xtick_23\">\n     <g id=\"line2d_63\">\n      <g>\n       <use xlink:href=\"#md7dfc61af3\" x=\"575.650852\" y=\"500.239219\" style=\"stroke: #000000; stroke-width: 0.8\"/>\n      </g>\n     </g>\n     <g id=\"text_13\">\n      <!-- 600 -->\n      <g transform=\"translate(566.107102 514.837656)scale(0.1 -0.1)\">\n       <defs>\n        <path id=\"DejaVuSans-36\" d=\"M 2113 2584 \nQ 1688 2584 1439 2293 \nQ 1191 2003 1191 1497 \nQ 1191 994 1439 701 \nQ 1688 409 2113 409 \nQ 2538 409 2786 701 \nQ 3034 994 3034 1497 \nQ 3034 2003 2786 2293 \nQ 2538 2584 2113 2584 \nz\nM 3366 4563 \nL 3366 3988 \nQ 3128 4100 2886 4159 \nQ 2644 4219 2406 4219 \nQ 1781 4219 1451 3797 \nQ 1122 3375 1075 2522 \nQ 1259 2794 1537 2939 \nQ 1816 3084 2150 3084 \nQ 2853 3084 3261 2657 \nQ 3669 2231 3669 1497 \nQ 3669 778 3244 343 \nQ 2819 -91 2113 -91 \nQ 1303 -91 875 529 \nQ 447 1150 447 2328 \nQ 447 3434 972 4092 \nQ 1497 4750 2381 4750 \nQ 2619 4750 2861 4703 \nQ 3103 4656 3366 4563 \nz\n\" transform=\"scale(0.015625)\"/>\n       </defs>\n       <use xlink:href=\"#DejaVuSans-36\"/>\n       <use xlink:href=\"#DejaVuSans-30\" x=\"63.623047\"/>\n       <use xlink:href=\"#DejaVuSans-30\" x=\"127.246094\"/>\n      </g>\n     </g>\n    </g>\n    <g id=\"xtick_24\">\n     <g id=\"line2d_64\">\n      <g>\n       <use xlink:href=\"#md7dfc61af3\" x=\"660.196307\" y=\"500.239219\" style=\"stroke: #000000; stroke-width: 0.8\"/>\n      </g>\n     </g>\n     <g id=\"text_14\">\n      <!-- 700 -->\n      <g transform=\"translate(650.652557 514.837656)scale(0.1 -0.1)\">\n       <defs>\n        <path id=\"DejaVuSans-37\" d=\"M 525 4666 \nL 3525 4666 \nL 3525 4397 \nL 1831 0 \nL 1172 0 \nL 2766 4134 \nL 525 4134 \nL 525 4666 \nz\n\" transform=\"scale(0.015625)\"/>\n       </defs>\n       <use xlink:href=\"#DejaVuSans-37\"/>\n       <use xlink:href=\"#DejaVuSans-30\" x=\"63.623047\"/>\n       <use xlink:href=\"#DejaVuSans-30\" x=\"127.246094\"/>\n      </g>\n     </g>\n    </g>\n    <g id=\"text_15\">\n     <!-- epoch -->\n     <g transform=\"translate(387.95 528.515781)scale(0.1 -0.1)\">\n      <defs>\n       <path id=\"DejaVuSans-70\" d=\"M 1159 525 \nL 1159 -1331 \nL 581 -1331 \nL 581 3500 \nL 1159 3500 \nL 1159 2969 \nQ 1341 3281 1617 3432 \nQ 1894 3584 2278 3584 \nQ 2916 3584 3314 3078 \nQ 3713 2572 3713 1747 \nQ 3713 922 3314 415 \nQ 2916 -91 2278 -91 \nQ 1894 -91 1617 61 \nQ 1341 213 1159 525 \nz\nM 3116 1747 \nQ 3116 2381 2855 2742 \nQ 2594 3103 2138 3103 \nQ 1681 3103 1420 2742 \nQ 1159 2381 1159 1747 \nQ 1159 1113 1420 752 \nQ 1681 391 2138 391 \nQ 2594 391 2855 752 \nQ 3116 1113 3116 1747 \nz\n\" transform=\"scale(0.015625)\"/>\n       <path id=\"DejaVuSans-63\" d=\"M 3122 3366 \nL 3122 2828 \nQ 2878 2963 2633 3030 \nQ 2388 3097 2138 3097 \nQ 1578 3097 1268 2742 \nQ 959 2388 959 1747 \nQ 959 1106 1268 751 \nQ 1578 397 2138 397 \nQ 2388 397 2633 464 \nQ 2878 531 3122 666 \nL 3122 134 \nQ 2881 22 2623 -34 \nQ 2366 -91 2075 -91 \nQ 1284 -91 818 406 \nQ 353 903 353 1747 \nQ 353 2603 823 3093 \nQ 1294 3584 2113 3584 \nQ 2378 3584 2631 3529 \nQ 2884 3475 3122 3366 \nz\n\" transform=\"scale(0.015625)\"/>\n       <path id=\"DejaVuSans-68\" d=\"M 3513 2113 \nL 3513 0 \nL 2938 0 \nL 2938 2094 \nQ 2938 2591 2744 2837 \nQ 2550 3084 2163 3084 \nQ 1697 3084 1428 2787 \nQ 1159 2491 1159 1978 \nL 1159 0 \nL 581 0 \nL 581 4863 \nL 1159 4863 \nL 1159 2956 \nQ 1366 3272 1645 3428 \nQ 1925 3584 2291 3584 \nQ 2894 3584 3203 3211 \nQ 3513 2838 3513 2113 \nz\n\" transform=\"scale(0.015625)\"/>\n      </defs>\n      <use xlink:href=\"#DejaVuSans-65\"/>\n      <use xlink:href=\"#DejaVuSans-70\" x=\"61.523438\"/>\n      <use xlink:href=\"#DejaVuSans-6f\" x=\"125\"/>\n      <use xlink:href=\"#DejaVuSans-63\" x=\"186.181641\"/>\n      <use xlink:href=\"#DejaVuSans-68\" x=\"241.162109\"/>\n     </g>\n    </g>\n   </g>\n   <g id=\"matplotlib.axis_6\">\n    <g id=\"ytick_39\">\n     <g id=\"line2d_65\">\n      <g>\n       <use xlink:href=\"#m7e6918a59e\" x=\"68.378125\" y=\"404.562292\" style=\"stroke: #000000; stroke-width: 0.8\"/>\n      </g>\n     </g>\n     <g id=\"text_16\">\n      <!-- $\\mathdefault{10^{0}}$ -->\n      <g transform=\"translate(43.778125 408.361511)scale(0.1 -0.1)\">\n       <use xlink:href=\"#DejaVuSans-31\" transform=\"translate(0 0.765625)\"/>\n       <use xlink:href=\"#DejaVuSans-30\" transform=\"translate(63.623047 0.765625)\"/>\n       <use xlink:href=\"#DejaVuSans-30\" transform=\"translate(128.203125 39.046875)scale(0.7)\"/>\n      </g>\n     </g>\n    </g>\n    <g id=\"ytick_40\">\n     <g id=\"line2d_66\">\n      <g>\n       <use xlink:href=\"#m14e34e7dee\" x=\"68.378125\" y=\"500.239219\" style=\"stroke: #000000; stroke-width: 0.6\"/>\n      </g>\n     </g>\n     <g id=\"text_17\">\n      <!-- $\\mathdefault{8\\times10^{-1}}$ -->\n      <g transform=\"translate(20.878125 504.038438)scale(0.1 -0.1)\">\n       <defs>\n        <path id=\"DejaVuSans-38\" d=\"M 2034 2216 \nQ 1584 2216 1326 1975 \nQ 1069 1734 1069 1313 \nQ 1069 891 1326 650 \nQ 1584 409 2034 409 \nQ 2484 409 2743 651 \nQ 3003 894 3003 1313 \nQ 3003 1734 2745 1975 \nQ 2488 2216 2034 2216 \nz\nM 1403 2484 \nQ 997 2584 770 2862 \nQ 544 3141 544 3541 \nQ 544 4100 942 4425 \nQ 1341 4750 2034 4750 \nQ 2731 4750 3128 4425 \nQ 3525 4100 3525 3541 \nQ 3525 3141 3298 2862 \nQ 3072 2584 2669 2484 \nQ 3125 2378 3379 2068 \nQ 3634 1759 3634 1313 \nQ 3634 634 3220 271 \nQ 2806 -91 2034 -91 \nQ 1263 -91 848 271 \nQ 434 634 434 1313 \nQ 434 1759 690 2068 \nQ 947 2378 1403 2484 \nz\nM 1172 3481 \nQ 1172 3119 1398 2916 \nQ 1625 2713 2034 2713 \nQ 2441 2713 2670 2916 \nQ 2900 3119 2900 3481 \nQ 2900 3844 2670 4047 \nQ 2441 4250 2034 4250 \nQ 1625 4250 1398 4047 \nQ 1172 3844 1172 3481 \nz\n\" transform=\"scale(0.015625)\"/>\n        <path id=\"DejaVuSans-d7\" d=\"M 4488 3438 \nL 3059 2003 \nL 4488 575 \nL 4116 197 \nL 2681 1631 \nL 1247 197 \nL 878 575 \nL 2303 2003 \nL 878 3438 \nL 1247 3816 \nL 2681 2381 \nL 4116 3816 \nL 4488 3438 \nz\n\" transform=\"scale(0.015625)\"/>\n       </defs>\n       <use xlink:href=\"#DejaVuSans-38\" transform=\"translate(0 0.684375)\"/>\n       <use xlink:href=\"#DejaVuSans-d7\" transform=\"translate(83.105469 0.684375)\"/>\n       <use xlink:href=\"#DejaVuSans-31\" transform=\"translate(186.376953 0.684375)\"/>\n       <use xlink:href=\"#DejaVuSans-30\" transform=\"translate(250 0.684375)\"/>\n       <use xlink:href=\"#DejaVuSans-2212\" transform=\"translate(314.580078 38.965625)scale(0.7)\"/>\n       <use xlink:href=\"#DejaVuSans-31\" transform=\"translate(373.232422 38.965625)scale(0.7)\"/>\n      </g>\n     </g>\n    </g>\n    <g id=\"ytick_41\">\n     <g id=\"line2d_67\">\n      <g>\n       <use xlink:href=\"#m14e34e7dee\" x=\"68.378125\" y=\"449.737563\" style=\"stroke: #000000; stroke-width: 0.6\"/>\n      </g>\n     </g>\n     <g id=\"text_18\">\n      <!-- $\\mathdefault{9\\times10^{-1}}$ -->\n      <g transform=\"translate(20.878125 453.536782)scale(0.1 -0.1)\">\n       <defs>\n        <path id=\"DejaVuSans-39\" d=\"M 703 97 \nL 703 672 \nQ 941 559 1184 500 \nQ 1428 441 1663 441 \nQ 2288 441 2617 861 \nQ 2947 1281 2994 2138 \nQ 2813 1869 2534 1725 \nQ 2256 1581 1919 1581 \nQ 1219 1581 811 2004 \nQ 403 2428 403 3163 \nQ 403 3881 828 4315 \nQ 1253 4750 1959 4750 \nQ 2769 4750 3195 4129 \nQ 3622 3509 3622 2328 \nQ 3622 1225 3098 567 \nQ 2575 -91 1691 -91 \nQ 1453 -91 1209 -44 \nQ 966 3 703 97 \nz\nM 1959 2075 \nQ 2384 2075 2632 2365 \nQ 2881 2656 2881 3163 \nQ 2881 3666 2632 3958 \nQ 2384 4250 1959 4250 \nQ 1534 4250 1286 3958 \nQ 1038 3666 1038 3163 \nQ 1038 2656 1286 2365 \nQ 1534 2075 1959 2075 \nz\n\" transform=\"scale(0.015625)\"/>\n       </defs>\n       <use xlink:href=\"#DejaVuSans-39\" transform=\"translate(0 0.684375)\"/>\n       <use xlink:href=\"#DejaVuSans-d7\" transform=\"translate(83.105469 0.684375)\"/>\n       <use xlink:href=\"#DejaVuSans-31\" transform=\"translate(186.376953 0.684375)\"/>\n       <use xlink:href=\"#DejaVuSans-30\" transform=\"translate(250 0.684375)\"/>\n       <use xlink:href=\"#DejaVuSans-2212\" transform=\"translate(314.580078 38.965625)scale(0.7)\"/>\n       <use xlink:href=\"#DejaVuSans-31\" transform=\"translate(373.232422 38.965625)scale(0.7)\"/>\n      </g>\n     </g>\n    </g>\n    <g id=\"text_19\">\n     <!-- norm -->\n     <g style=\"fill: #ff7f0e\" transform=\"translate(14.798438 441.358566)rotate(-90)scale(0.1 -0.1)\">\n      <defs>\n       <path id=\"DejaVuSans-72\" d=\"M 2631 2963 \nQ 2534 3019 2420 3045 \nQ 2306 3072 2169 3072 \nQ 1681 3072 1420 2755 \nQ 1159 2438 1159 1844 \nL 1159 0 \nL 581 0 \nL 581 3500 \nL 1159 3500 \nL 1159 2956 \nQ 1341 3275 1631 3429 \nQ 1922 3584 2338 3584 \nQ 2397 3584 2469 3576 \nQ 2541 3569 2628 3553 \nL 2631 2963 \nz\n\" transform=\"scale(0.015625)\"/>\n       <path id=\"DejaVuSans-6d\" d=\"M 3328 2828 \nQ 3544 3216 3844 3400 \nQ 4144 3584 4550 3584 \nQ 5097 3584 5394 3201 \nQ 5691 2819 5691 2113 \nL 5691 0 \nL 5113 0 \nL 5113 2094 \nQ 5113 2597 4934 2840 \nQ 4756 3084 4391 3084 \nQ 3944 3084 3684 2787 \nQ 3425 2491 3425 1978 \nL 3425 0 \nL 2847 0 \nL 2847 2094 \nQ 2847 2600 2669 2842 \nQ 2491 3084 2119 3084 \nQ 1678 3084 1418 2786 \nQ 1159 2488 1159 1978 \nL 1159 0 \nL 581 0 \nL 581 3500 \nL 1159 3500 \nL 1159 2956 \nQ 1356 3278 1631 3431 \nQ 1906 3584 2284 3584 \nQ 2666 3584 2933 3390 \nQ 3200 3197 3328 2828 \nz\n\" transform=\"scale(0.015625)\"/>\n      </defs>\n      <use xlink:href=\"#DejaVuSans-6e\"/>\n      <use xlink:href=\"#DejaVuSans-6f\" x=\"63.378906\"/>\n      <use xlink:href=\"#DejaVuSans-72\" x=\"124.560547\"/>\n      <use xlink:href=\"#DejaVuSans-6d\" x=\"163.923828\"/>\n     </g>\n    </g>\n   </g>\n   <g id=\"line2d_68\">\n    <path d=\"M 68.378125 404.562292 \nL 68.378125 368.966901 \nL 69.22358 380.231704 \nL 70.069034 372.943635 \nL 70.914489 373.642474 \nL 71.759943 375.718868 \nL 72.605398 370.773755 \nL 74.296307 363.884026 \nL 75.141761 365.215107 \nL 75.987216 360.032868 \nL 76.83267 356.345101 \nL 78.52358 360.752547 \nL 79.369034 359.938798 \nL 80.214489 364.799248 \nL 81.059943 360.379485 \nL 81.905398 365.731447 \nL 82.750852 359.801723 \nL 83.596307 359.122379 \nL 84.441761 359.762393 \nL 85.287216 360.613079 \nL 86.13267 361.889148 \nL 86.978125 367.368373 \nL 87.82358 363.594853 \nL 88.669034 368.575888 \nL 89.514489 363.962993 \nL 90.359943 364.622457 \nL 91.205398 363.966372 \nL 92.050852 364.224843 \nL 92.896307 365.666586 \nL 93.741761 370.101041 \nL 94.587216 367.246809 \nL 95.43267 371.224519 \nL 96.278125 367.660052 \nL 97.12358 368.753338 \nL 97.969034 367.550716 \nL 98.814489 367.618302 \nL 99.659943 368.832064 \nL 100.505398 372.311763 \nL 101.350852 370.177714 \nL 102.196307 373.333619 \nL 103.041761 370.490835 \nL 103.887216 371.673441 \nL 104.73267 370.305739 \nL 105.578125 370.327539 \nL 106.42358 371.293103 \nL 107.269034 374.052912 \nL 108.114489 372.432505 \nL 108.959943 374.980745 \nL 109.805398 372.649881 \nL 110.650852 373.800918 \nL 111.496307 372.428387 \nL 112.341761 372.457038 \nL 113.187216 373.217486 \nL 114.03267 375.444128 \nL 114.878125 374.186321 \nL 115.72358 376.287411 \nL 116.569034 374.331222 \nL 117.414489 375.415913 \nL 118.259943 374.099342 \nL 119.105398 374.153642 \nL 119.950852 374.753859 \nL 120.796307 376.580884 \nL 121.641761 375.582037 \nL 122.487216 377.348911 \nL 123.33267 375.674371 \nL 124.178125 376.689142 \nL 125.02358 375.447624 \nL 125.869034 375.532564 \nL 126.714489 376.008929 \nL 127.559943 377.530961 \nL 128.405398 376.720438 \nL 129.250852 378.2323 \nL 130.096307 376.774648 \nL 130.941761 377.726122 \nL 131.787216 376.561755 \nL 132.63267 376.67642 \nL 133.478125 377.056832 \nL 134.32358 378.34171 \nL 135.169034 377.670882 \nL 136.014489 378.983996 \nL 136.859943 377.69709 \nL 137.705398 378.594317 \nL 138.550852 377.502596 \nL 139.396307 377.643672 \nL 140.241761 377.949286 \nL 141.087216 379.046496 \nL 141.93267 378.481354 \nL 142.778125 379.636407 \nL 143.62358 378.486651 \nL 144.469034 379.33838 \nL 145.314489 378.312594 \nL 147.005398 378.722892 \nL 147.850852 379.669194 \nL 148.696307 379.185539 \nL 149.541761 380.212524 \nL 150.387216 379.174936 \nL 151.23267 379.988796 \nL 152.078125 379.021887 \nL 153.769034 379.403997 \nL 154.614489 380.227186 \nL 155.459943 379.807499 \nL 156.305398 380.728942 \nL 157.150852 379.784579 \nL 157.996307 380.566949 \nL 158.841761 379.652262 \nL 160.53267 380.011898 \nL 161.378125 380.733342 \nL 162.22358 380.364721 \nL 163.069034 381.197856 \nL 163.914489 380.332075 \nL 164.759943 381.088197 \nL 165.605398 380.219757 \nL 167.296307 380.560959 \nL 168.141761 381.197341 \nL 168.987216 380.870131 \nL 169.83267 381.628366 \nL 170.678125 380.829653 \nL 171.52358 381.563799 \nL 172.369034 380.736366 \nL 174.059943 381.062044 \nL 174.905398 381.626575 \nL 175.750852 381.333432 \nL 176.596307 382.027374 \nL 177.441761 381.286525 \nL 178.287216 382.002165 \nL 179.13267 381.211206 \nL 179.978125 381.432347 \nL 180.82358 381.523484 \nL 181.669034 382.026762 \nL 182.514489 381.762021 \nL 183.359943 382.400179 \nL 184.205398 381.709731 \nL 185.050852 382.409679 \nL 185.896307 381.651298 \nL 186.741761 381.876106 \nL 187.587216 381.951756 \nL 188.43267 382.402384 \nL 189.278125 382.161608 \nL 190.12358 382.75091 \nL 190.969034 382.104727 \nL 191.814489 382.791262 \nL 192.659943 382.062127 \nL 193.505398 382.288845 \nL 194.350852 382.351956 \nL 195.196307 382.756992 \nL 196.041761 382.536662 \nL 196.887216 383.082816 \nL 197.73267 382.475794 \nL 198.578125 383.15076 \nL 199.42358 382.448023 \nL 200.269034 382.675176 \nL 201.114489 382.728139 \nL 201.959943 383.093432 \nL 202.805398 382.890719 \nL 203.650852 383.398484 \nL 204.496307 382.826333 \nL 205.341761 383.491215 \nL 206.187216 382.812448 \nL 207.03267 383.038798 \nL 207.878125 383.083565 \nL 208.72358 383.414003 \nL 209.569034 383.226606 \nL 210.414489 383.699992 \nL 211.259943 383.159071 \nL 212.105398 383.815062 \nL 212.950852 383.158195 \nL 213.796307 383.382703 \nL 214.641761 383.420881 \nL 215.487216 383.720586 \nL 216.33267 383.54661 \nL 217.178125 383.989029 \nL 218.02358 383.476223 \nL 218.869034 384.124276 \nL 219.714489 383.487538 \nL 220.559943 383.709337 \nL 221.405398 383.742255 \nL 222.250852 384.014726 \nL 223.096307 383.852596 \nL 223.941761 384.266976 \nL 224.787216 383.779599 \nL 225.63267 384.42047 \nL 226.478125 383.80235 \nL 227.32358 384.020712 \nL 228.169034 384.049478 \nL 229.014489 384.297705 \nL 229.859943 384.146098 \nL 230.705398 384.534971 \nL 231.550852 384.070695 \nL 232.396307 384.704974 \nL 233.241761 384.10418 \nL 234.087216 384.318502 \nL 234.93267 384.34404 \nL 235.778125 384.570597 \nL 236.62358 384.42839 \nL 237.469034 384.793964 \nL 238.314489 384.350756 \nL 239.159943 384.9789 \nL 240.005398 384.394322 \nL 240.850852 384.604102 \nL 241.696307 384.62719 \nL 242.541761 384.834303 \nL 243.387216 384.700535 \nL 244.23267 385.044746 \nL 245.078125 384.620825 \nL 245.92358 385.243181 \nL 246.769034 384.673866 \nL 247.614489 384.878692 \nL 248.459943 384.899981 \nL 249.305398 385.089588 \nL 250.150852 384.963433 \nL 250.996307 385.287989 \nL 251.841761 384.881785 \nL 252.687216 385.498606 \nL 253.53267 384.943733 \nL 254.378125 385.143268 \nL 255.22358 385.163311 \nL 256.069034 385.337103 \nL 256.914489 385.217842 \nL 257.759943 385.524259 \nL 258.605398 385.134386 \nL 259.450852 385.74585 \nL 260.296307 385.204708 \nL 261.141761 385.398682 \nL 261.987216 385.417943 \nL 262.83267 385.577409 \nL 263.678125 385.464412 \nL 264.52358 385.754043 \nL 265.369034 385.379269 \nL 266.214489 385.985494 \nL 267.059943 385.457465 \nL 267.905398 385.645664 \nL 268.750852 385.664534 \nL 269.596307 385.810987 \nL 270.441761 385.703701 \nL 271.287216 385.977758 \nL 272.13267 385.616987 \nL 272.978125 386.21804 \nL 273.82358 385.702585 \nL 274.669034 385.884845 \nL 275.514489 385.903654 \nL 276.359943 386.038255 \nL 277.205398 385.936193 \nL 278.050852 386.195766 \nL 278.896307 385.848017 \nL 279.741761 386.443924 \nL 280.587216 385.94057 \nL 281.43267 386.116772 \nL 283.969034 386.162304 \nL 284.814489 386.408381 \nL 285.659943 386.072777 \nL 286.505398 386.663532 \nL 287.350852 386.171861 \nL 288.196307 386.341923 \nL 290.73267 386.382404 \nL 291.578125 386.615879 \nL 292.42358 386.29163 \nL 293.269034 386.877202 \nL 294.114489 386.396841 \nL 294.959943 386.560714 \nL 297.496307 386.596813 \nL 298.341761 386.818501 \nL 299.187216 386.504898 \nL 300.03267 387.085234 \nL 300.878125 386.615851 \nL 301.72358 386.773516 \nL 304.259943 386.805817 \nL 305.105398 387.016463 \nL 305.950852 386.712864 \nL 306.796307 387.287898 \nL 307.641761 386.82919 \nL 308.487216 386.980655 \nL 311.02358 387.00967 \nL 311.869034 387.209958 \nL 312.714489 386.91578 \nL 313.559943 387.485435 \nL 314.405398 387.037127 \nL 315.250852 387.182422 \nL 317.787216 387.208598 \nL 318.63267 387.399156 \nL 319.478125 387.113872 \nL 320.32358 387.678062 \nL 321.169034 387.239902 \nL 322.014489 387.379077 \nL 325.396307 387.584213 \nL 326.241761 387.307343 \nL 327.087216 387.865979 \nL 327.93267 387.437731 \nL 329.62358 387.595933 \nL 330.469034 387.665201 \nL 331.314489 387.592477 \nL 332.159943 387.76527 \nL 333.005398 387.496375 \nL 333.850852 388.049364 \nL 334.696307 387.630808 \nL 336.387216 387.784234 \nL 337.23267 387.847947 \nL 338.078125 387.77778 \nL 338.92358 387.942456 \nL 339.769034 387.681134 \nL 340.614489 388.228386 \nL 341.459943 387.819314 \nL 343.150852 387.968084 \nL 343.996307 388.026656 \nL 344.841761 387.958868 \nL 345.687216 388.115889 \nL 346.53267 387.861772 \nL 347.378125 388.403196 \nL 348.22358 388.00341 \nL 349.914489 388.147644 \nL 350.759943 388.201452 \nL 351.605398 388.135881 \nL 352.450852 388.285678 \nL 353.296307 388.038428 \nL 354.141761 388.573937 \nL 354.987216 388.183247 \nL 356.678125 388.323063 \nL 357.52358 388.372454 \nL 358.369034 388.308951 \nL 359.214489 388.451926 \nL 360.059943 388.21123 \nL 360.905398 388.74074 \nL 361.750852 388.358964 \nL 363.441761 388.494478 \nL 365.978125 388.614727 \nL 366.82358 388.380296 \nL 367.669034 388.903731 \nL 368.514489 388.530689 \nL 370.205398 388.662016 \nL 372.741761 388.774171 \nL 373.587216 388.545738 \nL 374.43267 389.063025 \nL 375.278125 388.698544 \nL 376.969034 388.825798 \nL 379.505398 388.930343 \nL 380.350852 388.707659 \nL 381.196307 389.218731 \nL 382.041761 388.862641 \nL 384.578125 389.020591 \nL 385.42358 388.964099 \nL 386.269034 389.083321 \nL 387.114489 388.866155 \nL 387.959943 389.370955 \nL 388.805398 389.023089 \nL 391.341761 389.174127 \nL 392.187216 389.11912 \nL 393.03267 389.233183 \nL 393.878125 389.021319 \nL 394.72358 389.519794 \nL 395.569034 389.179986 \nL 398.105398 389.324433 \nL 398.950852 389.270821 \nL 399.796307 389.380002 \nL 400.641761 389.173238 \nL 401.487216 389.665343 \nL 402.33267 389.333432 \nL 404.869034 389.47159 \nL 405.714489 389.41929 \nL 406.559943 389.523848 \nL 407.405398 389.321994 \nL 408.250852 389.807692 \nL 409.096307 389.483516 \nL 411.63267 389.615673 \nL 412.478125 389.564608 \nL 413.32358 389.664789 \nL 414.169034 389.467667 \nL 415.014489 389.946928 \nL 415.859943 389.630327 \nL 418.396307 389.756755 \nL 419.241761 389.706853 \nL 420.087216 389.80289 \nL 420.93267 389.610332 \nL 421.778125 390.083133 \nL 422.62358 389.77395 \nL 425.159943 389.894907 \nL 426.005398 389.846103 \nL 426.850852 389.938214 \nL 427.696307 389.750063 \nL 428.541761 390.216388 \nL 429.387216 389.914466 \nL 431.92358 390.030196 \nL 432.769034 389.98243 \nL 433.614489 390.070824 \nL 434.459943 389.886929 \nL 435.305398 390.34677 \nL 436.150852 390.051953 \nL 438.687216 390.162689 \nL 439.53267 390.115906 \nL 440.378125 390.200778 \nL 441.22358 390.020999 \nL 442.069034 390.474353 \nL 442.914489 390.186488 \nL 445.450852 390.292451 \nL 446.296307 390.246599 \nL 447.141761 390.328136 \nL 447.987216 390.152338 \nL 448.83267 390.59921 \nL 449.678125 390.318145 \nL 452.214489 390.419545 \nL 453.059943 390.374576 \nL 453.905398 390.452955 \nL 454.750852 390.28101 \nL 455.596307 390.721412 \nL 456.441761 390.446995 \nL 458.978125 390.544033 \nL 459.82358 390.499903 \nL 460.669034 390.575289 \nL 461.514489 390.407077 \nL 462.359943 390.841025 \nL 463.205398 390.573108 \nL 467.43267 390.695195 \nL 468.278125 390.5306 \nL 469.12358 390.958117 \nL 469.969034 390.696552 \nL 474.196307 390.812725 \nL 475.041761 390.651637 \nL 475.887216 391.072751 \nL 476.73267 390.817391 \nL 480.959943 390.927931 \nL 481.805398 390.770245 \nL 482.650852 391.18499 \nL 483.496307 390.935692 \nL 487.72358 391.040866 \nL 488.569034 390.886481 \nL 489.414489 391.294895 \nL 490.259943 391.051517 \nL 494.487216 391.151579 \nL 495.33267 391.0004 \nL 496.178125 391.402526 \nL 497.02358 391.164926 \nL 501.250852 391.260121 \nL 502.096307 391.112055 \nL 502.941761 391.507939 \nL 503.787216 391.275981 \nL 508.014489 391.366538 \nL 508.859943 391.221498 \nL 509.705398 391.611193 \nL 510.550852 391.384738 \nL 514.778125 391.470881 \nL 515.62358 391.328781 \nL 516.469034 391.71234 \nL 517.314489 391.491257 \nL 521.541761 391.573194 \nL 522.387216 391.433953 \nL 523.23267 391.811436 \nL 524.078125 391.595591 \nL 528.305398 391.673524 \nL 529.150852 391.537065 \nL 529.996307 391.908532 \nL 530.841761 391.697796 \nL 535.069034 391.771916 \nL 535.914489 391.638164 \nL 536.759943 392.003679 \nL 537.605398 391.797926 \nL 541.83267 391.868414 \nL 542.678125 391.737298 \nL 543.52358 392.096927 \nL 544.369034 391.896032 \nL 548.596307 391.963062 \nL 549.441761 391.834512 \nL 550.287216 392.188325 \nL 551.13267 391.992165 \nL 556.205398 391.929851 \nL 557.050852 392.277919 \nL 557.896307 392.086375 \nL 562.969034 392.023361 \nL 563.814489 392.365755 \nL 564.659943 392.17871 \nL 569.73267 392.115083 \nL 570.578125 392.45188 \nL 571.42358 392.269219 \nL 576.496307 392.205062 \nL 577.341761 392.536336 \nL 578.187216 392.357947 \nL 583.259943 392.293338 \nL 584.105398 392.619166 \nL 584.950852 392.444939 \nL 590.02358 392.379951 \nL 590.869034 392.700412 \nL 591.714489 392.53024 \nL 596.787216 392.464943 \nL 597.63267 392.780114 \nL 598.478125 392.613893 \nL 603.550852 392.548351 \nL 604.396307 392.858313 \nL 605.241761 392.69594 \nL 610.314489 392.630213 \nL 611.159943 392.935046 \nL 612.005398 392.776422 \nL 617.078125 392.710568 \nL 617.92358 393.010352 \nL 618.769034 392.855379 \nL 623.841761 392.789451 \nL 624.687216 393.084266 \nL 625.53267 392.93285 \nL 630.605398 392.866898 \nL 631.450852 393.156825 \nL 632.296307 393.008873 \nL 637.369034 392.942943 \nL 638.214489 393.228064 \nL 639.059943 393.083486 \nL 644.13267 393.017622 \nL 644.978125 393.298016 \nL 645.82358 393.156725 \nL 650.896307 393.090966 \nL 651.741761 393.366714 \nL 652.587216 393.228624 \nL 657.659943 393.163009 \nL 658.505398 393.43419 \nL 659.350852 393.299219 \nL 664.42358 393.233781 \nL 665.269034 393.500477 \nL 666.114489 393.368542 \nL 671.187216 393.303315 \nL 672.03267 393.565604 \nL 672.878125 393.436627 \nL 677.950852 393.371641 \nL 678.796307 393.6296 \nL 680.487216 393.487975 \nL 682.178125 393.524755 \nL 684.714489 393.438787 \nL 685.559943 393.692496 \nL 687.250852 393.553003 \nL 688.941761 393.589349 \nL 691.478125 393.504782 \nL 692.32358 393.754318 \nL 694.014489 393.616918 \nL 695.705398 393.652835 \nL 698.241761 393.569656 \nL 699.087216 393.815095 \nL 700.778125 393.679749 \nL 702.469034 393.715239 \nL 705.005398 393.633435 \nL 705.850852 393.874853 \nL 707.541761 393.741522 \nL 709.23267 393.776589 \nL 711.769034 393.696146 \nL 712.614489 393.933618 \nL 714.305398 393.802263 \nL 715.996307 393.836911 \nL 718.53267 393.757815 \nL 719.378125 393.991415 \nL 721.069034 393.861998 \nL 722.759943 393.896231 \nL 725.296307 393.818467 \nL 726.141761 394.048269 \nL 727.83267 393.920752 \nL 729.52358 393.954574 \nL 732.059943 393.878129 \nL 732.905398 394.104203 \nL 734.596307 393.97855 \nL 736.287216 394.011964 \nL 738.82358 393.936822 \nL 739.669034 394.159242 \nL 741.359943 394.035414 \nL 743.050852 394.068425 \nL 743.896307 394.043342 \nL 743.896307 394.043342 \n\" clip-path=\"url(#p061a4f9812)\" style=\"fill: none; stroke: #ffa500; stroke-width: 1.5; stroke-linecap: square\"/>\n   </g>\n   <g id=\"patch_13\">\n    <path d=\"M 68.378125 500.239219 \nL 68.378125 356.345101 \n\" style=\"fill: none; stroke: #000000; stroke-width: 0.8; stroke-linejoin: miter; stroke-linecap: square\"/>\n   </g>\n   <g id=\"patch_14\">\n    <path d=\"M 737.978125 500.239219 \nL 737.978125 356.345101 \n\" style=\"fill: none; stroke: #000000; stroke-width: 0.8; stroke-linejoin: miter; stroke-linecap: square\"/>\n   </g>\n   <g id=\"patch_15\">\n    <path d=\"M 68.378125 500.239219 \nL 737.978125 500.239219 \n\" style=\"fill: none; stroke: #000000; stroke-width: 0.8; stroke-linejoin: miter; stroke-linecap: square\"/>\n   </g>\n   <g id=\"patch_16\">\n    <path d=\"M 68.378125 356.345101 \nL 737.978125 356.345101 \n\" style=\"fill: none; stroke: #000000; stroke-width: 0.8; stroke-linejoin: miter; stroke-linecap: square\"/>\n   </g>\n  </g>\n </g>\n <defs>\n  <clipPath id=\"pcd28bd04d4\">\n   <rect x=\"68.378125\" y=\"10.999219\" width=\"669.6\" height=\"143.894118\"/>\n  </clipPath>\n  <clipPath id=\"p9ba3da5210\">\n   <rect x=\"68.378125\" y=\"183.67216\" width=\"669.6\" height=\"143.894118\"/>\n  </clipPath>\n  <clipPath id=\"p061a4f9812\">\n   <rect x=\"68.378125\" y=\"356.345101\" width=\"669.6\" height=\"143.894118\"/>\n  </clipPath>\n </defs>\n</svg>\n",
      "text/plain": [
       "<Figure size 864x648 with 3 Axes>"
      ]
     },
     "metadata": {},
     "output_type": "display_data"
    }
   ],
   "source": [
    "max_it = 100\n",
    "alpha = 1\n",
    "lambd = 0.4\n",
    "\n",
    "psi = psi_orig.copy(deep=True)\n",
    "fidelity = psi_ref.H & psi ^ all\n",
    "norm = psi.norm()\n",
    "\n",
    "fig = plt.figure(figsize=(12,9))\n",
    "[ax1, ax2, ax3] = fig.subplots(3,1, sharex=True)\n",
    "ax3.set_xlabel(\"epoch\")\n",
    "\n",
    "ax1.set_ylabel(\"infidelity\", color=\"tab:blue\")\n",
    "ax1.set_ylim(0, 1)\n",
    "plot1, = ax1.semilogy([0], 1-fidelity, color=\"blue\")\n",
    "\n",
    "ax2.set_ylabel(\"loss\", color=\"tab:red\")\n",
    "ax2.set_ylim(0, 1)\n",
    "plot2, = ax2.semilogy([0], loss(fidelity, norm), color=\"red\", linestyle=\"dashed\")\n",
    "\n",
    "ax3.set_ylabel(\"norm\", color=\"tab:orange\")\n",
    "ax3.set_ylim(0, 2)\n",
    "plot3, = ax3.semilogy([0], norm, color=\"orange\")\n",
    "\n",
    "with tqdm(range(max_it)) as progressbar:\n",
    "\tprogressbar.set_postfix(fidelity=f\"{fidelity}\")\n",
    "\n",
    "\tfor it in progressbar:\n",
    "\t\tsweeps = itertools.chain(psi.site_tags)\n",
    "\t\tfor sweep_it, site_tag in enumerate(sweeps):\n",
    "\t\t\t# compute gradient of norm\n",
    "\t\t\t[psiH, psi] = qtn.tensor_network_align(psi.H, psi)\n",
    "\t\t\tpsiH.drop_tags([\"approx\"])\n",
    "\n",
    "\t\t\tnorm_tn = (psiH | psi)\n",
    "\t\t\tnorm_tn.delete([site_tag, \"approx\"])\n",
    "\t\t\tdiff_norm = norm_tn ^ all\n",
    "\t\t\t\n",
    "\t\t\t# pop site tensor\n",
    "\t\t\t[orig] = psi.select_tensors([site_tag]) # NOTE = norm_tn.select_tensors([site_tag, \"approx\"])\n",
    "\t\t\tpsi.delete([site_tag])\n",
    "\n",
    "\t\t\t# compute gradient\n",
    "\t\t\tgrad_fidelity = (psi_ref.H & psi) ^ all\n",
    "\t\t\tgrad_norm = diff_norm + diff_norm.conj()\n",
    "\t\t\tgrad = 2 * (fidelity - 1) * grad_fidelity + 2 * (norm - 1) * grad_norm\n",
    "\t\t\ttensor = orig - lambd * grad\n",
    "\t\t\t# tensor.normalize(inplace=True)\n",
    "\n",
    "\t\t\t# link new tensor to psi\n",
    "\t\t\ttensor.drop_tags()\n",
    "\t\t\tfor tag in [site_tag, \"approx\"]:\n",
    "\t\t\t\ttensor.add_tag(tag)\n",
    "\n",
    "\t\t\tpsi.add_tensor(tensor)\n",
    "\n",
    "\t\t\t# renormalize psi\n",
    "\t\t\t# psi.normalize()\n",
    "\n",
    "\t\t\t# recompute fidelity, norm\n",
    "\t\t\tfidelity = abs(psi_ref.H & psi ^ all)\n",
    "\t\t\tnorm = psi.norm()\n",
    "\n",
    "\t\t\t# update plot\n",
    "\t\t\tplot1.set_xdata(np.append(plot1.get_xdata(), psi.nsites * it + sweep_it))\n",
    "\t\t\tplot1.set_ydata(np.append(plot1.get_ydata(), 1-fidelity))\n",
    "\t\t\tplot2.set_xdata(np.append(plot2.get_xdata(), psi.nsites * it + sweep_it))\n",
    "\t\t\tplot2.set_ydata(np.append(plot2.get_ydata(), loss(fidelity, norm)))\n",
    "\t\t\tplot3.set_xdata(np.append(plot3.get_xdata(), psi.nsites * it + sweep_it))\n",
    "\t\t\tplot3.set_ydata(np.append(plot3.get_ydata(), norm))\n",
    "\n",
    "\t\tprogressbar.set_postfix(fidelity=fidelity, norm=norm)\n",
    "\n",
    "ax1.set_xlim(0, it * psi.nsites)\n",
    "ax1.set_ylim(min(plot1.get_ydata()), 1)\n",
    "ax2.set_ylim(min(plot2.get_ydata()) / 2, max(plot2.get_ydata()))\n",
    "ax3.set_ylim(0.8, max(plot3.get_ydata()))\n",
    "\n",
    "plt.show()"
   ]
  }
 ],
 "metadata": {
  "accelerator": "GPU",
  "colab": {
   "collapsed_sections": [],
   "name": "JAX Quickstart.ipynb",
   "provenance": [],
   "toc_visible": true,
   "version": "0.3.2"
  },
  "jupytext": {
   "formats": "ipynb,md:myst"
  },
  "kernelspec": {
   "display_name": "Python 3.8.8 ('jax')",
   "language": "python",
   "name": "python3"
  },
  "language_info": {
   "codemirror_mode": {
    "name": "ipython",
    "version": 3
   },
   "file_extension": ".py",
   "mimetype": "text/x-python",
   "name": "python",
   "nbconvert_exporter": "python",
   "pygments_lexer": "ipython3",
   "version": "3.8.8"
  },
  "vscode": {
   "interpreter": {
    "hash": "be00496777329938ab9822d21afaa2562f5e5481d09e738bb9b43653f4e19043"
   }
  }
 },
 "nbformat": 4,
 "nbformat_minor": 0
}
