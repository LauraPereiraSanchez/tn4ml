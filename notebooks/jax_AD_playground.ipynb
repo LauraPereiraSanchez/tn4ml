{
 "cells": [
  {
   "cell_type": "markdown",
   "metadata": {
    "id": "xtWX4x9DCF5_"
   },
   "source": [
    "# JAX Automatic differentiation Playground\n",
    "\n",
    "[![Open in Colab](https://colab.research.google.com/assets/colab-badge.svg)](https://colab.research.google.com/github/google/jax/blob/main/docs/notebooks/quickstart.ipynb)\n",
    "\n",
    "**JAX is NumPy on the CPU, GPU, and TPU, with great automatic differentiation for high-performance machine learning research.**\n",
    "\n",
    "With its updated version of [Autograd](https://github.com/hips/autograd), JAX\n",
    "can automatically differentiate native Python and NumPy code. It can\n",
    "differentiate through a large subset of Python’s features, including loops, ifs,\n",
    "recursion, and closures, and it can even take derivatives of derivatives of\n",
    "derivatives. It supports reverse-mode as well as forward-mode differentiation, and the two can be composed arbitrarily\n",
    "to any order.\n",
    "\n",
    "What’s new is that JAX uses\n",
    "[XLA](https://www.tensorflow.org/xla)\n",
    "to compile and run your NumPy code on accelerators, like GPUs and TPUs.\n",
    "Compilation happens under the hood by default, with library calls getting\n",
    "just-in-time compiled and executed. But JAX even lets you just-in-time compile\n",
    "your own Python functions into XLA-optimized kernels using a one-function API.\n",
    "Compilation and automatic differentiation can be composed arbitrarily, so you\n",
    "can express sophisticated algorithms and get maximal performance without having\n",
    "to leave Python."
   ]
  },
  {
   "cell_type": "code",
   "execution_count": 3,
   "metadata": {
    "id": "SY8mDvEvCGqk"
   },
   "outputs": [],
   "source": [
    "import jax.numpy as jnp\n",
    "from jax import grad, jit, vmap\n",
    "from jax import random"
   ]
  },
  {
   "cell_type": "markdown",
   "metadata": {},
   "source": [
    "## Test 1:\n",
    "Example of grad() use with basic function"
   ]
  },
  {
   "cell_type": "code",
   "execution_count": 4,
   "metadata": {
    "id": "IMAgNJaMJwPD"
   },
   "outputs": [
    {
     "name": "stderr",
     "output_type": "stream",
     "text": [
      "WARNING:absl:No GPU/TPU found, falling back to CPU. (Set TF_CPP_MIN_LOG_LEVEL=0 and rerun for more info.)\n"
     ]
    },
    {
     "name": "stdout",
     "output_type": "stream",
     "text": [
      "[0.25       0.19661197 0.10499357]\n"
     ]
    }
   ],
   "source": [
    "def sum_logistic(x):\n",
    "  return jnp.sum(1.0 / (1.0 + jnp.exp(-x)))\n",
    "\n",
    "x_small = jnp.arange(3.)\n",
    "derivative_fn = grad(sum_logistic)\n",
    "print(derivative_fn(x_small))"
   ]
  },
  {
   "cell_type": "markdown",
   "metadata": {
    "id": "PtNs881Ohioc"
   },
   "source": [
    "Let's verify with finite differences that our result is correct."
   ]
  },
  {
   "cell_type": "code",
   "execution_count": 5,
   "metadata": {
    "id": "JXI7_OZuKZVO"
   },
   "outputs": [
    {
     "name": "stdout",
     "output_type": "stream",
     "text": [
      "[0.24998187 0.1965761  0.10502338]\n"
     ]
    }
   ],
   "source": [
    "def first_finite_differences(f, x):\n",
    "  eps = 1e-3\n",
    "  return jnp.array([(f(x + eps * v) - f(x - eps * v)) / (2 * eps)\n",
    "                   for v in jnp.eye(len(x))])\n",
    "\n",
    "\n",
    "print(first_finite_differences(sum_logistic, x_small))"
   ]
  },
  {
   "cell_type": "markdown",
   "metadata": {
    "id": "Q2CUZjOWNZ-3"
   },
   "source": [
    "Taking derivatives is as easy as calling {func}`~jax.grad`. {func}`~jax.grad` and {func}`~jax.jit` compose and can be mixed arbitrarily. In the above example we jitted `sum_logistic` and then took its derivative. We can go further:"
   ]
  },
  {
   "cell_type": "code",
   "execution_count": 6,
   "metadata": {
    "id": "TO4g8ny-OEi4"
   },
   "outputs": [
    {
     "name": "stdout",
     "output_type": "stream",
     "text": [
      "-0.035325598\n"
     ]
    }
   ],
   "source": [
    "print(grad(jit(grad(jit(grad(sum_logistic)))))(1.0))"
   ]
  },
  {
   "cell_type": "markdown",
   "metadata": {
    "id": "yCJ5feKvhnBJ"
   },
   "source": [
    "For more advanced autodiff, you can use {func}`jax.vjp` for reverse-mode vector-Jacobian products and {func}`jax.jvp` for forward-mode Jacobian-vector products. The two can be composed arbitrarily with one another, and with other JAX transformations. Here's one way to compose them to make a function that efficiently computes full Hessian matrices:"
   ]
  },
  {
   "cell_type": "code",
   "execution_count": 7,
   "metadata": {
    "id": "Z-JxbiNyhxEW"
   },
   "outputs": [],
   "source": [
    "from jax import jacfwd, jacrev\n",
    "def hessian(fun):\n",
    "  return jit(jacfwd(jacrev(fun)))"
   ]
  },
  {
   "cell_type": "markdown",
   "metadata": {},
   "source": [
    "## Test 2: \n",
    "This is closer to what we do in machine learning, using a loss function and some trainable weight"
   ]
  },
  {
   "cell_type": "code",
   "execution_count": 8,
   "metadata": {},
   "outputs": [],
   "source": [
    "key = random.PRNGKey(0)"
   ]
  },
  {
   "cell_type": "code",
   "execution_count": 9,
   "metadata": {},
   "outputs": [],
   "source": [
    "def sigmoid(x):\n",
    "    return 0.5 * (jnp.tanh(x / 2) + 1)\n",
    "\n",
    "# Outputs probability of a label being true.\n",
    "def predict(W, b, inputs):\n",
    "    return sigmoid(jnp.dot(inputs, W) + b)\n",
    "\n",
    "# Build a toy dataset.\n",
    "inputs = jnp.array([[0.52, 1.12,  0.77],\n",
    "                   [0.88, -1.08, 0.15],\n",
    "                   [0.52, 0.06, -1.30],\n",
    "                   [0.74, -2.49, 1.39]])\n",
    "targets = jnp.array([True, True, False, True])\n",
    "\n",
    "# Training loss is the negative log-likelihood of the training examples.\n",
    "def loss(W, b):\n",
    "    preds = predict(W, b, inputs)\n",
    "    label_probs = preds * targets + (1 - preds) * (1 - targets)\n",
    "    return -jnp.sum(jnp.log(label_probs))\n",
    "\n",
    "# Initialize random model coefficients\n",
    "key, W_key, b_key = random.split(key, 3)\n",
    "W = random.normal(W_key, (3,))\n",
    "b = random.normal(b_key, ())"
   ]
  },
  {
   "cell_type": "code",
   "execution_count": 10,
   "metadata": {},
   "outputs": [
    {
     "name": "stdout",
     "output_type": "stream",
     "text": [
      "W_grad [-0.16965583 -0.8774644  -1.4901346 ]\n",
      "W_grad [-0.16965583 -0.8774644  -1.4901346 ]\n",
      "b_grad -0.29227245\n",
      "W_grad [-0.16965583 -0.8774644  -1.4901346 ]\n",
      "b_grad -0.29227245\n"
     ]
    }
   ],
   "source": [
    "# Differentiate `loss` with respect to the first positional argument:\n",
    "W_grad = grad(loss, argnums=0)(W, b)\n",
    "print('W_grad', W_grad)\n",
    "\n",
    "# Since argnums=0 is the default, this does the same thing:\n",
    "W_grad = grad(loss)(W, b)\n",
    "print('W_grad', W_grad)\n",
    "\n",
    "# But we can choose different values too, and drop the keyword:\n",
    "b_grad = grad(loss, 1)(W, b)\n",
    "print('b_grad', b_grad)\n",
    "\n",
    "# Including tuple values\n",
    "W_grad, b_grad = grad(loss, (0, 1))(W, b)\n",
    "print('W_grad', W_grad)\n",
    "print('b_grad', b_grad)"
   ]
  },
  {
   "cell_type": "markdown",
   "metadata": {},
   "source": [
    "## Test 3: \n",
    "This is an example already with a tensor network. We're following the naive approach of making a loss function and feeding it an array that JAX knows how to operate, and only after that it's converted back to a TN. This way JAX can keep track of the operations that form the TN and differentiate over those. This means, however, that we're losing a lot of efficiency spent doing\n",
    "\n",
    "*MPS -> dense tensor -> array --[JAX processes this as an arg in loss()]--> dense tensor -> MPS -> return value*\n",
    "\n",
    "instead of \n",
    "\n",
    "*MPS -> loss() calculation -> return value*"
   ]
  },
  {
   "cell_type": "code",
   "execution_count": 60,
   "metadata": {},
   "outputs": [],
   "source": [
    "import quimb.tensor as qtn\n",
    "import numpy as np\n",
    "from tqdm.auto import tqdm\n",
    "import itertools\n",
    "%config InlineBackend.figure_format = \"svg\"\n",
    "from matplotlib import pyplot as plt\n",
    "from functools import reduce"
   ]
  },
  {
   "cell_type": "code",
   "execution_count": 61,
   "metadata": {},
   "outputs": [],
   "source": [
    "n = 8\n",
    "chi = 8"
   ]
  },
  {
   "cell_type": "code",
   "execution_count": 62,
   "metadata": {},
   "outputs": [
    {
     "data": {
      "text/plain": [
       "<MatrixProductState(tensors=8, indices=15, L=8, max_bond=8)>"
      ]
     },
     "execution_count": 62,
     "metadata": {},
     "output_type": "execute_result"
    }
   ],
   "source": [
    "psi_ref = qtn.MPS_rand_state(n, bond_dim=chi, normalize=True, tags=[\"ref\"])\n",
    "psi_ref.compress()\n",
    "psi_ref"
   ]
  },
  {
   "cell_type": "code",
   "execution_count": 63,
   "metadata": {},
   "outputs": [
    {
     "data": {
      "text/plain": [
       "<MatrixProductState(tensors=8, indices=15, L=8, max_bond=8)>"
      ]
     },
     "execution_count": 63,
     "metadata": {},
     "output_type": "execute_result"
    }
   ],
   "source": [
    "psi_orig = qtn.MPS_rand_state(n, bond_dim=chi, normalize=True, tags=[\"approx\"])\n",
    "psi_orig.compress()\n",
    "psi_orig"
   ]
  },
  {
   "cell_type": "code",
   "execution_count": 64,
   "metadata": {},
   "outputs": [
    {
     "data": {
      "text/plain": [
       "0.03586029706568554"
      ]
     },
     "execution_count": 64,
     "metadata": {},
     "output_type": "execute_result"
    }
   ],
   "source": [
    "fid = psi_ref.H & psi_orig ^ all\n",
    "if fid < 0:\n",
    "\tpsi_orig *= -1\n",
    "\tfid *= -1\n",
    "fid"
   ]
  },
  {
   "cell_type": "code",
   "execution_count": 78,
   "metadata": {},
   "outputs": [],
   "source": [
    "# def fidelity(tensor:) -> float:\n",
    "\n",
    "# def loss(f: float, norm: float) -> float:\n",
    "# \treturn (abs(f) - 1) ** 2  + (norm - 1) ** 2\n",
    "\n",
    "# We need to define the loss function so that at least one of its arguments is what we want to differentiate on\n",
    "\n",
    "def fidelity(psi1, psi2):\n",
    "\treturn np.abs((psi1.H & psi2) ^ all)\n",
    "\n",
    "def norm(psi):\n",
    "\t[psiH, psi] = qtn.tensor_network_align(psi.H, psi)\n",
    "\tpsiH.drop_tags([\"approx\"])\n",
    "\n",
    "\tnorm_tn = (psiH | psi)\n",
    "\t\n",
    "\treturn norm_tn ^ all\n",
    "\n",
    "def loss_simple(fid,norm):\n",
    "\treturn (abs(fid) - 1)**2 + (norm - 1)**2\n",
    "\n",
    "def loss_array(psi_array,psi_shape,psi_ref):\n",
    "\tpsi_tn = qtn.tensor_1d.MatrixProductState.from_dense(psi_array,psi_shape)\n",
    "\treturn (abs(fidelity(psi_tn,psi_ref)) - 1)**2 + (norm(psi_tn) - 1)**2\n"
   ]
  },
  {
   "cell_type": "code",
   "execution_count": 71,
   "metadata": {},
   "outputs": [],
   "source": [
    "# However, type MatrixProductState is not (obviously) a class recognized by JAX.\n",
    "# We need to convert it to an array of arrays\n",
    "def get_grad(psi,psi_ref):\n",
    "    psi_dense = psi ^ all\n",
    "    psi_array = psi_dense.data\n",
    "    psi_shape = psi_array.shape\n",
    "\n",
    "    gradient_as_array = grad(loss_array, argnums=0)(psi_array,psi_shape,psi_ref)\n",
    "\n",
    "    return qtn.tensor_1d.MatrixProductState.from_dense(gradient_as_array,psi_shape)\n"
   ]
  },
  {
   "cell_type": "code",
   "execution_count": 72,
   "metadata": {},
   "outputs": [
    {
     "name": "stderr",
     "output_type": "stream",
     "text": [
      "100%|██████████| 100/100 [00:28<00:00,  3.56it/s, fidelity=0.95, norm=1.01]\n"
     ]
    },
    {
     "data": {
      "image/svg+xml": "<?xml version=\"1.0\" encoding=\"utf-8\" standalone=\"no\"?>\r\n<!DOCTYPE svg PUBLIC \"-//W3C//DTD SVG 1.1//EN\"\r\n  \"http://www.w3.org/Graphics/SVG/1.1/DTD/svg11.dtd\">\r\n<!-- Created with matplotlib (https://matplotlib.org/) -->\r\n<svg height=\"537.795469pt\" version=\"1.1\" viewBox=\"0 0 745.178125 537.795469\" width=\"745.178125pt\" xmlns=\"http://www.w3.org/2000/svg\" xmlns:xlink=\"http://www.w3.org/1999/xlink\">\r\n <metadata>\r\n  <rdf:RDF xmlns:cc=\"http://creativecommons.org/ns#\" xmlns:dc=\"http://purl.org/dc/elements/1.1/\" xmlns:rdf=\"http://www.w3.org/1999/02/22-rdf-syntax-ns#\">\r\n   <cc:Work>\r\n    <dc:type rdf:resource=\"http://purl.org/dc/dcmitype/StillImage\"/>\r\n    <dc:date>2022-09-15T12:51:11.950760</dc:date>\r\n    <dc:format>image/svg+xml</dc:format>\r\n    <dc:creator>\r\n     <cc:Agent>\r\n      <dc:title>Matplotlib v3.3.4, https://matplotlib.org/</dc:title>\r\n     </cc:Agent>\r\n    </dc:creator>\r\n   </cc:Work>\r\n  </rdf:RDF>\r\n </metadata>\r\n <defs>\r\n  <style type=\"text/css\">*{stroke-linecap:butt;stroke-linejoin:round;}</style>\r\n </defs>\r\n <g id=\"figure_1\">\r\n  <g id=\"patch_1\">\r\n   <path d=\"M 0 537.795469 \r\nL 745.178125 537.795469 \r\nL 745.178125 0 \r\nL 0 0 \r\nz\r\n\" style=\"fill:none;\"/>\r\n  </g>\r\n  <g id=\"axes_1\">\r\n   <g id=\"patch_2\">\r\n    <path d=\"M 68.378125 154.893336 \r\nL 737.978125 154.893336 \r\nL 737.978125 10.999219 \r\nL 68.378125 10.999219 \r\nz\r\n\" style=\"fill:#ffffff;\"/>\r\n   </g>\r\n   <g id=\"matplotlib.axis_1\">\r\n    <g id=\"xtick_1\">\r\n     <g id=\"line2d_1\">\r\n      <defs>\r\n       <path d=\"M 0 0 \r\nL 0 3.5 \r\n\" id=\"m3860940ef9\" style=\"stroke:#000000;stroke-width:0.8;\"/>\r\n      </defs>\r\n      <g>\r\n       <use style=\"stroke:#000000;stroke-width:0.8;\" x=\"68.378125\" xlink:href=\"#m3860940ef9\" y=\"154.893336\"/>\r\n      </g>\r\n     </g>\r\n    </g>\r\n    <g id=\"xtick_2\">\r\n     <g id=\"line2d_2\">\r\n      <g>\r\n       <use style=\"stroke:#000000;stroke-width:0.8;\" x=\"152.92358\" xlink:href=\"#m3860940ef9\" y=\"154.893336\"/>\r\n      </g>\r\n     </g>\r\n    </g>\r\n    <g id=\"xtick_3\">\r\n     <g id=\"line2d_3\">\r\n      <g>\r\n       <use style=\"stroke:#000000;stroke-width:0.8;\" x=\"237.469034\" xlink:href=\"#m3860940ef9\" y=\"154.893336\"/>\r\n      </g>\r\n     </g>\r\n    </g>\r\n    <g id=\"xtick_4\">\r\n     <g id=\"line2d_4\">\r\n      <g>\r\n       <use style=\"stroke:#000000;stroke-width:0.8;\" x=\"322.014489\" xlink:href=\"#m3860940ef9\" y=\"154.893336\"/>\r\n      </g>\r\n     </g>\r\n    </g>\r\n    <g id=\"xtick_5\">\r\n     <g id=\"line2d_5\">\r\n      <g>\r\n       <use style=\"stroke:#000000;stroke-width:0.8;\" x=\"406.559943\" xlink:href=\"#m3860940ef9\" y=\"154.893336\"/>\r\n      </g>\r\n     </g>\r\n    </g>\r\n    <g id=\"xtick_6\">\r\n     <g id=\"line2d_6\">\r\n      <g>\r\n       <use style=\"stroke:#000000;stroke-width:0.8;\" x=\"491.105398\" xlink:href=\"#m3860940ef9\" y=\"154.893336\"/>\r\n      </g>\r\n     </g>\r\n    </g>\r\n    <g id=\"xtick_7\">\r\n     <g id=\"line2d_7\">\r\n      <g>\r\n       <use style=\"stroke:#000000;stroke-width:0.8;\" x=\"575.650852\" xlink:href=\"#m3860940ef9\" y=\"154.893336\"/>\r\n      </g>\r\n     </g>\r\n    </g>\r\n    <g id=\"xtick_8\">\r\n     <g id=\"line2d_8\">\r\n      <g>\r\n       <use style=\"stroke:#000000;stroke-width:0.8;\" x=\"660.196307\" xlink:href=\"#m3860940ef9\" y=\"154.893336\"/>\r\n      </g>\r\n     </g>\r\n    </g>\r\n   </g>\r\n   <g id=\"matplotlib.axis_2\">\r\n    <g id=\"ytick_1\">\r\n     <g id=\"line2d_9\">\r\n      <defs>\r\n       <path d=\"M 0 0 \r\nL -3.5 0 \r\n\" id=\"mc11724c9a0\" style=\"stroke:#000000;stroke-width:0.8;\"/>\r\n      </defs>\r\n      <g>\r\n       <use style=\"stroke:#000000;stroke-width:0.8;\" x=\"68.378125\" xlink:href=\"#mc11724c9a0\" y=\"121.741266\"/>\r\n      </g>\r\n     </g>\r\n     <g id=\"text_1\">\r\n      <!-- $\\mathdefault{10^{-1}}$ -->\r\n      <g transform=\"translate(37.878125 125.540485)scale(0.1 -0.1)\">\r\n       <defs>\r\n        <path d=\"M 12.40625 8.296875 \r\nL 28.515625 8.296875 \r\nL 28.515625 63.921875 \r\nL 10.984375 60.40625 \r\nL 10.984375 69.390625 \r\nL 28.421875 72.90625 \r\nL 38.28125 72.90625 \r\nL 38.28125 8.296875 \r\nL 54.390625 8.296875 \r\nL 54.390625 0 \r\nL 12.40625 0 \r\nz\r\n\" id=\"DejaVuSans-49\"/>\r\n        <path d=\"M 31.78125 66.40625 \r\nQ 24.171875 66.40625 20.328125 58.90625 \r\nQ 16.5 51.421875 16.5 36.375 \r\nQ 16.5 21.390625 20.328125 13.890625 \r\nQ 24.171875 6.390625 31.78125 6.390625 \r\nQ 39.453125 6.390625 43.28125 13.890625 \r\nQ 47.125 21.390625 47.125 36.375 \r\nQ 47.125 51.421875 43.28125 58.90625 \r\nQ 39.453125 66.40625 31.78125 66.40625 \r\nz\r\nM 31.78125 74.21875 \r\nQ 44.046875 74.21875 50.515625 64.515625 \r\nQ 56.984375 54.828125 56.984375 36.375 \r\nQ 56.984375 17.96875 50.515625 8.265625 \r\nQ 44.046875 -1.421875 31.78125 -1.421875 \r\nQ 19.53125 -1.421875 13.0625 8.265625 \r\nQ 6.59375 17.96875 6.59375 36.375 \r\nQ 6.59375 54.828125 13.0625 64.515625 \r\nQ 19.53125 74.21875 31.78125 74.21875 \r\nz\r\n\" id=\"DejaVuSans-48\"/>\r\n        <path d=\"M 10.59375 35.5 \r\nL 73.1875 35.5 \r\nL 73.1875 27.203125 \r\nL 10.59375 27.203125 \r\nz\r\n\" id=\"DejaVuSans-8722\"/>\r\n       </defs>\r\n       <use transform=\"translate(0 0.684375)\" xlink:href=\"#DejaVuSans-49\"/>\r\n       <use transform=\"translate(63.623047 0.684375)\" xlink:href=\"#DejaVuSans-48\"/>\r\n       <use transform=\"translate(128.203125 38.965625)scale(0.7)\" xlink:href=\"#DejaVuSans-8722\"/>\r\n       <use transform=\"translate(186.855469 38.965625)scale(0.7)\" xlink:href=\"#DejaVuSans-49\"/>\r\n      </g>\r\n     </g>\r\n    </g>\r\n    <g id=\"ytick_2\">\r\n     <g id=\"line2d_10\">\r\n      <g>\r\n       <use style=\"stroke:#000000;stroke-width:0.8;\" x=\"68.378125\" xlink:href=\"#mc11724c9a0\" y=\"10.999219\"/>\r\n      </g>\r\n     </g>\r\n     <g id=\"text_2\">\r\n      <!-- $\\mathdefault{10^{0}}$ -->\r\n      <g transform=\"translate(43.778125 14.798438)scale(0.1 -0.1)\">\r\n       <use transform=\"translate(0 0.765625)\" xlink:href=\"#DejaVuSans-49\"/>\r\n       <use transform=\"translate(63.623047 0.765625)\" xlink:href=\"#DejaVuSans-48\"/>\r\n       <use transform=\"translate(128.203125 39.046875)scale(0.7)\" xlink:href=\"#DejaVuSans-48\"/>\r\n      </g>\r\n     </g>\r\n    </g>\r\n    <g id=\"ytick_3\">\r\n     <g id=\"line2d_11\">\r\n      <defs>\r\n       <path d=\"M 0 0 \r\nL -2 0 \r\n\" id=\"mb443d6e47d\" style=\"stroke:#000000;stroke-width:0.6;\"/>\r\n      </defs>\r\n      <g>\r\n       <use style=\"stroke:#000000;stroke-width:0.6;\" x=\"68.378125\" xlink:href=\"#mb443d6e47d\" y=\"146.309251\"/>\r\n      </g>\r\n     </g>\r\n    </g>\r\n    <g id=\"ytick_4\">\r\n     <g id=\"line2d_12\">\r\n      <g>\r\n       <use style=\"stroke:#000000;stroke-width:0.6;\" x=\"68.378125\" xlink:href=\"#mb443d6e47d\" y=\"138.895427\"/>\r\n      </g>\r\n     </g>\r\n    </g>\r\n    <g id=\"ytick_5\">\r\n     <g id=\"line2d_13\">\r\n      <g>\r\n       <use style=\"stroke:#000000;stroke-width:0.6;\" x=\"68.378125\" xlink:href=\"#mb443d6e47d\" y=\"132.47328\"/>\r\n      </g>\r\n     </g>\r\n    </g>\r\n    <g id=\"ytick_6\">\r\n     <g id=\"line2d_14\">\r\n      <g>\r\n       <use style=\"stroke:#000000;stroke-width:0.6;\" x=\"68.378125\" xlink:href=\"#mb443d6e47d\" y=\"126.808545\"/>\r\n      </g>\r\n     </g>\r\n    </g>\r\n    <g id=\"ytick_7\">\r\n     <g id=\"line2d_15\">\r\n      <g>\r\n       <use style=\"stroke:#000000;stroke-width:0.6;\" x=\"68.378125\" xlink:href=\"#mb443d6e47d\" y=\"88.404588\"/>\r\n      </g>\r\n     </g>\r\n    </g>\r\n    <g id=\"ytick_8\">\r\n     <g id=\"line2d_16\">\r\n      <g>\r\n       <use style=\"stroke:#000000;stroke-width:0.6;\" x=\"68.378125\" xlink:href=\"#mb443d6e47d\" y=\"68.903882\"/>\r\n      </g>\r\n     </g>\r\n    </g>\r\n    <g id=\"ytick_9\">\r\n     <g id=\"line2d_17\">\r\n      <g>\r\n       <use style=\"stroke:#000000;stroke-width:0.6;\" x=\"68.378125\" xlink:href=\"#mb443d6e47d\" y=\"55.06791\"/>\r\n      </g>\r\n     </g>\r\n    </g>\r\n    <g id=\"ytick_10\">\r\n     <g id=\"line2d_18\">\r\n      <g>\r\n       <use style=\"stroke:#000000;stroke-width:0.6;\" x=\"68.378125\" xlink:href=\"#mb443d6e47d\" y=\"44.335897\"/>\r\n      </g>\r\n     </g>\r\n    </g>\r\n    <g id=\"ytick_11\">\r\n     <g id=\"line2d_19\">\r\n      <g>\r\n       <use style=\"stroke:#000000;stroke-width:0.6;\" x=\"68.378125\" xlink:href=\"#mb443d6e47d\" y=\"35.567204\"/>\r\n      </g>\r\n     </g>\r\n    </g>\r\n    <g id=\"ytick_12\">\r\n     <g id=\"line2d_20\">\r\n      <g>\r\n       <use style=\"stroke:#000000;stroke-width:0.6;\" x=\"68.378125\" xlink:href=\"#mb443d6e47d\" y=\"28.153379\"/>\r\n      </g>\r\n     </g>\r\n    </g>\r\n    <g id=\"ytick_13\">\r\n     <g id=\"line2d_21\">\r\n      <g>\r\n       <use style=\"stroke:#000000;stroke-width:0.6;\" x=\"68.378125\" xlink:href=\"#mb443d6e47d\" y=\"21.731232\"/>\r\n      </g>\r\n     </g>\r\n    </g>\r\n    <g id=\"ytick_14\">\r\n     <g id=\"line2d_22\">\r\n      <g>\r\n       <use style=\"stroke:#000000;stroke-width:0.6;\" x=\"68.378125\" xlink:href=\"#mb443d6e47d\" y=\"16.066497\"/>\r\n      </g>\r\n     </g>\r\n    </g>\r\n    <g id=\"text_3\">\r\n     <!-- infidelity -->\r\n     <g style=\"fill:#1f77b4;\" transform=\"translate(31.798438 104.601746)rotate(-90)scale(0.1 -0.1)\">\r\n      <defs>\r\n       <path d=\"M 9.421875 54.6875 \r\nL 18.40625 54.6875 \r\nL 18.40625 0 \r\nL 9.421875 0 \r\nz\r\nM 9.421875 75.984375 \r\nL 18.40625 75.984375 \r\nL 18.40625 64.59375 \r\nL 9.421875 64.59375 \r\nz\r\n\" id=\"DejaVuSans-105\"/>\r\n       <path d=\"M 54.890625 33.015625 \r\nL 54.890625 0 \r\nL 45.90625 0 \r\nL 45.90625 32.71875 \r\nQ 45.90625 40.484375 42.875 44.328125 \r\nQ 39.84375 48.1875 33.796875 48.1875 \r\nQ 26.515625 48.1875 22.3125 43.546875 \r\nQ 18.109375 38.921875 18.109375 30.90625 \r\nL 18.109375 0 \r\nL 9.078125 0 \r\nL 9.078125 54.6875 \r\nL 18.109375 54.6875 \r\nL 18.109375 46.1875 \r\nQ 21.34375 51.125 25.703125 53.5625 \r\nQ 30.078125 56 35.796875 56 \r\nQ 45.21875 56 50.046875 50.171875 \r\nQ 54.890625 44.34375 54.890625 33.015625 \r\nz\r\n\" id=\"DejaVuSans-110\"/>\r\n       <path d=\"M 37.109375 75.984375 \r\nL 37.109375 68.5 \r\nL 28.515625 68.5 \r\nQ 23.6875 68.5 21.796875 66.546875 \r\nQ 19.921875 64.59375 19.921875 59.515625 \r\nL 19.921875 54.6875 \r\nL 34.71875 54.6875 \r\nL 34.71875 47.703125 \r\nL 19.921875 47.703125 \r\nL 19.921875 0 \r\nL 10.890625 0 \r\nL 10.890625 47.703125 \r\nL 2.296875 47.703125 \r\nL 2.296875 54.6875 \r\nL 10.890625 54.6875 \r\nL 10.890625 58.5 \r\nQ 10.890625 67.625 15.140625 71.796875 \r\nQ 19.390625 75.984375 28.609375 75.984375 \r\nz\r\n\" id=\"DejaVuSans-102\"/>\r\n       <path d=\"M 45.40625 46.390625 \r\nL 45.40625 75.984375 \r\nL 54.390625 75.984375 \r\nL 54.390625 0 \r\nL 45.40625 0 \r\nL 45.40625 8.203125 \r\nQ 42.578125 3.328125 38.25 0.953125 \r\nQ 33.9375 -1.421875 27.875 -1.421875 \r\nQ 17.96875 -1.421875 11.734375 6.484375 \r\nQ 5.515625 14.40625 5.515625 27.296875 \r\nQ 5.515625 40.1875 11.734375 48.09375 \r\nQ 17.96875 56 27.875 56 \r\nQ 33.9375 56 38.25 53.625 \r\nQ 42.578125 51.265625 45.40625 46.390625 \r\nz\r\nM 14.796875 27.296875 \r\nQ 14.796875 17.390625 18.875 11.75 \r\nQ 22.953125 6.109375 30.078125 6.109375 \r\nQ 37.203125 6.109375 41.296875 11.75 \r\nQ 45.40625 17.390625 45.40625 27.296875 \r\nQ 45.40625 37.203125 41.296875 42.84375 \r\nQ 37.203125 48.484375 30.078125 48.484375 \r\nQ 22.953125 48.484375 18.875 42.84375 \r\nQ 14.796875 37.203125 14.796875 27.296875 \r\nz\r\n\" id=\"DejaVuSans-100\"/>\r\n       <path d=\"M 56.203125 29.59375 \r\nL 56.203125 25.203125 \r\nL 14.890625 25.203125 \r\nQ 15.484375 15.921875 20.484375 11.0625 \r\nQ 25.484375 6.203125 34.421875 6.203125 \r\nQ 39.59375 6.203125 44.453125 7.46875 \r\nQ 49.3125 8.734375 54.109375 11.28125 \r\nL 54.109375 2.78125 \r\nQ 49.265625 0.734375 44.1875 -0.34375 \r\nQ 39.109375 -1.421875 33.890625 -1.421875 \r\nQ 20.796875 -1.421875 13.15625 6.1875 \r\nQ 5.515625 13.8125 5.515625 26.8125 \r\nQ 5.515625 40.234375 12.765625 48.109375 \r\nQ 20.015625 56 32.328125 56 \r\nQ 43.359375 56 49.78125 48.890625 \r\nQ 56.203125 41.796875 56.203125 29.59375 \r\nz\r\nM 47.21875 32.234375 \r\nQ 47.125 39.59375 43.09375 43.984375 \r\nQ 39.0625 48.390625 32.421875 48.390625 \r\nQ 24.90625 48.390625 20.390625 44.140625 \r\nQ 15.875 39.890625 15.1875 32.171875 \r\nz\r\n\" id=\"DejaVuSans-101\"/>\r\n       <path d=\"M 9.421875 75.984375 \r\nL 18.40625 75.984375 \r\nL 18.40625 0 \r\nL 9.421875 0 \r\nz\r\n\" id=\"DejaVuSans-108\"/>\r\n       <path d=\"M 18.3125 70.21875 \r\nL 18.3125 54.6875 \r\nL 36.8125 54.6875 \r\nL 36.8125 47.703125 \r\nL 18.3125 47.703125 \r\nL 18.3125 18.015625 \r\nQ 18.3125 11.328125 20.140625 9.421875 \r\nQ 21.96875 7.515625 27.59375 7.515625 \r\nL 36.8125 7.515625 \r\nL 36.8125 0 \r\nL 27.59375 0 \r\nQ 17.1875 0 13.234375 3.875 \r\nQ 9.28125 7.765625 9.28125 18.015625 \r\nL 9.28125 47.703125 \r\nL 2.6875 47.703125 \r\nL 2.6875 54.6875 \r\nL 9.28125 54.6875 \r\nL 9.28125 70.21875 \r\nz\r\n\" id=\"DejaVuSans-116\"/>\r\n       <path d=\"M 32.171875 -5.078125 \r\nQ 28.375 -14.84375 24.75 -17.8125 \r\nQ 21.140625 -20.796875 15.09375 -20.796875 \r\nL 7.90625 -20.796875 \r\nL 7.90625 -13.28125 \r\nL 13.1875 -13.28125 \r\nQ 16.890625 -13.28125 18.9375 -11.515625 \r\nQ 21 -9.765625 23.484375 -3.21875 \r\nL 25.09375 0.875 \r\nL 2.984375 54.6875 \r\nL 12.5 54.6875 \r\nL 29.59375 11.921875 \r\nL 46.6875 54.6875 \r\nL 56.203125 54.6875 \r\nz\r\n\" id=\"DejaVuSans-121\"/>\r\n      </defs>\r\n      <use xlink:href=\"#DejaVuSans-105\"/>\r\n      <use x=\"27.783203\" xlink:href=\"#DejaVuSans-110\"/>\r\n      <use x=\"91.162109\" xlink:href=\"#DejaVuSans-102\"/>\r\n      <use x=\"126.367188\" xlink:href=\"#DejaVuSans-105\"/>\r\n      <use x=\"154.150391\" xlink:href=\"#DejaVuSans-100\"/>\r\n      <use x=\"217.626953\" xlink:href=\"#DejaVuSans-101\"/>\r\n      <use x=\"279.150391\" xlink:href=\"#DejaVuSans-108\"/>\r\n      <use x=\"306.933594\" xlink:href=\"#DejaVuSans-105\"/>\r\n      <use x=\"334.716797\" xlink:href=\"#DejaVuSans-116\"/>\r\n      <use x=\"373.925781\" xlink:href=\"#DejaVuSans-121\"/>\r\n     </g>\r\n    </g>\r\n   </g>\r\n   <g id=\"line2d_23\">\r\n    <path clip-path=\"url(#pd5ab15d606)\" d=\"M 68.378125 12.755591 \r\nL 68.378125 16.466478 \r\nL 75.141761 21.513637 \r\nL 81.905398 26.485996 \r\nL 88.669034 31.313731 \r\nL 95.43267 35.93972 \r\nL 102.196307 40.3299 \r\nL 108.959943 44.472196 \r\nL 115.72358 48.370403 \r\nL 122.487216 52.037546 \r\nL 129.250852 55.490655 \r\nL 136.014489 58.747968 \r\nL 142.778125 61.826908 \r\nL 149.541761 64.743754 \r\nL 156.305398 67.512954 \r\nL 163.069034 70.147489 \r\nL 169.83267 72.658849 \r\nL 176.596307 75.057323 \r\nL 183.359943 77.351877 \r\nL 190.12358 79.55065 \r\nL 196.887216 81.660834 \r\nL 203.650852 83.688964 \r\nL 210.414489 85.641062 \r\nL 217.178125 87.52211 \r\nL 223.941761 89.336985 \r\nL 230.705398 91.089849 \r\nL 237.469034 92.784788 \r\nL 244.23267 94.425273 \r\nL 250.996307 96.014628 \r\nL 257.759943 97.555809 \r\nL 264.52358 99.051574 \r\nL 271.287216 100.504182 \r\nL 278.050852 101.916425 \r\nL 284.814489 103.290202 \r\nL 291.578125 104.627619 \r\nL 298.341761 105.930128 \r\nL 305.105398 107.199897 \r\nL 311.869034 108.438241 \r\nL 318.63267 109.646695 \r\nL 325.396307 110.826546 \r\nL 332.159943 111.979356 \r\nL 338.92358 113.106105 \r\nL 345.687216 114.207857 \r\nL 352.450852 115.285742 \r\nL 359.214489 116.340872 \r\nL 365.978125 117.373995 \r\nL 372.741761 118.386123 \r\nL 379.505398 119.378213 \r\nL 386.269034 120.350757 \r\nL 393.03267 121.304399 \r\nL 399.796307 122.240127 \r\nL 406.559943 123.15864 \r\nL 413.32358 124.060266 \r\nL 420.087216 124.945572 \r\nL 426.850852 125.815718 \r\nL 433.614489 126.670605 \r\nL 440.378125 127.510588 \r\nL 447.141761 128.337023 \r\nL 453.905398 129.149678 \r\nL 460.669034 129.949252 \r\nL 467.43267 130.735725 \r\nL 474.196307 131.509973 \r\nL 480.959943 132.27209 \r\nL 487.72358 133.022862 \r\nL 494.487216 133.762378 \r\nL 501.250852 134.491005 \r\nL 508.014489 135.208951 \r\nL 514.778125 135.916395 \r\nL 521.541761 136.613953 \r\nL 528.305398 137.301609 \r\nL 535.069034 137.979518 \r\nL 541.83267 138.648115 \r\nL 548.596307 139.308429 \r\nL 555.359943 139.959719 \r\nL 562.12358 140.601832 \r\nL 568.887216 141.236284 \r\nL 575.650852 141.862511 \r\nL 582.414489 142.480848 \r\nL 589.178125 143.091344 \r\nL 595.941761 143.694455 \r\nL 602.705398 144.290266 \r\nL 609.469034 144.878514 \r\nL 616.23267 145.459851 \r\nL 622.996307 146.034939 \r\nL 629.759943 146.602926 \r\nL 636.52358 147.164355 \r\nL 643.287216 147.719605 \r\nL 650.050852 148.268402 \r\nL 656.814489 148.81128 \r\nL 663.578125 149.347985 \r\nL 670.341761 149.879265 \r\nL 677.105398 150.404469 \r\nL 683.869034 150.923836 \r\nL 690.63267 151.43808 \r\nL 697.396307 151.94699 \r\nL 704.159943 152.45066 \r\nL 710.92358 152.949155 \r\nL 717.687216 153.442676 \r\nL 724.450852 153.930882 \r\nL 731.214489 154.414472 \r\nL 737.978125 154.893336 \r\n\" style=\"fill:none;stroke:#0000ff;stroke-linecap:square;stroke-width:1.5;\"/>\r\n   </g>\r\n   <g id=\"patch_3\">\r\n    <path d=\"M 68.378125 154.893336 \r\nL 68.378125 10.999219 \r\n\" style=\"fill:none;stroke:#000000;stroke-linecap:square;stroke-linejoin:miter;stroke-width:0.8;\"/>\r\n   </g>\r\n   <g id=\"patch_4\">\r\n    <path d=\"M 737.978125 154.893336 \r\nL 737.978125 10.999219 \r\n\" style=\"fill:none;stroke:#000000;stroke-linecap:square;stroke-linejoin:miter;stroke-width:0.8;\"/>\r\n   </g>\r\n   <g id=\"patch_5\">\r\n    <path d=\"M 68.378125 154.893336 \r\nL 737.978125 154.893336 \r\n\" style=\"fill:none;stroke:#000000;stroke-linecap:square;stroke-linejoin:miter;stroke-width:0.8;\"/>\r\n   </g>\r\n   <g id=\"patch_6\">\r\n    <path d=\"M 68.378125 10.999219 \r\nL 737.978125 10.999219 \r\n\" style=\"fill:none;stroke:#000000;stroke-linecap:square;stroke-linejoin:miter;stroke-width:0.8;\"/>\r\n   </g>\r\n  </g>\r\n  <g id=\"axes_2\">\r\n   <g id=\"patch_7\">\r\n    <path d=\"M 68.378125 327.566278 \r\nL 737.978125 327.566278 \r\nL 737.978125 183.67216 \r\nL 68.378125 183.67216 \r\nz\r\n\" style=\"fill:#ffffff;\"/>\r\n   </g>\r\n   <g id=\"matplotlib.axis_3\">\r\n    <g id=\"xtick_9\">\r\n     <g id=\"line2d_24\">\r\n      <g>\r\n       <use style=\"stroke:#000000;stroke-width:0.8;\" x=\"68.378125\" xlink:href=\"#m3860940ef9\" y=\"327.566278\"/>\r\n      </g>\r\n     </g>\r\n    </g>\r\n    <g id=\"xtick_10\">\r\n     <g id=\"line2d_25\">\r\n      <g>\r\n       <use style=\"stroke:#000000;stroke-width:0.8;\" x=\"152.92358\" xlink:href=\"#m3860940ef9\" y=\"327.566278\"/>\r\n      </g>\r\n     </g>\r\n    </g>\r\n    <g id=\"xtick_11\">\r\n     <g id=\"line2d_26\">\r\n      <g>\r\n       <use style=\"stroke:#000000;stroke-width:0.8;\" x=\"237.469034\" xlink:href=\"#m3860940ef9\" y=\"327.566278\"/>\r\n      </g>\r\n     </g>\r\n    </g>\r\n    <g id=\"xtick_12\">\r\n     <g id=\"line2d_27\">\r\n      <g>\r\n       <use style=\"stroke:#000000;stroke-width:0.8;\" x=\"322.014489\" xlink:href=\"#m3860940ef9\" y=\"327.566278\"/>\r\n      </g>\r\n     </g>\r\n    </g>\r\n    <g id=\"xtick_13\">\r\n     <g id=\"line2d_28\">\r\n      <g>\r\n       <use style=\"stroke:#000000;stroke-width:0.8;\" x=\"406.559943\" xlink:href=\"#m3860940ef9\" y=\"327.566278\"/>\r\n      </g>\r\n     </g>\r\n    </g>\r\n    <g id=\"xtick_14\">\r\n     <g id=\"line2d_29\">\r\n      <g>\r\n       <use style=\"stroke:#000000;stroke-width:0.8;\" x=\"491.105398\" xlink:href=\"#m3860940ef9\" y=\"327.566278\"/>\r\n      </g>\r\n     </g>\r\n    </g>\r\n    <g id=\"xtick_15\">\r\n     <g id=\"line2d_30\">\r\n      <g>\r\n       <use style=\"stroke:#000000;stroke-width:0.8;\" x=\"575.650852\" xlink:href=\"#m3860940ef9\" y=\"327.566278\"/>\r\n      </g>\r\n     </g>\r\n    </g>\r\n    <g id=\"xtick_16\">\r\n     <g id=\"line2d_31\">\r\n      <g>\r\n       <use style=\"stroke:#000000;stroke-width:0.8;\" x=\"660.196307\" xlink:href=\"#m3860940ef9\" y=\"327.566278\"/>\r\n      </g>\r\n     </g>\r\n    </g>\r\n   </g>\r\n   <g id=\"matplotlib.axis_4\">\r\n    <g id=\"ytick_15\">\r\n     <g id=\"line2d_32\">\r\n      <g>\r\n       <use style=\"stroke:#000000;stroke-width:0.8;\" x=\"68.378125\" xlink:href=\"#mc11724c9a0\" y=\"283.241059\"/>\r\n      </g>\r\n     </g>\r\n     <g id=\"text_4\">\r\n      <!-- $\\mathdefault{10^{-2}}$ -->\r\n      <g transform=\"translate(37.878125 287.040278)scale(0.1 -0.1)\">\r\n       <defs>\r\n        <path d=\"M 19.1875 8.296875 \r\nL 53.609375 8.296875 \r\nL 53.609375 0 \r\nL 7.328125 0 \r\nL 7.328125 8.296875 \r\nQ 12.9375 14.109375 22.625 23.890625 \r\nQ 32.328125 33.6875 34.8125 36.53125 \r\nQ 39.546875 41.84375 41.421875 45.53125 \r\nQ 43.3125 49.21875 43.3125 52.78125 \r\nQ 43.3125 58.59375 39.234375 62.25 \r\nQ 35.15625 65.921875 28.609375 65.921875 \r\nQ 23.96875 65.921875 18.8125 64.3125 \r\nQ 13.671875 62.703125 7.8125 59.421875 \r\nL 7.8125 69.390625 \r\nQ 13.765625 71.78125 18.9375 73 \r\nQ 24.125 74.21875 28.421875 74.21875 \r\nQ 39.75 74.21875 46.484375 68.546875 \r\nQ 53.21875 62.890625 53.21875 53.421875 \r\nQ 53.21875 48.921875 51.53125 44.890625 \r\nQ 49.859375 40.875 45.40625 35.40625 \r\nQ 44.1875 33.984375 37.640625 27.21875 \r\nQ 31.109375 20.453125 19.1875 8.296875 \r\nz\r\n\" id=\"DejaVuSans-50\"/>\r\n       </defs>\r\n       <use transform=\"translate(0 0.765625)\" xlink:href=\"#DejaVuSans-49\"/>\r\n       <use transform=\"translate(63.623047 0.765625)\" xlink:href=\"#DejaVuSans-48\"/>\r\n       <use transform=\"translate(128.203125 39.046875)scale(0.7)\" xlink:href=\"#DejaVuSans-8722\"/>\r\n       <use transform=\"translate(186.855469 39.046875)scale(0.7)\" xlink:href=\"#DejaVuSans-50\"/>\r\n      </g>\r\n     </g>\r\n    </g>\r\n    <g id=\"ytick_16\">\r\n     <g id=\"line2d_33\">\r\n      <g>\r\n       <use style=\"stroke:#000000;stroke-width:0.8;\" x=\"68.378125\" xlink:href=\"#mc11724c9a0\" y=\"232.654302\"/>\r\n      </g>\r\n     </g>\r\n     <g id=\"text_5\">\r\n      <!-- $\\mathdefault{10^{-1}}$ -->\r\n      <g transform=\"translate(37.878125 236.453521)scale(0.1 -0.1)\">\r\n       <use transform=\"translate(0 0.684375)\" xlink:href=\"#DejaVuSans-49\"/>\r\n       <use transform=\"translate(63.623047 0.684375)\" xlink:href=\"#DejaVuSans-48\"/>\r\n       <use transform=\"translate(128.203125 38.965625)scale(0.7)\" xlink:href=\"#DejaVuSans-8722\"/>\r\n       <use transform=\"translate(186.855469 38.965625)scale(0.7)\" xlink:href=\"#DejaVuSans-49\"/>\r\n      </g>\r\n     </g>\r\n    </g>\r\n    <g id=\"ytick_17\">\r\n     <g id=\"line2d_34\">\r\n      <g>\r\n       <use style=\"stroke:#000000;stroke-width:0.6;\" x=\"68.378125\" xlink:href=\"#mb443d6e47d\" y=\"318.599686\"/>\r\n      </g>\r\n     </g>\r\n    </g>\r\n    <g id=\"ytick_18\">\r\n     <g id=\"line2d_35\">\r\n      <g>\r\n       <use style=\"stroke:#000000;stroke-width:0.6;\" x=\"68.378125\" xlink:href=\"#mb443d6e47d\" y=\"309.6918\"/>\r\n      </g>\r\n     </g>\r\n    </g>\r\n    <g id=\"ytick_19\">\r\n     <g id=\"line2d_36\">\r\n      <g>\r\n       <use style=\"stroke:#000000;stroke-width:0.6;\" x=\"68.378125\" xlink:href=\"#mb443d6e47d\" y=\"303.371554\"/>\r\n      </g>\r\n     </g>\r\n    </g>\r\n    <g id=\"ytick_20\">\r\n     <g id=\"line2d_37\">\r\n      <g>\r\n       <use style=\"stroke:#000000;stroke-width:0.6;\" x=\"68.378125\" xlink:href=\"#mb443d6e47d\" y=\"298.469191\"/>\r\n      </g>\r\n     </g>\r\n    </g>\r\n    <g id=\"ytick_21\">\r\n     <g id=\"line2d_38\">\r\n      <g>\r\n       <use style=\"stroke:#000000;stroke-width:0.6;\" x=\"68.378125\" xlink:href=\"#mb443d6e47d\" y=\"294.463668\"/>\r\n      </g>\r\n     </g>\r\n    </g>\r\n    <g id=\"ytick_22\">\r\n     <g id=\"line2d_39\">\r\n      <g>\r\n       <use style=\"stroke:#000000;stroke-width:0.6;\" x=\"68.378125\" xlink:href=\"#mb443d6e47d\" y=\"291.077047\"/>\r\n      </g>\r\n     </g>\r\n    </g>\r\n    <g id=\"ytick_23\">\r\n     <g id=\"line2d_40\">\r\n      <g>\r\n       <use style=\"stroke:#000000;stroke-width:0.6;\" x=\"68.378125\" xlink:href=\"#mb443d6e47d\" y=\"288.143423\"/>\r\n      </g>\r\n     </g>\r\n    </g>\r\n    <g id=\"ytick_24\">\r\n     <g id=\"line2d_41\">\r\n      <g>\r\n       <use style=\"stroke:#000000;stroke-width:0.6;\" x=\"68.378125\" xlink:href=\"#mb443d6e47d\" y=\"285.555783\"/>\r\n      </g>\r\n     </g>\r\n    </g>\r\n    <g id=\"ytick_25\">\r\n     <g id=\"line2d_42\">\r\n      <g>\r\n       <use style=\"stroke:#000000;stroke-width:0.6;\" x=\"68.378125\" xlink:href=\"#mb443d6e47d\" y=\"268.012928\"/>\r\n      </g>\r\n     </g>\r\n    </g>\r\n    <g id=\"ytick_26\">\r\n     <g id=\"line2d_43\">\r\n      <g>\r\n       <use style=\"stroke:#000000;stroke-width:0.6;\" x=\"68.378125\" xlink:href=\"#mb443d6e47d\" y=\"259.105042\"/>\r\n      </g>\r\n     </g>\r\n    </g>\r\n    <g id=\"ytick_27\">\r\n     <g id=\"line2d_44\">\r\n      <g>\r\n       <use style=\"stroke:#000000;stroke-width:0.6;\" x=\"68.378125\" xlink:href=\"#mb443d6e47d\" y=\"252.784797\"/>\r\n      </g>\r\n     </g>\r\n    </g>\r\n    <g id=\"ytick_28\">\r\n     <g id=\"line2d_45\">\r\n      <g>\r\n       <use style=\"stroke:#000000;stroke-width:0.6;\" x=\"68.378125\" xlink:href=\"#mb443d6e47d\" y=\"247.882433\"/>\r\n      </g>\r\n     </g>\r\n    </g>\r\n    <g id=\"ytick_29\">\r\n     <g id=\"line2d_46\">\r\n      <g>\r\n       <use style=\"stroke:#000000;stroke-width:0.6;\" x=\"68.378125\" xlink:href=\"#mb443d6e47d\" y=\"243.876911\"/>\r\n      </g>\r\n     </g>\r\n    </g>\r\n    <g id=\"ytick_30\">\r\n     <g id=\"line2d_47\">\r\n      <g>\r\n       <use style=\"stroke:#000000;stroke-width:0.6;\" x=\"68.378125\" xlink:href=\"#mb443d6e47d\" y=\"240.49029\"/>\r\n      </g>\r\n     </g>\r\n    </g>\r\n    <g id=\"ytick_31\">\r\n     <g id=\"line2d_48\">\r\n      <g>\r\n       <use style=\"stroke:#000000;stroke-width:0.6;\" x=\"68.378125\" xlink:href=\"#mb443d6e47d\" y=\"237.556665\"/>\r\n      </g>\r\n     </g>\r\n    </g>\r\n    <g id=\"ytick_32\">\r\n     <g id=\"line2d_49\">\r\n      <g>\r\n       <use style=\"stroke:#000000;stroke-width:0.6;\" x=\"68.378125\" xlink:href=\"#mb443d6e47d\" y=\"234.969025\"/>\r\n      </g>\r\n     </g>\r\n    </g>\r\n    <g id=\"ytick_33\">\r\n     <g id=\"line2d_50\">\r\n      <g>\r\n       <use style=\"stroke:#000000;stroke-width:0.6;\" x=\"68.378125\" xlink:href=\"#mb443d6e47d\" y=\"217.426171\"/>\r\n      </g>\r\n     </g>\r\n    </g>\r\n    <g id=\"ytick_34\">\r\n     <g id=\"line2d_51\">\r\n      <g>\r\n       <use style=\"stroke:#000000;stroke-width:0.6;\" x=\"68.378125\" xlink:href=\"#mb443d6e47d\" y=\"208.518285\"/>\r\n      </g>\r\n     </g>\r\n    </g>\r\n    <g id=\"ytick_35\">\r\n     <g id=\"line2d_52\">\r\n      <g>\r\n       <use style=\"stroke:#000000;stroke-width:0.6;\" x=\"68.378125\" xlink:href=\"#mb443d6e47d\" y=\"202.198039\"/>\r\n      </g>\r\n     </g>\r\n    </g>\r\n    <g id=\"ytick_36\">\r\n     <g id=\"line2d_53\">\r\n      <g>\r\n       <use style=\"stroke:#000000;stroke-width:0.6;\" x=\"68.378125\" xlink:href=\"#mb443d6e47d\" y=\"197.295676\"/>\r\n      </g>\r\n     </g>\r\n    </g>\r\n    <g id=\"ytick_37\">\r\n     <g id=\"line2d_54\">\r\n      <g>\r\n       <use style=\"stroke:#000000;stroke-width:0.6;\" x=\"68.378125\" xlink:href=\"#mb443d6e47d\" y=\"193.290154\"/>\r\n      </g>\r\n     </g>\r\n    </g>\r\n    <g id=\"ytick_38\">\r\n     <g id=\"line2d_55\">\r\n      <g>\r\n       <use style=\"stroke:#000000;stroke-width:0.6;\" x=\"68.378125\" xlink:href=\"#mb443d6e47d\" y=\"189.903533\"/>\r\n      </g>\r\n     </g>\r\n    </g>\r\n    <g id=\"ytick_39\">\r\n     <g id=\"line2d_56\">\r\n      <g>\r\n       <use style=\"stroke:#000000;stroke-width:0.6;\" x=\"68.378125\" xlink:href=\"#mb443d6e47d\" y=\"186.969908\"/>\r\n      </g>\r\n     </g>\r\n    </g>\r\n    <g id=\"ytick_40\">\r\n     <g id=\"line2d_57\">\r\n      <g>\r\n       <use style=\"stroke:#000000;stroke-width:0.6;\" x=\"68.378125\" xlink:href=\"#mb443d6e47d\" y=\"184.382268\"/>\r\n      </g>\r\n     </g>\r\n    </g>\r\n    <g id=\"text_6\">\r\n     <!-- loss -->\r\n     <g style=\"fill:#d62728;\" transform=\"translate(31.798438 265.277031)rotate(-90)scale(0.1 -0.1)\">\r\n      <defs>\r\n       <path d=\"M 30.609375 48.390625 \r\nQ 23.390625 48.390625 19.1875 42.75 \r\nQ 14.984375 37.109375 14.984375 27.296875 \r\nQ 14.984375 17.484375 19.15625 11.84375 \r\nQ 23.34375 6.203125 30.609375 6.203125 \r\nQ 37.796875 6.203125 41.984375 11.859375 \r\nQ 46.1875 17.53125 46.1875 27.296875 \r\nQ 46.1875 37.015625 41.984375 42.703125 \r\nQ 37.796875 48.390625 30.609375 48.390625 \r\nz\r\nM 30.609375 56 \r\nQ 42.328125 56 49.015625 48.375 \r\nQ 55.71875 40.765625 55.71875 27.296875 \r\nQ 55.71875 13.875 49.015625 6.21875 \r\nQ 42.328125 -1.421875 30.609375 -1.421875 \r\nQ 18.84375 -1.421875 12.171875 6.21875 \r\nQ 5.515625 13.875 5.515625 27.296875 \r\nQ 5.515625 40.765625 12.171875 48.375 \r\nQ 18.84375 56 30.609375 56 \r\nz\r\n\" id=\"DejaVuSans-111\"/>\r\n       <path d=\"M 44.28125 53.078125 \r\nL 44.28125 44.578125 \r\nQ 40.484375 46.53125 36.375 47.5 \r\nQ 32.28125 48.484375 27.875 48.484375 \r\nQ 21.1875 48.484375 17.84375 46.4375 \r\nQ 14.5 44.390625 14.5 40.28125 \r\nQ 14.5 37.15625 16.890625 35.375 \r\nQ 19.28125 33.59375 26.515625 31.984375 \r\nL 29.59375 31.296875 \r\nQ 39.15625 29.25 43.1875 25.515625 \r\nQ 47.21875 21.78125 47.21875 15.09375 \r\nQ 47.21875 7.46875 41.1875 3.015625 \r\nQ 35.15625 -1.421875 24.609375 -1.421875 \r\nQ 20.21875 -1.421875 15.453125 -0.5625 \r\nQ 10.6875 0.296875 5.421875 2 \r\nL 5.421875 11.28125 \r\nQ 10.40625 8.6875 15.234375 7.390625 \r\nQ 20.0625 6.109375 24.8125 6.109375 \r\nQ 31.15625 6.109375 34.5625 8.28125 \r\nQ 37.984375 10.453125 37.984375 14.40625 \r\nQ 37.984375 18.0625 35.515625 20.015625 \r\nQ 33.0625 21.96875 24.703125 23.78125 \r\nL 21.578125 24.515625 \r\nQ 13.234375 26.265625 9.515625 29.90625 \r\nQ 5.8125 33.546875 5.8125 39.890625 \r\nQ 5.8125 47.609375 11.28125 51.796875 \r\nQ 16.75 56 26.8125 56 \r\nQ 31.78125 56 36.171875 55.265625 \r\nQ 40.578125 54.546875 44.28125 53.078125 \r\nz\r\n\" id=\"DejaVuSans-115\"/>\r\n      </defs>\r\n      <use xlink:href=\"#DejaVuSans-108\"/>\r\n      <use x=\"27.783203\" xlink:href=\"#DejaVuSans-111\"/>\r\n      <use x=\"88.964844\" xlink:href=\"#DejaVuSans-115\"/>\r\n      <use x=\"141.064453\" xlink:href=\"#DejaVuSans-115\"/>\r\n     </g>\r\n    </g>\r\n   </g>\r\n   <g id=\"line2d_58\">\r\n    <path clip-path=\"url(#p0be88781f4)\" d=\"M 68.378125 183.67216 \r\nL 68.378125 187.060739 \r\nL 75.141761 191.662423 \r\nL 81.905398 196.180692 \r\nL 88.669034 200.550318 \r\nL 95.43267 204.722978 \r\nL 102.196307 208.673408 \r\nL 108.959943 212.395763 \r\nL 115.72358 215.896976 \r\nL 122.487216 219.190781 \r\nL 129.250852 222.293468 \r\nL 136.014489 225.221731 \r\nL 142.778125 227.991252 \r\nL 149.541761 230.616482 \r\nL 156.305398 233.110236 \r\nL 163.069034 235.483989 \r\nL 169.83267 237.747893 \r\nL 176.596307 239.911037 \r\nL 183.359943 241.981377 \r\nL 190.12358 243.966113 \r\nL 196.887216 245.871633 \r\nL 203.650852 247.703724 \r\nL 210.414489 249.467693 \r\nL 217.178125 251.168026 \r\nL 223.941761 252.809035 \r\nL 230.705398 254.394457 \r\nL 237.469034 255.927892 \r\nL 244.23267 257.412462 \r\nL 250.996307 258.851107 \r\nL 257.759943 260.246471 \r\nL 264.52358 261.601021 \r\nL 271.287216 262.916826 \r\nL 278.050852 264.196272 \r\nL 284.814489 265.441121 \r\nL 291.578125 266.653219 \r\nL 298.341761 267.833954 \r\nL 305.105398 268.985163 \r\nL 311.869034 270.108079 \r\nL 318.63267 271.204065 \r\nL 325.396307 272.274297 \r\nL 332.159943 273.320112 \r\nL 338.92358 274.342438 \r\nL 345.687216 275.34224 \r\nL 352.450852 276.320513 \r\nL 359.214489 277.27824 \r\nL 365.978125 278.216118 \r\nL 372.741761 279.135028 \r\nL 379.505398 280.035806 \r\nL 386.269034 280.918957 \r\nL 393.03267 281.785075 \r\nL 399.796307 282.634987 \r\nL 406.559943 283.469312 \r\nL 413.32358 284.28841 \r\nL 420.087216 285.092799 \r\nL 426.850852 285.883383 \r\nL 433.614489 286.660208 \r\nL 440.378125 287.423645 \r\nL 447.141761 288.1747 \r\nL 453.905398 288.913337 \r\nL 460.669034 289.640101 \r\nL 467.43267 290.355108 \r\nL 474.196307 291.059013 \r\nL 480.959943 291.751969 \r\nL 487.72358 292.434591 \r\nL 494.487216 293.107009 \r\nL 501.250852 293.769553 \r\nL 508.014489 294.422434 \r\nL 514.778125 295.065846 \r\nL 521.541761 295.700266 \r\nL 528.305398 296.325742 \r\nL 535.069034 296.942457 \r\nL 541.83267 297.550754 \r\nL 548.596307 298.15136 \r\nL 555.359943 298.743859 \r\nL 562.12358 299.328201 \r\nL 568.887216 299.905428 \r\nL 575.650852 300.475237 \r\nL 582.414489 301.037901 \r\nL 589.178125 301.593469 \r\nL 595.941761 302.142311 \r\nL 602.705398 302.684531 \r\nL 609.469034 303.21999 \r\nL 616.23267 303.749159 \r\nL 622.996307 304.272501 \r\nL 629.759943 304.789532 \r\nL 636.52358 305.300595 \r\nL 643.287216 305.806028 \r\nL 650.050852 306.30566 \r\nL 656.814489 306.799864 \r\nL 663.578125 307.288519 \r\nL 670.341761 307.77215 \r\nL 677.105398 308.250359 \r\nL 683.869034 308.723335 \r\nL 690.63267 309.191581 \r\nL 697.396307 309.654956 \r\nL 704.159943 310.113589 \r\nL 710.92358 310.567514 \r\nL 717.687216 311.016919 \r\nL 724.450852 311.461603 \r\nL 731.214489 311.902016 \r\nL 737.978125 312.338146 \r\n\" style=\"fill:none;stroke:#ff0000;stroke-dasharray:5.55,2.4;stroke-dashoffset:0;stroke-width:1.5;\"/>\r\n   </g>\r\n   <g id=\"patch_8\">\r\n    <path d=\"M 68.378125 327.566278 \r\nL 68.378125 183.67216 \r\n\" style=\"fill:none;stroke:#000000;stroke-linecap:square;stroke-linejoin:miter;stroke-width:0.8;\"/>\r\n   </g>\r\n   <g id=\"patch_9\">\r\n    <path d=\"M 737.978125 327.566278 \r\nL 737.978125 183.67216 \r\n\" style=\"fill:none;stroke:#000000;stroke-linecap:square;stroke-linejoin:miter;stroke-width:0.8;\"/>\r\n   </g>\r\n   <g id=\"patch_10\">\r\n    <path d=\"M 68.378125 327.566278 \r\nL 737.978125 327.566278 \r\n\" style=\"fill:none;stroke:#000000;stroke-linecap:square;stroke-linejoin:miter;stroke-width:0.8;\"/>\r\n   </g>\r\n   <g id=\"patch_11\">\r\n    <path d=\"M 68.378125 183.67216 \r\nL 737.978125 183.67216 \r\n\" style=\"fill:none;stroke:#000000;stroke-linecap:square;stroke-linejoin:miter;stroke-width:0.8;\"/>\r\n   </g>\r\n  </g>\r\n  <g id=\"axes_3\">\r\n   <g id=\"patch_12\">\r\n    <path d=\"M 68.378125 500.239219 \r\nL 737.978125 500.239219 \r\nL 737.978125 356.345101 \r\nL 68.378125 356.345101 \r\nz\r\n\" style=\"fill:#ffffff;\"/>\r\n   </g>\r\n   <g id=\"matplotlib.axis_5\">\r\n    <g id=\"xtick_17\">\r\n     <g id=\"line2d_59\">\r\n      <g>\r\n       <use style=\"stroke:#000000;stroke-width:0.8;\" x=\"68.378125\" xlink:href=\"#m3860940ef9\" y=\"500.239219\"/>\r\n      </g>\r\n     </g>\r\n     <g id=\"text_7\">\r\n      <!-- 0 -->\r\n      <g transform=\"translate(65.196875 514.837656)scale(0.1 -0.1)\">\r\n       <use xlink:href=\"#DejaVuSans-48\"/>\r\n      </g>\r\n     </g>\r\n    </g>\r\n    <g id=\"xtick_18\">\r\n     <g id=\"line2d_60\">\r\n      <g>\r\n       <use style=\"stroke:#000000;stroke-width:0.8;\" x=\"152.92358\" xlink:href=\"#m3860940ef9\" y=\"500.239219\"/>\r\n      </g>\r\n     </g>\r\n     <g id=\"text_8\">\r\n      <!-- 100 -->\r\n      <g transform=\"translate(143.37983 514.837656)scale(0.1 -0.1)\">\r\n       <use xlink:href=\"#DejaVuSans-49\"/>\r\n       <use x=\"63.623047\" xlink:href=\"#DejaVuSans-48\"/>\r\n       <use x=\"127.246094\" xlink:href=\"#DejaVuSans-48\"/>\r\n      </g>\r\n     </g>\r\n    </g>\r\n    <g id=\"xtick_19\">\r\n     <g id=\"line2d_61\">\r\n      <g>\r\n       <use style=\"stroke:#000000;stroke-width:0.8;\" x=\"237.469034\" xlink:href=\"#m3860940ef9\" y=\"500.239219\"/>\r\n      </g>\r\n     </g>\r\n     <g id=\"text_9\">\r\n      <!-- 200 -->\r\n      <g transform=\"translate(227.925284 514.837656)scale(0.1 -0.1)\">\r\n       <use xlink:href=\"#DejaVuSans-50\"/>\r\n       <use x=\"63.623047\" xlink:href=\"#DejaVuSans-48\"/>\r\n       <use x=\"127.246094\" xlink:href=\"#DejaVuSans-48\"/>\r\n      </g>\r\n     </g>\r\n    </g>\r\n    <g id=\"xtick_20\">\r\n     <g id=\"line2d_62\">\r\n      <g>\r\n       <use style=\"stroke:#000000;stroke-width:0.8;\" x=\"322.014489\" xlink:href=\"#m3860940ef9\" y=\"500.239219\"/>\r\n      </g>\r\n     </g>\r\n     <g id=\"text_10\">\r\n      <!-- 300 -->\r\n      <g transform=\"translate(312.470739 514.837656)scale(0.1 -0.1)\">\r\n       <defs>\r\n        <path d=\"M 40.578125 39.3125 \r\nQ 47.65625 37.796875 51.625 33 \r\nQ 55.609375 28.21875 55.609375 21.1875 \r\nQ 55.609375 10.40625 48.1875 4.484375 \r\nQ 40.765625 -1.421875 27.09375 -1.421875 \r\nQ 22.515625 -1.421875 17.65625 -0.515625 \r\nQ 12.796875 0.390625 7.625 2.203125 \r\nL 7.625 11.71875 \r\nQ 11.71875 9.328125 16.59375 8.109375 \r\nQ 21.484375 6.890625 26.8125 6.890625 \r\nQ 36.078125 6.890625 40.9375 10.546875 \r\nQ 45.796875 14.203125 45.796875 21.1875 \r\nQ 45.796875 27.640625 41.28125 31.265625 \r\nQ 36.765625 34.90625 28.71875 34.90625 \r\nL 20.21875 34.90625 \r\nL 20.21875 43.015625 \r\nL 29.109375 43.015625 \r\nQ 36.375 43.015625 40.234375 45.921875 \r\nQ 44.09375 48.828125 44.09375 54.296875 \r\nQ 44.09375 59.90625 40.109375 62.90625 \r\nQ 36.140625 65.921875 28.71875 65.921875 \r\nQ 24.65625 65.921875 20.015625 65.03125 \r\nQ 15.375 64.15625 9.8125 62.3125 \r\nL 9.8125 71.09375 \r\nQ 15.4375 72.65625 20.34375 73.4375 \r\nQ 25.25 74.21875 29.59375 74.21875 \r\nQ 40.828125 74.21875 47.359375 69.109375 \r\nQ 53.90625 64.015625 53.90625 55.328125 \r\nQ 53.90625 49.265625 50.4375 45.09375 \r\nQ 46.96875 40.921875 40.578125 39.3125 \r\nz\r\n\" id=\"DejaVuSans-51\"/>\r\n       </defs>\r\n       <use xlink:href=\"#DejaVuSans-51\"/>\r\n       <use x=\"63.623047\" xlink:href=\"#DejaVuSans-48\"/>\r\n       <use x=\"127.246094\" xlink:href=\"#DejaVuSans-48\"/>\r\n      </g>\r\n     </g>\r\n    </g>\r\n    <g id=\"xtick_21\">\r\n     <g id=\"line2d_63\">\r\n      <g>\r\n       <use style=\"stroke:#000000;stroke-width:0.8;\" x=\"406.559943\" xlink:href=\"#m3860940ef9\" y=\"500.239219\"/>\r\n      </g>\r\n     </g>\r\n     <g id=\"text_11\">\r\n      <!-- 400 -->\r\n      <g transform=\"translate(397.016193 514.837656)scale(0.1 -0.1)\">\r\n       <defs>\r\n        <path d=\"M 37.796875 64.3125 \r\nL 12.890625 25.390625 \r\nL 37.796875 25.390625 \r\nz\r\nM 35.203125 72.90625 \r\nL 47.609375 72.90625 \r\nL 47.609375 25.390625 \r\nL 58.015625 25.390625 \r\nL 58.015625 17.1875 \r\nL 47.609375 17.1875 \r\nL 47.609375 0 \r\nL 37.796875 0 \r\nL 37.796875 17.1875 \r\nL 4.890625 17.1875 \r\nL 4.890625 26.703125 \r\nz\r\n\" id=\"DejaVuSans-52\"/>\r\n       </defs>\r\n       <use xlink:href=\"#DejaVuSans-52\"/>\r\n       <use x=\"63.623047\" xlink:href=\"#DejaVuSans-48\"/>\r\n       <use x=\"127.246094\" xlink:href=\"#DejaVuSans-48\"/>\r\n      </g>\r\n     </g>\r\n    </g>\r\n    <g id=\"xtick_22\">\r\n     <g id=\"line2d_64\">\r\n      <g>\r\n       <use style=\"stroke:#000000;stroke-width:0.8;\" x=\"491.105398\" xlink:href=\"#m3860940ef9\" y=\"500.239219\"/>\r\n      </g>\r\n     </g>\r\n     <g id=\"text_12\">\r\n      <!-- 500 -->\r\n      <g transform=\"translate(481.561648 514.837656)scale(0.1 -0.1)\">\r\n       <defs>\r\n        <path d=\"M 10.796875 72.90625 \r\nL 49.515625 72.90625 \r\nL 49.515625 64.59375 \r\nL 19.828125 64.59375 \r\nL 19.828125 46.734375 \r\nQ 21.96875 47.46875 24.109375 47.828125 \r\nQ 26.265625 48.1875 28.421875 48.1875 \r\nQ 40.625 48.1875 47.75 41.5 \r\nQ 54.890625 34.8125 54.890625 23.390625 \r\nQ 54.890625 11.625 47.5625 5.09375 \r\nQ 40.234375 -1.421875 26.90625 -1.421875 \r\nQ 22.3125 -1.421875 17.546875 -0.640625 \r\nQ 12.796875 0.140625 7.71875 1.703125 \r\nL 7.71875 11.625 \r\nQ 12.109375 9.234375 16.796875 8.0625 \r\nQ 21.484375 6.890625 26.703125 6.890625 \r\nQ 35.15625 6.890625 40.078125 11.328125 \r\nQ 45.015625 15.765625 45.015625 23.390625 \r\nQ 45.015625 31 40.078125 35.4375 \r\nQ 35.15625 39.890625 26.703125 39.890625 \r\nQ 22.75 39.890625 18.8125 39.015625 \r\nQ 14.890625 38.140625 10.796875 36.28125 \r\nz\r\n\" id=\"DejaVuSans-53\"/>\r\n       </defs>\r\n       <use xlink:href=\"#DejaVuSans-53\"/>\r\n       <use x=\"63.623047\" xlink:href=\"#DejaVuSans-48\"/>\r\n       <use x=\"127.246094\" xlink:href=\"#DejaVuSans-48\"/>\r\n      </g>\r\n     </g>\r\n    </g>\r\n    <g id=\"xtick_23\">\r\n     <g id=\"line2d_65\">\r\n      <g>\r\n       <use style=\"stroke:#000000;stroke-width:0.8;\" x=\"575.650852\" xlink:href=\"#m3860940ef9\" y=\"500.239219\"/>\r\n      </g>\r\n     </g>\r\n     <g id=\"text_13\">\r\n      <!-- 600 -->\r\n      <g transform=\"translate(566.107102 514.837656)scale(0.1 -0.1)\">\r\n       <defs>\r\n        <path d=\"M 33.015625 40.375 \r\nQ 26.375 40.375 22.484375 35.828125 \r\nQ 18.609375 31.296875 18.609375 23.390625 \r\nQ 18.609375 15.53125 22.484375 10.953125 \r\nQ 26.375 6.390625 33.015625 6.390625 \r\nQ 39.65625 6.390625 43.53125 10.953125 \r\nQ 47.40625 15.53125 47.40625 23.390625 \r\nQ 47.40625 31.296875 43.53125 35.828125 \r\nQ 39.65625 40.375 33.015625 40.375 \r\nz\r\nM 52.59375 71.296875 \r\nL 52.59375 62.3125 \r\nQ 48.875 64.0625 45.09375 64.984375 \r\nQ 41.3125 65.921875 37.59375 65.921875 \r\nQ 27.828125 65.921875 22.671875 59.328125 \r\nQ 17.53125 52.734375 16.796875 39.40625 \r\nQ 19.671875 43.65625 24.015625 45.921875 \r\nQ 28.375 48.1875 33.59375 48.1875 \r\nQ 44.578125 48.1875 50.953125 41.515625 \r\nQ 57.328125 34.859375 57.328125 23.390625 \r\nQ 57.328125 12.15625 50.6875 5.359375 \r\nQ 44.046875 -1.421875 33.015625 -1.421875 \r\nQ 20.359375 -1.421875 13.671875 8.265625 \r\nQ 6.984375 17.96875 6.984375 36.375 \r\nQ 6.984375 53.65625 15.1875 63.9375 \r\nQ 23.390625 74.21875 37.203125 74.21875 \r\nQ 40.921875 74.21875 44.703125 73.484375 \r\nQ 48.484375 72.75 52.59375 71.296875 \r\nz\r\n\" id=\"DejaVuSans-54\"/>\r\n       </defs>\r\n       <use xlink:href=\"#DejaVuSans-54\"/>\r\n       <use x=\"63.623047\" xlink:href=\"#DejaVuSans-48\"/>\r\n       <use x=\"127.246094\" xlink:href=\"#DejaVuSans-48\"/>\r\n      </g>\r\n     </g>\r\n    </g>\r\n    <g id=\"xtick_24\">\r\n     <g id=\"line2d_66\">\r\n      <g>\r\n       <use style=\"stroke:#000000;stroke-width:0.8;\" x=\"660.196307\" xlink:href=\"#m3860940ef9\" y=\"500.239219\"/>\r\n      </g>\r\n     </g>\r\n     <g id=\"text_14\">\r\n      <!-- 700 -->\r\n      <g transform=\"translate(650.652557 514.837656)scale(0.1 -0.1)\">\r\n       <defs>\r\n        <path d=\"M 8.203125 72.90625 \r\nL 55.078125 72.90625 \r\nL 55.078125 68.703125 \r\nL 28.609375 0 \r\nL 18.3125 0 \r\nL 43.21875 64.59375 \r\nL 8.203125 64.59375 \r\nz\r\n\" id=\"DejaVuSans-55\"/>\r\n       </defs>\r\n       <use xlink:href=\"#DejaVuSans-55\"/>\r\n       <use x=\"63.623047\" xlink:href=\"#DejaVuSans-48\"/>\r\n       <use x=\"127.246094\" xlink:href=\"#DejaVuSans-48\"/>\r\n      </g>\r\n     </g>\r\n    </g>\r\n    <g id=\"text_15\">\r\n     <!-- epoch -->\r\n     <g transform=\"translate(387.95 528.515781)scale(0.1 -0.1)\">\r\n      <defs>\r\n       <path d=\"M 18.109375 8.203125 \r\nL 18.109375 -20.796875 \r\nL 9.078125 -20.796875 \r\nL 9.078125 54.6875 \r\nL 18.109375 54.6875 \r\nL 18.109375 46.390625 \r\nQ 20.953125 51.265625 25.265625 53.625 \r\nQ 29.59375 56 35.59375 56 \r\nQ 45.5625 56 51.78125 48.09375 \r\nQ 58.015625 40.1875 58.015625 27.296875 \r\nQ 58.015625 14.40625 51.78125 6.484375 \r\nQ 45.5625 -1.421875 35.59375 -1.421875 \r\nQ 29.59375 -1.421875 25.265625 0.953125 \r\nQ 20.953125 3.328125 18.109375 8.203125 \r\nz\r\nM 48.6875 27.296875 \r\nQ 48.6875 37.203125 44.609375 42.84375 \r\nQ 40.53125 48.484375 33.40625 48.484375 \r\nQ 26.265625 48.484375 22.1875 42.84375 \r\nQ 18.109375 37.203125 18.109375 27.296875 \r\nQ 18.109375 17.390625 22.1875 11.75 \r\nQ 26.265625 6.109375 33.40625 6.109375 \r\nQ 40.53125 6.109375 44.609375 11.75 \r\nQ 48.6875 17.390625 48.6875 27.296875 \r\nz\r\n\" id=\"DejaVuSans-112\"/>\r\n       <path d=\"M 48.78125 52.59375 \r\nL 48.78125 44.1875 \r\nQ 44.96875 46.296875 41.140625 47.34375 \r\nQ 37.3125 48.390625 33.40625 48.390625 \r\nQ 24.65625 48.390625 19.8125 42.84375 \r\nQ 14.984375 37.3125 14.984375 27.296875 \r\nQ 14.984375 17.28125 19.8125 11.734375 \r\nQ 24.65625 6.203125 33.40625 6.203125 \r\nQ 37.3125 6.203125 41.140625 7.25 \r\nQ 44.96875 8.296875 48.78125 10.40625 \r\nL 48.78125 2.09375 \r\nQ 45.015625 0.34375 40.984375 -0.53125 \r\nQ 36.96875 -1.421875 32.421875 -1.421875 \r\nQ 20.0625 -1.421875 12.78125 6.34375 \r\nQ 5.515625 14.109375 5.515625 27.296875 \r\nQ 5.515625 40.671875 12.859375 48.328125 \r\nQ 20.21875 56 33.015625 56 \r\nQ 37.15625 56 41.109375 55.140625 \r\nQ 45.0625 54.296875 48.78125 52.59375 \r\nz\r\n\" id=\"DejaVuSans-99\"/>\r\n       <path d=\"M 54.890625 33.015625 \r\nL 54.890625 0 \r\nL 45.90625 0 \r\nL 45.90625 32.71875 \r\nQ 45.90625 40.484375 42.875 44.328125 \r\nQ 39.84375 48.1875 33.796875 48.1875 \r\nQ 26.515625 48.1875 22.3125 43.546875 \r\nQ 18.109375 38.921875 18.109375 30.90625 \r\nL 18.109375 0 \r\nL 9.078125 0 \r\nL 9.078125 75.984375 \r\nL 18.109375 75.984375 \r\nL 18.109375 46.1875 \r\nQ 21.34375 51.125 25.703125 53.5625 \r\nQ 30.078125 56 35.796875 56 \r\nQ 45.21875 56 50.046875 50.171875 \r\nQ 54.890625 44.34375 54.890625 33.015625 \r\nz\r\n\" id=\"DejaVuSans-104\"/>\r\n      </defs>\r\n      <use xlink:href=\"#DejaVuSans-101\"/>\r\n      <use x=\"61.523438\" xlink:href=\"#DejaVuSans-112\"/>\r\n      <use x=\"125\" xlink:href=\"#DejaVuSans-111\"/>\r\n      <use x=\"186.181641\" xlink:href=\"#DejaVuSans-99\"/>\r\n      <use x=\"241.162109\" xlink:href=\"#DejaVuSans-104\"/>\r\n     </g>\r\n    </g>\r\n   </g>\r\n   <g id=\"matplotlib.axis_6\">\r\n    <g id=\"ytick_41\">\r\n     <g id=\"line2d_67\">\r\n      <g>\r\n       <use style=\"stroke:#000000;stroke-width:0.8;\" x=\"68.378125\" xlink:href=\"#mc11724c9a0\" y=\"384.372696\"/>\r\n      </g>\r\n     </g>\r\n     <g id=\"text_16\">\r\n      <!-- $\\mathdefault{10^{0}}$ -->\r\n      <g transform=\"translate(43.778125 388.171915)scale(0.1 -0.1)\">\r\n       <use transform=\"translate(0 0.765625)\" xlink:href=\"#DejaVuSans-49\"/>\r\n       <use transform=\"translate(63.623047 0.765625)\" xlink:href=\"#DejaVuSans-48\"/>\r\n       <use transform=\"translate(128.203125 39.046875)scale(0.7)\" xlink:href=\"#DejaVuSans-48\"/>\r\n      </g>\r\n     </g>\r\n    </g>\r\n    <g id=\"ytick_42\">\r\n     <g id=\"line2d_68\">\r\n      <g>\r\n       <use style=\"stroke:#000000;stroke-width:0.6;\" x=\"68.378125\" xlink:href=\"#mb443d6e47d\" y=\"500.239219\"/>\r\n      </g>\r\n     </g>\r\n     <g id=\"text_17\">\r\n      <!-- $\\mathdefault{8\\times10^{-1}}$ -->\r\n      <g transform=\"translate(20.878125 504.038438)scale(0.1 -0.1)\">\r\n       <defs>\r\n        <path d=\"M 31.78125 34.625 \r\nQ 24.75 34.625 20.71875 30.859375 \r\nQ 16.703125 27.09375 16.703125 20.515625 \r\nQ 16.703125 13.921875 20.71875 10.15625 \r\nQ 24.75 6.390625 31.78125 6.390625 \r\nQ 38.8125 6.390625 42.859375 10.171875 \r\nQ 46.921875 13.96875 46.921875 20.515625 \r\nQ 46.921875 27.09375 42.890625 30.859375 \r\nQ 38.875 34.625 31.78125 34.625 \r\nz\r\nM 21.921875 38.8125 \r\nQ 15.578125 40.375 12.03125 44.71875 \r\nQ 8.5 49.078125 8.5 55.328125 \r\nQ 8.5 64.0625 14.71875 69.140625 \r\nQ 20.953125 74.21875 31.78125 74.21875 \r\nQ 42.671875 74.21875 48.875 69.140625 \r\nQ 55.078125 64.0625 55.078125 55.328125 \r\nQ 55.078125 49.078125 51.53125 44.71875 \r\nQ 48 40.375 41.703125 38.8125 \r\nQ 48.828125 37.15625 52.796875 32.3125 \r\nQ 56.78125 27.484375 56.78125 20.515625 \r\nQ 56.78125 9.90625 50.3125 4.234375 \r\nQ 43.84375 -1.421875 31.78125 -1.421875 \r\nQ 19.734375 -1.421875 13.25 4.234375 \r\nQ 6.78125 9.90625 6.78125 20.515625 \r\nQ 6.78125 27.484375 10.78125 32.3125 \r\nQ 14.796875 37.15625 21.921875 38.8125 \r\nz\r\nM 18.3125 54.390625 \r\nQ 18.3125 48.734375 21.84375 45.5625 \r\nQ 25.390625 42.390625 31.78125 42.390625 \r\nQ 38.140625 42.390625 41.71875 45.5625 \r\nQ 45.3125 48.734375 45.3125 54.390625 \r\nQ 45.3125 60.0625 41.71875 63.234375 \r\nQ 38.140625 66.40625 31.78125 66.40625 \r\nQ 25.390625 66.40625 21.84375 63.234375 \r\nQ 18.3125 60.0625 18.3125 54.390625 \r\nz\r\n\" id=\"DejaVuSans-56\"/>\r\n        <path d=\"M 70.125 53.71875 \r\nL 47.796875 31.296875 \r\nL 70.125 8.984375 \r\nL 64.3125 3.078125 \r\nL 41.890625 25.484375 \r\nL 19.484375 3.078125 \r\nL 13.71875 8.984375 \r\nL 35.984375 31.296875 \r\nL 13.71875 53.71875 \r\nL 19.484375 59.625 \r\nL 41.890625 37.203125 \r\nL 64.3125 59.625 \r\nz\r\n\" id=\"DejaVuSans-215\"/>\r\n       </defs>\r\n       <use transform=\"translate(0 0.684375)\" xlink:href=\"#DejaVuSans-56\"/>\r\n       <use transform=\"translate(83.105469 0.684375)\" xlink:href=\"#DejaVuSans-215\"/>\r\n       <use transform=\"translate(186.376953 0.684375)\" xlink:href=\"#DejaVuSans-49\"/>\r\n       <use transform=\"translate(250 0.684375)\" xlink:href=\"#DejaVuSans-48\"/>\r\n       <use transform=\"translate(314.580078 38.965625)scale(0.7)\" xlink:href=\"#DejaVuSans-8722\"/>\r\n       <use transform=\"translate(373.232422 38.965625)scale(0.7)\" xlink:href=\"#DejaVuSans-49\"/>\r\n      </g>\r\n     </g>\r\n    </g>\r\n    <g id=\"ytick_43\">\r\n     <g id=\"line2d_69\">\r\n      <g>\r\n       <use style=\"stroke:#000000;stroke-width:0.6;\" x=\"68.378125\" xlink:href=\"#mb443d6e47d\" y=\"439.080782\"/>\r\n      </g>\r\n     </g>\r\n     <g id=\"text_18\">\r\n      <!-- $\\mathdefault{9\\times10^{-1}}$ -->\r\n      <g transform=\"translate(20.878125 442.880001)scale(0.1 -0.1)\">\r\n       <defs>\r\n        <path d=\"M 10.984375 1.515625 \r\nL 10.984375 10.5 \r\nQ 14.703125 8.734375 18.5 7.8125 \r\nQ 22.3125 6.890625 25.984375 6.890625 \r\nQ 35.75 6.890625 40.890625 13.453125 \r\nQ 46.046875 20.015625 46.78125 33.40625 \r\nQ 43.953125 29.203125 39.59375 26.953125 \r\nQ 35.25 24.703125 29.984375 24.703125 \r\nQ 19.046875 24.703125 12.671875 31.3125 \r\nQ 6.296875 37.9375 6.296875 49.421875 \r\nQ 6.296875 60.640625 12.9375 67.421875 \r\nQ 19.578125 74.21875 30.609375 74.21875 \r\nQ 43.265625 74.21875 49.921875 64.515625 \r\nQ 56.59375 54.828125 56.59375 36.375 \r\nQ 56.59375 19.140625 48.40625 8.859375 \r\nQ 40.234375 -1.421875 26.421875 -1.421875 \r\nQ 22.703125 -1.421875 18.890625 -0.6875 \r\nQ 15.09375 0.046875 10.984375 1.515625 \r\nz\r\nM 30.609375 32.421875 \r\nQ 37.25 32.421875 41.125 36.953125 \r\nQ 45.015625 41.5 45.015625 49.421875 \r\nQ 45.015625 57.28125 41.125 61.84375 \r\nQ 37.25 66.40625 30.609375 66.40625 \r\nQ 23.96875 66.40625 20.09375 61.84375 \r\nQ 16.21875 57.28125 16.21875 49.421875 \r\nQ 16.21875 41.5 20.09375 36.953125 \r\nQ 23.96875 32.421875 30.609375 32.421875 \r\nz\r\n\" id=\"DejaVuSans-57\"/>\r\n       </defs>\r\n       <use transform=\"translate(0 0.684375)\" xlink:href=\"#DejaVuSans-57\"/>\r\n       <use transform=\"translate(83.105469 0.684375)\" xlink:href=\"#DejaVuSans-215\"/>\r\n       <use transform=\"translate(186.376953 0.684375)\" xlink:href=\"#DejaVuSans-49\"/>\r\n       <use transform=\"translate(250 0.684375)\" xlink:href=\"#DejaVuSans-48\"/>\r\n       <use transform=\"translate(314.580078 38.965625)scale(0.7)\" xlink:href=\"#DejaVuSans-8722\"/>\r\n       <use transform=\"translate(373.232422 38.965625)scale(0.7)\" xlink:href=\"#DejaVuSans-49\"/>\r\n      </g>\r\n     </g>\r\n    </g>\r\n    <g id=\"text_19\">\r\n     <!-- norm -->\r\n     <g style=\"fill:#ff7f0e;\" transform=\"translate(14.798438 441.358566)rotate(-90)scale(0.1 -0.1)\">\r\n      <defs>\r\n       <path d=\"M 41.109375 46.296875 \r\nQ 39.59375 47.171875 37.8125 47.578125 \r\nQ 36.03125 48 33.890625 48 \r\nQ 26.265625 48 22.1875 43.046875 \r\nQ 18.109375 38.09375 18.109375 28.8125 \r\nL 18.109375 0 \r\nL 9.078125 0 \r\nL 9.078125 54.6875 \r\nL 18.109375 54.6875 \r\nL 18.109375 46.1875 \r\nQ 20.953125 51.171875 25.484375 53.578125 \r\nQ 30.03125 56 36.53125 56 \r\nQ 37.453125 56 38.578125 55.875 \r\nQ 39.703125 55.765625 41.0625 55.515625 \r\nz\r\n\" id=\"DejaVuSans-114\"/>\r\n       <path d=\"M 52 44.1875 \r\nQ 55.375 50.25 60.0625 53.125 \r\nQ 64.75 56 71.09375 56 \r\nQ 79.640625 56 84.28125 50.015625 \r\nQ 88.921875 44.046875 88.921875 33.015625 \r\nL 88.921875 0 \r\nL 79.890625 0 \r\nL 79.890625 32.71875 \r\nQ 79.890625 40.578125 77.09375 44.375 \r\nQ 74.3125 48.1875 68.609375 48.1875 \r\nQ 61.625 48.1875 57.5625 43.546875 \r\nQ 53.515625 38.921875 53.515625 30.90625 \r\nL 53.515625 0 \r\nL 44.484375 0 \r\nL 44.484375 32.71875 \r\nQ 44.484375 40.625 41.703125 44.40625 \r\nQ 38.921875 48.1875 33.109375 48.1875 \r\nQ 26.21875 48.1875 22.15625 43.53125 \r\nQ 18.109375 38.875 18.109375 30.90625 \r\nL 18.109375 0 \r\nL 9.078125 0 \r\nL 9.078125 54.6875 \r\nL 18.109375 54.6875 \r\nL 18.109375 46.1875 \r\nQ 21.1875 51.21875 25.484375 53.609375 \r\nQ 29.78125 56 35.6875 56 \r\nQ 41.65625 56 45.828125 52.96875 \r\nQ 50 49.953125 52 44.1875 \r\nz\r\n\" id=\"DejaVuSans-109\"/>\r\n      </defs>\r\n      <use xlink:href=\"#DejaVuSans-110\"/>\r\n      <use x=\"63.378906\" xlink:href=\"#DejaVuSans-111\"/>\r\n      <use x=\"124.560547\" xlink:href=\"#DejaVuSans-114\"/>\r\n      <use x=\"163.923828\" xlink:href=\"#DejaVuSans-109\"/>\r\n     </g>\r\n    </g>\r\n   </g>\r\n   <g id=\"line2d_70\">\r\n    <path clip-path=\"url(#p050eaeff17)\" d=\"M 68.378125 384.372696 \r\nL 68.378125 380.343792 \r\nL 75.141761 375.094442 \r\nL 81.905398 369.453943 \r\nL 88.669034 364.651828 \r\nL 95.43267 361.076848 \r\nL 102.196307 358.683542 \r\nL 108.959943 357.255178 \r\nL 115.72358 356.546574 \r\nL 122.487216 356.345101 \r\nL 129.250852 356.488025 \r\nL 136.014489 356.856356 \r\nL 142.778125 357.3682 \r\nL 149.541761 357.966225 \r\nL 156.305398 358.612795 \r\nL 163.069034 359.282192 \r\nL 169.83267 359.957264 \r\nL 176.596307 360.626582 \r\nL 183.359943 361.283132 \r\nL 190.12358 361.922101 \r\nL 196.887216 362.540821 \r\nL 203.650852 363.137519 \r\nL 210.414489 363.710981 \r\nL 217.178125 364.261853 \r\nL 223.941761 364.790101 \r\nL 230.705398 365.296592 \r\nL 237.469034 365.781629 \r\nL 244.23267 366.246302 \r\nL 250.996307 366.69125 \r\nL 257.759943 367.117443 \r\nL 264.52358 367.525802 \r\nL 271.287216 367.917635 \r\nL 278.050852 368.292897 \r\nL 284.814489 368.652942 \r\nL 291.578125 368.998288 \r\nL 298.341761 369.330338 \r\nL 305.105398 369.649039 \r\nL 311.869034 369.955483 \r\nL 318.63267 370.250213 \r\nL 325.396307 370.533981 \r\nL 332.159943 370.806955 \r\nL 338.92358 371.069985 \r\nL 345.687216 371.323627 \r\nL 352.450852 371.568237 \r\nL 359.214489 371.804202 \r\nL 365.978125 372.032059 \r\nL 372.741761 372.252052 \r\nL 379.505398 372.464456 \r\nL 386.269034 372.669934 \r\nL 393.03267 372.868884 \r\nL 399.796307 373.061319 \r\nL 406.559943 373.247492 \r\nL 413.32358 373.427983 \r\nL 420.087216 373.603076 \r\nL 426.850852 373.772405 \r\nL 433.614489 373.93679 \r\nL 440.378125 374.096669 \r\nL 447.141761 374.251347 \r\nL 453.905398 374.40174 \r\nL 460.669034 374.54769 \r\nL 467.43267 374.689905 \r\nL 474.196307 374.828022 \r\nL 480.959943 374.962452 \r\nL 487.72358 375.093009 \r\nL 494.487216 375.220017 \r\nL 501.250852 375.343619 \r\nL 508.014489 375.464021 \r\nL 514.778125 375.581456 \r\nL 521.541761 375.695772 \r\nL 528.305398 375.807294 \r\nL 535.069034 375.916257 \r\nL 541.83267 376.022598 \r\nL 548.596307 376.125775 \r\nL 555.359943 376.226684 \r\nL 562.12358 376.325681 \r\nL 568.887216 376.421835 \r\nL 575.650852 376.515862 \r\nL 582.414489 376.607761 \r\nL 589.178125 376.697589 \r\nL 595.941761 376.785314 \r\nL 602.705398 376.871084 \r\nL 609.469034 376.955228 \r\nL 616.23267 377.037473 \r\nL 622.996307 377.117518 \r\nL 629.759943 377.196202 \r\nL 636.52358 377.273164 \r\nL 643.287216 377.348461 \r\nL 650.050852 377.422334 \r\nL 656.814489 377.494541 \r\nL 663.578125 377.56541 \r\nL 670.341761 377.63461 \r\nL 677.105398 377.702653 \r\nL 683.869034 377.769506 \r\nL 690.63267 377.834867 \r\nL 697.396307 377.898887 \r\nL 704.159943 377.961714 \r\nL 710.92358 378.023318 \r\nL 717.687216 378.083759 \r\nL 724.450852 378.143307 \r\nL 731.214489 378.20157 \r\nL 737.978125 378.258788 \r\n\" style=\"fill:none;stroke:#ffa500;stroke-linecap:square;stroke-width:1.5;\"/>\r\n   </g>\r\n   <g id=\"patch_13\">\r\n    <path d=\"M 68.378125 500.239219 \r\nL 68.378125 356.345101 \r\n\" style=\"fill:none;stroke:#000000;stroke-linecap:square;stroke-linejoin:miter;stroke-width:0.8;\"/>\r\n   </g>\r\n   <g id=\"patch_14\">\r\n    <path d=\"M 737.978125 500.239219 \r\nL 737.978125 356.345101 \r\n\" style=\"fill:none;stroke:#000000;stroke-linecap:square;stroke-linejoin:miter;stroke-width:0.8;\"/>\r\n   </g>\r\n   <g id=\"patch_15\">\r\n    <path d=\"M 68.378125 500.239219 \r\nL 737.978125 500.239219 \r\n\" style=\"fill:none;stroke:#000000;stroke-linecap:square;stroke-linejoin:miter;stroke-width:0.8;\"/>\r\n   </g>\r\n   <g id=\"patch_16\">\r\n    <path d=\"M 68.378125 356.345101 \r\nL 737.978125 356.345101 \r\n\" style=\"fill:none;stroke:#000000;stroke-linecap:square;stroke-linejoin:miter;stroke-width:0.8;\"/>\r\n   </g>\r\n  </g>\r\n </g>\r\n <defs>\r\n  <clipPath id=\"pd5ab15d606\">\r\n   <rect height=\"143.894118\" width=\"669.6\" x=\"68.378125\" y=\"10.999219\"/>\r\n  </clipPath>\r\n  <clipPath id=\"p0be88781f4\">\r\n   <rect height=\"143.894118\" width=\"669.6\" x=\"68.378125\" y=\"183.67216\"/>\r\n  </clipPath>\r\n  <clipPath id=\"p050eaeff17\">\r\n   <rect height=\"143.894118\" width=\"669.6\" x=\"68.378125\" y=\"356.345101\"/>\r\n  </clipPath>\r\n </defs>\r\n</svg>\r\n",
      "text/plain": [
       "<Figure size 864x648 with 3 Axes>"
      ]
     },
     "metadata": {
      "needs_background": "light"
     },
     "output_type": "display_data"
    }
   ],
   "source": [
    "max_it = 100\n",
    "alpha = 1\n",
    "l_rate = 0.05\n",
    "\n",
    "psi = psi_orig.copy(deep=True)\n",
    "fid = psi_ref.H & psi ^ all\n",
    "nrm = psi.norm()\n",
    "\n",
    "fig = plt.figure(figsize=(12,9))\n",
    "[ax1, ax2, ax3] = fig.subplots(3,1, sharex=True)\n",
    "ax3.set_xlabel(\"epoch\")\n",
    "\n",
    "ax1.set_ylabel(\"infidelity\", color=\"tab:blue\")\n",
    "ax1.set_ylim(0, 1)\n",
    "plot1, = ax1.semilogy([0], 1-fid, color=\"blue\")\n",
    "\n",
    "ax2.set_ylabel(\"loss\", color=\"tab:red\")\n",
    "ax2.set_ylim(0, 1)\n",
    "plot2, = ax2.semilogy([0], loss_simple(fid, nrm), color=\"red\", linestyle=\"dashed\")\n",
    "\n",
    "ax3.set_ylabel(\"norm\", color=\"tab:orange\")\n",
    "ax3.set_ylim(0, 2)\n",
    "plot3, = ax3.semilogy([0], nrm, color=\"orange\")\n",
    "\n",
    "with tqdm(range(max_it)) as progressbar:\n",
    "\tprogressbar.set_postfix(fidelity=f\"{fid}\")\n",
    "\n",
    "\tfor it in progressbar:\n",
    "\t\t\n",
    "\t\t#compute gradient\n",
    "\t\tpsi_grad = get_grad(psi,psi_ref)\n",
    "\t\tpsi = psi - l_rate * psi_grad\n",
    "\t\t# tensor.normalize(inplace=True)\n",
    "\n",
    "\t\t# recompute fidelity, norm\n",
    "\t\tfid = abs(psi_ref.H & psi ^ all)\n",
    "\t\tnrm = psi.norm()\n",
    "\n",
    "\t\t# update plot\n",
    "\t\tplot1.set_xdata(np.append(plot1.get_xdata(), psi.nsites * it))\n",
    "\t\tplot1.set_ydata(np.append(plot1.get_ydata(), 1-fid))\n",
    "\t\tplot2.set_xdata(np.append(plot2.get_xdata(), psi.nsites * it))\n",
    "\t\tplot2.set_ydata(np.append(plot2.get_ydata(), loss_simple(fid, nrm)))\n",
    "\t\tplot3.set_xdata(np.append(plot3.get_xdata(), psi.nsites * it))\n",
    "\t\tplot3.set_ydata(np.append(plot3.get_ydata(), nrm))\n",
    "\n",
    "\t\tprogressbar.set_postfix(fidelity=fid, norm=nrm)\n",
    "\n",
    "ax1.set_xlim(0, it * psi.nsites)\n",
    "ax1.set_ylim(min(plot1.get_ydata()), 1)\n",
    "ax2.set_ylim(min(plot2.get_ydata()) / 2, max(plot2.get_ydata()))\n",
    "ax3.set_ylim(0.8, max(plot3.get_ydata()))\n",
    "\n",
    "plt.show()"
   ]
  },
  {
   "cell_type": "markdown",
   "metadata": {},
   "source": [
    "Despite being a bit slower, it converges!"
   ]
  },
  {
   "cell_type": "markdown",
   "metadata": {},
   "source": [
    "## Test 4:\n",
    "\n",
    "We want to gain efficiency by using JAX integrations in QUIMB. This way, grad will be handled by quimb further down the pipeline without needing to artifically break the TN structure."
   ]
  },
  {
   "cell_type": "code",
   "execution_count": 73,
   "metadata": {},
   "outputs": [
    {
     "name": "stderr",
     "output_type": "stream",
     "text": [
      "+0.000001667547 [best: +0.000001667547] : : 116it [02:27,  1.27s/it]                        \n"
     ]
    },
    {
     "data": {
      "text/plain": [
       "<MatrixProductState(tensors=8, indices=15, L=8, max_bond=1556)>"
      ]
     },
     "execution_count": 73,
     "metadata": {},
     "output_type": "execute_result"
    }
   ],
   "source": [
    "import quimb as qu\n",
    "import quimb.tensor as qtn\n",
    "from autoray import do\n",
    "import functools\n",
    "\n",
    "# reinitialize the samples\n",
    "n = 8\n",
    "chi = 8\n",
    "psi_ref = qtn.MPS_rand_state(n, bond_dim=chi, normalize=True, tags=[\"ref\"])\n",
    "psi_ref.compress()\n",
    "psi_orig = qtn.MPS_rand_state(n, bond_dim=chi, normalize=True, tags=[\"approx\"])\n",
    "psi_orig.compress()\n",
    "\n",
    "\n",
    "# function that takes the input TN and computes the loss\n",
    "def loss(psi, psi_ref):\n",
    "\treturn (abs(fidelity(psi,psi_ref)) - 1)**2 + (norm(psi) - 1)**2\n",
    "\n",
    "\n",
    "# If loss function is a sum of smaller loss functions (as is the case with the average over n samples) we can evaluate them separately (yay, parallelism!)\n",
    "# This means we need to make a list of functions. This example abstracts how it would look like for the TNAD example.\n",
    "# loss_fid(P,samples)\n",
    "# loss_fns = [\n",
    "#     functools.partial(loss_fid, samples=sample)\n",
    "#     for sample in samples\n",
    "# ] + [ loss_norm ]\n",
    "\n",
    "# in loss constants we can specify which parameters we do not want to differentiate over.\n",
    "tnopt = qtn.TNOptimizer(\n",
    "    psi,\n",
    "    loss_fn=loss,\n",
    "    loss_constants={'psi_ref': psi_ref},\n",
    "    autodiff_backend='jax',\n",
    ")\n",
    "\n",
    "tnopt.optimize(100)\n",
    "# -1.9249370098114014: 100%|██████████| 100/100 [00:32<00:00,  3.05it/s]\n",
    "# <TensorNetwork1DVector(tensors=58, indices=70, L=5, max_bond=2)>"
   ]
  },
  {
   "cell_type": "code",
   "execution_count": 76,
   "metadata": {},
   "outputs": [],
   "source": [
    "psi_final = tnopt.get_tn_opt()"
   ]
  },
  {
   "cell_type": "code",
   "execution_count": 79,
   "metadata": {},
   "outputs": [
    {
     "data": {
      "text/plain": [
       "0.9988300867100364"
      ]
     },
     "execution_count": 79,
     "metadata": {},
     "output_type": "execute_result"
    }
   ],
   "source": [
    "fidelity(psi_final,psi_ref)"
   ]
  },
  {
   "cell_type": "code",
   "execution_count": 80,
   "metadata": {},
   "outputs": [
    {
     "data": {
      "text/plain": [
       "1.0005466938018799"
      ]
     },
     "execution_count": 80,
     "metadata": {},
     "output_type": "execute_result"
    }
   ],
   "source": [
    "norm(psi_final)"
   ]
  },
  {
   "cell_type": "code",
   "execution_count": null,
   "metadata": {},
   "outputs": [],
   "source": []
  }
 ],
 "metadata": {
  "accelerator": "GPU",
  "colab": {
   "collapsed_sections": [],
   "name": "JAX Quickstart.ipynb",
   "provenance": [],
   "toc_visible": true,
   "version": "0.3.2"
  },
  "jupytext": {
   "formats": "ipynb,md:myst"
  },
  "kernelspec": {
   "display_name": "Python 3.8.8 ('jax')",
   "language": "python",
   "name": "python3"
  },
  "language_info": {
   "codemirror_mode": {
    "name": "ipython",
    "version": 3
   },
   "file_extension": ".py",
   "mimetype": "text/x-python",
   "name": "python",
   "nbconvert_exporter": "python",
   "pygments_lexer": "ipython3",
   "version": "3.8.8"
  },
  "vscode": {
   "interpreter": {
    "hash": "be00496777329938ab9822d21afaa2562f5e5481d09e738bb9b43653f4e19043"
   }
  }
 },
 "nbformat": 4,
 "nbformat_minor": 0
}
