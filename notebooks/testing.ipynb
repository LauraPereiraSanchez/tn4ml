{
 "cells": [
  {
   "cell_type": "code",
   "execution_count": null,
   "id": "0ce352fc-fc2d-43a6-9cd3-f8d0b8a5c57f",
   "metadata": {},
   "outputs": [],
   "source": [
    "import sys\n",
    "sys.path.append('/Users/emapuljak/WorkDirs/tnad/')\n",
    "import random\n",
    "import numpy as np\n",
    "import tensorflow as tf\n",
    "import math\n",
    "from timeit import default_timer as timer\n",
    "from tensorflow.keras.datasets import mnist\n",
    "\n",
    "import quimb.tensor as qtn\n",
    "import quimb as qu\n",
    "from tnad.models import SpacedMatrixProductOperator\n",
    "from sklearn.metrics import roc_curve, auc, confusion_matrix\n",
    "import tnad.embeddings as e\n",
    "from tnad.loss import error_logquad, error_quad"
   ]
  },
  {
   "cell_type": "code",
   "execution_count": null,
   "id": "b22a4d3a-dff4-424f-8030-a243f18dddab",
   "metadata": {},
   "outputs": [],
   "source": [
    "def get_roc_data(normal, anomaly):\n",
    "    true_val = np.concatenate((np.ones(anomaly.shape[0]), np.zeros(normal.shape[0])))\n",
    "    pred_val = np.concatenate((anomaly, normal))\n",
    "    fpr_loss, tpr_loss, threshold_loss = roc_curve(true_val, pred_val)\n",
    "    return fpr_loss, tpr_loss"
   ]
  },
  {
   "cell_type": "code",
   "execution_count": null,
   "id": "3e1f67b5-f0f2-4064-86c1-4a9c412553f7",
   "metadata": {},
   "outputs": [],
   "source": [
    "def data_preprocessing(data, reshape_shape, pool_size=(2,2), strides=(2,2), padding='same'):\n",
    "    # pool_size should always be (2,2)\n",
    "    preprocessed=[]\n",
    "    for sample in data:\n",
    "        sample_tf = tf.constant(sample)\n",
    "        sample_tf = tf.reshape(sample_tf, [1, 28, 28, 1])\n",
    "        max_pool_2d = tf.keras.layers.MaxPooling2D(pool_size=pool_size,\n",
    "           strides=strides, padding=padding)\n",
    "        sample = max_pool_2d(sample_tf).numpy().reshape(reshape_shape)\n",
    "        preprocessed.append(sample/255)\n",
    "    return preprocessed"
   ]
  },
  {
   "cell_type": "code",
   "execution_count": null,
   "id": "57c62fed-2f61-4ae9-8b69-18f4412459f1",
   "metadata": {},
   "outputs": [],
   "source": [
    "def get_score_values(data, embedding, anomaly_score):  \n",
    "    score=[]\n",
    "    for sample in data:\n",
    "        phi = e.embed(sample.flatten(), embedding)\n",
    "        l = anomaly_score(P, phi)\n",
    "        # loss\n",
    "        score.append(l)\n",
    "    return score"
   ]
  },
  {
   "cell_type": "code",
   "execution_count": null,
   "id": "2618c3ff-4e9c-4021-bcf5-af02b7813598",
   "metadata": {},
   "outputs": [],
   "source": [
    "model_name='model__48cores_46processes_64batchsize_1.0trainsize_50epochs_0.0001learningrate_5chi_8spacing_49nfeatures_6742nsamples_ADAMoptimizer_trigonometricembeddings_(4, 4)strides_(2, 2)poolsize_loss.error_logquadlosstype.pkl'\n",
    "P = qu.load_from_disk(model_name)"
   ]
  },
  {
   "cell_type": "code",
   "execution_count": null,
   "id": "72737520-81df-4b72-bd1f-8c12b4a95e55",
   "metadata": {},
   "outputs": [],
   "source": [
    "anomaly_score = error_logquad"
   ]
  },
  {
   "cell_type": "code",
   "execution_count": null,
   "id": "dbccce86-5baf-4990-836a-049016d4149b",
   "metadata": {},
   "outputs": [],
   "source": [
    "# load data\n",
    "test_size=1000\n",
    "_ , (test_X, test_y) = mnist.load_data()\n",
    "#anomaly\n",
    "test_data=test_X[test_y!=1]\n",
    "np.random.seed(123)\n",
    "np.random.shuffle(test_data)\n",
    "test_data=test_data[:test_size]\n",
    "\n",
    "#normal\n",
    "valid_data = test_X[test_y==1]\n",
    "np.random.seed(123)\n",
    "np.random.shuffle(valid_data)\n",
    "valid_data=valid_data[:test_size]"
   ]
  },
  {
   "cell_type": "code",
   "execution_count": null,
   "id": "db5bb580-9e9c-4349-91e4-1e91416401f2",
   "metadata": {},
   "outputs": [],
   "source": [
    "# preprocessing - anomalies\n",
    "anomalies = data_preprocessing(test_data, (7,7), strides=(4,4))"
   ]
  },
  {
   "cell_type": "code",
   "execution_count": null,
   "id": "0f53ef16-df72-4da6-aa29-5e770872ef10",
   "metadata": {},
   "outputs": [],
   "source": [
    "# preprocessing - normal\n",
    "normal_data = data_preprocessing(valid_data, (7,7), strides=(4,4))"
   ]
  },
  {
   "cell_type": "code",
   "execution_count": null,
   "id": "2402a9a1-25a9-45b8-aa79-dfd8e2baf396",
   "metadata": {},
   "outputs": [],
   "source": [
    "anomalies_adscore = get_score_values(anomalies, e.trigonometric(k=1), anomaly_score)"
   ]
  },
  {
   "cell_type": "code",
   "execution_count": null,
   "id": "540ca4a6-c05c-4735-b94e-47016d062ede",
   "metadata": {},
   "outputs": [],
   "source": [
    "normal_adscore = get_score_values(normal_data, e.trigonometric(k=1), anomaly_score)"
   ]
  },
  {
   "cell_type": "code",
   "execution_count": null,
   "id": "f6ab5086-934f-4c01-897a-d72bcb3e8cc6",
   "metadata": {},
   "outputs": [],
   "source": [
    "fpr, tpr = get_roc_data(np.array(normal_adscore), np.array(anomalies_adscore))\n",
    "auc_value = auc(fpr, tpr)"
   ]
  },
  {
   "cell_type": "code",
   "execution_count": null,
   "id": "eecf8055-b0f2-4d34-bf93-a27e2bd031bd",
   "metadata": {},
   "outputs": [],
   "source": [
    "import matplotlib.pyplot as plt\n",
    "plt.figure()\n",
    "plt.hist(np.array(anomalies_adscore), bins=100)"
   ]
  },
  {
   "cell_type": "code",
   "execution_count": null,
   "id": "b0b575ea-cc28-4b64-8bb0-bc06ba62865e",
   "metadata": {},
   "outputs": [],
   "source": [
    "plt.figure()\n",
    "plt.hist(normal_adscore, bins=100)"
   ]
  },
  {
   "cell_type": "code",
   "execution_count": null,
   "id": "2d42260b-9bfa-4e6e-8b9c-2140c58d2886",
   "metadata": {},
   "outputs": [],
   "source": []
  }
 ],
 "metadata": {
  "kernelspec": {
   "display_name": "Python 3 (ipykernel)",
   "language": "python",
   "name": "python3"
  },
  "language_info": {
   "codemirror_mode": {
    "name": "ipython",
    "version": 3
   },
   "file_extension": ".py",
   "mimetype": "text/x-python",
   "name": "python",
   "nbconvert_exporter": "python",
   "pygments_lexer": "ipython3",
   "version": "3.10.6"
  }
 },
 "nbformat": 4,
 "nbformat_minor": 5
}
