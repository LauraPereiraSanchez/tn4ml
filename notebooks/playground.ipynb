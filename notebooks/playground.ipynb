{
 "cells": [
  {
   "cell_type": "code",
   "execution_count": 1,
   "id": "c3377b2f-90ec-4a5e-be6f-e6262d1b85e2",
   "metadata": {},
   "outputs": [
    {
     "name": "stderr",
     "output_type": "stream",
     "text": [
      "OMP: Info #276: omp_set_nested routine deprecated, please use omp_set_max_active_levels instead.\n"
     ]
    }
   ],
   "source": [
    "import sys\n",
    "sys.path.append('../')\n",
    "import random\n",
    "import numpy as np\n",
    "import math\n",
    "import quimb.tensor as qtn\n",
    "import tnad.smpo as smpo\n",
    "from timeit import default_timer as timer"
   ]
  },
  {
   "cell_type": "code",
   "execution_count": null,
   "id": "1206acd0-df14-4c6b-9990-1bba86b70329",
   "metadata": {},
   "outputs": [],
   "source": [
    "mpo = smpo.SpacedMatrixProductOperator.rand(n=8, spacing=1)"
   ]
  },
  {
   "cell_type": "code",
   "execution_count": null,
   "id": "fc36c93a-9a75-4139-967b-c3775c8f3276",
   "metadata": {},
   "outputs": [],
   "source": [
    "mpo.norm()"
   ]
  },
  {
   "cell_type": "markdown",
   "id": "23d21665-ad66-414f-b6ab-00433b4d07aa",
   "metadata": {},
   "source": [
    "#### Check normalization"
   ]
  },
  {
   "cell_type": "code",
   "execution_count": null,
   "id": "96be461f-8065-4992-9a5b-79755be6cb05",
   "metadata": {},
   "outputs": [],
   "source": [
    "mpo.normalize(insert=0)"
   ]
  },
  {
   "cell_type": "code",
   "execution_count": null,
   "id": "6aa30f0a-031b-49b9-a7d7-edd53dbd7e34",
   "metadata": {},
   "outputs": [],
   "source": [
    "mpo.norm()"
   ]
  },
  {
   "cell_type": "markdown",
   "id": "c008bed1-c5ec-4c08-b6ca-eb51606505c5",
   "metadata": {},
   "source": [
    "#### Check trace"
   ]
  },
  {
   "cell_type": "code",
   "execution_count": null,
   "id": "7315b76d-e385-4e6c-afc1-eb5dfc2268e2",
   "metadata": {},
   "outputs": [],
   "source": [
    "mpo.trace(left_inds=mpo.upper_inds, right_inds=mpo.lower_inds)"
   ]
  },
  {
   "cell_type": "markdown",
   "id": "64d67f64-77fc-4144-bacc-c5d1e94da8bb",
   "metadata": {},
   "source": [
    "#### Check canonization"
   ]
  },
  {
   "cell_type": "code",
   "execution_count": null,
   "id": "330828a1-69a9-40ce-a3ea-efaa31aeaa72",
   "metadata": {},
   "outputs": [],
   "source": [
    "mpo.canonize(0)"
   ]
  },
  {
   "cell_type": "code",
   "execution_count": null,
   "id": "efa60a01-62c6-4d3a-9149-4bbbca1f7548",
   "metadata": {},
   "outputs": [],
   "source": [
    "mpo.tensors[0]"
   ]
  },
  {
   "cell_type": "code",
   "execution_count": null,
   "id": "4e30db93-5295-4b3a-950b-fc96c42b9110",
   "metadata": {},
   "outputs": [],
   "source": [
    "mpo.tensors[0].norm()"
   ]
  },
  {
   "cell_type": "code",
   "execution_count": null,
   "id": "4e49b351-346c-409d-9ba0-55719034fe74",
   "metadata": {},
   "outputs": [],
   "source": [
    "(mpo.tensors[1] & mpo.tensors[1]) ^ all"
   ]
  },
  {
   "cell_type": "code",
   "execution_count": null,
   "id": "c8596a02-4560-4507-a6bc-c20c27f9e8c1",
   "metadata": {},
   "outputs": [],
   "source": [
    "mpo.norm()"
   ]
  },
  {
   "cell_type": "code",
   "execution_count": null,
   "id": "3da9e10d-cb8f-426c-915e-d9dbf218132c",
   "metadata": {},
   "outputs": [],
   "source": [
    "mpo.canonize((1,4))"
   ]
  },
  {
   "cell_type": "code",
   "execution_count": null,
   "id": "4aba1fa9-abe6-47c9-9eec-832f927ce693",
   "metadata": {},
   "outputs": [],
   "source": [
    "mpo.norm()"
   ]
  },
  {
   "cell_type": "code",
   "execution_count": null,
   "id": "b6e8484f-f139-44fc-9e34-313e6caf27f3",
   "metadata": {},
   "outputs": [],
   "source": [
    "mpo.tensors[0].norm()"
   ]
  },
  {
   "cell_type": "code",
   "execution_count": null,
   "id": "37ce4a04-3ed1-4637-a884-b82afaa20d2f",
   "metadata": {},
   "outputs": [],
   "source": [
    "mpo.calc_current_orthog_center()"
   ]
  },
  {
   "cell_type": "markdown",
   "id": "5321dda2-e396-4e2f-ba48-601e5efc14f7",
   "metadata": {},
   "source": [
    "#### Check MPS&MPO"
   ]
  },
  {
   "cell_type": "code",
   "execution_count": null,
   "id": "22e282c1-a65c-485a-b5b2-4179ad728bf3",
   "metadata": {},
   "outputs": [],
   "source": [
    "#mps = qtn.MPS_rand_state(L=8, bond_dim=4)\n",
    "mps = qtn.MPS_rand_computational_state(L=8) # all 0 and 1s"
   ]
  },
  {
   "cell_type": "code",
   "execution_count": null,
   "id": "ec3d1539-2d1f-4953-b734-fa7318ccbee0",
   "metadata": {},
   "outputs": [],
   "source": [
    "(mpo&mps).draw(show_tags=False, show_inds=True, output_inds=[*mpo.lower_inds, *mpo.upper_inds])"
   ]
  },
  {
   "cell_type": "code",
   "execution_count": null,
   "id": "c286436e-1e94-45ea-bf87-663c33e3de90",
   "metadata": {},
   "outputs": [],
   "source": [
    "((mpo&mps)^mpo.site_tag(0)^mpo.site_tag(1)^mpo.site_tag(2)^mpo.site_tag(3)^mpo.site_tag(4)^mpo.site_tag(5)^mpo.site_tag(6)^mpo.site_tag(7)).draw()"
   ]
  },
  {
   "cell_type": "code",
   "execution_count": null,
   "id": "663c2b55-1b40-4180-a0af-810a74b0062e",
   "metadata": {},
   "outputs": [],
   "source": [
    "mpo_copy = mpo.copy(deep=True)\n",
    "mpo_copy.draw()"
   ]
  },
  {
   "cell_type": "markdown",
   "id": "e9de93e4-90d3-4a13-a40d-aea6af8d6f58",
   "metadata": {},
   "source": [
    "### Optimization"
   ]
  },
  {
   "cell_type": "code",
   "execution_count": 2,
   "id": "d75ccda1-107c-43b5-9ce4-94238f4a1183",
   "metadata": {},
   "outputs": [],
   "source": [
    "from tqdm import tqdm\n",
    "#import embeddings as e\n",
    "import tnad.FeatureMap as fm\n",
    "import itertools\n",
    "from matplotlib import pyplot as plt"
   ]
  },
  {
   "cell_type": "code",
   "execution_count": null,
   "id": "0509f8ba-6c1c-42c1-b434-fbb094ccb5e3",
   "metadata": {},
   "outputs": [],
   "source": [
    "import tensorflow as tf\n",
    "from tensorflow.keras.datasets import mnist"
   ]
  },
  {
   "cell_type": "code",
   "execution_count": null,
   "id": "5b9a94db-d814-40ae-9874-5c84ba987403",
   "metadata": {},
   "outputs": [],
   "source": [
    "from losses import loss_miss, loss_reg\n",
    "from gradients import gradient_miss, gradient_reg"
   ]
  },
  {
   "cell_type": "code",
   "execution_count": null,
   "id": "8ee90f7d-e7e3-4f6f-8130-afe78df3ddc9",
   "metadata": {},
   "outputs": [],
   "source": [
    "lamda_init = 2*10^(-3)\n",
    "decay_rate=0.01\n",
    "alpha = 0.5 # regularization\n",
    "N_features = 49"
   ]
  },
  {
   "cell_type": "code",
   "execution_count": null,
   "id": "4d50c249-8b91-4a9a-9a25-632d86b6591a",
   "metadata": {},
   "outputs": [],
   "source": [
    "(train_X, train_y), (test_X, test_y) = mnist.load_data()\n",
    "# class = 1 -> inliers\n",
    "train_data = train_X[train_y==1][:64]\n",
    "np.random.shuffle(train_data)\n",
    "\n",
    "# preprocessing\n",
    "data = []\n",
    "for sample in train_data:\n",
    "    sample_tf = tf.constant(sample)\n",
    "    sample_tf = tf.reshape(sample_tf, [1, 28, 28, 1])\n",
    "    max_pool_2d = tf.keras.layers.MaxPooling2D(pool_size=(2, 2),\n",
    "       strides=(4, 4), padding='same')\n",
    "    sample = max_pool_2d(sample_tf).numpy().reshape(7, 7)\n",
    "    data.append(sample/255)"
   ]
  },
  {
   "cell_type": "code",
   "execution_count": null,
   "id": "c7b5b434-a6a1-4db0-b0c9-6c03ce74dea9",
   "metadata": {},
   "outputs": [],
   "source": [
    "train_data = np.array(data)\n",
    "train_data.shape"
   ]
  },
  {
   "cell_type": "code",
   "execution_count": null,
   "id": "1c8409b8-3ccb-48e0-b63b-3a2c30b20946",
   "metadata": {},
   "outputs": [],
   "source": [
    "N_features = train_data.shape[1]*train_data.shape[2]\n",
    "N_features"
   ]
  },
  {
   "cell_type": "code",
   "execution_count": null,
   "id": "b41b67ad-1f4a-42cb-a066-6e6655e05184",
   "metadata": {},
   "outputs": [],
   "source": [
    "batch_size = 32\n",
    "n_iters = int(train_data.shape[0]/batch_size)\n",
    "train_data_batched = np.array(np.split(train_data, n_iters))\n",
    "print(train_data_batched.shape)"
   ]
  },
  {
   "cell_type": "code",
   "execution_count": null,
   "id": "9326800f-a387-433f-85e5-75d730950e86",
   "metadata": {},
   "outputs": [],
   "source": [
    "import importlib\n",
    "importlib.reload(fm)"
   ]
  },
  {
   "cell_type": "code",
   "execution_count": null,
   "id": "95920015-7211-43c1-ab53-b0080021c0c4",
   "metadata": {},
   "outputs": [],
   "source": [
    "fm.trigonometric(0.5)"
   ]
  },
  {
   "cell_type": "code",
   "execution_count": null,
   "id": "23484946-c7a3-4f1a-9ada-62012c9cf2c6",
   "metadata": {},
   "outputs": [],
   "source": [
    "phi, _ = fm.embed(train_data_batched[0][1].flatten(), fm.trigonometric)"
   ]
  },
  {
   "cell_type": "code",
   "execution_count": null,
   "id": "fac6b237-32bb-4f70-8a47-fc1e97fa5afb",
   "metadata": {},
   "outputs": [],
   "source": [
    "train_data_batched[0][1].flatten()"
   ]
  },
  {
   "cell_type": "code",
   "execution_count": null,
   "id": "efa6e3d2-12d9-4821-9e9c-bace470a84e9",
   "metadata": {},
   "outputs": [],
   "source": [
    "phi.tensors"
   ]
  },
  {
   "cell_type": "code",
   "execution_count": null,
   "id": "94b9b811-ce9d-4751-a13c-04ca2c5a0495",
   "metadata": {},
   "outputs": [],
   "source": [
    "n_epochs = 1"
   ]
  },
  {
   "cell_type": "code",
   "execution_count": null,
   "id": "e38634de-46be-496b-b0f9-02c923b1f608",
   "metadata": {},
   "outputs": [],
   "source": [
    "# init P\n",
    "P_orig = smpo.SpacedMatrixProductOperator.rand(n=N_features, spacing=3, init_func='normal', scale=0.5)"
   ]
  },
  {
   "cell_type": "code",
   "execution_count": null,
   "id": "e5a5e808-6c23-44ec-99ca-f79fdeb9888d",
   "metadata": {},
   "outputs": [],
   "source": [
    "P = P_orig.copy(deep=True)"
   ]
  },
  {
   "cell_type": "code",
   "execution_count": null,
   "id": "ed8373a7-1f4f-4f7b-a2a2-24b7cf983f8c",
   "metadata": {},
   "outputs": [],
   "source": [
    "P_orig.draw(show_tags='all', font_size_inner=15, figsize=(15,15))"
   ]
  },
  {
   "cell_type": "code",
   "execution_count": null,
   "id": "60401685-1570-4656-b65e-885ed00720ed",
   "metadata": {},
   "outputs": [],
   "source": [
    "# @dask.delayed(nout=2)\n",
    "def calculate_loss_and_grad(sample, P_ref, P, sites, N_features):\n",
    "    # create MPS for input sample\n",
    "    phi, _ = fm.embed(sample.flatten(), fm.trigonometric)\n",
    "\n",
    "    #calculate loss\n",
    "    loss_miss_batch = loss_miss(phi, P_ref)\n",
    "\n",
    "    #calculate gradient\n",
    "    grad_miss = gradient_miss(phi, P_ref, P, sites, N_features)\n",
    "    \n",
    "    return loss_miss_batch, grad_miss"
   ]
  },
  {
   "cell_type": "code",
   "execution_count": null,
   "id": "9e905bd8-9988-4f0d-9444-e03d38364f9a",
   "metadata": {},
   "outputs": [],
   "source": [
    "def get_loss_and_grad(train_data_batched):\n",
    "    #grad_miss=0; loss_miss_batch=0\n",
    "    loss_miss_batch=[]; grad_miss=[]\n",
    "        \n",
    "    for sample in train_data_batched:\n",
    "        lmb, gm = calculate_loss_and_grad(sample, P_ref, P, sites, N_features)\n",
    "        # loss\n",
    "        loss_miss_batch.append(lmb)\n",
    "        # gradient\n",
    "        grad_miss.append(gm)\n",
    "    return sum(loss_miss_batch), sum(grad_miss)"
   ]
  },
  {
   "cell_type": "code",
   "execution_count": null,
   "id": "cdc23034-ae19-4a2e-b40e-8508b2e28b65",
   "metadata": {},
   "outputs": [],
   "source": [
    "loss_array = []\n",
    "for epoch in range(n_epochs):\n",
    "    for it in range(n_iters):\n",
    "        sweeps = itertools.chain(zip(list(range(0,N_features-1)), list(range(1,N_features))), reversed(list(zip(list(range(1,N_features)),list(range(0,N_features-1))))))\n",
    "        for sweep_it, sites in enumerate(sweeps):\n",
    "            [sitel, siter] = sites\n",
    "            site_tags = [P.site_tag(site) for site in sites]\n",
    "            # canonize P with root in sites\n",
    "            ortog_center = sites\n",
    "            P.canonize(sites, cur_orthog=ortog_center)\n",
    "            P_ref = P.copy(deep=True)\n",
    "            # pop site tensor\n",
    "            [origl, origr] = P.select_tensors(site_tags, which=\"any\")\n",
    "            \n",
    "            bond_ind_removed = P.bond(site_tags[0], site_tags[1])\n",
    "            tensor_orig = origl & origr ^ all\n",
    "\n",
    "            #virtual bonds\n",
    "            #    left\n",
    "            if sitel == 0 or (sitel == N_features-1 and sitel>siter): vindl = []\n",
    "            elif sitel>0 and sitel<siter: vindl = [P.bond(sitel-1, sitel)]\n",
    "            else: vindl = [P.bond(sitel, sitel+1)]\n",
    "            #    right\n",
    "            if siter == N_features - 1 or (siter == 0 and siter<sitel): vindr = []\n",
    "            elif siter < N_features-1 and siter>sitel: vindr = [P.bond(siter, siter+1)]\n",
    "            else: vindr = [P.bond(siter-1, siter)]\n",
    "\n",
    "            P.delete(site_tags, which=\"any\")\n",
    "            \n",
    "            loss_miss_batch, grad_miss = get_loss_and_grad(train_data_batched[it])\n",
    "            # loss_miss_batch, grad_miss = out1.compute(), out2.compute()\n",
    "            \n",
    "            # total loss\n",
    "            loss = (1/batch_size)*(loss_miss_batch) + loss_reg(P_ref, alpha)\n",
    "            print(f'epoch: {epoch}, iteration: {it}, sweep id: {sweep_it} -> loss={loss}')\n",
    "            loss_array.append(loss)\n",
    "\n",
    "            # gradient of loss miss\n",
    "            grad_miss.drop_tags()\n",
    "            grad_miss.add_tag(site_tags[0]); grad_miss.add_tag(site_tags[1])\n",
    "            # gradient of loss reg\n",
    "            grad_regular = gradient_reg(P_ref, P, alpha, sites, N_features)\n",
    "            if grad_regular != 0:\n",
    "                grad_regular.drop_tags()\n",
    "                grad_regular.add_tag(site_tags[0]); grad_regular.add_tag(site_tags[1])\n",
    "            # total gradient\n",
    "            total_grad = (1/batch_size)*grad_miss + grad_regular\n",
    "\n",
    "            # update tensor\n",
    "            if epoch < 10:\n",
    "                tensor_new = tensor_orig - lamda_init*total_grad\n",
    "            else:\n",
    "                lamda = lamda_init*math.pow((1 - decay_rate/100),epoch)\n",
    "                tensor_new = tensor_orig - lamda*total_grad\n",
    "\n",
    "            # normalize updated tensor\n",
    "            tensor_new.normalize(inplace=True)\n",
    "\n",
    "            # split updated tensor in 2 tensors\n",
    "            lower_ind = [f'b{sitel}'] if f'b{sitel}' in P.lower_inds else []\n",
    "            [tensorl, tensorr] = tensor_new.split(get=\"tensors\", left_inds=[*vindl, P.upper_ind(sitel), *lower_ind], bond_ind=bond_ind_removed, max_bond=4)\n",
    "\n",
    "            # link new tensors to P back\n",
    "            for site, tensor in zip(sites, [tensorl, tensorr]):\n",
    "                tensor.drop_tags()\n",
    "                tensor.add_tag(P.site_tag(site))\n",
    "                P.add_tensor(tensor)"
   ]
  },
  {
   "cell_type": "code",
   "execution_count": null,
   "id": "a3f43c1b-2d53-479c-af67-967fe781da50",
   "metadata": {},
   "outputs": [],
   "source": [
    "import quimb as qu\n",
    "qu.save_to_disk(P, 'SMPO.pkl')"
   ]
  },
  {
   "cell_type": "code",
   "execution_count": null,
   "id": "3bdd26e6-7e75-4f30-a72d-2f137fff1d1f",
   "metadata": {},
   "outputs": [],
   "source": [
    "np.save('loss_array.npy', loss_array)"
   ]
  },
  {
   "cell_type": "code",
   "execution_count": null,
   "id": "341f8fa3-c948-487b-a1c8-db84cb54e2c7",
   "metadata": {},
   "outputs": [],
   "source": [
    "plt.figure(figsize=(12,4))\n",
    "plt.xlabel(\"epoch\")\n",
    "plt.ylabel(\"loss\", color=\"tab:blue\")\n",
    "plt.plot(range(0, len(loss_array)), loss_array)\n",
    "plt.show()"
   ]
  },
  {
   "cell_type": "markdown",
   "id": "70b9fe53-a638-4087-a570-bc2422724049",
   "metadata": {},
   "source": [
    "### Global update"
   ]
  },
  {
   "cell_type": "code",
   "execution_count": null,
   "id": "9df946fd-c6d6-4615-b421-bb2b4170341a",
   "metadata": {},
   "outputs": [],
   "source": [
    "# args\n",
    "train_size = 1024\n",
    "batch_size = 32\n",
    "strides = (2,2)\n",
    "pool_size = (2,2)\n",
    "padding = 'same'\n",
    "reduced_shape = (14,14)\n",
    "opt_procedure = 'global_update_costfuncnorm'\n",
    "spacing = 8\n",
    "n_epochs = 10\n",
    "alpha = 0.4\n",
    "lamda_init = 2e-3\n",
    "decay_rate = 0.01\n",
    "expdecay_tol = 10\n",
    "bond_dim = 5\n",
    "init_func = 'normal'\n",
    "scale_init_p = 0.5"
   ]
  },
  {
   "cell_type": "code",
   "execution_count": null,
   "id": "d07d5c6f-af67-45a9-ba3e-945f8ce01eb6",
   "metadata": {},
   "outputs": [],
   "source": [
    "from tnad.optimization import train_SMPO, load_mnist_train_data, data_preprocessing\n",
    "import tnad.procedures as p\n",
    "\n",
    "train_data = load_mnist_train_data(train_size=train_size)\n",
    "data = data_preprocessing(train_data, strides=strides, pool_size=pool_size, padding=padding, reduced_shape=reduced_shape)\n",
    "\n",
    "if opt_procedure == 'local_update_sweep_dyncanonization_renorm':\n",
    "        opt_procedure = p.local_update_sweep_dyncanonization_renorm\n",
    "elif opt_procedure == 'global_update_costfuncnorm':\n",
    "    opt_procedure = p.global_update_costfuncnorm\n",
    "\n",
    "P, loss_array = train_SMPO(data, spacing, n_epochs, alpha, opt_procedure, lamda_init, decay_rate, expdecay_tol, bond_dim, init_func, scale_init_p, batch_size)"
   ]
  },
  {
   "cell_type": "markdown",
   "id": "1f7a7bf5-2a1d-40d2-9ed8-9741aa423b74",
   "metadata": {},
   "source": [
    "#### Test P model"
   ]
  },
  {
   "cell_type": "code",
   "execution_count": null,
   "id": "c43c35da-bebd-49ac-8d92-d6b1c1e3632f",
   "metadata": {},
   "outputs": [],
   "source": [
    "from sklearn.metrics import roc_curve, auc, confusion_matrix\n",
    "import quimb as qu"
   ]
  },
  {
   "cell_type": "code",
   "execution_count": null,
   "id": "fc6fc1a5-7673-4ed6-b06e-ffcfd9c6fb50",
   "metadata": {},
   "outputs": [],
   "source": [
    "P = qu.load_from_disk('SMPO.pkl')"
   ]
  },
  {
   "cell_type": "code",
   "execution_count": null,
   "id": "2e825af2-21bd-480e-92d5-212e53603e78",
   "metadata": {},
   "outputs": [],
   "source": [
    "def anomaly_score(phi, P):\n",
    "    phi_orig_renamed = phi.reindex({f'k{site}':f'k_{site}' for site in range(phi.nsites)})\n",
    "    P_orig_renamed = P.reindex({f'k{site}':f'k_{site}' for site in range(P.nsites)})\n",
    "    return math.pow((math.log((phi_orig_renamed.H&P_orig_renamed.H&P&phi)^all) - 1), 2)"
   ]
  },
  {
   "cell_type": "code",
   "execution_count": null,
   "id": "6acad8aa-5e8b-432f-87e4-afb5215a5fe0",
   "metadata": {},
   "outputs": [],
   "source": [
    "def get_roc_data(qcd, bsm):\n",
    "    true_val = np.concatenate((np.ones(bsm.shape[0]), np.zeros(qcd.shape[0])))\n",
    "    pred_val = np.nan_to_num(np.concatenate((bsm, qcd)))\n",
    "    fpr_loss, tpr_loss, threshold_loss = roc_curve(true_val, pred_val)\n",
    "    return fpr_loss, tpr_loss"
   ]
  },
  {
   "cell_type": "code",
   "execution_count": null,
   "id": "7a099d4e-9fac-43f6-a402-90d2c70ca85e",
   "metadata": {},
   "outputs": [],
   "source": [
    "_ , (test_X, test_y) = mnist.load_data()"
   ]
  },
  {
   "cell_type": "code",
   "execution_count": null,
   "id": "79e87d8a-c3d8-4ce2-a868-00bbeba8f2c8",
   "metadata": {},
   "outputs": [],
   "source": [
    "test_data=test_X[test_y!=1][:1000]"
   ]
  },
  {
   "cell_type": "code",
   "execution_count": null,
   "id": "7e8fbbfa-9007-4fb5-b48e-664fb2393597",
   "metadata": {},
   "outputs": [],
   "source": [
    "test_data.shape"
   ]
  },
  {
   "cell_type": "code",
   "execution_count": null,
   "id": "2c7825c1-3b2e-4b5e-b059-cbc7738667bf",
   "metadata": {},
   "outputs": [],
   "source": [
    "valid_data = test_X[test_y==1][:1000]\n",
    "valid_data.shape"
   ]
  },
  {
   "cell_type": "code",
   "execution_count": null,
   "id": "3e1c0ade-bb67-4339-961e-2d99ece83f17",
   "metadata": {},
   "outputs": [],
   "source": [
    "# preprocessing - anomalies\n",
    "anomalies = []\n",
    "for sample in test_data:\n",
    "    sample_tf = tf.constant(sample)\n",
    "    sample_tf = tf.reshape(sample_tf, [1, 28, 28, 1])\n",
    "    max_pool_2d = tf.keras.layers.MaxPooling2D(pool_size=(2, 2),\n",
    "       strides=(4, 4), padding='same')\n",
    "    sample = max_pool_2d(sample_tf).numpy().reshape(7, 7)\n",
    "    anomalies.append(sample/255)"
   ]
  },
  {
   "cell_type": "code",
   "execution_count": null,
   "id": "717d36a3-344e-4396-a1e0-8c7812b50313",
   "metadata": {},
   "outputs": [],
   "source": [
    "# preprocessing - normal\n",
    "normal_data = []\n",
    "for sample in valid_data:\n",
    "    sample_tf = tf.constant(sample)\n",
    "    sample_tf = tf.reshape(sample_tf, [1, 28, 28, 1])\n",
    "    max_pool_2d = tf.keras.layers.MaxPooling2D(pool_size=(2, 2),\n",
    "       strides=(4, 4), padding='same')\n",
    "    sample = max_pool_2d(sample_tf).numpy().reshape(7, 7)\n",
    "    normal_data.append(sample/255)"
   ]
  },
  {
   "cell_type": "code",
   "execution_count": null,
   "id": "f7e2a66f-f778-46fb-b283-355969c1fa31",
   "metadata": {},
   "outputs": [],
   "source": [
    "anomalies_adscore=[]\n",
    "for sample in anomalies:\n",
    "    phi, _ = fm.embed(sample.flatten(), fm.trigonometric)\n",
    "    l = anomaly_score(phi, P)\n",
    "    # loss\n",
    "    anomalies_adscore.append(l)"
   ]
  },
  {
   "cell_type": "code",
   "execution_count": null,
   "id": "f6b791bd-93cb-432f-b7fc-7f50b26496f6",
   "metadata": {},
   "outputs": [],
   "source": [
    "normal_adscore=[]\n",
    "for sample in normal_data:\n",
    "    phi, _ = fm.embed(sample.flatten(), fm.trigonometric)\n",
    "    l = anomaly_score(phi, P)\n",
    "    # loss\n",
    "    normal_adscore.append(l)"
   ]
  },
  {
   "cell_type": "code",
   "execution_count": null,
   "id": "efedbea9-04f6-47ec-b5fc-248a060ef130",
   "metadata": {},
   "outputs": [],
   "source": [
    "fpr, tpr = get_roc_data(np.array(normal_adscore), np.array(anomalies_adscore))\n",
    "auc_value = auc(fpr, tpr)"
   ]
  },
  {
   "cell_type": "code",
   "execution_count": null,
   "id": "9146dfd8-17b2-4b74-802e-9ff087a8c681",
   "metadata": {},
   "outputs": [],
   "source": [
    "auc_value"
   ]
  },
  {
   "cell_type": "markdown",
   "id": "bbaedb61-370c-4ff3-8f63-dfd62fe19746",
   "metadata": {},
   "source": [
    "## Plot output of jax training"
   ]
  },
  {
   "cell_type": "code",
   "execution_count": 3,
   "id": "66dcfd52-f978-4070-b86a-d163f89ad3bb",
   "metadata": {},
   "outputs": [],
   "source": [
    "loss = np.load('../examples/train_loss_test1.npy')"
   ]
  },
  {
   "cell_type": "code",
   "execution_count": 4,
   "id": "197c4635-f58a-48ff-9c0f-8aefba714394",
   "metadata": {},
   "outputs": [
    {
     "data": {
      "text/plain": [
       "array([nan, nan, nan, nan, nan, nan, nan, nan, nan, nan, nan, nan, nan,\n",
       "       nan, nan, nan, nan, nan, nan, nan, nan, nan, nan, nan, nan, nan,\n",
       "       nan, nan, nan, nan, nan, nan, nan, nan, nan, nan, nan, nan, nan,\n",
       "       nan, nan, nan, nan, nan, nan, nan, nan, nan, nan, nan, nan, nan,\n",
       "       nan, nan, nan, nan, nan, nan, nan, nan, nan, nan, nan, nan, nan,\n",
       "       nan, nan, nan, nan, nan, nan, nan, nan, nan, nan, nan, nan, nan,\n",
       "       nan, nan, nan, nan, nan, nan, nan, nan, nan, nan, nan, nan, nan,\n",
       "       nan, nan, nan, nan, nan, nan, nan, nan, nan, nan, nan, nan, nan,\n",
       "       nan, nan, nan, nan, nan, nan, nan, nan, nan, nan, nan, nan, nan,\n",
       "       nan, nan, nan, nan, nan, nan, nan, nan, nan, nan, nan, nan, nan,\n",
       "       nan, nan, nan, nan, nan, nan, nan, nan, nan, nan, nan, nan, nan,\n",
       "       nan, nan, nan, nan, nan, nan, nan, nan, nan, nan, nan, nan, nan,\n",
       "       nan, nan, nan, nan, nan, nan, nan, nan, nan, nan, nan, nan, nan,\n",
       "       nan, nan, nan, nan, nan, nan, nan, nan, nan, nan, nan, nan, nan,\n",
       "       nan, nan, nan, nan, nan, nan, nan, nan, nan, nan, nan, nan, nan,\n",
       "       nan, nan, nan, nan, nan, nan, nan, nan, nan, nan, nan, nan, nan,\n",
       "       nan, nan, nan, nan, nan, nan, nan, nan, nan, nan, nan, nan, nan,\n",
       "       nan, nan, nan, nan, nan, nan, nan, nan, nan, nan, nan, nan, nan,\n",
       "       nan, nan, nan, nan, nan, nan, nan, nan, nan, nan, nan, nan, nan,\n",
       "       nan, nan, nan, nan, nan, nan, nan, nan, nan, nan, nan, nan, nan,\n",
       "       nan, nan, nan, nan, nan, nan, nan, nan, nan, nan, nan, nan, nan,\n",
       "       nan, nan, nan, nan, nan, nan, nan, nan, nan, nan, nan, nan, nan,\n",
       "       nan, nan, nan, nan, nan, nan, nan, nan, nan, nan, nan, nan, nan,\n",
       "       nan, nan, nan, nan, nan, nan, nan, nan, nan, nan, nan, nan, nan,\n",
       "       nan, nan, nan, nan, nan, nan, nan, nan])"
      ]
     },
     "execution_count": 4,
     "metadata": {},
     "output_type": "execute_result"
    }
   ],
   "source": [
    "loss"
   ]
  },
  {
   "cell_type": "code",
   "execution_count": 5,
   "id": "5e4a2841-44c0-4bbb-be92-ab127265e40c",
   "metadata": {},
   "outputs": [
    {
     "data": {
      "image/png": "[encoded data removed]",
      "text/plain": [
       "<Figure size 1200x400 with 1 Axes>"
      ]
     },
     "metadata": {},
     "output_type": "display_data"
    }
   ],
   "source": [
    "plt.figure(figsize=(12,4))\n",
    "plt.xlabel(\"epoch\")\n",
    "plt.ylabel(\"loss\", color=\"tab:blue\")\n",
    "plt.plot(range(0, len(loss)), loss)\n",
    "plt.show()"
   ]
  },
  {
   "cell_type": "code",
   "execution_count": null,
   "id": "6dc3c67a-3801-43d3-978c-97479992e464",
   "metadata": {},
   "outputs": [],
   "source": []
  }
 ],
 "metadata": {
  "kernelspec": {
   "display_name": "Python 3 (ipykernel)",
   "language": "python",
   "name": "python3"
  },
  "language_info": {
   "codemirror_mode": {
    "name": "ipython",
    "version": 3
   },
   "file_extension": ".py",
   "mimetype": "text/x-python",
   "name": "python",
   "nbconvert_exporter": "python",
   "pygments_lexer": "ipython3",
   "version": "3.10.6"
  }
 },
 "nbformat": 4,
 "nbformat_minor": 5
}
